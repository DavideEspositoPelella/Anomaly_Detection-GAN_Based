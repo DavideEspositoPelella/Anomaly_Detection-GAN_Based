{
  "cells": [
    {
      "cell_type": "markdown",
      "metadata": {
        "id": "qHEPN3bgxBOa"
      },
      "source": [
        "# Introduction\n",
        "For more details, could refer to the [pdf report](https://github.com/DavideEspositoPelella/Anomaly_Detection_GAN_Based/blob/main/Deep_Learning_report.pdf) or the [GitHub repository](https://github.com/DavideEspositoPelella/Anomaly_Detection_GAN_Based.git)  <a href=\"https://github.com/DavideEspositoPelella/Anomaly_Detection_GAN_Based.git\"><img src=\"https://github.githubassets.com/pinned-octocat.svg\" alt=\"GitHub\" height=\"30\" style=\"filter: invert(1);\"></a>.\n",
        "\n",
        "The following Colab notebook represents the work carried out within the context of the Deep Learning Project, which takes its starting point from the paper: [[1]](#Bibliography) _**GAN-based Anomaly Detection in Imbalance Problems**_.\n",
        "\n",
        "It revisits the state-of-arts as presented in the research mentioned and includes 2 comparative baselines: a RandomGuesser and an Autoencoder. Subsequently, it assesses their performances by utilizing the [[3]](#Bibliography) _AUROC (Area Under the Receiver Operating Characteristic)_ metric.\n",
        "\n",
        "<a href=\"https://drive.google.com/file/d/1nFL0D_uqqlsMMjHkiz7kjte1tWuom1DX/view?usp=sharing\"><img src=\"https://colab.research.google.com/assets/colab-badge.svg\" alt=\"google colab logo\" height=30px></a>\n",
        "\n",
        "Unfortunately the presented work was had dealed with hardware limitations, which, because provided by the Google Colab service, restricted the GPU availability time.\n"
      ]
    },
    {
      "cell_type": "markdown",
      "metadata": {
        "id": "0On3TmcOxBOb"
      },
      "source": [
        "# Imports\n",
        "Importing all the libraries and dependencies needed."
      ]
    },
    {
      "cell_type": "code",
      "execution_count": null,
      "metadata": {
        "id": "DGPEz596xBOc"
      },
      "outputs": [],
      "source": [
        "!pip install --quiet \"pytorch-lightning\"\n",
        "!pip install --upgrade gdown --quiet\n"
      ]
    },
    {
      "cell_type": "code",
      "execution_count": null,
      "metadata": {
        "colab": {
          "base_uri": "https://localhost:8080/"
        },
        "id": "q9w43eUVxBOc",
        "outputId": "7cd83ddd-3280-4d6f-865b-507d6b73c638"
      },
      "outputs": [
        {
          "output_type": "stream",
          "name": "stdout",
          "text": [
            "Lightning version: 2.0.7\n",
            "PyTorch version: 2.0.1+cu118\n",
            "Python version: 3.10.12\n"
          ]
        }
      ],
      "source": [
        "import os\n",
        "import torch\n",
        "import torch.nn as nn\n",
        "import pytorch_lightning as pl\n",
        "import torchvision.transforms as T\n",
        "from torchvision.datasets import FashionMNIST\n",
        "import torchvision\n",
        "from torchvision.utils import save_image\n",
        "from pytorch_lightning.callbacks.early_stopping import EarlyStopping\n",
        "from pytorch_lightning.callbacks.progress import TQDMProgressBar\n",
        "from pytorch_lightning.loggers import TensorBoardLogger\n",
        "from pytorch_lightning.callbacks import ModelCheckpoint\n",
        "import torch.nn.functional as F\n",
        "from sklearn.metrics import roc_auc_score\n",
        "import matplotlib.pyplot as plt\n",
        "import numpy as np\n",
        "from sklearn.cluster import KMeans\n",
        "import platform\n",
        "import random\n",
        "\n",
        "print(\"Lightning version:\", pl.__version__)\n",
        "print(\"PyTorch version:\", torch.__version__)\n",
        "print(\"Python version:\", platform.python_version())\n"
      ]
    },
    {
      "cell_type": "markdown",
      "metadata": {
        "id": "K7p-jNwrvgtR"
      },
      "source": [
        "Setting a seed for reproducibility"
      ]
    },
    {
      "cell_type": "code",
      "execution_count": null,
      "metadata": {
        "colab": {
          "base_uri": "https://localhost:8080/"
        },
        "id": "Mmnlm0UTxBOd",
        "outputId": "529c0624-902e-4a15-c346-325fc0e7bacc"
      },
      "outputs": [
        {
          "output_type": "stream",
          "name": "stderr",
          "text": [
            "INFO:lightning_fabric.utilities.seed:Global seed set to 42\n"
          ]
        },
        {
          "output_type": "execute_result",
          "data": {
            "text/plain": [
              "42"
            ]
          },
          "metadata": {},
          "execution_count": 25
        }
      ],
      "source": [
        "pl.seed_everything(42)"
      ]
    },
    {
      "cell_type": "markdown",
      "metadata": {
        "id": "0WRAOEcQxBOd"
      },
      "source": [
        "# Dataset and Preprocessing\n",
        "The pythorch lightning class _AnomalyDetectionDataModule_ allow to load autonomously the dataset of FashionMNIST [[2]](#bibliography), preprocess it and then performing training and testing.\n",
        "\n",
        "In the class is defined a custom function _Rotation3_ to perform augmentation on the images by randomly rotating them as showed in the research paper. Then, togheter with this were performed other augmentations to improve the perfromances.\n",
        "\n",
        "The DataModule class, perform also the preprocessing needed to deal with the unbalance problem discussed in the paper. To do this it allow to divide the dataset, originaly composed of 10 classes, into 2 as 'normal' and 'anomal', by setting by input the value of _normal_class_ variable and automatically setting al the remaining classes as anomal.\n",
        "\n",
        "At this point the dataset is clearly unbalanced, for this reason is used the _kmeans_sampling_ function. It uses for the normal class all the available samples (could be reduced by choice by using the variables _subsampling = True/False_ and _subsamples_), while a sampling is performed to get the same number of samples for the anomal class. In order to consider the distribution of the data is used a k-means clustering of the remaining classes before the sampling."
      ]
    },
    {
      "cell_type": "code",
      "execution_count": null,
      "metadata": {
        "id": "qMSwvlyJxBOd"
      },
      "outputs": [],
      "source": [
        "# Randomly rotate the images by 90, 180, or 270 degrees\n",
        "class Rotation3:\n",
        "    def __call__(self, img):\n",
        "        angle = random.choice([0, 90, 180, 270])\n",
        "        img = T.functional.rotate(img, angle)\n",
        "        return img\n",
        "\n",
        "# DataModule\n",
        "class AnomalyDetectionDataModule(pl.LightningDataModule):\n",
        "    def __init__(self, batch_size, subsampling, subsamples, model, normal_class, data_dir=\"./\"):\n",
        "        super().__init__()\n",
        "\n",
        "        self.model = model\n",
        "        self.normal_class = normal_class\n",
        "        self.subsampling = subsampling\n",
        "        self.subsamples = subsamples\n",
        "\n",
        "        self.train_transform = T.Compose([\n",
        "            T.Resize(32),\n",
        "            T.RandomVerticalFlip(),\n",
        "            T.RandomHorizontalFlip(),\n",
        "            T.RandomCrop(30),\n",
        "            T.Resize(32),\n",
        "            T.Grayscale(1),  # Use 1 channel (grayscale)\n",
        "            T.RandomApply([Rotation3()], p=1),\n",
        "            T.ToTensor(),\n",
        "            T.Normalize([0.5], [0.5])\n",
        "        ])\n",
        "        self.test_transform = T.Compose([\n",
        "            T.Resize(32),\n",
        "            T.Grayscale(1),  # Use 1 channel (grayscale)\n",
        "            T.ToTensor(),\n",
        "            T.Normalize([0.5], [0.5])\n",
        "        ])\n",
        "\n",
        "        self.data_dir = data_dir\n",
        "        self.dataset_classes = 10\n",
        "        self.num_classes = 2  # Normal and Anomaly\n",
        "        self.batch_size = batch_size\n",
        "        self.num_clusters = self.dataset_classes - 1\n",
        "        self.subsamples = subsamples\n",
        "        self.subsampling = subsampling\n",
        "\n",
        "    # K-means based sampling of anomal classes\n",
        "    def kmeans_sampling(self, dataset, normal_class, num_samples):\n",
        "\n",
        "        # Get indices not belonging to the normal class and stack them\n",
        "        indices = [i for i in range(len(dataset)) if dataset.targets[i] != normal_class]\n",
        "        class_data = torch.stack([dataset[i][0] for i in indices])\n",
        "\n",
        "        # Perform K-means clustering\n",
        "        kmeans = KMeans(n_clusters=self.num_clusters, random_state=0, n_init=9)\n",
        "        kmeans.fit(class_data.view(class_data.size(0), -1).numpy())\n",
        "        cluster_assignments = kmeans.predict(class_data.view(class_data.size(0), -1).numpy())\n",
        "\n",
        "        # Iterate over each cluster and sample from them the required number of classes\n",
        "        sampled_indices = []\n",
        "        for cluster_idx in range(self.num_clusters):\n",
        "            cluster_indices = np.where(cluster_assignments == cluster_idx)[0]\n",
        "            num_samples_from_cluster = num_samples//self.num_clusters\n",
        "            sampled_indices.extend(np.random.choice(cluster_indices, num_samples_from_cluster, replace=False))\n",
        "\n",
        "        return [indices[idx] for idx in sampled_indices]\n",
        "\n",
        "\n",
        "    def prepare_data(self):\n",
        "        FashionMNIST(root=self.data_dir, train=True, download=True)\n",
        "\n",
        "\n",
        "    def setup(self, stage=None):\n",
        "\n",
        "        if stage == 'fit' or stage is None: # Setup dataset for training phase\n",
        "\n",
        "            if self.model == 'GAN' or self.model == 'RG':\n",
        "                all_data = []\n",
        "                all_labels = []\n",
        "                normal_data  = []\n",
        "                anomal_data = []\n",
        "                normal_class = self.normal_class\n",
        "\n",
        "                # Load dataset\n",
        "                train_dataset = FashionMNIST(root=self.data_dir, train=True, transform=self.train_transform)\n",
        "\n",
        "                # Use 1 class as 'normal' and the others as 'anomal'\n",
        "                normal_indices = [i for i in range(len(train_dataset)) if train_dataset.targets[i] == normal_class]\n",
        "                anomal_indices = self.kmeans_sampling(train_dataset, normal_class, num_samples=len(normal_indices))\n",
        "\n",
        "                # Use only a subset of dataset\n",
        "                if self.subsampling == True:\n",
        "                    normal_indices = normal_indices[:self.subsamples]\n",
        "                    anomal_indices = anomal_indices[:self.subsamples]\n",
        "\n",
        "                normal_labels = torch.ones(len(normal_indices), dtype=torch.float32)\n",
        "                anomal_labels = torch.zeros(len(anomal_indices), dtype=torch.float32)\n",
        "\n",
        "                normal_data.extend([train_dataset[i][0] for i in normal_indices])\n",
        "                anomal_data.extend([train_dataset[i][0] for i in anomal_indices])\n",
        "\n",
        "                all_data.extend(normal_data)\n",
        "                all_data.extend(anomal_data)\n",
        "                all_labels.extend(normal_labels)\n",
        "                all_labels.extend(anomal_labels)\n",
        "\n",
        "                all_data = torch.stack(all_data)\n",
        "                all_labels = torch.tensor(all_labels)\n",
        "\n",
        "                # Build the new dataset following requirements\n",
        "                self.train_dataset = torch.utils.data.TensorDataset(all_data, all_labels)\n",
        "\n",
        "            else:\n",
        "                all_data = []\n",
        "                all_labels = []\n",
        "                normal_data  = []\n",
        "                normal_class = self.normal_class\n",
        "\n",
        "                # Load dataset\n",
        "                train_dataset = FashionMNIST(root=self.data_dir, train=True, transform=self.train_transform)\n",
        "\n",
        "                # Use only one class\n",
        "                normal_indices = [i for i in range(len(train_dataset)) if train_dataset.targets[i] == normal_class]\n",
        "\n",
        "                # Use only a subset of dataset\n",
        "                if self.subsampling == True:\n",
        "                    normal_indices = normal_indices[:self.subsamples]\n",
        "\n",
        "                normal_labels = torch.ones(len(normal_indices), dtype=torch.float32)\n",
        "\n",
        "                normal_data.extend([train_dataset[i][0] for i in normal_indices])\n",
        "\n",
        "                all_data.extend(normal_data)\n",
        "                all_labels.extend(normal_labels)\n",
        "\n",
        "                all_data = torch.stack(all_data)\n",
        "                all_labels = torch.tensor(all_labels)\n",
        "\n",
        "                # Build the new dataset following requirements\n",
        "                self.train_dataset = torch.utils.data.TensorDataset(all_data, all_labels)\n",
        "\n",
        "\n",
        "        if stage == 'test' or stage is None: # Setup dataset for training phase\n",
        "\n",
        "            all_data = []\n",
        "            all_labels = []\n",
        "            normal_data  = []\n",
        "            anomal_data = []\n",
        "            normal_class = self.normal_class\n",
        "\n",
        "            # Load test dataset\n",
        "            test_dataset = FashionMNIST(root=self.data_dir, train=False, transform=self.test_transform)\n",
        "\n",
        "            normal_indices = [i for i in range(len(test_dataset)) if test_dataset.targets[i] == normal_class]\n",
        "            anomal_indices = self.kmeans_sampling(test_dataset, normal_class, num_samples=len(normal_indices))\n",
        "\n",
        "            if self.subsampling == True:\n",
        "                normal_indices = normal_indices[:self.subsamples]\n",
        "                anomal_indices = anomal_indices[:self.subsamples]\n",
        "\n",
        "            normal_labels = torch.ones(len(normal_indices), dtype=torch.float32)\n",
        "            anomal_labels = torch.zeros(len(anomal_indices), dtype=torch.float32)\n",
        "\n",
        "            normal_data.extend([test_dataset[i][0] for i in normal_indices])\n",
        "            anomal_data.extend([test_dataset[i][0] for i in anomal_indices])\n",
        "\n",
        "            all_data.extend(normal_data)\n",
        "            all_data.extend(anomal_data)\n",
        "            all_labels.extend(normal_labels)\n",
        "            all_labels.extend(anomal_labels)\n",
        "\n",
        "            all_data = torch.stack(all_data)\n",
        "            all_labels = torch.tensor(all_labels)\n",
        "\n",
        "            # Build the new dataset\n",
        "            self.test_dataset = torch.utils.data.TensorDataset(all_data, all_labels)\n",
        "\n",
        "    def train_dataloader(self):\n",
        "        return torch.utils.data.DataLoader(self.train_dataset, batch_size=self.batch_size, shuffle=True)\n",
        "\n",
        "    def test_dataloader(self):\n",
        "        return torch.utils.data.DataLoader(self.test_dataset, batch_size=self.batch_size, shuffle=False)\n"
      ]
    },
    {
      "cell_type": "markdown",
      "metadata": {
        "id": "aRHgPja_xBOe"
      },
      "source": [
        "# Models\n",
        "Here follows the 3 models, each  defined as _LightningModule_ and modular with the DataModule previously defined."
      ]
    },
    {
      "cell_type": "markdown",
      "metadata": {
        "id": "UnmatNdWxBOe"
      },
      "source": [
        "## GAN\n",
        "The GAN-based takes place from the state-of-art approach presented in the paper [[1]](#bibliography). It consists of a Generator and two Discriminators (Normal and Anomal):\n",
        "- **Generator** = Takes the symmetrical structure from the U-Net[[4]](#bibliography). It consits of four 4x4 convolutions with stride 2 and four transposed convolutions with skip connections;\n",
        "- **Discriminator** = Is a general CNN network. It consists of three 4x4 convolutions with stride 2, followed by two 4x4 convolutions with stride 1.\n",
        "\n",
        "The 2 discriminators are used only in the training phase, while the _generator_ is trained to output 1 from normal data and 0 from anomaly data  thanls to the double _discriminator_, where a single one would have leaded to correctly identify only the normal data.\n",
        "\n",
        "For the training where used 8 loss functions, 6 for the _generator_, 1 for _normal_discriminator_ and 1 for _anomal_discriminator_ , resulting in a final weighted sum of the losses to update the weights, separately for normal and anomal in order to solve loss scale imbalance.\n",
        "\n",
        "The resulting GAN is slightly different from the sota presented in the paper in terms of number of parameters. This because, despitely the many manual combinations tried, is impossible to perfeclty reproduce the number of parameters provided in the paper. Then the final architecture was entirely based on the layers description and on the U-Net."
      ]
    },
    {
      "cell_type": "code",
      "execution_count": null,
      "metadata": {
        "id": "jER6pdMaxBOe"
      },
      "outputs": [],
      "source": [
        "\n",
        "class ENCODER(pl.LightningModule):\n",
        "    def __init__(self):\n",
        "        super().__init__()\n",
        "\n",
        "        self.conv1 = nn.Conv2d(in_channels=1, out_channels=64, kernel_size=4, stride=2, padding=1)  #out 16x16\n",
        "        self.conv2 = nn.Conv2d(in_channels=64, out_channels=128, kernel_size=4, stride=2, padding=1) #out 8x8\n",
        "        self.conv3 = nn.Conv2d(in_channels=128, out_channels=256, kernel_size=4, stride=2, padding=1) #out 4x4\n",
        "        self.conv4 = nn.Conv2d(in_channels=256, out_channels=512, kernel_size=4, stride=2, padding=1) #out 2x2\n",
        "\n",
        "    def forward(self, x):\n",
        "        x = F.relu(self.conv1(x))\n",
        "        x = F.relu(self.conv2(x))\n",
        "        x = F.relu(self.conv3(x))\n",
        "        x = F.relu(self.conv4(x))\n",
        "        return x\n",
        "\n",
        "\n",
        "class GENERATOR(pl.LightningModule):\n",
        "    def __init__(self):\n",
        "        super().__init__()\n",
        "\n",
        "        # Encoder\n",
        "        self.encoder = ENCODER()\n",
        "\n",
        "        # Decoder\n",
        "        self.tr_conv1 = nn.ConvTranspose2d(in_channels=512, out_channels=256, kernel_size=4, stride=2, padding=1)\n",
        "        self.tr_conv2 = nn.ConvTranspose2d(in_channels=256, out_channels=128, kernel_size=4, stride=2, padding=1)\n",
        "        self.tr_conv3 = nn.ConvTranspose2d(in_channels=128, out_channels=64, kernel_size=4, stride=2, padding=1)\n",
        "        self.tr_conv4 = nn.ConvTranspose2d(in_channels=64, out_channels=1, kernel_size=4, stride=2, padding=1)\n",
        "\n",
        "    def forward(self, x):\n",
        "\n",
        "        # encoder\n",
        "        enc1 = F.relu(self.encoder.conv1(x))\n",
        "        enc2 = F.relu(self.encoder.conv2(enc1))\n",
        "        enc3 = F.relu(self.encoder.conv3(enc2))\n",
        "        enc4 = F.relu(self.encoder.conv4(enc3))\n",
        "\n",
        "        # decoder with skip connections\n",
        "        dec1 = F.relu(self.tr_conv1(enc4))\n",
        "        dec1_sum = dec1 + enc3\n",
        "        dec2 = F.relu(self.tr_conv2(dec1_sum))\n",
        "        dec2_sum = dec2 + enc2\n",
        "        dec3 = F.relu(self.tr_conv3(dec2_sum))\n",
        "        dec3_sum = dec3 + enc1\n",
        "        dec4 = F.tanh(self.tr_conv4(dec3_sum))\n",
        "\n",
        "        return dec4\n",
        "\n",
        "\n",
        "class DISCRIMINATOR(pl.LightningModule):\n",
        "    def __init__(self):\n",
        "        super().__init__()\n",
        "\n",
        "        self.conv1 = nn.Conv2d(in_channels=1, out_channels=64, kernel_size=4, stride=2, padding=1)  #out 32x16x16\n",
        "        self.conv2 = nn.Conv2d(in_channels=64, out_channels=128, kernel_size=4, stride=2, padding=1) #out 64x8x8\n",
        "        self.conv3 = nn.Conv2d(in_channels=128, out_channels=64, kernel_size=4, stride=2, padding=1) #out 128x4x4\n",
        "        self.conv4 = nn.Conv2d(in_channels=64, out_channels=32, kernel_size=4, stride=1, padding=1) #out 32x3x3\n",
        "        self.conv5 = nn.Conv2d(in_channels=32, out_channels=1, kernel_size=4, stride=1, padding=1) #out 1x2x2\n",
        "\n",
        "    def forward(self, x):\n",
        "        x = F.relu(self.conv1(x))\n",
        "        x = F.relu(self.conv2(x))\n",
        "        x = F.relu(self.conv3(x))\n",
        "        x = F.relu(self.conv4(x))\n",
        "        x = F.relu(self.conv5(x))\n",
        "        return x\n",
        "\n",
        "\n",
        "class GAN_SOTA(pl.LightningModule):\n",
        "    def __init__(self, lr=0.0002, display=False, display_end=False, b1=0.5, b2=0.999):\n",
        "        super().__init__()\n",
        "        self.lr = lr\n",
        "        self.display = display\n",
        "        self.display_end = display_end\n",
        "\n",
        "        self.save_hyperparameters()\n",
        "        self.G = GENERATOR()\n",
        "        self.Enc = self.G.encoder\n",
        "        self.D_norm = DISCRIMINATOR()\n",
        "        self.D_anom = DISCRIMINATOR()\n",
        "\n",
        "        self.automatic_optimization = False\n",
        "        self.test_step_outputs = [[], []]  # two dataloaders\n",
        "        self.auroc = 0\n",
        "        self.last_batch = None\n",
        "\n",
        "    def forward(self, x):\n",
        "        return self.G(x)\n",
        "\n",
        "    def print_generator_parameters(self):\n",
        "        for name, param in self.G.named_parameters():\n",
        "            print(f\"Generator Parameter Name: {name}\")\n",
        "            print(f\"Parameter Value:\\n{param}\")\n",
        "\n",
        "    def patch_loss(self, X, generated_X, n=3):\n",
        "        # Calculate the L1 loss for each patch\n",
        "        patch_errors = torch.abs(X - generated_X)\n",
        "        patch_errors_reshaped = patch_errors.view(patch_errors.size(0), patch_errors.size(1), -1)\n",
        "        mean_patch_errors = patch_errors_reshaped.mean(dim=-1)\n",
        "\n",
        "        # Select the top n patches\n",
        "        sorted_patch_indices = torch.argsort(mean_patch_errors, dim=-1, descending=True)\n",
        "        top_patch_indices = sorted_patch_indices[:, :n]\n",
        "\n",
        "        # Calculate the average of the top n patch errors\n",
        "        top_patch_errors = torch.gather(mean_patch_errors, dim=-1, index=top_patch_indices)\n",
        "        avg_top_patch_errors = top_patch_errors.mean()\n",
        "        return avg_top_patch_errors\n",
        "\n",
        "    # Utilities to print batches during training\n",
        "    def show_batch_image(self, batch):\n",
        "        X, Y = batch\n",
        "        image = X[0].detach().cpu().numpy()\n",
        "        plt.figure(figsize=(5, 5))\n",
        "        plt.title(\"Label: {}\".format(Y[0]))\n",
        "        plt.imshow(image[0], cmap='gray')\n",
        "        plt.axis('off')\n",
        "        plt.show()\n",
        "\n",
        "\n",
        "    #The generator is trained to output 1 from normal data and 0 from anomaly data\n",
        "    def training_step(self, batch, batch_idx):\n",
        "        g_opt, d_norm_opt, d_anom_opt = self.optimizers()\n",
        "\n",
        "        X, Y = batch\n",
        "        self.last_batch = batch\n",
        "        batch_size = X.shape[0]\n",
        "\n",
        "        real_label = torch.ones((batch_size, 1, 2, 2), device=self.device)\n",
        "        fake_label = torch.zeros((batch_size, 1, 2, 2), device=self.device)\n",
        "\n",
        "        errD_anomal = 0\n",
        "        errD_normal = 0\n",
        "\n",
        "        # Normal Case\n",
        "        if (Y.squeeze() == 1):\n",
        "            generated_X = self.G(X)\n",
        "            discriminated_X = self.D_norm(X)\n",
        "            discriminated_G = self.D_norm(generated_X)\n",
        "            encoded_X = self.G.encoder(X)\n",
        "\n",
        "            # Optimize Discriminator #\n",
        "            d_norm_opt.zero_grad()\n",
        "\n",
        "            # NORM ADV LOSS\n",
        "            Norm_adv_loss = (((discriminated_X - real_label)**2) + ((discriminated_G - fake_label)**2))\n",
        "\n",
        "            errD_normal = (Norm_adv_loss.mean())\n",
        "\n",
        "            errD = errD_normal\n",
        "            self.manual_backward(errD_normal.mean())\n",
        "            d_norm_opt.step()\n",
        "\n",
        "            # Optimize Generator #\n",
        "            g_opt.zero_grad()\n",
        "\n",
        "            generated_X = self.G(X)\n",
        "            discriminated_X = self.D_norm(X)\n",
        "            discriminated_G = self.D_norm(generated_X)\n",
        "            encoded_X = self.G.encoder(X)\n",
        "\n",
        "            # L1 RECONSTRUCTION ERROR\n",
        "            l1_loss = F.l1_loss(X, generated_X)\n",
        "\n",
        "            # PATCH L1 LOSS\n",
        "            patch_loss = self.patch_loss(X, generated_X)\n",
        "\n",
        "            # LATENT VECTOR LOSS\n",
        "            latent_loss = F.l1_loss(encoded_X, self.G.encoder(generated_X))\n",
        "\n",
        "            # ADVERSARIAL LOSS\n",
        "            norm_adv_loss = ((discriminated_G - real_label)**2)\n",
        "\n",
        "            errG_normal = patch_loss*(1.5) + (norm_adv_loss)*(0.5) + (latent_loss)*(0.5) + (l1_loss)*(1.5)\n",
        "            errG = errG_normal.mean()\n",
        "            self.manual_backward(errG_normal.mean())\n",
        "            g_opt.step()\n",
        "\n",
        "            self.log_dict({\"g_loss\": torch.tensor(errG).mean(), \"d_normal_loss\": torch.tensor(errD).mean()}, prog_bar=True)\n",
        "\n",
        "        # Anomal Case\n",
        "        else:\n",
        "            generated_X = self.G(X)\n",
        "            discriminated_X = self.D_anom(X)\n",
        "            discriminated_G = self.D_anom(generated_X)\n",
        "\n",
        "            # Optimize Discriminator #\n",
        "            d_anom_opt.zero_grad()\n",
        "\n",
        "            # ANOM ADV LOSS\n",
        "            Anom_adv_loss = ((((discriminated_X - real_label)**2) + ((discriminated_G - fake_label)**2)))\n",
        "\n",
        "            errD_anomal = (Anom_adv_loss.mean())\n",
        "\n",
        "            errD = errD_anomal\n",
        "            self.manual_backward(errD_anomal.mean())\n",
        "            d_anom_opt.step()\n",
        "\n",
        "            # Optimize Generator #\n",
        "            g_opt.zero_grad()\n",
        "            generated_X = self.G(X)\n",
        "            discriminated_X = self.D_anom(X)\n",
        "            discriminated_G = self.D_anom(generated_X)\n",
        "            encoded_X = self.G.encoder(X)\n",
        "\n",
        "            # ANOM ADVERS LOSS\n",
        "            anom_adv_loss = ((discriminated_G - fake_label)**2)\n",
        "\n",
        "            # ABC LOSS\n",
        "            abc_loss = -torch.log(1 - torch.exp(-F.l1_loss(generated_X, X)))\n",
        "\n",
        "            errG_anomal = anom_adv_loss*(1) + (abc_loss)*(0.5)\n",
        "            errG = errG_anomal.mean()\n",
        "            self.manual_backward(errG_anomal.mean())\n",
        "            g_opt.step()\n",
        "\n",
        "            self.log_dict({\"g_loss\": errG, \"d_anomal_loss\": errD}, prog_bar=True)\n",
        "\n",
        "        return {\"g_loss\": errG, \"d_norm_loss\": errD_normal, \"d_anom_loss\": errD_anomal}\n",
        "\n",
        "\n",
        "    def test_step(self, batch, batch_idx):\n",
        "\n",
        "        X, Y = batch\n",
        "\n",
        "        generated_X = self.G(X)\n",
        "\n",
        "        # Calculate reconstruction error\n",
        "        reconstruction_error = F.mse_loss(generated_X, X, reduction='none')\n",
        "        reconstruction_error = reconstruction_error.view(reconstruction_error.size(0), -1).mean(dim=1)\n",
        "        self.test_step_outputs[0].append(reconstruction_error)\n",
        "        self.test_step_outputs[1].append(Y)\n",
        "\n",
        "        if self.display:\n",
        "            print(\"generated_X:\", generated_X)\n",
        "            print(\"reconstruction_error:\", reconstruction_error)\n",
        "            self.show_batch_image(batch)\n",
        "\n",
        "        return {\"reconstruction_error\": reconstruction_error, \"true_labels\": Y}\n",
        "\n",
        "\n",
        "    def on_test_epoch_end(self):\n",
        "        all_reconstruction_errors = torch.cat(self.test_step_outputs[0])\n",
        "        all_true_labels = torch.cat(self.test_step_outputs[1])\n",
        "\n",
        "        anomaly_threshold = 0.5\n",
        "        predicted_labels = (all_reconstruction_errors < anomaly_threshold).float().cpu().numpy()\n",
        "        true_labels = all_true_labels.squeeze().float().cpu().numpy()\n",
        "\n",
        "        # Calculate AUROC\n",
        "        auroc = roc_auc_score(true_labels, predicted_labels)\n",
        "\n",
        "        self.log(\"auroc\", (auroc), prog_bar=True)\n",
        "        self.auroc = auroc\n",
        "\n",
        "        self.test_step_outputs = [[], []]\n",
        "\n",
        "\n",
        "    def on_train_epoch_end(self):\n",
        "        self.log('g_loss_epoch', self.trainer.logged_metrics['g_loss'].mean(), prog_bar=True)\n",
        "        self.log('d_anomal_loss_epoch', self.trainer.logged_metrics['d_anomal_loss'].mean(), prog_bar=True)\n",
        "        self.log('d_normal_loss_epoch', self.trainer.logged_metrics['d_normal_loss'].mean(), prog_bar=True)\n",
        "\n",
        "\n",
        "        if self.display_end:\n",
        "            input_image_path = \"./0.png\"\n",
        "            input_image = Image.open(input_image_path).convert('L')  # Convert to grayscale\n",
        "            preprocess = transforms.Compose([\n",
        "                transforms.Resize((32, 32)),\n",
        "                transforms.ToTensor(),\n",
        "            ])\n",
        "            input_tensor = preprocess(input_image).unsqueeze(0).cuda()\n",
        "            # Generate output using the trained model\n",
        "            generated_output = self.G(input_tensor)\n",
        "\n",
        "            # Convert generated output tensor to an image\n",
        "            generated_image = generated_output.squeeze().detach().cpu()\n",
        "\n",
        "            reconstruction_error = F.mse_loss(model(input_tensor), input_tensor, reduction='none')\n",
        "            reconstruction_error = reconstruction_error.view(reconstruction_error.size(0), -1).mean(dim=1)\n",
        "\n",
        "            print(\"\\nReconstruction error:\", reconstruction_error)\n",
        "            # Display input and generated images\n",
        "            plt.figure(figsize=(9, 4))\n",
        "            string = 'Input vs. Generated Image'\n",
        "            plt.suptitle(string, fontsize=16)\n",
        "            plt.subplot(1, 2, 1)\n",
        "            plt.title('Input Image')\n",
        "            plt.imshow(input_image, cmap='gray')\n",
        "            plt.axis('off')\n",
        "\n",
        "            plt.subplot(1, 2, 2)\n",
        "            plt.title('Generated Image')\n",
        "            plt.imshow(generated_image, cmap='gray')\n",
        "            plt.axis('off')\n",
        "\n",
        "            plt.tight_layout()\n",
        "            plt.show()\n",
        "\n",
        "    # Manually optimize the 3 parts\n",
        "    def configure_optimizers(self):\n",
        "        lr = self.hparams.lr\n",
        "        b1 = self.hparams.b1\n",
        "        b2 = self.hparams.b2\n",
        "\n",
        "        opt_g = torch.optim.Adam(self.G.parameters(), lr=self.lr, betas=(b1, b2))\n",
        "        opt_d_norm = torch.optim.Adam(self.D_norm.parameters(), lr=self.lr, betas=(b1, b2))\n",
        "        opt_d_anom = torch.optim.Adam(self.D_anom.parameters(), lr=self.lr, betas=(b1, b2))\n",
        "        return opt_g, opt_d_norm, opt_d_anom\n"
      ]
    },
    {
      "cell_type": "markdown",
      "metadata": {
        "id": "RJQbxt3bxBOf"
      },
      "source": [
        "## Random Guessing\n",
        "It is a simple straitghforward approach, where is used _torch.rand()_ to randomly generates numbers in [0,1) interval, and so randomly guess between the _normal_ and _anomal_ cases.\n",
        "\n",
        "Even if not particularly effective, it represent an interesting comparison because the resulting _AUROC_ value should be 0.5 , which represents the midle possible value of the metric [0-1], drawing a straight diagonal line."
      ]
    },
    {
      "cell_type": "code",
      "execution_count": null,
      "metadata": {
        "id": "MNGkVhq8vgtT"
      },
      "outputs": [],
      "source": [
        "class RandomGuessing(pl.LightningModule):\n",
        "    def __init__(self):\n",
        "        super().__init__()\n",
        "\n",
        "        self.test_step_outputs = [[], []]\n",
        "\n",
        "    def forward(self, x):\n",
        "        # Randomly guess between anomaly and normal classes [0-1]\n",
        "        return torch.rand(x.size(0))  # Return random scores\n",
        "\n",
        "    def test_step(self, batch, batch_idx):\n",
        "        X, Y = batch\n",
        "\n",
        "        generated_X = self(X)\n",
        "\n",
        "        # Calculate reconstruction error\n",
        "        reconstruction_error = F.mse_loss(generated_X, X, reduction='none')\n",
        "        reconstruction_error = reconstruction_error.view(reconstruction_error.size(0), -1).mean(dim=1)\n",
        "        self.test_step_outputs[0].append(reconstruction_error)\n",
        "        self.test_step_outputs[1].append(Y)\n",
        "\n",
        "        return {\"reconstruction_error\": reconstruction_error, \"true_labels\": Y}\n",
        "\n",
        "\n",
        "    def on_test_epoch_end(self):\n",
        "        all_reconstruction_errors = torch.cat(self.test_step_outputs[0])\n",
        "        all_true_labels = torch.cat(self.test_step_outputs[1])\n",
        "\n",
        "        anomaly_threshold = 0.5\n",
        "        predicted_labels = (all_reconstruction_errors < anomaly_threshold).float().cpu().numpy()\n",
        "        true_labels = all_true_labels.squeeze().float().cpu().numpy()\n",
        "\n",
        "        # Calculate AUROC\n",
        "        auroc = roc_auc_score(true_labels, predicted_labels)\n",
        "\n",
        "        self.log(\"auroc\", (auroc), prog_bar=True)\n",
        "\n",
        "        # Clear the test step outputs after processing them\n",
        "        self.test_step_outputs = [[], []]\n",
        "\n",
        "\n"
      ]
    },
    {
      "cell_type": "markdown",
      "metadata": {
        "id": "qOmGK-7rxBOf"
      },
      "source": [
        "## Autoencoder\n",
        "An autoencoder is a popular choice for anomaly detection tasks because it learns to reconstruct normal instances and tends to perform poorly on anomalous instances, showing an higher reconstruciton error. The architectures, consists of 2 main parts:\n",
        "- **encoder** = Takes the input mapping it in a lower-dimensional latent space representation. It consists of 2 convolutional layers with max-pooling;\n",
        "- **decoder** = Takes the lower-dimensional representation from the encoder and reconstructs the original data as possible. It consists of 2 transpose convolutions.\n",
        "\n",
        "For the training was used only the '_normal_class_', trying to reduce the reconstruction error (MSE between input and output). In this way the model is not trained to reproduce correctly, with a low MSE error, an unseen class, providing an higher reconstruction error used, with a thresholding approach, to correctly identify _normal_ and _anomal_ classes."
      ]
    },
    {
      "cell_type": "code",
      "execution_count": null,
      "metadata": {
        "id": "vHe_Q0OMxBOf"
      },
      "outputs": [],
      "source": [
        "class Autoencoder(nn.Module):\n",
        "    def __init__(self):\n",
        "        super(Autoencoder, self).__init__()\n",
        "        self.encoder = nn.Sequential(\n",
        "            nn.Conv2d(1, 16, kernel_size=3, padding=1),\n",
        "            nn.ReLU(),\n",
        "            nn.MaxPool2d(kernel_size=2, stride=2),\n",
        "            nn.Conv2d(16, 32, kernel_size=3, padding=1),\n",
        "            nn.ReLU(),\n",
        "            nn.MaxPool2d(kernel_size=2, stride=2)\n",
        "        )\n",
        "        self.decoder = nn.Sequential(\n",
        "            nn.ConvTranspose2d(32, 16, kernel_size=2, stride=2),\n",
        "            nn.ReLU(),\n",
        "            nn.ConvTranspose2d(16, 1, kernel_size=2, stride=2),\n",
        "            nn.Sigmoid()\n",
        "        )\n",
        "\n",
        "    def forward(self, x):\n",
        "        encode = self.encoder(x)\n",
        "        decode = self.decoder(encode)\n",
        "        return decode\n",
        "\n",
        "\n",
        "class AE_based(pl.LightningModule):\n",
        "    def __init__(self, display=False, lr=0.002, b1=0.5, b2=0.999):\n",
        "        super(AE_based, self).__init__()\n",
        "        self.lr = lr\n",
        "        self.b1 = b1\n",
        "        self.b2 = b2\n",
        "\n",
        "        self.display = display\n",
        "        self.save_hyperparameters()\n",
        "        self.AE = Autoencoder()\n",
        "        self.enc = self.AE.encoder\n",
        "\n",
        "        self.test_step_outputs = [[], []]\n",
        "\n",
        "    def show_batch_image(self, batch, generated_image):\n",
        "        X, Y = batch\n",
        "        image = X[0].detach().cpu().numpy()\n",
        "        # Display input and generated images\n",
        "        plt.figure(figsize=(9, 4))\n",
        "        string = 'Input vs. Generated Image'\n",
        "        plt.suptitle(string, fontsize=16)\n",
        "        plt.subplot(1, 2, 1)\n",
        "        plt.title('Input Image: {}'.format(Y[0]))\n",
        "        plt.imshow(image[0], cmap='gray')\n",
        "        plt.axis('off')\n",
        "\n",
        "        plt.subplot(1, 2, 2)\n",
        "        plt.title('Generated Image')\n",
        "        plt.imshow(generated_image.detach().squeeze().cpu().numpy(), cmap='gray')\n",
        "        plt.axis('off')\n",
        "\n",
        "        plt.tight_layout()\n",
        "        plt.show()\n",
        "\n",
        "    def forward(self, x):\n",
        "        return self.AE(x)\n",
        "\n",
        "\n",
        "    def training_step(self, batch, batch_idx):\n",
        "        X, Y = batch\n",
        "\n",
        "        generated_X = self.AE(X)\n",
        "\n",
        "        loss = F.mse_loss(X, generated_X)\n",
        "\n",
        "        self.log('loss', loss, prog_bar=True)\n",
        "        return loss\n",
        "\n",
        "\n",
        "    def test_step(self, batch, batch_idx):\n",
        "        X, Y = batch\n",
        "\n",
        "        generated_X = self.AE(X)\n",
        "\n",
        "        # Calculate reconstruction error\n",
        "        reconstruction_error = F.mse_loss(generated_X, X, reduction='none')\n",
        "        reconstruction_error = reconstruction_error.view(reconstruction_error.size(0), -1).mean(dim=1)  # Calculate mean error over pixels\n",
        "        self.test_step_outputs[0].append(reconstruction_error)\n",
        "        self.test_step_outputs[1].append(Y)\n",
        "\n",
        "        if self.display:\n",
        "            print(\"generated_X:\", generated_X)\n",
        "            print(\"reconstruction_error:\", reconstruction_error)\n",
        "            self.show_batch_image(batch, generated_X)\n",
        "\n",
        "        return {\"reconstruction_error\": reconstruction_error, \"true_labels\": Y}\n",
        "\n",
        "\n",
        "    def on_test_epoch_end(self):\n",
        "        all_reconstruction_errors = torch.cat(self.test_step_outputs[0])\n",
        "        all_true_labels = torch.cat(self.test_step_outputs[1])\n",
        "\n",
        "        anomaly_threshold = 0.5\n",
        "        predicted_labels = (all_reconstruction_errors < anomaly_threshold).float().cpu().numpy()\n",
        "        true_labels = all_true_labels.squeeze().float().cpu().numpy()\n",
        "\n",
        "        # Calculate AUROC\n",
        "        auroc = roc_auc_score(true_labels, predicted_labels)\n",
        "\n",
        "        self.log(\"auroc\", (auroc), prog_bar=True)\n",
        "\n",
        "        # Clear the test step outputs after processing them\n",
        "        self.test_step_outputs = [[], []]\n",
        "\n",
        "\n",
        "    def configure_optimizers(self):\n",
        "        lr = self.lr\n",
        "        b1 = self.b1\n",
        "        b2 = self.b2\n",
        "        opt = torch.optim.Adam(self.parameters(), lr=lr, betas=(b1, b2))\n",
        "        return opt\n"
      ]
    },
    {
      "cell_type": "markdown",
      "metadata": {
        "id": "wGLRBJcxxBOf"
      },
      "source": [
        "# Train\n",
        "Here follow the training sections of the models. In order to properly train a model, execute in the following order the respective cells:\n",
        "1) Imports;\n",
        "2) Dataset with DataModule;\n",
        "3) Model of interest.\n",
        "\n",
        "Each train cell provide some parameters to costumize the training, in particular the variable \"_subsampling_\" allow to deal with the dataset dimension as follows:\n",
        "- _True_ = Use a subsampled dataset of dimension _'subsamples'_ ;\n",
        "- _False_ = Use the full available dataset for the training."
      ]
    },
    {
      "cell_type": "markdown",
      "metadata": {
        "id": "olt3Kom3xBOf"
      },
      "source": [
        "## GAN\n",
        "For the training was used the entire dataset, with 7 epochs, lr=0.0001 and a batch_size=1 as in the paper.\n",
        "\n",
        "The AUROC obtained for the single 0 class was of ≈ 0.9079 , but further training could have lead to more improvements.\n",
        "\n",
        "The model performances are influenced by weights initialization, which, toghether with the variability in the results due to the _normal class_ selected, leaded to many training and re-initialization in order to get better results. Some classes like the _8_ for example, leaded to very hugher results of AUROC ≈ 0.9564.\n",
        "\n",
        "The averaged result among the classes for the AUROC was then of ≈ 0.9391."
      ]
    },
    {
      "cell_type": "code",
      "execution_count": null,
      "metadata": {
        "id": "TitgSZuSxBOf"
      },
      "outputs": [],
      "source": [
        "# Hyperparameters\n",
        "BATCH_SIZE = 1\n",
        "epochs = 7\n",
        "learning_rate = 0.0001\n",
        "subsampling = False\n",
        "subsamples = 1000\n",
        "accelerator_enabled = True\n",
        "display = False\n",
        "display_end = False"
      ]
    },
    {
      "cell_type": "code",
      "execution_count": null,
      "metadata": {
        "id": "36CEyUEkxBOf"
      },
      "outputs": [],
      "source": [
        "# Utilities\n",
        "checkpoint_path = './GAN/checkpoints'\n",
        "os.makedirs(checkpoint_path, exist_ok=True)\n",
        "\n",
        "checkpoint_callback = ModelCheckpoint(\n",
        "    dirpath=checkpoint_path,\n",
        "    filename=\"GAN_ckpt\",\n",
        "    monitor='auc',\n",
        "    mode='min',\n",
        "    save_last=True,\n",
        "    save_top_k=-1,\n",
        ")\n"
      ]
    },
    {
      "cell_type": "code",
      "execution_count": null,
      "metadata": {
        "id": "bwwGeJVvxBOf"
      },
      "outputs": [],
      "source": [
        "# Initialize dataset\n",
        "data_module = AnomalyDetectionDataModule(batch_size=BATCH_SIZE,\n",
        "                                         subsampling=subsampling,\n",
        "                                         subsamples=subsamples,\n",
        "                                         model='GAN',\n",
        "                                         normal_class=0)\n"
      ]
    },
    {
      "cell_type": "code",
      "execution_count": null,
      "metadata": {
        "id": "97sN3zaXxBOf",
        "colab": {
          "base_uri": "https://localhost:8080/"
        },
        "outputId": "85b3eb92-2ad3-48a5-cccd-c95006592f27"
      },
      "outputs": [
        {
          "output_type": "stream",
          "name": "stderr",
          "text": [
            "INFO:pytorch_lightning.utilities.rank_zero:GPU available: True (cuda), used: True\n",
            "INFO:pytorch_lightning.utilities.rank_zero:TPU available: False, using: 0 TPU cores\n",
            "INFO:pytorch_lightning.utilities.rank_zero:IPU available: False, using: 0 IPUs\n",
            "INFO:pytorch_lightning.utilities.rank_zero:HPU available: False, using: 0 HPUs\n"
          ]
        },
        {
          "output_type": "stream",
          "name": "stdout",
          "text": [
            "GPU\n"
          ]
        }
      ],
      "source": [
        "# Initialize models and trainers\n",
        "if torch.cuda.is_available() and accelerator_enabled:\n",
        "  print(\"GPU\")\n",
        "  model = GAN_SOTA(lr=learning_rate,\n",
        "                   display=display,\n",
        "                   display_end=display_end).to(\"cuda\")\n",
        "\n",
        "  trainer = pl.Trainer(accelerator=\"cuda\",\n",
        "                       max_epochs=epochs,\n",
        "                       callbacks=[TQDMProgressBar(),\n",
        "                                  checkpoint_callback]\n",
        "                       )\n",
        "else :\n",
        "  print(\"CPU\")\n",
        "  model = GAN_SOTA(lr=learning_rate,\n",
        "                   display=display,\n",
        "                   display_end=display_end).to(\"cpu\")\n",
        "\n",
        "  trainer = pl.Trainer(accelerator=\"cpu\",\n",
        "                       max_epochs=epochs,\n",
        "                       callbacks=[TQDMProgressBar(),\n",
        "                                  checkpoint_callback]\n",
        "                       )\n"
      ]
    },
    {
      "cell_type": "code",
      "execution_count": null,
      "metadata": {
        "colab": {
          "base_uri": "https://localhost:8080/",
          "height": 513,
          "referenced_widgets": [
            "c474fcf988b247d5b3eeb3ed6a0aa895",
            "043c39b2da504c4ba19de05643f001d1",
            "6a95b74286f24551b10b6afa29099cfa",
            "8ea8cd802a8b428f81bb80c3a17aaaf1",
            "0bbd6618bfae4492a948b9fa5e17148b",
            "1d8464f7c9e04c209aea239afe979f5e",
            "77866bc81ae64a25b7d592b888931e00",
            "b89aed7892c447ca955d0dec3f4b4a2d",
            "e41e59524bfb4a6ab4718bd894f54507",
            "4ecb3809b3f546cdae52f00ebf451f14",
            "f08c3b0f9961445781ec2c5874ea800a",
            "c0d06b877e6b4c5ba73bf4f40e20e4fe",
            "82cd98f1433f4b8c8e01725ec40b92a0",
            "d68b23f513134a42aedc89975304993c",
            "f3be806d2502490db69f486af0c48021",
            "18058c57d367467b9d4333e041468042",
            "07aebb3294b84c1c8e1a8302d8e05400",
            "eb2710c50fb34ade990efafad02b96ab",
            "e958e8cfd90a4881a2932ac5157a5bdd",
            "141bd223ce13413f8f52069c067e7a08",
            "8da13972ff204a808cc84a1df7dbf99e",
            "71bd9bcacd6c4fbc907ec50ef464db58"
          ]
        },
        "id": "Z6IlPXr0xBOg",
        "outputId": "4bf7c4bf-2ae0-4e1d-9706-bfae4c954b2f"
      },
      "outputs": [
        {
          "output_type": "stream",
          "name": "stderr",
          "text": [
            "/usr/local/lib/python3.10/dist-packages/pytorch_lightning/callbacks/model_checkpoint.py:617: UserWarning: Checkpoint directory /content/GAN/checkpoints exists and is not empty.\n",
            "  rank_zero_warn(f\"Checkpoint directory {dirpath} exists and is not empty.\")\n",
            "INFO:pytorch_lightning.accelerators.cuda:LOCAL_RANK: 0 - CUDA_VISIBLE_DEVICES: [0]\n",
            "INFO:pytorch_lightning.callbacks.model_summary:\n",
            "  | Name   | Type          | Params\n",
            "-----------------------------------------\n",
            "0 | G      | GENERATOR     | 5.5 M \n",
            "1 | Enc    | ENCODER       | 2.8 M \n",
            "2 | D_norm | DISCRIMINATOR | 296 K \n",
            "3 | D_anom | DISCRIMINATOR | 296 K \n",
            "-----------------------------------------\n",
            "6.1 M     Trainable params\n",
            "0         Non-trainable params\n",
            "6.1 M     Total params\n",
            "24.408    Total estimated model params size (MB)\n"
          ]
        },
        {
          "output_type": "display_data",
          "data": {
            "text/plain": [
              "Training: 0it [00:00, ?it/s]"
            ],
            "application/vnd.jupyter.widget-view+json": {
              "version_major": 2,
              "version_minor": 0,
              "model_id": "c474fcf988b247d5b3eeb3ed6a0aa895"
            }
          },
          "metadata": {}
        },
        {
          "output_type": "stream",
          "name": "stderr",
          "text": [
            "<ipython-input-27-590b6e488183>:178: UserWarning: To copy construct from a tensor, it is recommended to use sourceTensor.clone().detach() or sourceTensor.clone().detach().requires_grad_(True), rather than torch.tensor(sourceTensor).\n",
            "  self.log_dict({\"g_loss\": torch.tensor(errG).mean(), \"d_normal_loss\": torch.tensor(errD).mean()}, prog_bar=True)\n",
            "INFO:pytorch_lightning.utilities.rank_zero:`Trainer.fit` stopped: `max_epochs=7` reached.\n",
            "INFO:pytorch_lightning.accelerators.cuda:LOCAL_RANK: 0 - CUDA_VISIBLE_DEVICES: [0]\n"
          ]
        },
        {
          "output_type": "display_data",
          "data": {
            "text/plain": [
              "Testing: 0it [00:00, ?it/s]"
            ],
            "application/vnd.jupyter.widget-view+json": {
              "version_major": 2,
              "version_minor": 0,
              "model_id": "c0d06b877e6b4c5ba73bf4f40e20e4fe"
            }
          },
          "metadata": {}
        },
        {
          "output_type": "display_data",
          "data": {
            "text/plain": [
              "┏━━━━━━━━━━━━━━━━━━━━━━━━━━━┳━━━━━━━━━━━━━━━━━━━━━━━━━━━┓\n",
              "┃\u001b[1m \u001b[0m\u001b[1m       Test metric       \u001b[0m\u001b[1m \u001b[0m┃\u001b[1m \u001b[0m\u001b[1m      DataLoader 0       \u001b[0m\u001b[1m \u001b[0m┃\n",
              "┡━━━━━━━━━━━━━━━━━━━━━━━━━━━╇━━━━━━━━━━━━━━━━━━━━━━━━━━━┩\n",
              "│\u001b[36m \u001b[0m\u001b[36m          auroc          \u001b[0m\u001b[36m \u001b[0m│\u001b[35m \u001b[0m\u001b[35m    0.907932932932933    \u001b[0m\u001b[35m \u001b[0m│\n",
              "└───────────────────────────┴───────────────────────────┘\n"
            ],
            "text/html": [
              "<pre style=\"white-space:pre;overflow-x:auto;line-height:normal;font-family:Menlo,'DejaVu Sans Mono',consolas,'Courier New',monospace\">┏━━━━━━━━━━━━━━━━━━━━━━━━━━━┳━━━━━━━━━━━━━━━━━━━━━━━━━━━┓\n",
              "┃<span style=\"font-weight: bold\">        Test metric        </span>┃<span style=\"font-weight: bold\">       DataLoader 0        </span>┃\n",
              "┡━━━━━━━━━━━━━━━━━━━━━━━━━━━╇━━━━━━━━━━━━━━━━━━━━━━━━━━━┩\n",
              "│<span style=\"color: #008080; text-decoration-color: #008080\">           auroc           </span>│<span style=\"color: #800080; text-decoration-color: #800080\">     0.907932932932933     </span>│\n",
              "└───────────────────────────┴───────────────────────────┘\n",
              "</pre>\n"
            ]
          },
          "metadata": {}
        },
        {
          "output_type": "stream",
          "name": "stdout",
          "text": [
            "[{'auroc': 0.907932932932933}]\n"
          ]
        }
      ],
      "source": [
        "# Train and save\n",
        "trainer.fit(model, data_module)\n",
        "trainer.save_checkpoint(\"/GAN/checkpoints/GAN_0.ckpt\")\n",
        "torch.save(model.state_dict(), \"./GAN/GAN_0\")\n",
        "\n",
        "# Testing\n",
        "test_results = trainer.test(model, data_module)\n",
        "print(test_results)"
      ]
    },
    {
      "cell_type": "markdown",
      "metadata": {
        "id": "rawH82B0xBOg"
      },
      "source": [
        "## Random guessing\n",
        "Because of it's intrinsic nature, this model didn't need any training. The testing provided, as expected, a value of AUROC ≈ 0.5 ."
      ]
    },
    {
      "cell_type": "code",
      "execution_count": null,
      "metadata": {
        "id": "7UTvLqwAvgtU"
      },
      "outputs": [],
      "source": [
        "# Utilities\n",
        "checkpoint_path = './RG/checkpoints'\n",
        "os.makedirs(checkpoint_path, exist_ok=True)\n",
        "\n",
        "checkpoint_callback = ModelCheckpoint(\n",
        "    dirpath=checkpoint_path,\n",
        "    filename=\"RG_{epoch}_ckpt\",\n",
        "    monitor='auc',\n",
        "    mode='min',\n",
        "    save_last=True,\n",
        "    save_top_k=-1,\n",
        ")\n"
      ]
    },
    {
      "cell_type": "code",
      "execution_count": null,
      "metadata": {
        "id": "9BYc3CrzvgtV"
      },
      "outputs": [],
      "source": [
        "# Hyperparameters\n",
        "BATCH_SIZE = 1\n",
        "epochs = 15\n",
        "learning_rate = 0.0001\n",
        "subsampling = False\n",
        "subsamples = 1000\n",
        "accelerator_enabled = False\n",
        "display = False"
      ]
    },
    {
      "cell_type": "code",
      "execution_count": null,
      "metadata": {
        "colab": {
          "base_uri": "https://localhost:8080/"
        },
        "id": "U_AZvxcpxBOg",
        "outputId": "75c54e41-d311-4672-bffa-ce1d52ee4805"
      },
      "outputs": [
        {
          "output_type": "stream",
          "name": "stderr",
          "text": [
            "INFO:pytorch_lightning.utilities.rank_zero:GPU available: True (cuda), used: False\n",
            "INFO:pytorch_lightning.utilities.rank_zero:TPU available: False, using: 0 TPU cores\n",
            "INFO:pytorch_lightning.utilities.rank_zero:IPU available: False, using: 0 IPUs\n",
            "INFO:pytorch_lightning.utilities.rank_zero:HPU available: False, using: 0 HPUs\n",
            "/usr/local/lib/python3.10/dist-packages/pytorch_lightning/trainer/setup.py:176: PossibleUserWarning: GPU available but not used. Set `accelerator` and `devices` using `Trainer(accelerator='gpu', devices=1)`.\n",
            "  rank_zero_warn(\n"
          ]
        }
      ],
      "source": [
        "# Initialize dataset\n",
        "data_module = AnomalyDetectionDataModule(batch_size=BATCH_SIZE,\n",
        "                                         subsampling=subsampling,\n",
        "                                         subsamples=subsamples,\n",
        "                                         model='RG',\n",
        "                                         normal_class=0)\n",
        "\n",
        "\n",
        "model = RandomGuessing().to(\"cpu\")\n",
        "\n",
        "trainer = pl.Trainer(accelerator=\"cpu\",\n",
        "                    max_epochs=epochs,\n",
        "                    callbacks=[TQDMProgressBar(),\n",
        "                              checkpoint_callback]\n",
        "                    )\n",
        "\n"
      ]
    },
    {
      "cell_type": "code",
      "execution_count": null,
      "metadata": {
        "id": "oIv-CVCcvgtV",
        "outputId": "35a8c4ba-56f2-43e3-b4a4-214c9b67054f",
        "colab": {
          "base_uri": "https://localhost:8080/",
          "referenced_widgets": [
            "798b0ff2d0c54b0ea2bdc14591a7d9e6",
            "9470175459394a29a376a978a7b21726",
            "6a622a2012ad41d2994133148f472478",
            "c2ccad65c3234dd5a74ce569e4c1ef2b",
            "7eec004d3d95421a9b584b4336345185",
            "5fe21dccb4b34ff58767b7bdcf326e7b",
            "82fe2304fce24e59805a0716c3d4e84a",
            "b8318ca8f43e43b385ee6f29ae215041",
            "bae198a2a22b497db4b4963c8b97b583",
            "9d8aa207d80b4c70bc1524b81216fd85",
            "c2de5aff2b2e4cfebaa0db9cd7c1bb16"
          ]
        }
      },
      "outputs": [
        {
          "output_type": "display_data",
          "data": {
            "text/plain": [
              "Testing: 0it [00:00, ?it/s]"
            ],
            "application/vnd.jupyter.widget-view+json": {
              "version_major": 2,
              "version_minor": 0,
              "model_id": "798b0ff2d0c54b0ea2bdc14591a7d9e6"
            }
          },
          "metadata": {}
        },
        {
          "output_type": "stream",
          "name": "stderr",
          "text": [
            "<ipython-input-38-50d4e7efd6bb>:17: UserWarning: Using a target size (torch.Size([1, 1, 32, 32])) that is different to the input size (torch.Size([1])). This will likely lead to incorrect results due to broadcasting. Please ensure they have the same size.\n",
            "  reconstruction_error = F.mse_loss(generated_X, X, reduction='none')\n"
          ]
        },
        {
          "output_type": "display_data",
          "data": {
            "text/plain": [
              "┏━━━━━━━━━━━━━━━━━━━━━━━━━━━┳━━━━━━━━━━━━━━━━━━━━━━━━━━━┓\n",
              "┃\u001b[1m \u001b[0m\u001b[1m       Test metric       \u001b[0m\u001b[1m \u001b[0m┃\u001b[1m \u001b[0m\u001b[1m      DataLoader 0       \u001b[0m\u001b[1m \u001b[0m┃\n",
              "┡━━━━━━━━━━━━━━━━━━━━━━━━━━━╇━━━━━━━━━━━━━━━━━━━━━━━━━━━┩\n",
              "│\u001b[36m \u001b[0m\u001b[36m          auroc          \u001b[0m\u001b[36m \u001b[0m│\u001b[35m \u001b[0m\u001b[35m    0.49698998998999     \u001b[0m\u001b[35m \u001b[0m│\n",
              "└───────────────────────────┴───────────────────────────┘\n"
            ],
            "text/html": [
              "<pre style=\"white-space:pre;overflow-x:auto;line-height:normal;font-family:Menlo,'DejaVu Sans Mono',consolas,'Courier New',monospace\">┏━━━━━━━━━━━━━━━━━━━━━━━━━━━┳━━━━━━━━━━━━━━━━━━━━━━━━━━━┓\n",
              "┃<span style=\"font-weight: bold\">        Test metric        </span>┃<span style=\"font-weight: bold\">       DataLoader 0        </span>┃\n",
              "┡━━━━━━━━━━━━━━━━━━━━━━━━━━━╇━━━━━━━━━━━━━━━━━━━━━━━━━━━┩\n",
              "│<span style=\"color: #008080; text-decoration-color: #008080\">           auroc           </span>│<span style=\"color: #800080; text-decoration-color: #800080\">     0.49698998998999      </span>│\n",
              "└───────────────────────────┴───────────────────────────┘\n",
              "</pre>\n"
            ]
          },
          "metadata": {}
        },
        {
          "output_type": "stream",
          "name": "stdout",
          "text": [
            "[{'auroc': 0.49698998998999}]\n"
          ]
        }
      ],
      "source": [
        "# Testing\n",
        "test_results = trainer.test(model, data_module)\n",
        "print(test_results)"
      ]
    },
    {
      "cell_type": "markdown",
      "metadata": {
        "id": "kQhN3L6KxBOg"
      },
      "source": [
        "## Autoencoder\n",
        "The Autoencoder was trained by using the full dataset, with epochs = 15 , lr = 0.0001 and batch_size = 1 to have comparable results with the sota GAN-based architecture.\n",
        "\n",
        "The AUROC score reached was of AUROC ≈ 0.77"
      ]
    },
    {
      "cell_type": "code",
      "execution_count": null,
      "metadata": {
        "id": "sOnoCbw5xBOg"
      },
      "outputs": [],
      "source": [
        "# Utilities\n",
        "checkpoint_path = './AE/checkpoints'\n",
        "os.makedirs(checkpoint_path, exist_ok=True)\n",
        "\n",
        "checkpoint_callback = ModelCheckpoint(\n",
        "    dirpath=checkpoint_path,\n",
        "    filename=\"AE_{epoch}_ckpt\",\n",
        "    monitor='auc',\n",
        "    mode='min',\n",
        "    save_last=True,\n",
        "    save_top_k=-1,\n",
        ")\n"
      ]
    },
    {
      "cell_type": "code",
      "execution_count": null,
      "metadata": {
        "id": "AvZXlNQrxBOg"
      },
      "outputs": [],
      "source": [
        "# Hyperparameters\n",
        "'''\n",
        "BATCH_SIZE = 1\n",
        "epochs = 13\n",
        "learning_rate = 0.001\n",
        "subsampling = True\n",
        "subsamples = 3000\n",
        "accelerator_enabled = True\n",
        "display = False\n",
        "'''\n",
        "BATCH_SIZE = 1\n",
        "epochs = 5\n",
        "learning_rate = 0.001\n",
        "subsampling = True\n",
        "subsamples = 200\n",
        "accelerator_enabled = True\n",
        "display = False"
      ]
    },
    {
      "cell_type": "code",
      "execution_count": null,
      "metadata": {
        "id": "N2L6HiUKxBOg"
      },
      "outputs": [],
      "source": [
        "# Initialize dataset\n",
        "data_module = AnomalyDetectionDataModule(batch_size=BATCH_SIZE,\n",
        "                                         subsampling=subsampling,\n",
        "                                         subsamples=subsamples,\n",
        "                                         model='AE',\n",
        "                                         normal_class=0)"
      ]
    },
    {
      "cell_type": "code",
      "execution_count": null,
      "metadata": {
        "id": "sL7CGFcSxBOg",
        "outputId": "0f986480-f8c5-4f3c-d70e-833776e401cb",
        "colab": {
          "base_uri": "https://localhost:8080/"
        }
      },
      "outputs": [
        {
          "output_type": "stream",
          "name": "stderr",
          "text": [
            "INFO:pytorch_lightning.utilities.rank_zero:GPU available: True (cuda), used: True\n",
            "INFO:pytorch_lightning.utilities.rank_zero:TPU available: False, using: 0 TPU cores\n",
            "INFO:pytorch_lightning.utilities.rank_zero:IPU available: False, using: 0 IPUs\n",
            "INFO:pytorch_lightning.utilities.rank_zero:HPU available: False, using: 0 HPUs\n"
          ]
        },
        {
          "output_type": "stream",
          "name": "stdout",
          "text": [
            "GPU\n"
          ]
        }
      ],
      "source": [
        "# Initialize model and trainer\n",
        "\n",
        "if torch.cuda.is_available() and accelerator_enabled:\n",
        "  print(\"GPU\")\n",
        "  model = AE_based(lr=learning_rate,\n",
        "                   display=display).to(\"cuda\")\n",
        "\n",
        "  trainer = pl.Trainer(accelerator=\"cuda\",\n",
        "                       max_epochs=epochs,\n",
        "                       callbacks=[TQDMProgressBar(),\n",
        "                                  checkpoint_callback]\n",
        "                       )\n",
        "else :\n",
        "  print(\"CPU\")\n",
        "  model = AE_based(lr=learning_rate,\n",
        "                   display=display).to(\"cpu\")\n",
        "\n",
        "  trainer = pl.Trainer(accelerator=\"cpu\",\n",
        "                       max_epochs=epochs,\n",
        "                       callbacks=[TQDMProgressBar(),\n",
        "                                  checkpoint_callback]\n",
        "                       )\n"
      ]
    },
    {
      "cell_type": "code",
      "execution_count": null,
      "metadata": {
        "id": "_84IQtM5xBOg",
        "outputId": "cb2edf5a-f8bf-4d9d-e89e-486502807fdf",
        "colab": {
          "base_uri": "https://localhost:8080/",
          "referenced_widgets": [
            "5ef2f6345ea74dda915b2f84788a8a8e",
            "1c98378477354e2f9a367962a8f917a4",
            "8bc77ee534244fe6bf2e00fa10cbefd3",
            "fe47de23308e4d34beef575dea2a4bf2",
            "f0ad6e93a740426293f14fbbc87d32ea",
            "42d9729344864e4b8109c843e371ebbb",
            "dabb1368fb444230b3c990eb53341523",
            "1626ecd31de847f683ef249dd8e5661d",
            "01b96f46709e4f16b1f1dcc51dbe63f8",
            "88a74823073940558aee4def6a6b25ce",
            "1d58430a8c7b49d48270c6ba7e378b0b",
            "2c73423289e8428790abd5f459c6438e",
            "8b01b75396c64f159618bde7fd3ec0fe",
            "c4fe4dc58f9347caafc461f8dc70d733",
            "55ca84ceb4c0429dbda4d046bbaf4e9f",
            "c506cd3efc1b4fb797b30543858dc59c",
            "3a7888135a4340739da48fc9681168a6",
            "a9f749a2ab734468886eaab4d86af4a0",
            "d655f07276314a5d8bf15852b5f1681d",
            "ebbf6c194b0341608920ca74f777cda4",
            "addd5dff1bb143abb1afe305843d3165",
            "675da6aa08db4c59b8101e0e600b4f64"
          ]
        }
      },
      "outputs": [
        {
          "output_type": "stream",
          "name": "stderr",
          "text": [
            "INFO:pytorch_lightning.accelerators.cuda:LOCAL_RANK: 0 - CUDA_VISIBLE_DEVICES: [0]\n",
            "INFO:pytorch_lightning.callbacks.model_summary:\n",
            "  | Name | Type        | Params\n",
            "-------------------------------------\n",
            "0 | AE   | Autoencoder | 6.9 K \n",
            "1 | enc  | Sequential  | 4.8 K \n",
            "-------------------------------------\n",
            "6.9 K     Trainable params\n",
            "0         Non-trainable params\n",
            "6.9 K     Total params\n",
            "0.028     Total estimated model params size (MB)\n"
          ]
        },
        {
          "output_type": "display_data",
          "data": {
            "text/plain": [
              "Training: 0it [00:00, ?it/s]"
            ],
            "application/vnd.jupyter.widget-view+json": {
              "version_major": 2,
              "version_minor": 0,
              "model_id": "5ef2f6345ea74dda915b2f84788a8a8e"
            }
          },
          "metadata": {}
        },
        {
          "output_type": "stream",
          "name": "stderr",
          "text": [
            "/usr/local/lib/python3.10/dist-packages/pytorch_lightning/callbacks/model_checkpoint.py:359: UserWarning: `ModelCheckpoint(monitor='auc')` could not find the monitored key in the returned metrics: ['loss', 'epoch', 'step']. HINT: Did you call `log('auc', value)` in the `LightningModule`?\n",
            "  warning_cache.warn(m)\n",
            "INFO:pytorch_lightning.utilities.rank_zero:`Trainer.fit` stopped: `max_epochs=5` reached.\n",
            "INFO:pytorch_lightning.accelerators.cuda:LOCAL_RANK: 0 - CUDA_VISIBLE_DEVICES: [0]\n"
          ]
        },
        {
          "output_type": "display_data",
          "data": {
            "text/plain": [
              "Testing: 0it [00:00, ?it/s]"
            ],
            "application/vnd.jupyter.widget-view+json": {
              "version_major": 2,
              "version_minor": 0,
              "model_id": "2c73423289e8428790abd5f459c6438e"
            }
          },
          "metadata": {}
        },
        {
          "output_type": "display_data",
          "data": {
            "text/plain": [
              "┏━━━━━━━━━━━━━━━━━━━━━━━━━━━┳━━━━━━━━━━━━━━━━━━━━━━━━━━━┓\n",
              "┃\u001b[1m \u001b[0m\u001b[1m       Test metric       \u001b[0m\u001b[1m \u001b[0m┃\u001b[1m \u001b[0m\u001b[1m      DataLoader 0       \u001b[0m\u001b[1m \u001b[0m┃\n",
              "┡━━━━━━━━━━━━━━━━━━━━━━━━━━━╇━━━━━━━━━━━━━━━━━━━━━━━━━━━┩\n",
              "│\u001b[36m \u001b[0m\u001b[36m          auroc          \u001b[0m\u001b[36m \u001b[0m│\u001b[35m \u001b[0m\u001b[35m         0.7075          \u001b[0m\u001b[35m \u001b[0m│\n",
              "└───────────────────────────┴───────────────────────────┘\n"
            ],
            "text/html": [
              "<pre style=\"white-space:pre;overflow-x:auto;line-height:normal;font-family:Menlo,'DejaVu Sans Mono',consolas,'Courier New',monospace\">┏━━━━━━━━━━━━━━━━━━━━━━━━━━━┳━━━━━━━━━━━━━━━━━━━━━━━━━━━┓\n",
              "┃<span style=\"font-weight: bold\">        Test metric        </span>┃<span style=\"font-weight: bold\">       DataLoader 0        </span>┃\n",
              "┡━━━━━━━━━━━━━━━━━━━━━━━━━━━╇━━━━━━━━━━━━━━━━━━━━━━━━━━━┩\n",
              "│<span style=\"color: #008080; text-decoration-color: #008080\">           auroc           </span>│<span style=\"color: #800080; text-decoration-color: #800080\">          0.7075           </span>│\n",
              "└───────────────────────────┴───────────────────────────┘\n",
              "</pre>\n"
            ]
          },
          "metadata": {}
        },
        {
          "output_type": "stream",
          "name": "stdout",
          "text": [
            "[{'auroc': 0.7075}]\n"
          ]
        }
      ],
      "source": [
        "# Trainer\n",
        "trainer.fit(model, datamodule=data_module)\n",
        "trainer.save_checkpoint(\"checkpoints/AE.ckpt\")\n",
        "torch.save(model.state_dict(), \"./AE/AE\")\n",
        "\n",
        "# Testing\n",
        "test_results = trainer.test(model, data_module)\n",
        "print(test_results)"
      ]
    },
    {
      "cell_type": "markdown",
      "metadata": {
        "id": "xULiP0dQ3KHt"
      },
      "source": [
        "# Predictions"
      ]
    },
    {
      "cell_type": "markdown",
      "metadata": {
        "id": "B8NRz7wtvgtV"
      },
      "source": [
        "\n",
        "Here follow a function to compare the an input image and the generated one.\n",
        "\n",
        "Is it possible to load the trained models showed above and observe their reconstruction and precition capabilities. In this case the last training of these trained model involved the _0 class: 'T-shirt_' as the _normal_class_ , and the other classes will be considered as _anomal_class_ .\n",
        "\n",
        "The  **_compare_img()_**  function, allow to show both the input and the generated image and display the reconstruction error used to distinguish between the _normal_ and the _anomal_ class."
      ]
    },
    {
      "cell_type": "code",
      "execution_count": null,
      "metadata": {
        "id": "uzib3lto3LMV"
      },
      "outputs": [],
      "source": [
        "import torch\n",
        "from PIL import Image\n",
        "from torchvision import transforms\n",
        "import torch.nn.functional as F\n",
        "import matplotlib.pyplot as plt\n",
        "\n",
        "# Comparing functions\n",
        "def compare_img(input_image_path, model, sample):\n",
        "    input_image = Image.open(input_image_path).convert('L')  # Convert to grayscale\n",
        "    preprocess = transforms.Compose([\n",
        "        transforms.Resize((32, 32)),\n",
        "        transforms.ToTensor(),\n",
        "    ])\n",
        "    input_tensor = preprocess(input_image).unsqueeze(0)  # Add batch dimension\n",
        "\n",
        "    # Generate output using the trained model\n",
        "    generated_output = model(input_tensor)\n",
        "\n",
        "    # Convert generated output tensor to an image\n",
        "    generated_image = generated_output.squeeze().detach().cpu()\n",
        "\n",
        "    reconstruction_error = F.mse_loss(model(input_tensor), input_tensor, reduction='none')\n",
        "    reconstruction_error = reconstruction_error.view(reconstruction_error.size(0), -1).mean(dim=1)\n",
        "\n",
        "    print(\"\\nReconstruction error:\", reconstruction_error)\n",
        "    # Display input and generated images\n",
        "    plt.figure(figsize=(9, 4))\n",
        "    string = sample + ' vs. Generated Image'\n",
        "    plt.suptitle(string, fontsize=16)\n",
        "    plt.subplot(1, 2, 1)\n",
        "    plt.title('Input Image')\n",
        "    plt.imshow(input_image, cmap='gray')\n",
        "    plt.axis('off')\n",
        "\n",
        "    plt.subplot(1, 2, 2)\n",
        "    plt.title('Generated Image')\n",
        "    plt.imshow(generated_image, cmap='gray')\n",
        "    plt.axis('off')\n",
        "\n",
        "    plt.tight_layout()\n",
        "    plt.show()"
      ]
    },
    {
      "cell_type": "code",
      "execution_count": null,
      "metadata": {
        "id": "vybirok_vgtW",
        "outputId": "5441e2c0-e557-4dab-a802-a0ad679c20bd",
        "colab": {
          "base_uri": "https://localhost:8080/"
        }
      },
      "outputs": [
        {
          "output_type": "stream",
          "name": "stdout",
          "text": [
            "Downloading...\n",
            "From: https://drive.google.com/uc?id=1lZxSCPYBRuO5gws61KWDOh7qmFPEpq1y\n",
            "To: /content/AE_pretrained\n",
            "100% 31.5k/31.5k [00:00<00:00, 78.6MB/s]\n",
            "Downloading...\n",
            "From: https://drive.google.com/uc?id=1aL4vSp1hkDCtQY4YM58dUwIq__TI-AJv\n",
            "To: /content/GAN_0\n",
            "100% 24.4M/24.4M [00:00<00:00, 65.9MB/s]\n",
            "Downloading...\n",
            "From: https://drive.google.com/uc?id=1gqlwUD2JBOecBfWh9nhq9BcGIY8Q9t4h\n",
            "To: /content/0.png\n",
            "100% 5.70k/5.70k [00:00<00:00, 25.7MB/s]\n",
            "Downloading...\n",
            "From: https://drive.google.com/uc?id=1SZkOPWkxrlH4_vJpb1yMlOI1KuzmJy28\n",
            "To: /content/8.png\n",
            "100% 8.55k/8.55k [00:00<00:00, 33.5MB/s]\n",
            "Downloading...\n",
            "From: https://drive.google.com/uc?id=1tuVIV0fIJLut45pNX7fRyeNfg8f0BXIH\n",
            "To: /content/4.png\n",
            "100% 5.50k/5.50k [00:00<00:00, 24.4MB/s]\n",
            "Downloading...\n",
            "From: https://drive.google.com/uc?id=16H8zi8PP3fN-zP0GTHMb1pLwzRnd9AlE\n",
            "To: /content/5.png\n",
            "100% 4.79k/4.79k [00:00<00:00, 18.6MB/s]\n",
            "Downloading...\n",
            "From: https://drive.google.com/uc?id=1-Efy2QS8dJMFzj4UonRqlLgjIi5h30Ck\n",
            "To: /content/1.png\n",
            "100% 4.09k/4.09k [00:00<00:00, 21.9MB/s]\n",
            "Downloading...\n",
            "From: https://drive.google.com/uc?id=1EMO-cczH_vv4RO3xhCqg9aIlrSyccST5\n",
            "To: /content/6.png\n",
            "100% 6.26k/6.26k [00:00<00:00, 21.4MB/s]\n",
            "Downloading...\n",
            "From: https://drive.google.com/uc?id=1JrS0viKFuXmucTzXkQOyS8Ee2cwi7LL-\n",
            "To: /content/7.png\n",
            "100% 4.47k/4.47k [00:00<00:00, 20.2MB/s]\n"
          ]
        }
      ],
      "source": [
        "# Download pretrained models\n",
        "!gdown 1lZxSCPYBRuO5gws61KWDOh7qmFPEpq1y\n",
        "!gdown 1aL4vSp1hkDCtQY4YM58dUwIq__TI-AJv\n",
        "\n",
        "# Download images\n",
        "!gdown 1gqlwUD2JBOecBfWh9nhq9BcGIY8Q9t4h\n",
        "!gdown 1SZkOPWkxrlH4_vJpb1yMlOI1KuzmJy28\n",
        "!gdown 1tuVIV0fIJLut45pNX7fRyeNfg8f0BXIH\n",
        "!gdown 16H8zi8PP3fN-zP0GTHMb1pLwzRnd9AlE\n",
        "!gdown 1-Efy2QS8dJMFzj4UonRqlLgjIi5h30Ck\n",
        "!gdown 1EMO-cczH_vv4RO3xhCqg9aIlrSyccST5\n",
        "!gdown 1JrS0viKFuXmucTzXkQOyS8Ee2cwi7LL-"
      ]
    },
    {
      "cell_type": "markdown",
      "metadata": {
        "id": "VcYksCgnvgtW"
      },
      "source": [
        "## GAN\n",
        "The GAN will try to generate an image with low reconstruciton error for _normal_class_ and high for the _anomal_class_ , as is it possible to see, due to the training with the double Discriminator, it will also try to extremely bad reconstruct the anomal classes, often generating some black image on white background, reproducing the results presented in the paper."
      ]
    },
    {
      "cell_type": "code",
      "execution_count": null,
      "metadata": {
        "id": "qb8TNcyZvgtY",
        "outputId": "ed51fd83-9273-45ff-a8cd-37235e2e5b25",
        "colab": {
          "base_uri": "https://localhost:8080/",
          "height": 898
        }
      },
      "outputs": [
        {
          "output_type": "stream",
          "name": "stdout",
          "text": [
            "\n",
            "Reconstruction error: tensor([0.0068], grad_fn=<MeanBackward1>)\n"
          ]
        },
        {
          "output_type": "display_data",
          "data": {
            "text/plain": [
              "<Figure size 900x400 with 2 Axes>"
            ],
            "image/png": "[encoded data removed]"
          },
          "metadata": {}
        },
        {
          "output_type": "stream",
          "name": "stdout",
          "text": [
            "Anomal Class\n",
            "\n",
            "Reconstruction error: tensor([0.8821], grad_fn=<MeanBackward1>)\n"
          ]
        },
        {
          "output_type": "display_data",
          "data": {
            "text/plain": [
              "<Figure size 900x400 with 2 Axes>"
            ],
            "image/png": "[encoded data removed]"
          },
          "metadata": {}
        }
      ],
      "source": [
        "model2 = GAN_SOTA()\n",
        "model2.load_state_dict(torch.load(\"./GAN_0\"))\n",
        "\n",
        "input_image_path = '0.png'     # t-shirt\n",
        "#input_image_path = '1.png'     # trousers\n",
        "#input_image_path = '4.png'     # coat\n",
        "#input_image_path = '5.png'     # sandal\n",
        "#input_image_path = '6.png'     # shirt\n",
        "#input_image_path = '7.png'     # Sneaker\n",
        "#input_image_path = '8.png'     # bag\n",
        "\n",
        "compare_img(input_image_path, model2, \"Normal Sample\")\n",
        "\n",
        "print(\"Anomal Class\")\n",
        "input_image_path = '8.png'\n",
        "compare_img(input_image_path, model2, \"Anomal Sample\")"
      ]
    },
    {
      "cell_type": "markdown",
      "metadata": {
        "id": "-cmOuzkWvgtX"
      },
      "source": [
        "## AE\n",
        "The Autoencoder was trained on the normal class, for this reason it will try to generate an image as good as possible in the normal case, while will show poor results in the anomal case."
      ]
    },
    {
      "cell_type": "code",
      "execution_count": null,
      "metadata": {
        "id": "Q-wW_KhPvgtX",
        "outputId": "ce31e7b8-eb21-444a-9b4f-5275ff4861e9",
        "colab": {
          "base_uri": "https://localhost:8080/",
          "height": 898
        }
      },
      "outputs": [
        {
          "output_type": "stream",
          "name": "stdout",
          "text": [
            "\n",
            "Reconstruction error: tensor([0.0551], grad_fn=<MeanBackward1>)\n"
          ]
        },
        {
          "output_type": "display_data",
          "data": {
            "text/plain": [
              "<Figure size 900x400 with 2 Axes>"
            ],
            "image/png": "[encoded data removed]"
          },
          "metadata": {}
        },
        {
          "output_type": "stream",
          "name": "stdout",
          "text": [
            "Anomal Class\n",
            "\n",
            "Reconstruction error: tensor([0.0148], grad_fn=<MeanBackward1>)\n"
          ]
        },
        {
          "output_type": "display_data",
          "data": {
            "text/plain": [
              "<Figure size 900x400 with 2 Axes>"
            ],
            "image/png": "[encoded data removed]"
          },
          "metadata": {}
        }
      ],
      "source": [
        "model2 = AE_based()\n",
        "model2.load_state_dict(torch.load(\"./AE_pretrained\"))\n",
        "\n",
        "input_image_path = '0.png'     # t-shirt\n",
        "#input_image_path = '1.png'     # trousers\n",
        "#input_image_path = '4.png'     # coat\n",
        "#input_image_path = '5.png'     # sandal\n",
        "#input_image_path = '6.png'     # shirt\n",
        "#input_image_path = '7.png'     # Sneaker\n",
        "#input_image_path = '8.png'     # bag\n",
        "\n",
        "compare_img(input_image_path, model2, \"Normal Sample\")\n",
        "\n",
        "print(\"Anomal Class\")\n",
        "input_image_path = '8.png'\n",
        "compare_img(input_image_path, model2, \"Anomal Sample\")"
      ]
    },
    {
      "cell_type": "markdown",
      "metadata": {
        "id": "EJz54FJM3RHh"
      },
      "source": [
        "# Conclusions\n",
        "- The Random Guessing is by far the worst model among the three, representing the baseline performances expected according to the AUROC metric. The testset is balanced, so the result is quite perfectly addressed to a value of 0.5, but, due to the architecture this value is heavly influenced by the distribution of the samples.\n",
        "\n",
        "- The Autoencoder resulted in a really fast training and lighter model, in particular if compared with the GAN. Due to the intrinsic nature of the approach, the model will always try to reconstruct in output the image provided as input, even the anomaly one is provided, so the performances are linked to this reconstruction error which sometimes give good results even with an anomal sample, leadingto a miss-classification between normal and anomal.\n",
        "\n",
        "- The GAN, in the end, resulted in a really slower training, due to the presence of 3 structures, but as expected, this approach provided the highest perfromances. This result is linked to the architecture and approach of the model. The introduction of the skip connections boosted the reconstruction of the 'normal sample', while the double discriminator training had pushed towards a worse reconstructions on porpouse, limiting the mis-classifications between normal and anomal samples, due to the reconstruction error computed, like could happen in the Autoencoder counterpart.\n",
        "\n",
        "Except for the RandomGuesser, is reasonably to say that were possible even better results with additional training perfromed."
      ]
    },
    {
      "cell_type": "markdown",
      "metadata": {
        "id": "ZJMULdoYvgtX"
      },
      "source": [
        "# Bibliography\n",
        "[1] GAN-based Anomaly Detection in Imbalance Problems [https://paperswithcode.com/paper/gan-based-anomaly-detection-in-imbalance](https://paperswithcode.com/paper/gan-based-anomaly-detection-in-imbalance)\n",
        "\n",
        "[2] FashionMNIST dataset. [https://github.com/zalandoresearch/fashion-mnist](https://github.com/zalandoresearch/fashion-mnist)\n",
        "\n",
        "[3] Area Under the Receiver-Operating Characteristics (AUROC) metric [https://scikit-learn.org/stable/modules/generated/sklearn.metrics.roc_auc_score.html](https://scikit-learn.org/stable/modules/generated/sklearn.metrics.roc_auc_score.html)\n",
        "\n",
        "[4] Ronneberger, Fischer, Brox. _U-net: Convolutional networks for biomedical image segmentation. In: International Conference on Medical image computing and computer-assisted intervention_. pp. 234–241. Springer (2015) [https://arxiv.org/abs/1505.04597](https://arxiv.org/abs/1505.04597)"
      ]
    },
    {
      "cell_type": "markdown",
      "metadata": {
        "id": "nthlH7JevgtX"
      },
      "source": [
        "\n",
        "# Others GAN Training tests\n",
        "In this outsider section there are further tests of the sota architecture with a study and a tracedown of the evolution of the model during the training itself by observing the evolution of the performances at every epoch."
      ]
    },
    {
      "cell_type": "code",
      "execution_count": null,
      "metadata": {
        "id": "QGLn_1b1vgtY",
        "outputId": "65168353-87e8-4a62-a607-85408514145e"
      },
      "outputs": [
        {
          "name": "stderr",
          "output_type": "stream",
          "text": [
            "GPU available: True (cuda), used: True\n",
            "TPU available: False, using: 0 TPU cores\n",
            "IPU available: False, using: 0 IPUs\n",
            "HPU available: False, using: 0 HPUs\n"
          ]
        },
        {
          "name": "stdout",
          "output_type": "stream",
          "text": [
            "GPU\n",
            "Epoch 0:   3%|▎         | 351/11994 [01:47<59:34,  3.26it/s, v_num=337, g_loss=0.722, d_normal_loss=1.000, d_anomal_loss=0.0816]\n",
            "Epoch 0:   2%|▏         | 243/11994 [00:53<42:43,  4.58it/s, v_num=338, g_loss=0.709, d_anomal_loss=1.000, d_normal_loss=0.407]"
          ]
        },
        {
          "name": "stderr",
          "output_type": "stream",
          "text": [
            "c:\\Users\\espda\\AppData\\Local\\Programs\\Python\\Python310\\lib\\site-packages\\pytorch_lightning\\callbacks\\model_checkpoint.py:617: UserWarning: Checkpoint directory C:\\Users\\espda\\OneDrive\\Desktop\\Università\\Magistrale - Artificial Intelligence & Robotics (2022-2023)\\Deep Learning\\Progetto\\GAN\\checkpoints exists and is not empty.\n",
            "  rank_zero_warn(f\"Checkpoint directory {dirpath} exists and is not empty.\")\n",
            "LOCAL_RANK: 0 - CUDA_VISIBLE_DEVICES: [0]\n",
            "\n",
            "  | Name   | Type          | Params\n",
            "-----------------------------------------\n",
            "0 | G      | GENERATOR     | 5.5 M \n",
            "1 | Enc    | ENCODER       | 2.8 M \n",
            "2 | D_norm | DISCRIMINATOR | 296 K \n",
            "3 | D_anom | DISCRIMINATOR | 296 K \n",
            "-----------------------------------------\n",
            "6.1 M     Trainable params\n",
            "0         Non-trainable params\n",
            "6.1 M     Total params\n",
            "24.408    Total estimated model params size (MB)\n",
            "c:\\Users\\espda\\AppData\\Local\\Programs\\Python\\Python310\\lib\\site-packages\\pytorch_lightning\\trainer\\connectors\\data_connector.py:438: PossibleUserWarning: The dataloader, train_dataloader, does not have many workers which may be a bottleneck. Consider increasing the value of the `num_workers` argument` (try 20 which is the number of cpus on this machine) in the `DataLoader` init to improve performance.\n",
            "  rank_zero_warn(\n"
          ]
        },
        {
          "name": "stdout",
          "output_type": "stream",
          "text": [
            "\n",
            "Epoch 0:   0%|          | 2/11994 [00:00<11:09, 17.92it/s, v_num=339, g_loss=2.120, d_normal_loss=1.000]"
          ]
        },
        {
          "name": "stderr",
          "output_type": "stream",
          "text": [
            "C:\\Users\\espda\\AppData\\Local\\Temp\\ipykernel_10416\\3287110662.py:175: UserWarning: To copy construct from a tensor, it is recommended to use sourceTensor.clone().detach() or sourceTensor.clone().detach().requires_grad_(True), rather than torch.tensor(sourceTensor).\n",
            "  self.log_dict({\"g_loss\": torch.tensor(errG).mean(), \"d_normal_loss\": torch.tensor(errD).mean()}, prog_bar=True)\n"
          ]
        },
        {
          "name": "stdout",
          "output_type": "stream",
          "text": [
            "Epoch 0: 100%|██████████| 11994/11994 [03:41<00:00, 54.25it/s, v_num=339, g_loss=0.114, d_normal_loss=1.000, d_anomal_loss=0.0116]   \n",
            "Reconstruction error: tensor([0.0488], device='cuda:0', grad_fn=<MeanBackward1>)\n"
          ]
        },
        {
          "data": {
            "image/png": "[encoded data removed]",
            "text/plain": [
              "<Figure size 900x400 with 2 Axes>"
            ]
          },
          "metadata": {},
          "output_type": "display_data"
        },
        {
          "name": "stdout",
          "output_type": "stream",
          "text": [
            "Epoch 1: 100%|██████████| 11994/11994 [03:05<00:00, 64.71it/s, v_num=339, g_loss=0.593, d_normal_loss=1.000, d_anomal_loss=0.00254, g_loss_epoch=0.114, d_anomal_loss_epoch=0.0116, d_normal_loss_epoch=1.000]  \n",
            "Reconstruction error: tensor([0.2603], device='cuda:0', grad_fn=<MeanBackward1>)\n"
          ]
        },
        {
          "data": {
            "image/png": "[encoded data removed]",
            "text/plain": [
              "<Figure size 900x400 with 2 Axes>"
            ]
          },
          "metadata": {},
          "output_type": "display_data"
        },
        {
          "name": "stdout",
          "output_type": "stream",
          "text": [
            "Epoch 2: 100%|██████████| 11994/11994 [03:25<00:00, 58.50it/s, v_num=339, g_loss=0.681, d_normal_loss=1.000, d_anomal_loss=0.113, g_loss_epoch=0.593, d_anomal_loss_epoch=0.00254, d_normal_loss_epoch=1.000]    \n",
            "Reconstruction error: tensor([0.1529], device='cuda:0', grad_fn=<MeanBackward1>)\n"
          ]
        },
        {
          "data": {
            "image/png": "[encoded data removed]",
            "text/plain": [
              "<Figure size 900x400 with 2 Axes>"
            ]
          },
          "metadata": {},
          "output_type": "display_data"
        },
        {
          "name": "stdout",
          "output_type": "stream",
          "text": [
            "Epoch 3: 100%|██████████| 11994/11994 [03:51<00:00, 51.76it/s, v_num=339, g_loss=0.584, d_normal_loss=1.000, d_anomal_loss=3.6e-5, g_loss_epoch=0.681, d_anomal_loss_epoch=0.113, d_normal_loss_epoch=1.000]   \n",
            "Reconstruction error: tensor([0.0133], device='cuda:0', grad_fn=<MeanBackward1>)\n"
          ]
        },
        {
          "data": {
            "image/png": "[encoded data removed]",
            "text/plain": [
              "<Figure size 900x400 with 2 Axes>"
            ]
          },
          "metadata": {},
          "output_type": "display_data"
        },
        {
          "name": "stdout",
          "output_type": "stream",
          "text": [
            "Epoch 4: 100%|██████████| 11994/11994 [03:12<00:00, 62.27it/s, v_num=339, g_loss=0.563, d_normal_loss=1.000, d_anomal_loss=0.000197, g_loss_epoch=0.584, d_anomal_loss_epoch=3.6e-5, d_normal_loss_epoch=1.000] \n",
            "Reconstruction error: tensor([0.0106], device='cuda:0', grad_fn=<MeanBackward1>)\n"
          ]
        },
        {
          "data": {
            "image/png": "[encoded data removed]",
            "text/plain": [
              "<Figure size 900x400 with 2 Axes>"
            ]
          },
          "metadata": {},
          "output_type": "display_data"
        },
        {
          "name": "stdout",
          "output_type": "stream",
          "text": [
            "Epoch 5: 100%|██████████| 11994/11994 [03:11<00:00, 62.61it/s, v_num=339, g_loss=0.590, d_normal_loss=1.000, d_anomal_loss=0.00241, g_loss_epoch=0.563, d_anomal_loss_epoch=0.000197, d_normal_loss_epoch=1.000]  \n",
            "Reconstruction error: tensor([0.0087], device='cuda:0', grad_fn=<MeanBackward1>)\n"
          ]
        },
        {
          "data": {
            "image/png": "[encoded data removed]",
            "text/plain": [
              "<Figure size 900x400 with 2 Axes>"
            ]
          },
          "metadata": {},
          "output_type": "display_data"
        },
        {
          "name": "stdout",
          "output_type": "stream",
          "text": [
            "Epoch 6: 100%|██████████| 11994/11994 [03:10<00:00, 62.91it/s, v_num=339, g_loss=2.020, d_normal_loss=1.000, d_anomal_loss=0.0624, g_loss_epoch=0.590, d_anomal_loss_epoch=0.00241, d_normal_loss_epoch=1.000]   \n",
            "Reconstruction error: tensor([0.0564], device='cuda:0', grad_fn=<MeanBackward1>)\n"
          ]
        },
        {
          "data": {
            "image/png": "[encoded data removed]",
            "text/plain": [
              "<Figure size 900x400 with 2 Axes>"
            ]
          },
          "metadata": {},
          "output_type": "display_data"
        },
        {
          "name": "stderr",
          "output_type": "stream",
          "text": [
            "`Trainer.fit` stopped: `max_epochs=7` reached.\n"
          ]
        },
        {
          "name": "stdout",
          "output_type": "stream",
          "text": [
            "Epoch 6: 100%|██████████| 11994/11994 [03:10<00:00, 62.81it/s, v_num=339, g_loss=2.020, d_normal_loss=1.000, d_anomal_loss=0.0624, g_loss_epoch=0.590, d_anomal_loss_epoch=0.00241, d_normal_loss_epoch=1.000]\n"
          ]
        },
        {
          "name": "stderr",
          "output_type": "stream",
          "text": [
            "LOCAL_RANK: 0 - CUDA_VISIBLE_DEVICES: [0]\n",
            "c:\\Users\\espda\\AppData\\Local\\Programs\\Python\\Python310\\lib\\site-packages\\pytorch_lightning\\trainer\\connectors\\data_connector.py:486: PossibleUserWarning: Your `test_dataloader`'s sampler has shuffling enabled, it is strongly recommended that you turn shuffling off for val/test dataloaders.\n",
            "  rank_zero_warn(\n",
            "c:\\Users\\espda\\AppData\\Local\\Programs\\Python\\Python310\\lib\\site-packages\\pytorch_lightning\\trainer\\connectors\\data_connector.py:438: PossibleUserWarning: The dataloader, test_dataloader, does not have many workers which may be a bottleneck. Consider increasing the value of the `num_workers` argument` (try 20 which is the number of cpus on this machine) in the `DataLoader` init to improve performance.\n",
            "  rank_zero_warn(\n"
          ]
        },
        {
          "name": "stdout",
          "output_type": "stream",
          "text": [
            "Testing DataLoader 0: 100%|██████████| 1999/1999 [00:02<00:00, 683.34it/s]\n"
          ]
        },
        {
          "data": {
            "text/html": [
              "<pre style=\"white-space:pre;overflow-x:auto;line-height:normal;font-family:Menlo,'DejaVu Sans Mono',consolas,'Courier New',monospace\">┏━━━━━━━━━━━━━━━━━━━━━━━━━━━┳━━━━━━━━━━━━━━━━━━━━━━━━━━━┓\n",
              "┃<span style=\"font-weight: bold\">        Test metric        </span>┃<span style=\"font-weight: bold\">       DataLoader 0        </span>┃\n",
              "┡━━━━━━━━━━━━━━━━━━━━━━━━━━━╇━━━━━━━━━━━━━━━━━━━━━━━━━━━┩\n",
              "│<span style=\"color: #008080; text-decoration-color: #008080\">           auroc           </span>│<span style=\"color: #800080; text-decoration-color: #800080\">    0.9099274274274274     </span>│\n",
              "└───────────────────────────┴───────────────────────────┘\n",
              "</pre>\n"
            ],
            "text/plain": [
              "┏━━━━━━━━━━━━━━━━━━━━━━━━━━━┳━━━━━━━━━━━━━━━━━━━━━━━━━━━┓\n",
              "┃\u001b[1m \u001b[0m\u001b[1m       Test metric       \u001b[0m\u001b[1m \u001b[0m┃\u001b[1m \u001b[0m\u001b[1m      DataLoader 0       \u001b[0m\u001b[1m \u001b[0m┃\n",
              "┡━━━━━━━━━━━━━━━━━━━━━━━━━━━╇━━━━━━━━━━━━━━━━━━━━━━━━━━━┩\n",
              "│\u001b[36m \u001b[0m\u001b[36m          auroc          \u001b[0m\u001b[36m \u001b[0m│\u001b[35m \u001b[0m\u001b[35m   0.9099274274274274    \u001b[0m\u001b[35m \u001b[0m│\n",
              "└───────────────────────────┴───────────────────────────┘\n"
            ]
          },
          "metadata": {},
          "output_type": "display_data"
        },
        {
          "name": "stdout",
          "output_type": "stream",
          "text": [
            "[{'auroc': 0.9099274274274274}]\n"
          ]
        }
      ],
      "source": [
        "# Hyperparameters\n",
        "BATCH_SIZE = 1\n",
        "epochs = 7\n",
        "learning_rate = 0.0001\n",
        "subsampling = False\n",
        "subsamples = 9\n",
        "accelerator_enabled = True\n",
        "display = False\n",
        "# Utilities\n",
        "checkpoint_path = './GAN/checkpoints'\n",
        "os.makedirs(checkpoint_path, exist_ok=True)\n",
        "\n",
        "checkpoint_callback = ModelCheckpoint(\n",
        "    dirpath=checkpoint_path,\n",
        "    filename=\"GAN_{epochs}_ckpt\",\n",
        "    monitor='auc',\n",
        "    mode='min',\n",
        "    save_last=True,\n",
        "    save_top_k=-1,\n",
        ")\n",
        "\n",
        "\n",
        "# Initialize dataset\n",
        "data_module = AnomalyDetectionDataModule(batch_size=BATCH_SIZE,\n",
        "                                         subsampling=subsampling,\n",
        "                                         subsamples=subsamples,\n",
        "                                         model='GAN',\n",
        "                                         normal_class=0)\n",
        "\n",
        "\n",
        "# Initialize models and trainers\n",
        "if torch.cuda.is_available() and accelerator_enabled:\n",
        "  print(\"GPU\")\n",
        "  model = GAN_SOTA(lr=learning_rate, display=display).to(\"cuda\")\n",
        "  trainer = pl.Trainer(accelerator=\"cuda\",\n",
        "                       max_epochs=epochs,\n",
        "                       callbacks=[TQDMProgressBar(),\n",
        "                                  checkpoint_callback]\n",
        "                       )\n",
        "else :\n",
        "  print(\"CPU\")\n",
        "  model = GAN_SOTA(lr=learning_rate, display=display).to(\"cpu\")\n",
        "  trainer = pl.Trainer(accelerator=\"cpu\",\n",
        "                       max_epochs=epochs,\n",
        "                       callbacks=[TQDMProgressBar(),\n",
        "                                  checkpoint_callback]\n",
        "                       )\n",
        "\n",
        "\n",
        "# Train and save\n",
        "trainer.fit(model, data_module)\n",
        "trainer.save_checkpoint(\"/GAN/checkpoints/GAN.ckpt\")\n",
        "torch.save(model.state_dict(), \"./GAN/GAN_res\")\n",
        "\n",
        "# Testing\n",
        "test_results = trainer.test(model, data_module)\n",
        "print(test_results)"
      ]
    },
    {
      "cell_type": "code",
      "execution_count": null,
      "metadata": {
        "id": "1O3rrNK1vgtY",
        "outputId": "48dd126d-3c19-4e13-87c8-160e38b4e80f",
        "colab": {
          "base_uri": "https://localhost:8080/",
          "height": 635,
          "referenced_widgets": [
            "30a4208635e4455d88a20c83f171efc3",
            "41a7c35bb7904e04acda8baec6aabaec",
            "293fd4ff0cac4c888d3d3493f8e65fa3",
            "11bc356e153b44efa814107dc4fd4868",
            "d2560c5fc3cf45d7b5889ef602c01fbe",
            "6953100f5d8c4fd2991452e2a0525754",
            "0e58245844ab42d3a3931e495ebb1d22",
            "b739030b4dd64588954f0458c13171d9",
            "12ef13dcba2d46ad849473602cbdcbea",
            "ffbc7c379d1e47c4a061a0216352dd86",
            "e9b7e298f8764618bfd8389506ff039b",
            "d328a5e226dc46868dbbe7141e8659a8",
            "6a19618b8c544c3388c1ef36b7cc25b9",
            "cc81dcda46404942aaa75a5ebf8726cb",
            "74af20492154416a9dbe503d6b7d60d7",
            "29c2ce18409c4752b957646008dfbd15",
            "b3431a4fd3ab49c9bc8211246992b369",
            "2ff03b8eb69e4e1d8da268ca06e3716f",
            "1b4952a561ce4b8b9186a870b5ea892d",
            "9d48002b76974ba7bf8af24e566cd1de",
            "fb38f1a81bad4becb04fab57ab1ed693",
            "30f99b1b2fe0430e97dcd0b1d9b73b1a"
          ]
        }
      },
      "outputs": [
        {
          "output_type": "stream",
          "name": "stdout",
          "text": [
            "GPU\n"
          ]
        },
        {
          "output_type": "stream",
          "name": "stderr",
          "text": [
            "INFO:pytorch_lightning.utilities.rank_zero:GPU available: True (cuda), used: True\n",
            "INFO:pytorch_lightning.utilities.rank_zero:TPU available: False, using: 0 TPU cores\n",
            "INFO:pytorch_lightning.utilities.rank_zero:IPU available: False, using: 0 IPUs\n",
            "INFO:pytorch_lightning.utilities.rank_zero:HPU available: False, using: 0 HPUs\n",
            "/usr/local/lib/python3.10/dist-packages/pytorch_lightning/callbacks/model_checkpoint.py:617: UserWarning: Checkpoint directory /content/GAN/checkpoints exists and is not empty.\n",
            "  rank_zero_warn(f\"Checkpoint directory {dirpath} exists and is not empty.\")\n",
            "INFO:pytorch_lightning.accelerators.cuda:LOCAL_RANK: 0 - CUDA_VISIBLE_DEVICES: [0]\n",
            "INFO:pytorch_lightning.callbacks.model_summary:\n",
            "  | Name   | Type          | Params\n",
            "-----------------------------------------\n",
            "0 | G      | GENERATOR     | 5.5 M \n",
            "1 | Enc    | ENCODER       | 2.8 M \n",
            "2 | D_norm | DISCRIMINATOR | 296 K \n",
            "3 | D_anom | DISCRIMINATOR | 296 K \n",
            "-----------------------------------------\n",
            "6.1 M     Trainable params\n",
            "0         Non-trainable params\n",
            "6.1 M     Total params\n",
            "24.408    Total estimated model params size (MB)\n"
          ]
        },
        {
          "output_type": "display_data",
          "data": {
            "text/plain": [
              "Training: 0it [00:00, ?it/s]"
            ],
            "application/vnd.jupyter.widget-view+json": {
              "version_major": 2,
              "version_minor": 0,
              "model_id": "30a4208635e4455d88a20c83f171efc3"
            }
          },
          "metadata": {}
        },
        {
          "output_type": "stream",
          "name": "stderr",
          "text": [
            "<ipython-input-8-f3d9b2e4d543>:176: UserWarning: To copy construct from a tensor, it is recommended to use sourceTensor.clone().detach() or sourceTensor.clone().detach().requires_grad_(True), rather than torch.tensor(sourceTensor).\n",
            "  self.log_dict({\"g_loss\": torch.tensor(errG).mean(), \"d_normal_loss\": torch.tensor(errD).mean()}, prog_bar=True)\n",
            "INFO:pytorch_lightning.utilities.rank_zero:`Trainer.fit` stopped: `max_epochs=7` reached.\n",
            "INFO:pytorch_lightning.accelerators.cuda:LOCAL_RANK: 0 - CUDA_VISIBLE_DEVICES: [0]\n",
            "/usr/local/lib/python3.10/dist-packages/pytorch_lightning/trainer/connectors/data_connector.py:486: PossibleUserWarning: Your `test_dataloader`'s sampler has shuffling enabled, it is strongly recommended that you turn shuffling off for val/test dataloaders.\n",
            "  rank_zero_warn(\n"
          ]
        },
        {
          "output_type": "display_data",
          "data": {
            "text/plain": [
              "Testing: 0it [00:00, ?it/s]"
            ],
            "application/vnd.jupyter.widget-view+json": {
              "version_major": 2,
              "version_minor": 0,
              "model_id": "d328a5e226dc46868dbbe7141e8659a8"
            }
          },
          "metadata": {}
        },
        {
          "output_type": "display_data",
          "data": {
            "text/plain": [
              "┏━━━━━━━━━━━━━━━━━━━━━━━━━━━┳━━━━━━━━━━━━━━━━━━━━━━━━━━━┓\n",
              "┃\u001b[1m \u001b[0m\u001b[1m       Test metric       \u001b[0m\u001b[1m \u001b[0m┃\u001b[1m \u001b[0m\u001b[1m      DataLoader 0       \u001b[0m\u001b[1m \u001b[0m┃\n",
              "┡━━━━━━━━━━━━━━━━━━━━━━━━━━━╇━━━━━━━━━━━━━━━━━━━━━━━━━━━┩\n",
              "│\u001b[36m \u001b[0m\u001b[36m          auroc          \u001b[0m\u001b[36m \u001b[0m│\u001b[35m \u001b[0m\u001b[35m   0.9564844844844844    \u001b[0m\u001b[35m \u001b[0m│\n",
              "└───────────────────────────┴───────────────────────────┘\n"
            ],
            "text/html": [
              "<pre style=\"white-space:pre;overflow-x:auto;line-height:normal;font-family:Menlo,'DejaVu Sans Mono',consolas,'Courier New',monospace\">┏━━━━━━━━━━━━━━━━━━━━━━━━━━━┳━━━━━━━━━━━━━━━━━━━━━━━━━━━┓\n",
              "┃<span style=\"font-weight: bold\">        Test metric        </span>┃<span style=\"font-weight: bold\">       DataLoader 0        </span>┃\n",
              "┡━━━━━━━━━━━━━━━━━━━━━━━━━━━╇━━━━━━━━━━━━━━━━━━━━━━━━━━━┩\n",
              "│<span style=\"color: #008080; text-decoration-color: #008080\">           auroc           </span>│<span style=\"color: #800080; text-decoration-color: #800080\">    0.9564844844844844     </span>│\n",
              "└───────────────────────────┴───────────────────────────┘\n",
              "</pre>\n"
            ]
          },
          "metadata": {}
        },
        {
          "output_type": "stream",
          "name": "stdout",
          "text": [
            "[{'auroc': 0.9564844844844844}]\n"
          ]
        }
      ],
      "source": [
        "# Hyperparameters\n",
        "BATCH_SIZE = 1\n",
        "epochs = 7\n",
        "learning_rate = 0.0001\n",
        "subsampling = False\n",
        "subsamples = 1000\n",
        "accelerator_enabled = True\n",
        "display = False\n",
        "# Utilities\n",
        "checkpoint_path = './GAN/checkpoints'\n",
        "os.makedirs(checkpoint_path, exist_ok=True)\n",
        "\n",
        "checkpoint_callback = ModelCheckpoint(\n",
        "    dirpath=checkpoint_path,\n",
        "    filename=\"GAN_{epochs}_ckpt\",\n",
        "    monitor='auc',\n",
        "    mode='min',\n",
        "    save_last=True,\n",
        "    save_top_k=-1,\n",
        ")\n",
        "\n",
        "\n",
        "# Initialize dataset\n",
        "data_module = AnomalyDetectionDataModule(batch_size=BATCH_SIZE,\n",
        "                                         subsampling=subsampling,\n",
        "                                         subsamples=subsamples,\n",
        "                                         model='GAN',\n",
        "                                         normal_class=8)\n",
        "\n",
        "\n",
        "# Initialize models and trainers\n",
        "if torch.cuda.is_available() and accelerator_enabled:\n",
        "  print(\"GPU\")\n",
        "  model = GAN_SOTA(lr=learning_rate, display=display).to(\"cuda\")\n",
        "  trainer = pl.Trainer(accelerator=\"cuda\",\n",
        "                       max_epochs=epochs,\n",
        "                       callbacks=[TQDMProgressBar(),\n",
        "                                  checkpoint_callback]\n",
        "                       )\n",
        "else :\n",
        "  print(\"CPU\")\n",
        "  model = GAN_SOTA(lr=learning_rate, display=display).to(\"cpu\")\n",
        "  trainer = pl.Trainer(accelerator=\"cpu\",\n",
        "                       max_epochs=epochs,\n",
        "                       callbacks=[TQDMProgressBar(),\n",
        "                                  checkpoint_callback]\n",
        "                       )\n",
        "\n",
        "\n",
        "# Train and save\n",
        "trainer.fit(model, data_module)\n",
        "trainer.save_checkpoint(\"/GAN/checkpoints/GAN.ckpt\")\n",
        "torch.save(model.state_dict(), \"./GAN/GAN_8\")\n",
        "\n",
        "# Testing\n",
        "test_results = trainer.test(model, data_module)\n",
        "print(test_results)"
      ]
    }
  ],
  "metadata": {
    "accelerator": "GPU",
    "colab": {
      "gpuType": "T4",
      "provenance": []
    },
    "kernelspec": {
      "display_name": "Python 3",
      "name": "python3"
    },
    "language_info": {
      "codemirror_mode": {
        "name": "ipython",
        "version": 3
      },
      "file_extension": ".py",
      "mimetype": "text/x-python",
      "name": "python",
      "nbconvert_exporter": "python",
      "pygments_lexer": "ipython3",
      "version": "3.10.8"
    },
    "orig_nbformat": 4,
    "widgets": {
      "application/vnd.jupyter.widget-state+json": {
        "c474fcf988b247d5b3eeb3ed6a0aa895": {
          "model_module": "@jupyter-widgets/controls",
          "model_name": "HBoxModel",
          "model_module_version": "1.5.0",
          "state": {
            "_dom_classes": [],
            "_model_module": "@jupyter-widgets/controls",
            "_model_module_version": "1.5.0",
            "_model_name": "HBoxModel",
            "_view_count": null,
            "_view_module": "@jupyter-widgets/controls",
            "_view_module_version": "1.5.0",
            "_view_name": "HBoxView",
            "box_style": "",
            "children": [
              "IPY_MODEL_043c39b2da504c4ba19de05643f001d1",
              "IPY_MODEL_6a95b74286f24551b10b6afa29099cfa",
              "IPY_MODEL_8ea8cd802a8b428f81bb80c3a17aaaf1"
            ],
            "layout": "IPY_MODEL_0bbd6618bfae4492a948b9fa5e17148b"
          }
        },
        "043c39b2da504c4ba19de05643f001d1": {
          "model_module": "@jupyter-widgets/controls",
          "model_name": "HTMLModel",
          "model_module_version": "1.5.0",
          "state": {
            "_dom_classes": [],
            "_model_module": "@jupyter-widgets/controls",
            "_model_module_version": "1.5.0",
            "_model_name": "HTMLModel",
            "_view_count": null,
            "_view_module": "@jupyter-widgets/controls",
            "_view_module_version": "1.5.0",
            "_view_name": "HTMLView",
            "description": "",
            "description_tooltip": null,
            "layout": "IPY_MODEL_1d8464f7c9e04c209aea239afe979f5e",
            "placeholder": "​",
            "style": "IPY_MODEL_77866bc81ae64a25b7d592b888931e00",
            "value": "Epoch 6: 100%"
          }
        },
        "6a95b74286f24551b10b6afa29099cfa": {
          "model_module": "@jupyter-widgets/controls",
          "model_name": "FloatProgressModel",
          "model_module_version": "1.5.0",
          "state": {
            "_dom_classes": [],
            "_model_module": "@jupyter-widgets/controls",
            "_model_module_version": "1.5.0",
            "_model_name": "FloatProgressModel",
            "_view_count": null,
            "_view_module": "@jupyter-widgets/controls",
            "_view_module_version": "1.5.0",
            "_view_name": "ProgressView",
            "bar_style": "success",
            "description": "",
            "description_tooltip": null,
            "layout": "IPY_MODEL_b89aed7892c447ca955d0dec3f4b4a2d",
            "max": 11994,
            "min": 0,
            "orientation": "horizontal",
            "style": "IPY_MODEL_e41e59524bfb4a6ab4718bd894f54507",
            "value": 11994
          }
        },
        "8ea8cd802a8b428f81bb80c3a17aaaf1": {
          "model_module": "@jupyter-widgets/controls",
          "model_name": "HTMLModel",
          "model_module_version": "1.5.0",
          "state": {
            "_dom_classes": [],
            "_model_module": "@jupyter-widgets/controls",
            "_model_module_version": "1.5.0",
            "_model_name": "HTMLModel",
            "_view_count": null,
            "_view_module": "@jupyter-widgets/controls",
            "_view_module_version": "1.5.0",
            "_view_name": "HTMLView",
            "description": "",
            "description_tooltip": null,
            "layout": "IPY_MODEL_4ecb3809b3f546cdae52f00ebf451f14",
            "placeholder": "​",
            "style": "IPY_MODEL_f08c3b0f9961445781ec2c5874ea800a",
            "value": " 11994/11994 [02:54&lt;00:00, 68.59it/s, v_num=8, g_loss=0.150, d_normal_loss=0.480, d_anomal_loss=1.000, g_loss_epoch=0.138, d_anomal_loss_epoch=1.000, d_normal_loss_epoch=0.0948]"
          }
        },
        "0bbd6618bfae4492a948b9fa5e17148b": {
          "model_module": "@jupyter-widgets/base",
          "model_name": "LayoutModel",
          "model_module_version": "1.2.0",
          "state": {
            "_model_module": "@jupyter-widgets/base",
            "_model_module_version": "1.2.0",
            "_model_name": "LayoutModel",
            "_view_count": null,
            "_view_module": "@jupyter-widgets/base",
            "_view_module_version": "1.2.0",
            "_view_name": "LayoutView",
            "align_content": null,
            "align_items": null,
            "align_self": null,
            "border": null,
            "bottom": null,
            "display": "inline-flex",
            "flex": null,
            "flex_flow": "row wrap",
            "grid_area": null,
            "grid_auto_columns": null,
            "grid_auto_flow": null,
            "grid_auto_rows": null,
            "grid_column": null,
            "grid_gap": null,
            "grid_row": null,
            "grid_template_areas": null,
            "grid_template_columns": null,
            "grid_template_rows": null,
            "height": null,
            "justify_content": null,
            "justify_items": null,
            "left": null,
            "margin": null,
            "max_height": null,
            "max_width": null,
            "min_height": null,
            "min_width": null,
            "object_fit": null,
            "object_position": null,
            "order": null,
            "overflow": null,
            "overflow_x": null,
            "overflow_y": null,
            "padding": null,
            "right": null,
            "top": null,
            "visibility": null,
            "width": "100%"
          }
        },
        "1d8464f7c9e04c209aea239afe979f5e": {
          "model_module": "@jupyter-widgets/base",
          "model_name": "LayoutModel",
          "model_module_version": "1.2.0",
          "state": {
            "_model_module": "@jupyter-widgets/base",
            "_model_module_version": "1.2.0",
            "_model_name": "LayoutModel",
            "_view_count": null,
            "_view_module": "@jupyter-widgets/base",
            "_view_module_version": "1.2.0",
            "_view_name": "LayoutView",
            "align_content": null,
            "align_items": null,
            "align_self": null,
            "border": null,
            "bottom": null,
            "display": null,
            "flex": null,
            "flex_flow": null,
            "grid_area": null,
            "grid_auto_columns": null,
            "grid_auto_flow": null,
            "grid_auto_rows": null,
            "grid_column": null,
            "grid_gap": null,
            "grid_row": null,
            "grid_template_areas": null,
            "grid_template_columns": null,
            "grid_template_rows": null,
            "height": null,
            "justify_content": null,
            "justify_items": null,
            "left": null,
            "margin": null,
            "max_height": null,
            "max_width": null,
            "min_height": null,
            "min_width": null,
            "object_fit": null,
            "object_position": null,
            "order": null,
            "overflow": null,
            "overflow_x": null,
            "overflow_y": null,
            "padding": null,
            "right": null,
            "top": null,
            "visibility": null,
            "width": null
          }
        },
        "77866bc81ae64a25b7d592b888931e00": {
          "model_module": "@jupyter-widgets/controls",
          "model_name": "DescriptionStyleModel",
          "model_module_version": "1.5.0",
          "state": {
            "_model_module": "@jupyter-widgets/controls",
            "_model_module_version": "1.5.0",
            "_model_name": "DescriptionStyleModel",
            "_view_count": null,
            "_view_module": "@jupyter-widgets/base",
            "_view_module_version": "1.2.0",
            "_view_name": "StyleView",
            "description_width": ""
          }
        },
        "b89aed7892c447ca955d0dec3f4b4a2d": {
          "model_module": "@jupyter-widgets/base",
          "model_name": "LayoutModel",
          "model_module_version": "1.2.0",
          "state": {
            "_model_module": "@jupyter-widgets/base",
            "_model_module_version": "1.2.0",
            "_model_name": "LayoutModel",
            "_view_count": null,
            "_view_module": "@jupyter-widgets/base",
            "_view_module_version": "1.2.0",
            "_view_name": "LayoutView",
            "align_content": null,
            "align_items": null,
            "align_self": null,
            "border": null,
            "bottom": null,
            "display": null,
            "flex": "2",
            "flex_flow": null,
            "grid_area": null,
            "grid_auto_columns": null,
            "grid_auto_flow": null,
            "grid_auto_rows": null,
            "grid_column": null,
            "grid_gap": null,
            "grid_row": null,
            "grid_template_areas": null,
            "grid_template_columns": null,
            "grid_template_rows": null,
            "height": null,
            "justify_content": null,
            "justify_items": null,
            "left": null,
            "margin": null,
            "max_height": null,
            "max_width": null,
            "min_height": null,
            "min_width": null,
            "object_fit": null,
            "object_position": null,
            "order": null,
            "overflow": null,
            "overflow_x": null,
            "overflow_y": null,
            "padding": null,
            "right": null,
            "top": null,
            "visibility": null,
            "width": null
          }
        },
        "e41e59524bfb4a6ab4718bd894f54507": {
          "model_module": "@jupyter-widgets/controls",
          "model_name": "ProgressStyleModel",
          "model_module_version": "1.5.0",
          "state": {
            "_model_module": "@jupyter-widgets/controls",
            "_model_module_version": "1.5.0",
            "_model_name": "ProgressStyleModel",
            "_view_count": null,
            "_view_module": "@jupyter-widgets/base",
            "_view_module_version": "1.2.0",
            "_view_name": "StyleView",
            "bar_color": null,
            "description_width": ""
          }
        },
        "4ecb3809b3f546cdae52f00ebf451f14": {
          "model_module": "@jupyter-widgets/base",
          "model_name": "LayoutModel",
          "model_module_version": "1.2.0",
          "state": {
            "_model_module": "@jupyter-widgets/base",
            "_model_module_version": "1.2.0",
            "_model_name": "LayoutModel",
            "_view_count": null,
            "_view_module": "@jupyter-widgets/base",
            "_view_module_version": "1.2.0",
            "_view_name": "LayoutView",
            "align_content": null,
            "align_items": null,
            "align_self": null,
            "border": null,
            "bottom": null,
            "display": null,
            "flex": null,
            "flex_flow": null,
            "grid_area": null,
            "grid_auto_columns": null,
            "grid_auto_flow": null,
            "grid_auto_rows": null,
            "grid_column": null,
            "grid_gap": null,
            "grid_row": null,
            "grid_template_areas": null,
            "grid_template_columns": null,
            "grid_template_rows": null,
            "height": null,
            "justify_content": null,
            "justify_items": null,
            "left": null,
            "margin": null,
            "max_height": null,
            "max_width": null,
            "min_height": null,
            "min_width": null,
            "object_fit": null,
            "object_position": null,
            "order": null,
            "overflow": null,
            "overflow_x": null,
            "overflow_y": null,
            "padding": null,
            "right": null,
            "top": null,
            "visibility": null,
            "width": null
          }
        },
        "f08c3b0f9961445781ec2c5874ea800a": {
          "model_module": "@jupyter-widgets/controls",
          "model_name": "DescriptionStyleModel",
          "model_module_version": "1.5.0",
          "state": {
            "_model_module": "@jupyter-widgets/controls",
            "_model_module_version": "1.5.0",
            "_model_name": "DescriptionStyleModel",
            "_view_count": null,
            "_view_module": "@jupyter-widgets/base",
            "_view_module_version": "1.2.0",
            "_view_name": "StyleView",
            "description_width": ""
          }
        },
        "c0d06b877e6b4c5ba73bf4f40e20e4fe": {
          "model_module": "@jupyter-widgets/controls",
          "model_name": "HBoxModel",
          "model_module_version": "1.5.0",
          "state": {
            "_dom_classes": [],
            "_model_module": "@jupyter-widgets/controls",
            "_model_module_version": "1.5.0",
            "_model_name": "HBoxModel",
            "_view_count": null,
            "_view_module": "@jupyter-widgets/controls",
            "_view_module_version": "1.5.0",
            "_view_name": "HBoxView",
            "box_style": "",
            "children": [
              "IPY_MODEL_82cd98f1433f4b8c8e01725ec40b92a0",
              "IPY_MODEL_d68b23f513134a42aedc89975304993c",
              "IPY_MODEL_f3be806d2502490db69f486af0c48021"
            ],
            "layout": "IPY_MODEL_18058c57d367467b9d4333e041468042"
          }
        },
        "82cd98f1433f4b8c8e01725ec40b92a0": {
          "model_module": "@jupyter-widgets/controls",
          "model_name": "HTMLModel",
          "model_module_version": "1.5.0",
          "state": {
            "_dom_classes": [],
            "_model_module": "@jupyter-widgets/controls",
            "_model_module_version": "1.5.0",
            "_model_name": "HTMLModel",
            "_view_count": null,
            "_view_module": "@jupyter-widgets/controls",
            "_view_module_version": "1.5.0",
            "_view_name": "HTMLView",
            "description": "",
            "description_tooltip": null,
            "layout": "IPY_MODEL_07aebb3294b84c1c8e1a8302d8e05400",
            "placeholder": "​",
            "style": "IPY_MODEL_eb2710c50fb34ade990efafad02b96ab",
            "value": "Testing DataLoader 0: 100%"
          }
        },
        "d68b23f513134a42aedc89975304993c": {
          "model_module": "@jupyter-widgets/controls",
          "model_name": "FloatProgressModel",
          "model_module_version": "1.5.0",
          "state": {
            "_dom_classes": [],
            "_model_module": "@jupyter-widgets/controls",
            "_model_module_version": "1.5.0",
            "_model_name": "FloatProgressModel",
            "_view_count": null,
            "_view_module": "@jupyter-widgets/controls",
            "_view_module_version": "1.5.0",
            "_view_name": "ProgressView",
            "bar_style": "success",
            "description": "",
            "description_tooltip": null,
            "layout": "IPY_MODEL_e958e8cfd90a4881a2932ac5157a5bdd",
            "max": 1999,
            "min": 0,
            "orientation": "horizontal",
            "style": "IPY_MODEL_141bd223ce13413f8f52069c067e7a08",
            "value": 1999
          }
        },
        "f3be806d2502490db69f486af0c48021": {
          "model_module": "@jupyter-widgets/controls",
          "model_name": "HTMLModel",
          "model_module_version": "1.5.0",
          "state": {
            "_dom_classes": [],
            "_model_module": "@jupyter-widgets/controls",
            "_model_module_version": "1.5.0",
            "_model_name": "HTMLModel",
            "_view_count": null,
            "_view_module": "@jupyter-widgets/controls",
            "_view_module_version": "1.5.0",
            "_view_name": "HTMLView",
            "description": "",
            "description_tooltip": null,
            "layout": "IPY_MODEL_8da13972ff204a808cc84a1df7dbf99e",
            "placeholder": "​",
            "style": "IPY_MODEL_71bd9bcacd6c4fbc907ec50ef464db58",
            "value": " 1999/1999 [00:03&lt;00:00, 594.36it/s]"
          }
        },
        "18058c57d367467b9d4333e041468042": {
          "model_module": "@jupyter-widgets/base",
          "model_name": "LayoutModel",
          "model_module_version": "1.2.0",
          "state": {
            "_model_module": "@jupyter-widgets/base",
            "_model_module_version": "1.2.0",
            "_model_name": "LayoutModel",
            "_view_count": null,
            "_view_module": "@jupyter-widgets/base",
            "_view_module_version": "1.2.0",
            "_view_name": "LayoutView",
            "align_content": null,
            "align_items": null,
            "align_self": null,
            "border": null,
            "bottom": null,
            "display": "inline-flex",
            "flex": null,
            "flex_flow": "row wrap",
            "grid_area": null,
            "grid_auto_columns": null,
            "grid_auto_flow": null,
            "grid_auto_rows": null,
            "grid_column": null,
            "grid_gap": null,
            "grid_row": null,
            "grid_template_areas": null,
            "grid_template_columns": null,
            "grid_template_rows": null,
            "height": null,
            "justify_content": null,
            "justify_items": null,
            "left": null,
            "margin": null,
            "max_height": null,
            "max_width": null,
            "min_height": null,
            "min_width": null,
            "object_fit": null,
            "object_position": null,
            "order": null,
            "overflow": null,
            "overflow_x": null,
            "overflow_y": null,
            "padding": null,
            "right": null,
            "top": null,
            "visibility": null,
            "width": "100%"
          }
        },
        "07aebb3294b84c1c8e1a8302d8e05400": {
          "model_module": "@jupyter-widgets/base",
          "model_name": "LayoutModel",
          "model_module_version": "1.2.0",
          "state": {
            "_model_module": "@jupyter-widgets/base",
            "_model_module_version": "1.2.0",
            "_model_name": "LayoutModel",
            "_view_count": null,
            "_view_module": "@jupyter-widgets/base",
            "_view_module_version": "1.2.0",
            "_view_name": "LayoutView",
            "align_content": null,
            "align_items": null,
            "align_self": null,
            "border": null,
            "bottom": null,
            "display": null,
            "flex": null,
            "flex_flow": null,
            "grid_area": null,
            "grid_auto_columns": null,
            "grid_auto_flow": null,
            "grid_auto_rows": null,
            "grid_column": null,
            "grid_gap": null,
            "grid_row": null,
            "grid_template_areas": null,
            "grid_template_columns": null,
            "grid_template_rows": null,
            "height": null,
            "justify_content": null,
            "justify_items": null,
            "left": null,
            "margin": null,
            "max_height": null,
            "max_width": null,
            "min_height": null,
            "min_width": null,
            "object_fit": null,
            "object_position": null,
            "order": null,
            "overflow": null,
            "overflow_x": null,
            "overflow_y": null,
            "padding": null,
            "right": null,
            "top": null,
            "visibility": null,
            "width": null
          }
        },
        "eb2710c50fb34ade990efafad02b96ab": {
          "model_module": "@jupyter-widgets/controls",
          "model_name": "DescriptionStyleModel",
          "model_module_version": "1.5.0",
          "state": {
            "_model_module": "@jupyter-widgets/controls",
            "_model_module_version": "1.5.0",
            "_model_name": "DescriptionStyleModel",
            "_view_count": null,
            "_view_module": "@jupyter-widgets/base",
            "_view_module_version": "1.2.0",
            "_view_name": "StyleView",
            "description_width": ""
          }
        },
        "e958e8cfd90a4881a2932ac5157a5bdd": {
          "model_module": "@jupyter-widgets/base",
          "model_name": "LayoutModel",
          "model_module_version": "1.2.0",
          "state": {
            "_model_module": "@jupyter-widgets/base",
            "_model_module_version": "1.2.0",
            "_model_name": "LayoutModel",
            "_view_count": null,
            "_view_module": "@jupyter-widgets/base",
            "_view_module_version": "1.2.0",
            "_view_name": "LayoutView",
            "align_content": null,
            "align_items": null,
            "align_self": null,
            "border": null,
            "bottom": null,
            "display": null,
            "flex": "2",
            "flex_flow": null,
            "grid_area": null,
            "grid_auto_columns": null,
            "grid_auto_flow": null,
            "grid_auto_rows": null,
            "grid_column": null,
            "grid_gap": null,
            "grid_row": null,
            "grid_template_areas": null,
            "grid_template_columns": null,
            "grid_template_rows": null,
            "height": null,
            "justify_content": null,
            "justify_items": null,
            "left": null,
            "margin": null,
            "max_height": null,
            "max_width": null,
            "min_height": null,
            "min_width": null,
            "object_fit": null,
            "object_position": null,
            "order": null,
            "overflow": null,
            "overflow_x": null,
            "overflow_y": null,
            "padding": null,
            "right": null,
            "top": null,
            "visibility": null,
            "width": null
          }
        },
        "141bd223ce13413f8f52069c067e7a08": {
          "model_module": "@jupyter-widgets/controls",
          "model_name": "ProgressStyleModel",
          "model_module_version": "1.5.0",
          "state": {
            "_model_module": "@jupyter-widgets/controls",
            "_model_module_version": "1.5.0",
            "_model_name": "ProgressStyleModel",
            "_view_count": null,
            "_view_module": "@jupyter-widgets/base",
            "_view_module_version": "1.2.0",
            "_view_name": "StyleView",
            "bar_color": null,
            "description_width": ""
          }
        },
        "8da13972ff204a808cc84a1df7dbf99e": {
          "model_module": "@jupyter-widgets/base",
          "model_name": "LayoutModel",
          "model_module_version": "1.2.0",
          "state": {
            "_model_module": "@jupyter-widgets/base",
            "_model_module_version": "1.2.0",
            "_model_name": "LayoutModel",
            "_view_count": null,
            "_view_module": "@jupyter-widgets/base",
            "_view_module_version": "1.2.0",
            "_view_name": "LayoutView",
            "align_content": null,
            "align_items": null,
            "align_self": null,
            "border": null,
            "bottom": null,
            "display": null,
            "flex": null,
            "flex_flow": null,
            "grid_area": null,
            "grid_auto_columns": null,
            "grid_auto_flow": null,
            "grid_auto_rows": null,
            "grid_column": null,
            "grid_gap": null,
            "grid_row": null,
            "grid_template_areas": null,
            "grid_template_columns": null,
            "grid_template_rows": null,
            "height": null,
            "justify_content": null,
            "justify_items": null,
            "left": null,
            "margin": null,
            "max_height": null,
            "max_width": null,
            "min_height": null,
            "min_width": null,
            "object_fit": null,
            "object_position": null,
            "order": null,
            "overflow": null,
            "overflow_x": null,
            "overflow_y": null,
            "padding": null,
            "right": null,
            "top": null,
            "visibility": null,
            "width": null
          }
        },
        "71bd9bcacd6c4fbc907ec50ef464db58": {
          "model_module": "@jupyter-widgets/controls",
          "model_name": "DescriptionStyleModel",
          "model_module_version": "1.5.0",
          "state": {
            "_model_module": "@jupyter-widgets/controls",
            "_model_module_version": "1.5.0",
            "_model_name": "DescriptionStyleModel",
            "_view_count": null,
            "_view_module": "@jupyter-widgets/base",
            "_view_module_version": "1.2.0",
            "_view_name": "StyleView",
            "description_width": ""
          }
        },
        "798b0ff2d0c54b0ea2bdc14591a7d9e6": {
          "model_module": "@jupyter-widgets/controls",
          "model_name": "HBoxModel",
          "model_module_version": "1.5.0",
          "state": {
            "_dom_classes": [],
            "_model_module": "@jupyter-widgets/controls",
            "_model_module_version": "1.5.0",
            "_model_name": "HBoxModel",
            "_view_count": null,
            "_view_module": "@jupyter-widgets/controls",
            "_view_module_version": "1.5.0",
            "_view_name": "HBoxView",
            "box_style": "",
            "children": [
              "IPY_MODEL_9470175459394a29a376a978a7b21726",
              "IPY_MODEL_6a622a2012ad41d2994133148f472478",
              "IPY_MODEL_c2ccad65c3234dd5a74ce569e4c1ef2b"
            ],
            "layout": "IPY_MODEL_7eec004d3d95421a9b584b4336345185"
          }
        },
        "9470175459394a29a376a978a7b21726": {
          "model_module": "@jupyter-widgets/controls",
          "model_name": "HTMLModel",
          "model_module_version": "1.5.0",
          "state": {
            "_dom_classes": [],
            "_model_module": "@jupyter-widgets/controls",
            "_model_module_version": "1.5.0",
            "_model_name": "HTMLModel",
            "_view_count": null,
            "_view_module": "@jupyter-widgets/controls",
            "_view_module_version": "1.5.0",
            "_view_name": "HTMLView",
            "description": "",
            "description_tooltip": null,
            "layout": "IPY_MODEL_5fe21dccb4b34ff58767b7bdcf326e7b",
            "placeholder": "​",
            "style": "IPY_MODEL_82fe2304fce24e59805a0716c3d4e84a",
            "value": "Testing DataLoader 0: 100%"
          }
        },
        "6a622a2012ad41d2994133148f472478": {
          "model_module": "@jupyter-widgets/controls",
          "model_name": "FloatProgressModel",
          "model_module_version": "1.5.0",
          "state": {
            "_dom_classes": [],
            "_model_module": "@jupyter-widgets/controls",
            "_model_module_version": "1.5.0",
            "_model_name": "FloatProgressModel",
            "_view_count": null,
            "_view_module": "@jupyter-widgets/controls",
            "_view_module_version": "1.5.0",
            "_view_name": "ProgressView",
            "bar_style": "success",
            "description": "",
            "description_tooltip": null,
            "layout": "IPY_MODEL_b8318ca8f43e43b385ee6f29ae215041",
            "max": 1999,
            "min": 0,
            "orientation": "horizontal",
            "style": "IPY_MODEL_bae198a2a22b497db4b4963c8b97b583",
            "value": 1999
          }
        },
        "c2ccad65c3234dd5a74ce569e4c1ef2b": {
          "model_module": "@jupyter-widgets/controls",
          "model_name": "HTMLModel",
          "model_module_version": "1.5.0",
          "state": {
            "_dom_classes": [],
            "_model_module": "@jupyter-widgets/controls",
            "_model_module_version": "1.5.0",
            "_model_name": "HTMLModel",
            "_view_count": null,
            "_view_module": "@jupyter-widgets/controls",
            "_view_module_version": "1.5.0",
            "_view_name": "HTMLView",
            "description": "",
            "description_tooltip": null,
            "layout": "IPY_MODEL_9d8aa207d80b4c70bc1524b81216fd85",
            "placeholder": "​",
            "style": "IPY_MODEL_c2de5aff2b2e4cfebaa0db9cd7c1bb16",
            "value": " 1999/1999 [00:01&lt;00:00, 1007.92it/s]"
          }
        },
        "7eec004d3d95421a9b584b4336345185": {
          "model_module": "@jupyter-widgets/base",
          "model_name": "LayoutModel",
          "model_module_version": "1.2.0",
          "state": {
            "_model_module": "@jupyter-widgets/base",
            "_model_module_version": "1.2.0",
            "_model_name": "LayoutModel",
            "_view_count": null,
            "_view_module": "@jupyter-widgets/base",
            "_view_module_version": "1.2.0",
            "_view_name": "LayoutView",
            "align_content": null,
            "align_items": null,
            "align_self": null,
            "border": null,
            "bottom": null,
            "display": "inline-flex",
            "flex": null,
            "flex_flow": "row wrap",
            "grid_area": null,
            "grid_auto_columns": null,
            "grid_auto_flow": null,
            "grid_auto_rows": null,
            "grid_column": null,
            "grid_gap": null,
            "grid_row": null,
            "grid_template_areas": null,
            "grid_template_columns": null,
            "grid_template_rows": null,
            "height": null,
            "justify_content": null,
            "justify_items": null,
            "left": null,
            "margin": null,
            "max_height": null,
            "max_width": null,
            "min_height": null,
            "min_width": null,
            "object_fit": null,
            "object_position": null,
            "order": null,
            "overflow": null,
            "overflow_x": null,
            "overflow_y": null,
            "padding": null,
            "right": null,
            "top": null,
            "visibility": null,
            "width": "100%"
          }
        },
        "5fe21dccb4b34ff58767b7bdcf326e7b": {
          "model_module": "@jupyter-widgets/base",
          "model_name": "LayoutModel",
          "model_module_version": "1.2.0",
          "state": {
            "_model_module": "@jupyter-widgets/base",
            "_model_module_version": "1.2.0",
            "_model_name": "LayoutModel",
            "_view_count": null,
            "_view_module": "@jupyter-widgets/base",
            "_view_module_version": "1.2.0",
            "_view_name": "LayoutView",
            "align_content": null,
            "align_items": null,
            "align_self": null,
            "border": null,
            "bottom": null,
            "display": null,
            "flex": null,
            "flex_flow": null,
            "grid_area": null,
            "grid_auto_columns": null,
            "grid_auto_flow": null,
            "grid_auto_rows": null,
            "grid_column": null,
            "grid_gap": null,
            "grid_row": null,
            "grid_template_areas": null,
            "grid_template_columns": null,
            "grid_template_rows": null,
            "height": null,
            "justify_content": null,
            "justify_items": null,
            "left": null,
            "margin": null,
            "max_height": null,
            "max_width": null,
            "min_height": null,
            "min_width": null,
            "object_fit": null,
            "object_position": null,
            "order": null,
            "overflow": null,
            "overflow_x": null,
            "overflow_y": null,
            "padding": null,
            "right": null,
            "top": null,
            "visibility": null,
            "width": null
          }
        },
        "82fe2304fce24e59805a0716c3d4e84a": {
          "model_module": "@jupyter-widgets/controls",
          "model_name": "DescriptionStyleModel",
          "model_module_version": "1.5.0",
          "state": {
            "_model_module": "@jupyter-widgets/controls",
            "_model_module_version": "1.5.0",
            "_model_name": "DescriptionStyleModel",
            "_view_count": null,
            "_view_module": "@jupyter-widgets/base",
            "_view_module_version": "1.2.0",
            "_view_name": "StyleView",
            "description_width": ""
          }
        },
        "b8318ca8f43e43b385ee6f29ae215041": {
          "model_module": "@jupyter-widgets/base",
          "model_name": "LayoutModel",
          "model_module_version": "1.2.0",
          "state": {
            "_model_module": "@jupyter-widgets/base",
            "_model_module_version": "1.2.0",
            "_model_name": "LayoutModel",
            "_view_count": null,
            "_view_module": "@jupyter-widgets/base",
            "_view_module_version": "1.2.0",
            "_view_name": "LayoutView",
            "align_content": null,
            "align_items": null,
            "align_self": null,
            "border": null,
            "bottom": null,
            "display": null,
            "flex": "2",
            "flex_flow": null,
            "grid_area": null,
            "grid_auto_columns": null,
            "grid_auto_flow": null,
            "grid_auto_rows": null,
            "grid_column": null,
            "grid_gap": null,
            "grid_row": null,
            "grid_template_areas": null,
            "grid_template_columns": null,
            "grid_template_rows": null,
            "height": null,
            "justify_content": null,
            "justify_items": null,
            "left": null,
            "margin": null,
            "max_height": null,
            "max_width": null,
            "min_height": null,
            "min_width": null,
            "object_fit": null,
            "object_position": null,
            "order": null,
            "overflow": null,
            "overflow_x": null,
            "overflow_y": null,
            "padding": null,
            "right": null,
            "top": null,
            "visibility": null,
            "width": null
          }
        },
        "bae198a2a22b497db4b4963c8b97b583": {
          "model_module": "@jupyter-widgets/controls",
          "model_name": "ProgressStyleModel",
          "model_module_version": "1.5.0",
          "state": {
            "_model_module": "@jupyter-widgets/controls",
            "_model_module_version": "1.5.0",
            "_model_name": "ProgressStyleModel",
            "_view_count": null,
            "_view_module": "@jupyter-widgets/base",
            "_view_module_version": "1.2.0",
            "_view_name": "StyleView",
            "bar_color": null,
            "description_width": ""
          }
        },
        "9d8aa207d80b4c70bc1524b81216fd85": {
          "model_module": "@jupyter-widgets/base",
          "model_name": "LayoutModel",
          "model_module_version": "1.2.0",
          "state": {
            "_model_module": "@jupyter-widgets/base",
            "_model_module_version": "1.2.0",
            "_model_name": "LayoutModel",
            "_view_count": null,
            "_view_module": "@jupyter-widgets/base",
            "_view_module_version": "1.2.0",
            "_view_name": "LayoutView",
            "align_content": null,
            "align_items": null,
            "align_self": null,
            "border": null,
            "bottom": null,
            "display": null,
            "flex": null,
            "flex_flow": null,
            "grid_area": null,
            "grid_auto_columns": null,
            "grid_auto_flow": null,
            "grid_auto_rows": null,
            "grid_column": null,
            "grid_gap": null,
            "grid_row": null,
            "grid_template_areas": null,
            "grid_template_columns": null,
            "grid_template_rows": null,
            "height": null,
            "justify_content": null,
            "justify_items": null,
            "left": null,
            "margin": null,
            "max_height": null,
            "max_width": null,
            "min_height": null,
            "min_width": null,
            "object_fit": null,
            "object_position": null,
            "order": null,
            "overflow": null,
            "overflow_x": null,
            "overflow_y": null,
            "padding": null,
            "right": null,
            "top": null,
            "visibility": null,
            "width": null
          }
        },
        "c2de5aff2b2e4cfebaa0db9cd7c1bb16": {
          "model_module": "@jupyter-widgets/controls",
          "model_name": "DescriptionStyleModel",
          "model_module_version": "1.5.0",
          "state": {
            "_model_module": "@jupyter-widgets/controls",
            "_model_module_version": "1.5.0",
            "_model_name": "DescriptionStyleModel",
            "_view_count": null,
            "_view_module": "@jupyter-widgets/base",
            "_view_module_version": "1.2.0",
            "_view_name": "StyleView",
            "description_width": ""
          }
        },
        "5ef2f6345ea74dda915b2f84788a8a8e": {
          "model_module": "@jupyter-widgets/controls",
          "model_name": "HBoxModel",
          "model_module_version": "1.5.0",
          "state": {
            "_dom_classes": [],
            "_model_module": "@jupyter-widgets/controls",
            "_model_module_version": "1.5.0",
            "_model_name": "HBoxModel",
            "_view_count": null,
            "_view_module": "@jupyter-widgets/controls",
            "_view_module_version": "1.5.0",
            "_view_name": "HBoxView",
            "box_style": "",
            "children": [
              "IPY_MODEL_1c98378477354e2f9a367962a8f917a4",
              "IPY_MODEL_8bc77ee534244fe6bf2e00fa10cbefd3",
              "IPY_MODEL_fe47de23308e4d34beef575dea2a4bf2"
            ],
            "layout": "IPY_MODEL_f0ad6e93a740426293f14fbbc87d32ea"
          }
        },
        "1c98378477354e2f9a367962a8f917a4": {
          "model_module": "@jupyter-widgets/controls",
          "model_name": "HTMLModel",
          "model_module_version": "1.5.0",
          "state": {
            "_dom_classes": [],
            "_model_module": "@jupyter-widgets/controls",
            "_model_module_version": "1.5.0",
            "_model_name": "HTMLModel",
            "_view_count": null,
            "_view_module": "@jupyter-widgets/controls",
            "_view_module_version": "1.5.0",
            "_view_name": "HTMLView",
            "description": "",
            "description_tooltip": null,
            "layout": "IPY_MODEL_42d9729344864e4b8109c843e371ebbb",
            "placeholder": "​",
            "style": "IPY_MODEL_dabb1368fb444230b3c990eb53341523",
            "value": "Epoch 4: 100%"
          }
        },
        "8bc77ee534244fe6bf2e00fa10cbefd3": {
          "model_module": "@jupyter-widgets/controls",
          "model_name": "FloatProgressModel",
          "model_module_version": "1.5.0",
          "state": {
            "_dom_classes": [],
            "_model_module": "@jupyter-widgets/controls",
            "_model_module_version": "1.5.0",
            "_model_name": "FloatProgressModel",
            "_view_count": null,
            "_view_module": "@jupyter-widgets/controls",
            "_view_module_version": "1.5.0",
            "_view_name": "ProgressView",
            "bar_style": "success",
            "description": "",
            "description_tooltip": null,
            "layout": "IPY_MODEL_1626ecd31de847f683ef249dd8e5661d",
            "max": 200,
            "min": 0,
            "orientation": "horizontal",
            "style": "IPY_MODEL_01b96f46709e4f16b1f1dcc51dbe63f8",
            "value": 200
          }
        },
        "fe47de23308e4d34beef575dea2a4bf2": {
          "model_module": "@jupyter-widgets/controls",
          "model_name": "HTMLModel",
          "model_module_version": "1.5.0",
          "state": {
            "_dom_classes": [],
            "_model_module": "@jupyter-widgets/controls",
            "_model_module_version": "1.5.0",
            "_model_name": "HTMLModel",
            "_view_count": null,
            "_view_module": "@jupyter-widgets/controls",
            "_view_module_version": "1.5.0",
            "_view_name": "HTMLView",
            "description": "",
            "description_tooltip": null,
            "layout": "IPY_MODEL_88a74823073940558aee4def6a6b25ce",
            "placeholder": "​",
            "style": "IPY_MODEL_1d58430a8c7b49d48270c6ba7e378b0b",
            "value": " 200/200 [00:00&lt;00:00, 220.00it/s, v_num=6, loss=0.433]"
          }
        },
        "f0ad6e93a740426293f14fbbc87d32ea": {
          "model_module": "@jupyter-widgets/base",
          "model_name": "LayoutModel",
          "model_module_version": "1.2.0",
          "state": {
            "_model_module": "@jupyter-widgets/base",
            "_model_module_version": "1.2.0",
            "_model_name": "LayoutModel",
            "_view_count": null,
            "_view_module": "@jupyter-widgets/base",
            "_view_module_version": "1.2.0",
            "_view_name": "LayoutView",
            "align_content": null,
            "align_items": null,
            "align_self": null,
            "border": null,
            "bottom": null,
            "display": "inline-flex",
            "flex": null,
            "flex_flow": "row wrap",
            "grid_area": null,
            "grid_auto_columns": null,
            "grid_auto_flow": null,
            "grid_auto_rows": null,
            "grid_column": null,
            "grid_gap": null,
            "grid_row": null,
            "grid_template_areas": null,
            "grid_template_columns": null,
            "grid_template_rows": null,
            "height": null,
            "justify_content": null,
            "justify_items": null,
            "left": null,
            "margin": null,
            "max_height": null,
            "max_width": null,
            "min_height": null,
            "min_width": null,
            "object_fit": null,
            "object_position": null,
            "order": null,
            "overflow": null,
            "overflow_x": null,
            "overflow_y": null,
            "padding": null,
            "right": null,
            "top": null,
            "visibility": null,
            "width": "100%"
          }
        },
        "42d9729344864e4b8109c843e371ebbb": {
          "model_module": "@jupyter-widgets/base",
          "model_name": "LayoutModel",
          "model_module_version": "1.2.0",
          "state": {
            "_model_module": "@jupyter-widgets/base",
            "_model_module_version": "1.2.0",
            "_model_name": "LayoutModel",
            "_view_count": null,
            "_view_module": "@jupyter-widgets/base",
            "_view_module_version": "1.2.0",
            "_view_name": "LayoutView",
            "align_content": null,
            "align_items": null,
            "align_self": null,
            "border": null,
            "bottom": null,
            "display": null,
            "flex": null,
            "flex_flow": null,
            "grid_area": null,
            "grid_auto_columns": null,
            "grid_auto_flow": null,
            "grid_auto_rows": null,
            "grid_column": null,
            "grid_gap": null,
            "grid_row": null,
            "grid_template_areas": null,
            "grid_template_columns": null,
            "grid_template_rows": null,
            "height": null,
            "justify_content": null,
            "justify_items": null,
            "left": null,
            "margin": null,
            "max_height": null,
            "max_width": null,
            "min_height": null,
            "min_width": null,
            "object_fit": null,
            "object_position": null,
            "order": null,
            "overflow": null,
            "overflow_x": null,
            "overflow_y": null,
            "padding": null,
            "right": null,
            "top": null,
            "visibility": null,
            "width": null
          }
        },
        "dabb1368fb444230b3c990eb53341523": {
          "model_module": "@jupyter-widgets/controls",
          "model_name": "DescriptionStyleModel",
          "model_module_version": "1.5.0",
          "state": {
            "_model_module": "@jupyter-widgets/controls",
            "_model_module_version": "1.5.0",
            "_model_name": "DescriptionStyleModel",
            "_view_count": null,
            "_view_module": "@jupyter-widgets/base",
            "_view_module_version": "1.2.0",
            "_view_name": "StyleView",
            "description_width": ""
          }
        },
        "1626ecd31de847f683ef249dd8e5661d": {
          "model_module": "@jupyter-widgets/base",
          "model_name": "LayoutModel",
          "model_module_version": "1.2.0",
          "state": {
            "_model_module": "@jupyter-widgets/base",
            "_model_module_version": "1.2.0",
            "_model_name": "LayoutModel",
            "_view_count": null,
            "_view_module": "@jupyter-widgets/base",
            "_view_module_version": "1.2.0",
            "_view_name": "LayoutView",
            "align_content": null,
            "align_items": null,
            "align_self": null,
            "border": null,
            "bottom": null,
            "display": null,
            "flex": "2",
            "flex_flow": null,
            "grid_area": null,
            "grid_auto_columns": null,
            "grid_auto_flow": null,
            "grid_auto_rows": null,
            "grid_column": null,
            "grid_gap": null,
            "grid_row": null,
            "grid_template_areas": null,
            "grid_template_columns": null,
            "grid_template_rows": null,
            "height": null,
            "justify_content": null,
            "justify_items": null,
            "left": null,
            "margin": null,
            "max_height": null,
            "max_width": null,
            "min_height": null,
            "min_width": null,
            "object_fit": null,
            "object_position": null,
            "order": null,
            "overflow": null,
            "overflow_x": null,
            "overflow_y": null,
            "padding": null,
            "right": null,
            "top": null,
            "visibility": null,
            "width": null
          }
        },
        "01b96f46709e4f16b1f1dcc51dbe63f8": {
          "model_module": "@jupyter-widgets/controls",
          "model_name": "ProgressStyleModel",
          "model_module_version": "1.5.0",
          "state": {
            "_model_module": "@jupyter-widgets/controls",
            "_model_module_version": "1.5.0",
            "_model_name": "ProgressStyleModel",
            "_view_count": null,
            "_view_module": "@jupyter-widgets/base",
            "_view_module_version": "1.2.0",
            "_view_name": "StyleView",
            "bar_color": null,
            "description_width": ""
          }
        },
        "88a74823073940558aee4def6a6b25ce": {
          "model_module": "@jupyter-widgets/base",
          "model_name": "LayoutModel",
          "model_module_version": "1.2.0",
          "state": {
            "_model_module": "@jupyter-widgets/base",
            "_model_module_version": "1.2.0",
            "_model_name": "LayoutModel",
            "_view_count": null,
            "_view_module": "@jupyter-widgets/base",
            "_view_module_version": "1.2.0",
            "_view_name": "LayoutView",
            "align_content": null,
            "align_items": null,
            "align_self": null,
            "border": null,
            "bottom": null,
            "display": null,
            "flex": null,
            "flex_flow": null,
            "grid_area": null,
            "grid_auto_columns": null,
            "grid_auto_flow": null,
            "grid_auto_rows": null,
            "grid_column": null,
            "grid_gap": null,
            "grid_row": null,
            "grid_template_areas": null,
            "grid_template_columns": null,
            "grid_template_rows": null,
            "height": null,
            "justify_content": null,
            "justify_items": null,
            "left": null,
            "margin": null,
            "max_height": null,
            "max_width": null,
            "min_height": null,
            "min_width": null,
            "object_fit": null,
            "object_position": null,
            "order": null,
            "overflow": null,
            "overflow_x": null,
            "overflow_y": null,
            "padding": null,
            "right": null,
            "top": null,
            "visibility": null,
            "width": null
          }
        },
        "1d58430a8c7b49d48270c6ba7e378b0b": {
          "model_module": "@jupyter-widgets/controls",
          "model_name": "DescriptionStyleModel",
          "model_module_version": "1.5.0",
          "state": {
            "_model_module": "@jupyter-widgets/controls",
            "_model_module_version": "1.5.0",
            "_model_name": "DescriptionStyleModel",
            "_view_count": null,
            "_view_module": "@jupyter-widgets/base",
            "_view_module_version": "1.2.0",
            "_view_name": "StyleView",
            "description_width": ""
          }
        },
        "2c73423289e8428790abd5f459c6438e": {
          "model_module": "@jupyter-widgets/controls",
          "model_name": "HBoxModel",
          "model_module_version": "1.5.0",
          "state": {
            "_dom_classes": [],
            "_model_module": "@jupyter-widgets/controls",
            "_model_module_version": "1.5.0",
            "_model_name": "HBoxModel",
            "_view_count": null,
            "_view_module": "@jupyter-widgets/controls",
            "_view_module_version": "1.5.0",
            "_view_name": "HBoxView",
            "box_style": "",
            "children": [
              "IPY_MODEL_8b01b75396c64f159618bde7fd3ec0fe",
              "IPY_MODEL_c4fe4dc58f9347caafc461f8dc70d733",
              "IPY_MODEL_55ca84ceb4c0429dbda4d046bbaf4e9f"
            ],
            "layout": "IPY_MODEL_c506cd3efc1b4fb797b30543858dc59c"
          }
        },
        "8b01b75396c64f159618bde7fd3ec0fe": {
          "model_module": "@jupyter-widgets/controls",
          "model_name": "HTMLModel",
          "model_module_version": "1.5.0",
          "state": {
            "_dom_classes": [],
            "_model_module": "@jupyter-widgets/controls",
            "_model_module_version": "1.5.0",
            "_model_name": "HTMLModel",
            "_view_count": null,
            "_view_module": "@jupyter-widgets/controls",
            "_view_module_version": "1.5.0",
            "_view_name": "HTMLView",
            "description": "",
            "description_tooltip": null,
            "layout": "IPY_MODEL_3a7888135a4340739da48fc9681168a6",
            "placeholder": "​",
            "style": "IPY_MODEL_a9f749a2ab734468886eaab4d86af4a0",
            "value": "Testing DataLoader 0: 100%"
          }
        },
        "c4fe4dc58f9347caafc461f8dc70d733": {
          "model_module": "@jupyter-widgets/controls",
          "model_name": "FloatProgressModel",
          "model_module_version": "1.5.0",
          "state": {
            "_dom_classes": [],
            "_model_module": "@jupyter-widgets/controls",
            "_model_module_version": "1.5.0",
            "_model_name": "FloatProgressModel",
            "_view_count": null,
            "_view_module": "@jupyter-widgets/controls",
            "_view_module_version": "1.5.0",
            "_view_name": "ProgressView",
            "bar_style": "success",
            "description": "",
            "description_tooltip": null,
            "layout": "IPY_MODEL_d655f07276314a5d8bf15852b5f1681d",
            "max": 400,
            "min": 0,
            "orientation": "horizontal",
            "style": "IPY_MODEL_ebbf6c194b0341608920ca74f777cda4",
            "value": 400
          }
        },
        "55ca84ceb4c0429dbda4d046bbaf4e9f": {
          "model_module": "@jupyter-widgets/controls",
          "model_name": "HTMLModel",
          "model_module_version": "1.5.0",
          "state": {
            "_dom_classes": [],
            "_model_module": "@jupyter-widgets/controls",
            "_model_module_version": "1.5.0",
            "_model_name": "HTMLModel",
            "_view_count": null,
            "_view_module": "@jupyter-widgets/controls",
            "_view_module_version": "1.5.0",
            "_view_name": "HTMLView",
            "description": "",
            "description_tooltip": null,
            "layout": "IPY_MODEL_addd5dff1bb143abb1afe305843d3165",
            "placeholder": "​",
            "style": "IPY_MODEL_675da6aa08db4c59b8101e0e600b4f64",
            "value": " 400/400 [00:00&lt;00:00, 646.53it/s]"
          }
        },
        "c506cd3efc1b4fb797b30543858dc59c": {
          "model_module": "@jupyter-widgets/base",
          "model_name": "LayoutModel",
          "model_module_version": "1.2.0",
          "state": {
            "_model_module": "@jupyter-widgets/base",
            "_model_module_version": "1.2.0",
            "_model_name": "LayoutModel",
            "_view_count": null,
            "_view_module": "@jupyter-widgets/base",
            "_view_module_version": "1.2.0",
            "_view_name": "LayoutView",
            "align_content": null,
            "align_items": null,
            "align_self": null,
            "border": null,
            "bottom": null,
            "display": "inline-flex",
            "flex": null,
            "flex_flow": "row wrap",
            "grid_area": null,
            "grid_auto_columns": null,
            "grid_auto_flow": null,
            "grid_auto_rows": null,
            "grid_column": null,
            "grid_gap": null,
            "grid_row": null,
            "grid_template_areas": null,
            "grid_template_columns": null,
            "grid_template_rows": null,
            "height": null,
            "justify_content": null,
            "justify_items": null,
            "left": null,
            "margin": null,
            "max_height": null,
            "max_width": null,
            "min_height": null,
            "min_width": null,
            "object_fit": null,
            "object_position": null,
            "order": null,
            "overflow": null,
            "overflow_x": null,
            "overflow_y": null,
            "padding": null,
            "right": null,
            "top": null,
            "visibility": null,
            "width": "100%"
          }
        },
        "3a7888135a4340739da48fc9681168a6": {
          "model_module": "@jupyter-widgets/base",
          "model_name": "LayoutModel",
          "model_module_version": "1.2.0",
          "state": {
            "_model_module": "@jupyter-widgets/base",
            "_model_module_version": "1.2.0",
            "_model_name": "LayoutModel",
            "_view_count": null,
            "_view_module": "@jupyter-widgets/base",
            "_view_module_version": "1.2.0",
            "_view_name": "LayoutView",
            "align_content": null,
            "align_items": null,
            "align_self": null,
            "border": null,
            "bottom": null,
            "display": null,
            "flex": null,
            "flex_flow": null,
            "grid_area": null,
            "grid_auto_columns": null,
            "grid_auto_flow": null,
            "grid_auto_rows": null,
            "grid_column": null,
            "grid_gap": null,
            "grid_row": null,
            "grid_template_areas": null,
            "grid_template_columns": null,
            "grid_template_rows": null,
            "height": null,
            "justify_content": null,
            "justify_items": null,
            "left": null,
            "margin": null,
            "max_height": null,
            "max_width": null,
            "min_height": null,
            "min_width": null,
            "object_fit": null,
            "object_position": null,
            "order": null,
            "overflow": null,
            "overflow_x": null,
            "overflow_y": null,
            "padding": null,
            "right": null,
            "top": null,
            "visibility": null,
            "width": null
          }
        },
        "a9f749a2ab734468886eaab4d86af4a0": {
          "model_module": "@jupyter-widgets/controls",
          "model_name": "DescriptionStyleModel",
          "model_module_version": "1.5.0",
          "state": {
            "_model_module": "@jupyter-widgets/controls",
            "_model_module_version": "1.5.0",
            "_model_name": "DescriptionStyleModel",
            "_view_count": null,
            "_view_module": "@jupyter-widgets/base",
            "_view_module_version": "1.2.0",
            "_view_name": "StyleView",
            "description_width": ""
          }
        },
        "d655f07276314a5d8bf15852b5f1681d": {
          "model_module": "@jupyter-widgets/base",
          "model_name": "LayoutModel",
          "model_module_version": "1.2.0",
          "state": {
            "_model_module": "@jupyter-widgets/base",
            "_model_module_version": "1.2.0",
            "_model_name": "LayoutModel",
            "_view_count": null,
            "_view_module": "@jupyter-widgets/base",
            "_view_module_version": "1.2.0",
            "_view_name": "LayoutView",
            "align_content": null,
            "align_items": null,
            "align_self": null,
            "border": null,
            "bottom": null,
            "display": null,
            "flex": "2",
            "flex_flow": null,
            "grid_area": null,
            "grid_auto_columns": null,
            "grid_auto_flow": null,
            "grid_auto_rows": null,
            "grid_column": null,
            "grid_gap": null,
            "grid_row": null,
            "grid_template_areas": null,
            "grid_template_columns": null,
            "grid_template_rows": null,
            "height": null,
            "justify_content": null,
            "justify_items": null,
            "left": null,
            "margin": null,
            "max_height": null,
            "max_width": null,
            "min_height": null,
            "min_width": null,
            "object_fit": null,
            "object_position": null,
            "order": null,
            "overflow": null,
            "overflow_x": null,
            "overflow_y": null,
            "padding": null,
            "right": null,
            "top": null,
            "visibility": null,
            "width": null
          }
        },
        "ebbf6c194b0341608920ca74f777cda4": {
          "model_module": "@jupyter-widgets/controls",
          "model_name": "ProgressStyleModel",
          "model_module_version": "1.5.0",
          "state": {
            "_model_module": "@jupyter-widgets/controls",
            "_model_module_version": "1.5.0",
            "_model_name": "ProgressStyleModel",
            "_view_count": null,
            "_view_module": "@jupyter-widgets/base",
            "_view_module_version": "1.2.0",
            "_view_name": "StyleView",
            "bar_color": null,
            "description_width": ""
          }
        },
        "addd5dff1bb143abb1afe305843d3165": {
          "model_module": "@jupyter-widgets/base",
          "model_name": "LayoutModel",
          "model_module_version": "1.2.0",
          "state": {
            "_model_module": "@jupyter-widgets/base",
            "_model_module_version": "1.2.0",
            "_model_name": "LayoutModel",
            "_view_count": null,
            "_view_module": "@jupyter-widgets/base",
            "_view_module_version": "1.2.0",
            "_view_name": "LayoutView",
            "align_content": null,
            "align_items": null,
            "align_self": null,
            "border": null,
            "bottom": null,
            "display": null,
            "flex": null,
            "flex_flow": null,
            "grid_area": null,
            "grid_auto_columns": null,
            "grid_auto_flow": null,
            "grid_auto_rows": null,
            "grid_column": null,
            "grid_gap": null,
            "grid_row": null,
            "grid_template_areas": null,
            "grid_template_columns": null,
            "grid_template_rows": null,
            "height": null,
            "justify_content": null,
            "justify_items": null,
            "left": null,
            "margin": null,
            "max_height": null,
            "max_width": null,
            "min_height": null,
            "min_width": null,
            "object_fit": null,
            "object_position": null,
            "order": null,
            "overflow": null,
            "overflow_x": null,
            "overflow_y": null,
            "padding": null,
            "right": null,
            "top": null,
            "visibility": null,
            "width": null
          }
        },
        "675da6aa08db4c59b8101e0e600b4f64": {
          "model_module": "@jupyter-widgets/controls",
          "model_name": "DescriptionStyleModel",
          "model_module_version": "1.5.0",
          "state": {
            "_model_module": "@jupyter-widgets/controls",
            "_model_module_version": "1.5.0",
            "_model_name": "DescriptionStyleModel",
            "_view_count": null,
            "_view_module": "@jupyter-widgets/base",
            "_view_module_version": "1.2.0",
            "_view_name": "StyleView",
            "description_width": ""
          }
        },
        "30a4208635e4455d88a20c83f171efc3": {
          "model_module": "@jupyter-widgets/controls",
          "model_name": "HBoxModel",
          "model_module_version": "1.5.0",
          "state": {
            "_dom_classes": [],
            "_model_module": "@jupyter-widgets/controls",
            "_model_module_version": "1.5.0",
            "_model_name": "HBoxModel",
            "_view_count": null,
            "_view_module": "@jupyter-widgets/controls",
            "_view_module_version": "1.5.0",
            "_view_name": "HBoxView",
            "box_style": "",
            "children": [
              "IPY_MODEL_41a7c35bb7904e04acda8baec6aabaec",
              "IPY_MODEL_293fd4ff0cac4c888d3d3493f8e65fa3",
              "IPY_MODEL_11bc356e153b44efa814107dc4fd4868"
            ],
            "layout": "IPY_MODEL_d2560c5fc3cf45d7b5889ef602c01fbe"
          }
        },
        "41a7c35bb7904e04acda8baec6aabaec": {
          "model_module": "@jupyter-widgets/controls",
          "model_name": "HTMLModel",
          "model_module_version": "1.5.0",
          "state": {
            "_dom_classes": [],
            "_model_module": "@jupyter-widgets/controls",
            "_model_module_version": "1.5.0",
            "_model_name": "HTMLModel",
            "_view_count": null,
            "_view_module": "@jupyter-widgets/controls",
            "_view_module_version": "1.5.0",
            "_view_name": "HTMLView",
            "description": "",
            "description_tooltip": null,
            "layout": "IPY_MODEL_6953100f5d8c4fd2991452e2a0525754",
            "placeholder": "​",
            "style": "IPY_MODEL_0e58245844ab42d3a3931e495ebb1d22",
            "value": "Epoch 6: 100%"
          }
        },
        "293fd4ff0cac4c888d3d3493f8e65fa3": {
          "model_module": "@jupyter-widgets/controls",
          "model_name": "FloatProgressModel",
          "model_module_version": "1.5.0",
          "state": {
            "_dom_classes": [],
            "_model_module": "@jupyter-widgets/controls",
            "_model_module_version": "1.5.0",
            "_model_name": "FloatProgressModel",
            "_view_count": null,
            "_view_module": "@jupyter-widgets/controls",
            "_view_module_version": "1.5.0",
            "_view_name": "ProgressView",
            "bar_style": "success",
            "description": "",
            "description_tooltip": null,
            "layout": "IPY_MODEL_b739030b4dd64588954f0458c13171d9",
            "max": 11994,
            "min": 0,
            "orientation": "horizontal",
            "style": "IPY_MODEL_12ef13dcba2d46ad849473602cbdcbea",
            "value": 11994
          }
        },
        "11bc356e153b44efa814107dc4fd4868": {
          "model_module": "@jupyter-widgets/controls",
          "model_name": "HTMLModel",
          "model_module_version": "1.5.0",
          "state": {
            "_dom_classes": [],
            "_model_module": "@jupyter-widgets/controls",
            "_model_module_version": "1.5.0",
            "_model_name": "HTMLModel",
            "_view_count": null,
            "_view_module": "@jupyter-widgets/controls",
            "_view_module_version": "1.5.0",
            "_view_name": "HTMLView",
            "description": "",
            "description_tooltip": null,
            "layout": "IPY_MODEL_ffbc7c379d1e47c4a061a0216352dd86",
            "placeholder": "​",
            "style": "IPY_MODEL_e9b7e298f8764618bfd8389506ff039b",
            "value": " 11994/11994 [02:55&lt;00:00, 68.50it/s, v_num=3, g_loss=0.481, d_normal_loss=1.000, d_anomal_loss=0.000583, g_loss_epoch=0.584, d_anomal_loss_epoch=0.000277, d_normal_loss_epoch=1.000]"
          }
        },
        "d2560c5fc3cf45d7b5889ef602c01fbe": {
          "model_module": "@jupyter-widgets/base",
          "model_name": "LayoutModel",
          "model_module_version": "1.2.0",
          "state": {
            "_model_module": "@jupyter-widgets/base",
            "_model_module_version": "1.2.0",
            "_model_name": "LayoutModel",
            "_view_count": null,
            "_view_module": "@jupyter-widgets/base",
            "_view_module_version": "1.2.0",
            "_view_name": "LayoutView",
            "align_content": null,
            "align_items": null,
            "align_self": null,
            "border": null,
            "bottom": null,
            "display": "inline-flex",
            "flex": null,
            "flex_flow": "row wrap",
            "grid_area": null,
            "grid_auto_columns": null,
            "grid_auto_flow": null,
            "grid_auto_rows": null,
            "grid_column": null,
            "grid_gap": null,
            "grid_row": null,
            "grid_template_areas": null,
            "grid_template_columns": null,
            "grid_template_rows": null,
            "height": null,
            "justify_content": null,
            "justify_items": null,
            "left": null,
            "margin": null,
            "max_height": null,
            "max_width": null,
            "min_height": null,
            "min_width": null,
            "object_fit": null,
            "object_position": null,
            "order": null,
            "overflow": null,
            "overflow_x": null,
            "overflow_y": null,
            "padding": null,
            "right": null,
            "top": null,
            "visibility": null,
            "width": "100%"
          }
        },
        "6953100f5d8c4fd2991452e2a0525754": {
          "model_module": "@jupyter-widgets/base",
          "model_name": "LayoutModel",
          "model_module_version": "1.2.0",
          "state": {
            "_model_module": "@jupyter-widgets/base",
            "_model_module_version": "1.2.0",
            "_model_name": "LayoutModel",
            "_view_count": null,
            "_view_module": "@jupyter-widgets/base",
            "_view_module_version": "1.2.0",
            "_view_name": "LayoutView",
            "align_content": null,
            "align_items": null,
            "align_self": null,
            "border": null,
            "bottom": null,
            "display": null,
            "flex": null,
            "flex_flow": null,
            "grid_area": null,
            "grid_auto_columns": null,
            "grid_auto_flow": null,
            "grid_auto_rows": null,
            "grid_column": null,
            "grid_gap": null,
            "grid_row": null,
            "grid_template_areas": null,
            "grid_template_columns": null,
            "grid_template_rows": null,
            "height": null,
            "justify_content": null,
            "justify_items": null,
            "left": null,
            "margin": null,
            "max_height": null,
            "max_width": null,
            "min_height": null,
            "min_width": null,
            "object_fit": null,
            "object_position": null,
            "order": null,
            "overflow": null,
            "overflow_x": null,
            "overflow_y": null,
            "padding": null,
            "right": null,
            "top": null,
            "visibility": null,
            "width": null
          }
        },
        "0e58245844ab42d3a3931e495ebb1d22": {
          "model_module": "@jupyter-widgets/controls",
          "model_name": "DescriptionStyleModel",
          "model_module_version": "1.5.0",
          "state": {
            "_model_module": "@jupyter-widgets/controls",
            "_model_module_version": "1.5.0",
            "_model_name": "DescriptionStyleModel",
            "_view_count": null,
            "_view_module": "@jupyter-widgets/base",
            "_view_module_version": "1.2.0",
            "_view_name": "StyleView",
            "description_width": ""
          }
        },
        "b739030b4dd64588954f0458c13171d9": {
          "model_module": "@jupyter-widgets/base",
          "model_name": "LayoutModel",
          "model_module_version": "1.2.0",
          "state": {
            "_model_module": "@jupyter-widgets/base",
            "_model_module_version": "1.2.0",
            "_model_name": "LayoutModel",
            "_view_count": null,
            "_view_module": "@jupyter-widgets/base",
            "_view_module_version": "1.2.0",
            "_view_name": "LayoutView",
            "align_content": null,
            "align_items": null,
            "align_self": null,
            "border": null,
            "bottom": null,
            "display": null,
            "flex": "2",
            "flex_flow": null,
            "grid_area": null,
            "grid_auto_columns": null,
            "grid_auto_flow": null,
            "grid_auto_rows": null,
            "grid_column": null,
            "grid_gap": null,
            "grid_row": null,
            "grid_template_areas": null,
            "grid_template_columns": null,
            "grid_template_rows": null,
            "height": null,
            "justify_content": null,
            "justify_items": null,
            "left": null,
            "margin": null,
            "max_height": null,
            "max_width": null,
            "min_height": null,
            "min_width": null,
            "object_fit": null,
            "object_position": null,
            "order": null,
            "overflow": null,
            "overflow_x": null,
            "overflow_y": null,
            "padding": null,
            "right": null,
            "top": null,
            "visibility": null,
            "width": null
          }
        },
        "12ef13dcba2d46ad849473602cbdcbea": {
          "model_module": "@jupyter-widgets/controls",
          "model_name": "ProgressStyleModel",
          "model_module_version": "1.5.0",
          "state": {
            "_model_module": "@jupyter-widgets/controls",
            "_model_module_version": "1.5.0",
            "_model_name": "ProgressStyleModel",
            "_view_count": null,
            "_view_module": "@jupyter-widgets/base",
            "_view_module_version": "1.2.0",
            "_view_name": "StyleView",
            "bar_color": null,
            "description_width": ""
          }
        },
        "ffbc7c379d1e47c4a061a0216352dd86": {
          "model_module": "@jupyter-widgets/base",
          "model_name": "LayoutModel",
          "model_module_version": "1.2.0",
          "state": {
            "_model_module": "@jupyter-widgets/base",
            "_model_module_version": "1.2.0",
            "_model_name": "LayoutModel",
            "_view_count": null,
            "_view_module": "@jupyter-widgets/base",
            "_view_module_version": "1.2.0",
            "_view_name": "LayoutView",
            "align_content": null,
            "align_items": null,
            "align_self": null,
            "border": null,
            "bottom": null,
            "display": null,
            "flex": null,
            "flex_flow": null,
            "grid_area": null,
            "grid_auto_columns": null,
            "grid_auto_flow": null,
            "grid_auto_rows": null,
            "grid_column": null,
            "grid_gap": null,
            "grid_row": null,
            "grid_template_areas": null,
            "grid_template_columns": null,
            "grid_template_rows": null,
            "height": null,
            "justify_content": null,
            "justify_items": null,
            "left": null,
            "margin": null,
            "max_height": null,
            "max_width": null,
            "min_height": null,
            "min_width": null,
            "object_fit": null,
            "object_position": null,
            "order": null,
            "overflow": null,
            "overflow_x": null,
            "overflow_y": null,
            "padding": null,
            "right": null,
            "top": null,
            "visibility": null,
            "width": null
          }
        },
        "e9b7e298f8764618bfd8389506ff039b": {
          "model_module": "@jupyter-widgets/controls",
          "model_name": "DescriptionStyleModel",
          "model_module_version": "1.5.0",
          "state": {
            "_model_module": "@jupyter-widgets/controls",
            "_model_module_version": "1.5.0",
            "_model_name": "DescriptionStyleModel",
            "_view_count": null,
            "_view_module": "@jupyter-widgets/base",
            "_view_module_version": "1.2.0",
            "_view_name": "StyleView",
            "description_width": ""
          }
        },
        "d328a5e226dc46868dbbe7141e8659a8": {
          "model_module": "@jupyter-widgets/controls",
          "model_name": "HBoxModel",
          "model_module_version": "1.5.0",
          "state": {
            "_dom_classes": [],
            "_model_module": "@jupyter-widgets/controls",
            "_model_module_version": "1.5.0",
            "_model_name": "HBoxModel",
            "_view_count": null,
            "_view_module": "@jupyter-widgets/controls",
            "_view_module_version": "1.5.0",
            "_view_name": "HBoxView",
            "box_style": "",
            "children": [
              "IPY_MODEL_6a19618b8c544c3388c1ef36b7cc25b9",
              "IPY_MODEL_cc81dcda46404942aaa75a5ebf8726cb",
              "IPY_MODEL_74af20492154416a9dbe503d6b7d60d7"
            ],
            "layout": "IPY_MODEL_29c2ce18409c4752b957646008dfbd15"
          }
        },
        "6a19618b8c544c3388c1ef36b7cc25b9": {
          "model_module": "@jupyter-widgets/controls",
          "model_name": "HTMLModel",
          "model_module_version": "1.5.0",
          "state": {
            "_dom_classes": [],
            "_model_module": "@jupyter-widgets/controls",
            "_model_module_version": "1.5.0",
            "_model_name": "HTMLModel",
            "_view_count": null,
            "_view_module": "@jupyter-widgets/controls",
            "_view_module_version": "1.5.0",
            "_view_name": "HTMLView",
            "description": "",
            "description_tooltip": null,
            "layout": "IPY_MODEL_b3431a4fd3ab49c9bc8211246992b369",
            "placeholder": "​",
            "style": "IPY_MODEL_2ff03b8eb69e4e1d8da268ca06e3716f",
            "value": "Testing DataLoader 0: 100%"
          }
        },
        "cc81dcda46404942aaa75a5ebf8726cb": {
          "model_module": "@jupyter-widgets/controls",
          "model_name": "FloatProgressModel",
          "model_module_version": "1.5.0",
          "state": {
            "_dom_classes": [],
            "_model_module": "@jupyter-widgets/controls",
            "_model_module_version": "1.5.0",
            "_model_name": "FloatProgressModel",
            "_view_count": null,
            "_view_module": "@jupyter-widgets/controls",
            "_view_module_version": "1.5.0",
            "_view_name": "ProgressView",
            "bar_style": "success",
            "description": "",
            "description_tooltip": null,
            "layout": "IPY_MODEL_1b4952a561ce4b8b9186a870b5ea892d",
            "max": 1999,
            "min": 0,
            "orientation": "horizontal",
            "style": "IPY_MODEL_9d48002b76974ba7bf8af24e566cd1de",
            "value": 1999
          }
        },
        "74af20492154416a9dbe503d6b7d60d7": {
          "model_module": "@jupyter-widgets/controls",
          "model_name": "HTMLModel",
          "model_module_version": "1.5.0",
          "state": {
            "_dom_classes": [],
            "_model_module": "@jupyter-widgets/controls",
            "_model_module_version": "1.5.0",
            "_model_name": "HTMLModel",
            "_view_count": null,
            "_view_module": "@jupyter-widgets/controls",
            "_view_module_version": "1.5.0",
            "_view_name": "HTMLView",
            "description": "",
            "description_tooltip": null,
            "layout": "IPY_MODEL_fb38f1a81bad4becb04fab57ab1ed693",
            "placeholder": "​",
            "style": "IPY_MODEL_30f99b1b2fe0430e97dcd0b1d9b73b1a",
            "value": " 1999/1999 [00:03&lt;00:00, 504.62it/s]"
          }
        },
        "29c2ce18409c4752b957646008dfbd15": {
          "model_module": "@jupyter-widgets/base",
          "model_name": "LayoutModel",
          "model_module_version": "1.2.0",
          "state": {
            "_model_module": "@jupyter-widgets/base",
            "_model_module_version": "1.2.0",
            "_model_name": "LayoutModel",
            "_view_count": null,
            "_view_module": "@jupyter-widgets/base",
            "_view_module_version": "1.2.0",
            "_view_name": "LayoutView",
            "align_content": null,
            "align_items": null,
            "align_self": null,
            "border": null,
            "bottom": null,
            "display": "inline-flex",
            "flex": null,
            "flex_flow": "row wrap",
            "grid_area": null,
            "grid_auto_columns": null,
            "grid_auto_flow": null,
            "grid_auto_rows": null,
            "grid_column": null,
            "grid_gap": null,
            "grid_row": null,
            "grid_template_areas": null,
            "grid_template_columns": null,
            "grid_template_rows": null,
            "height": null,
            "justify_content": null,
            "justify_items": null,
            "left": null,
            "margin": null,
            "max_height": null,
            "max_width": null,
            "min_height": null,
            "min_width": null,
            "object_fit": null,
            "object_position": null,
            "order": null,
            "overflow": null,
            "overflow_x": null,
            "overflow_y": null,
            "padding": null,
            "right": null,
            "top": null,
            "visibility": null,
            "width": "100%"
          }
        },
        "b3431a4fd3ab49c9bc8211246992b369": {
          "model_module": "@jupyter-widgets/base",
          "model_name": "LayoutModel",
          "model_module_version": "1.2.0",
          "state": {
            "_model_module": "@jupyter-widgets/base",
            "_model_module_version": "1.2.0",
            "_model_name": "LayoutModel",
            "_view_count": null,
            "_view_module": "@jupyter-widgets/base",
            "_view_module_version": "1.2.0",
            "_view_name": "LayoutView",
            "align_content": null,
            "align_items": null,
            "align_self": null,
            "border": null,
            "bottom": null,
            "display": null,
            "flex": null,
            "flex_flow": null,
            "grid_area": null,
            "grid_auto_columns": null,
            "grid_auto_flow": null,
            "grid_auto_rows": null,
            "grid_column": null,
            "grid_gap": null,
            "grid_row": null,
            "grid_template_areas": null,
            "grid_template_columns": null,
            "grid_template_rows": null,
            "height": null,
            "justify_content": null,
            "justify_items": null,
            "left": null,
            "margin": null,
            "max_height": null,
            "max_width": null,
            "min_height": null,
            "min_width": null,
            "object_fit": null,
            "object_position": null,
            "order": null,
            "overflow": null,
            "overflow_x": null,
            "overflow_y": null,
            "padding": null,
            "right": null,
            "top": null,
            "visibility": null,
            "width": null
          }
        },
        "2ff03b8eb69e4e1d8da268ca06e3716f": {
          "model_module": "@jupyter-widgets/controls",
          "model_name": "DescriptionStyleModel",
          "model_module_version": "1.5.0",
          "state": {
            "_model_module": "@jupyter-widgets/controls",
            "_model_module_version": "1.5.0",
            "_model_name": "DescriptionStyleModel",
            "_view_count": null,
            "_view_module": "@jupyter-widgets/base",
            "_view_module_version": "1.2.0",
            "_view_name": "StyleView",
            "description_width": ""
          }
        },
        "1b4952a561ce4b8b9186a870b5ea892d": {
          "model_module": "@jupyter-widgets/base",
          "model_name": "LayoutModel",
          "model_module_version": "1.2.0",
          "state": {
            "_model_module": "@jupyter-widgets/base",
            "_model_module_version": "1.2.0",
            "_model_name": "LayoutModel",
            "_view_count": null,
            "_view_module": "@jupyter-widgets/base",
            "_view_module_version": "1.2.0",
            "_view_name": "LayoutView",
            "align_content": null,
            "align_items": null,
            "align_self": null,
            "border": null,
            "bottom": null,
            "display": null,
            "flex": "2",
            "flex_flow": null,
            "grid_area": null,
            "grid_auto_columns": null,
            "grid_auto_flow": null,
            "grid_auto_rows": null,
            "grid_column": null,
            "grid_gap": null,
            "grid_row": null,
            "grid_template_areas": null,
            "grid_template_columns": null,
            "grid_template_rows": null,
            "height": null,
            "justify_content": null,
            "justify_items": null,
            "left": null,
            "margin": null,
            "max_height": null,
            "max_width": null,
            "min_height": null,
            "min_width": null,
            "object_fit": null,
            "object_position": null,
            "order": null,
            "overflow": null,
            "overflow_x": null,
            "overflow_y": null,
            "padding": null,
            "right": null,
            "top": null,
            "visibility": null,
            "width": null
          }
        },
        "9d48002b76974ba7bf8af24e566cd1de": {
          "model_module": "@jupyter-widgets/controls",
          "model_name": "ProgressStyleModel",
          "model_module_version": "1.5.0",
          "state": {
            "_model_module": "@jupyter-widgets/controls",
            "_model_module_version": "1.5.0",
            "_model_name": "ProgressStyleModel",
            "_view_count": null,
            "_view_module": "@jupyter-widgets/base",
            "_view_module_version": "1.2.0",
            "_view_name": "StyleView",
            "bar_color": null,
            "description_width": ""
          }
        },
        "fb38f1a81bad4becb04fab57ab1ed693": {
          "model_module": "@jupyter-widgets/base",
          "model_name": "LayoutModel",
          "model_module_version": "1.2.0",
          "state": {
            "_model_module": "@jupyter-widgets/base",
            "_model_module_version": "1.2.0",
            "_model_name": "LayoutModel",
            "_view_count": null,
            "_view_module": "@jupyter-widgets/base",
            "_view_module_version": "1.2.0",
            "_view_name": "LayoutView",
            "align_content": null,
            "align_items": null,
            "align_self": null,
            "border": null,
            "bottom": null,
            "display": null,
            "flex": null,
            "flex_flow": null,
            "grid_area": null,
            "grid_auto_columns": null,
            "grid_auto_flow": null,
            "grid_auto_rows": null,
            "grid_column": null,
            "grid_gap": null,
            "grid_row": null,
            "grid_template_areas": null,
            "grid_template_columns": null,
            "grid_template_rows": null,
            "height": null,
            "justify_content": null,
            "justify_items": null,
            "left": null,
            "margin": null,
            "max_height": null,
            "max_width": null,
            "min_height": null,
            "min_width": null,
            "object_fit": null,
            "object_position": null,
            "order": null,
            "overflow": null,
            "overflow_x": null,
            "overflow_y": null,
            "padding": null,
            "right": null,
            "top": null,
            "visibility": null,
            "width": null
          }
        },
        "30f99b1b2fe0430e97dcd0b1d9b73b1a": {
          "model_module": "@jupyter-widgets/controls",
          "model_name": "DescriptionStyleModel",
          "model_module_version": "1.5.0",
          "state": {
            "_model_module": "@jupyter-widgets/controls",
            "_model_module_version": "1.5.0",
            "_model_name": "DescriptionStyleModel",
            "_view_count": null,
            "_view_module": "@jupyter-widgets/base",
            "_view_module_version": "1.2.0",
            "_view_name": "StyleView",
            "description_width": ""
          }
        }
      }
    }
  },
  "nbformat": 4,
  "nbformat_minor": 0
}