{
  "cells": [
    {
      "cell_type": "markdown",
      "metadata": {
        "id": "qHEPN3bgxBOa"
      },
      "source": [
        "# Introduction\n",
        "For more details, could refer to the [pdf report](https://github.com/DavideEspositoPelella/Anomaly_Detection_GAN_Based.git/Report) or the [GitHub repository](https://github.com/DavideEspositoPelella/Anomaly_Detection_GAN_Based.git)  <a href=\"https://github.com/DavideEspositoPelella/Anomaly_Detection_GAN_Based.git\"><img src=\"https://github.githubassets.com/pinned-octocat.svg\" alt=\"GitHub\" height=\"30\" style=\"filter: invert(1);\"></a>.\n",
        "\n",
        "The following Colab notebook represents the work carried out within the context of the Deep Learning Project, which takes its starting point from the paper: [[1]](#Bibliography) _**GAN-based Anomaly Detection in Imbalance Problems**_. \n",
        "\n",
        "It revisits the state-of-arts as presented in the research mentioned and includes 2 comparative baselines: a RandomGuesser and an Autoencoder. Subsequently, it assesses their performances by utilizing the [[3]](#Bibliography) _AUROC (Area Under the Receiver Operating Characteristic)_ metric.\n",
        "\n",
        "<a href=\"https://colab.research.google.com/drive/1XKohwPFibuQDeruwHoRtRP4fjYGqGN3M?usp=drive_link\"><img src=\"https://colab.research.google.com/assets/colab-badge.svg\" alt=\"google colab logo\" height=30px></a>\n",
        "\n",
        "Unfortunately the presented work was had dealed with hardware limitations, which, because provided by the Google Colab service, restricted the GPU availability time. \n"
      ]
    },
    {
      "cell_type": "markdown",
      "metadata": {
        "id": "0On3TmcOxBOb"
      },
      "source": [
        "# Imports\n",
        "Importing all the libraries and dependencies needed."
      ]
    },
    {
      "cell_type": "code",
      "execution_count": null,
      "metadata": {
        "id": "DGPEz596xBOc"
      },
      "outputs": [],
      "source": [
        "! pip install --quiet \"pytorch-lightning\"\n",
        "! pip install --quiet gdown"
      ]
    },
    {
      "cell_type": "code",
      "execution_count": 1,
      "metadata": {
        "colab": {
          "base_uri": "https://localhost:8080/"
        },
        "id": "q9w43eUVxBOc",
        "outputId": "857dc700-c106-4707-b15f-9ab2daf096b5"
      },
      "outputs": [
        {
          "name": "stdout",
          "output_type": "stream",
          "text": [
            "Lightning version: 2.0.7\n",
            "PyTorch version: 2.0.1+cu118\n",
            "Python version: 3.10.8\n"
          ]
        }
      ],
      "source": [
        "import os\n",
        "import torch\n",
        "import torch.nn as nn\n",
        "import pytorch_lightning as pl\n",
        "import torchvision.transforms as T\n",
        "from torchvision.datasets import FashionMNIST\n",
        "from pytorch_lightning.callbacks.early_stopping import EarlyStopping\n",
        "from pytorch_lightning.callbacks.progress import TQDMProgressBar\n",
        "from pytorch_lightning.loggers import TensorBoardLogger\n",
        "from pytorch_lightning.callbacks import ModelCheckpoint\n",
        "import torch.nn.functional as F\n",
        "from sklearn.metrics import roc_auc_score\n",
        "import matplotlib.pyplot as plt\n",
        "import numpy as np\n",
        "from sklearn.cluster import KMeans\n",
        "import platform\n",
        "import random\n",
        "\n",
        "print(\"Lightning version:\", pl.__version__)\n",
        "print(\"PyTorch version:\", torch.__version__)\n",
        "print(\"Python version:\", platform.python_version())\n"
      ]
    },
    {
      "cell_type": "markdown",
      "metadata": {},
      "source": [
        "Setting a seed for reproducibility"
      ]
    },
    {
      "cell_type": "code",
      "execution_count": 2,
      "metadata": {
        "colab": {
          "base_uri": "https://localhost:8080/"
        },
        "id": "Mmnlm0UTxBOd",
        "outputId": "3550e7c3-8e3c-457c-89bb-fdbcaa940ac6"
      },
      "outputs": [
        {
          "name": "stderr",
          "output_type": "stream",
          "text": [
            "Global seed set to 42\n"
          ]
        },
        {
          "data": {
            "text/plain": [
              "42"
            ]
          },
          "execution_count": 2,
          "metadata": {},
          "output_type": "execute_result"
        }
      ],
      "source": [
        "pl.seed_everything(42)"
      ]
    },
    {
      "cell_type": "markdown",
      "metadata": {
        "id": "0WRAOEcQxBOd"
      },
      "source": [
        "# Dataset and Preprocessing\n",
        "The pythorch lightning class _AnomalyDetectionDataModule_ allow to load autonomously the dataset of FashionMNIST [[2]](#bibliography), preprocess it and then performing training and testing. \n",
        "\n",
        "In the class is defined a custom function _Rotation3_ to perform augmentation on the images by randomly rotating them as showed in the research paper. Then, togheter with this were performed other augmentations to improve the perfromances.\n",
        "\n",
        "The DataModule class, perform also the preprocessing needed to deal with the unbalance problem discussed in the paper. To do this it allow to divide the dataset, originaly composed of 10 classes, into 2 as 'normal' and 'anomal', by setting by input the value of _normal_class_ variable and automatically setting al the remaining classes as anomal. \n",
        "\n",
        "At this point the dataset is clearly unbalanced, for this reason is used the _kmeans_sampling_ function. It uses for the normal class all the available samples (could be reduced by choice), while a sampling is performed to get the same number of samples for the anomal class. In order to consider the distribution of the data is used a k-means clustering of the remaining classes before the sampling."
      ]
    },
    {
      "cell_type": "code",
      "execution_count": 3,
      "metadata": {
        "id": "qMSwvlyJxBOd"
      },
      "outputs": [],
      "source": [
        "# Randomly rotate the images by 90, 180, or 270 degrees\n",
        "class Rotation3:\n",
        "    def __call__(self, img):\n",
        "        angle = random.choice([0, 90, 180, 270])\n",
        "        img = T.functional.rotate(img, angle)\n",
        "        return img\n",
        "\n",
        "# DataModule\n",
        "class AnomalyDetectionDataModule(pl.LightningDataModule):\n",
        "    def __init__(self, batch_size, subsampling, subsamples, model, normal_class, data_dir=\"./\"):\n",
        "        super().__init__()\n",
        "\n",
        "        self.model = model\n",
        "        self.normal_class = normal_class\n",
        "        self.subsampling = subsampling\n",
        "        self.subsamples = subsamples\n",
        "\n",
        "        self.train_transform = T.Compose([\n",
        "            T.Resize(32),\n",
        "            T.RandomVerticalFlip(),\n",
        "            T.RandomHorizontalFlip(),\n",
        "            T.RandomCrop(30),\n",
        "            T.Resize(32),\n",
        "            T.Grayscale(1),  # Use 1 channel (grayscale)\n",
        "            T.RandomApply([Rotation3()], p=1),\n",
        "            T.ToTensor(),\n",
        "            T.Normalize([0.5], [0.5])\n",
        "        ])\n",
        "        self.test_transform = T.Compose([\n",
        "            T.Resize(32),\n",
        "            T.Grayscale(1),  # Use 1 channel (grayscale)\n",
        "            T.ToTensor(),\n",
        "            T.Normalize([0.5], [0.5])\n",
        "        ])\n",
        "\n",
        "        self.data_dir = data_dir\n",
        "        self.dataset_classes = 10\n",
        "        self.num_classes = 2  # Normal and Anomaly\n",
        "        self.batch_size = batch_size\n",
        "        self.num_clusters = self.dataset_classes - 1\n",
        "        self.subsamples = subsamples\n",
        "        self.subsampling = subsampling\n",
        "\n",
        "    # K-means based sampling of anomal classes\n",
        "    def kmeans_sampling(self, dataset, normal_class, num_samples):\n",
        "        indices = [i for i in range(len(dataset)) if dataset.targets[i] != normal_class]\n",
        "        class_data = torch.stack([dataset[i][0] for i in indices])\n",
        "        kmeans = KMeans(n_clusters=self.num_clusters, random_state=0, n_init=9)\n",
        "        kmeans.fit(class_data.view(class_data.size(0), -1).numpy())\n",
        "        cluster_assignments = kmeans.predict(class_data.view(class_data.size(0), -1).numpy())\n",
        "        sampled_indices = []\n",
        "        for cluster_idx in range(self.num_clusters):\n",
        "            cluster_indices = np.where(cluster_assignments == cluster_idx)[0]\n",
        "            num_samples_from_cluster = num_samples//self.num_clusters\n",
        "            sampled_indices.extend(np.random.choice(cluster_indices, num_samples_from_cluster, replace=False))\n",
        "        return [indices[idx] for idx in sampled_indices]\n",
        "\n",
        "    def prepare_data(self):\n",
        "        FashionMNIST(root=self.data_dir, train=True, download=True)\n",
        "\n",
        "    def setup(self, stage=None):\n",
        "\n",
        "        if stage == 'fit' or stage is None: # Setup dataset for training phase\n",
        "\n",
        "            if self.model == 'GAN' or self.model == 'RG':\n",
        "                all_data = []\n",
        "                all_labels = []\n",
        "                normal_data  = []\n",
        "                anomal_data = []\n",
        "                normal_class = self.normal_class\n",
        "\n",
        "                # Load dataset\n",
        "                train_dataset = FashionMNIST(root=self.data_dir, train=True, transform=self.train_transform)\n",
        "\n",
        "                # Use 1 class as 'normal' and the other as 'anomal'\n",
        "                normal_indices = [i for i in range(len(train_dataset)) if train_dataset.targets[i] == normal_class]\n",
        "                anomal_indices = self.kmeans_sampling(train_dataset, normal_class, num_samples=len(normal_indices))\n",
        "\n",
        "                # Use only a subset of dataset\n",
        "                if self.subsampling == True:\n",
        "                    normal_indices = normal_indices[:self.subsamples]\n",
        "                    anomal_indices = anomal_indices[:self.subsamples]\n",
        "\n",
        "                normal_labels = torch.ones(len(normal_indices), dtype=torch.float32)\n",
        "                anomal_labels = torch.zeros(len(anomal_indices), dtype=torch.float32)\n",
        "\n",
        "                normal_data.extend([train_dataset[i][0] for i in normal_indices])\n",
        "                anomal_data.extend([train_dataset[i][0] for i in anomal_indices])\n",
        "\n",
        "                all_data.extend(normal_data)\n",
        "                all_data.extend(anomal_data)\n",
        "                all_labels.extend(normal_labels)\n",
        "                all_labels.extend(anomal_labels)\n",
        "\n",
        "                all_data = torch.stack(all_data)\n",
        "                all_labels = torch.tensor(all_labels)\n",
        "\n",
        "                # Build the new dataset following requirements\n",
        "                self.train_dataset = torch.utils.data.TensorDataset(all_data, all_labels)\n",
        "\n",
        "            else:\n",
        "                all_data = []\n",
        "                all_labels = []\n",
        "                normal_data  = []\n",
        "                normal_class = self.normal_class\n",
        "\n",
        "                # Load dataset\n",
        "                train_dataset = FashionMNIST(root=self.data_dir, train=True, transform=self.train_transform)\n",
        "\n",
        "                # Use only one class\n",
        "                normal_indices = [i for i in range(len(train_dataset)) if train_dataset.targets[i] == normal_class]\n",
        "\n",
        "                # Use only a subset of dataset\n",
        "                if self.subsampling == True:\n",
        "                    normal_indices = normal_indices[:self.subsamples]\n",
        "\n",
        "                normal_labels = torch.ones(len(normal_indices), dtype=torch.float32)\n",
        "\n",
        "                normal_data.extend([train_dataset[i][0] for i in normal_indices])\n",
        "\n",
        "                all_data.extend(normal_data)\n",
        "                all_labels.extend(normal_labels)\n",
        "\n",
        "                all_data = torch.stack(all_data)\n",
        "                all_labels = torch.tensor(all_labels)\n",
        "\n",
        "                # Build the new dataset following requirements\n",
        "                self.train_dataset = torch.utils.data.TensorDataset(all_data, all_labels)\n",
        "                \n",
        "\n",
        "        if stage == 'test' or stage is None: # Setup dataset for training phase\n",
        "\n",
        "            all_data = []\n",
        "            all_labels = []\n",
        "            normal_data  = []\n",
        "            anomal_data = []\n",
        "            normal_class = self.normal_class\n",
        "\n",
        "            # Load test dataset\n",
        "            test_dataset = FashionMNIST(root=self.data_dir, train=False, transform=self.test_transform)\n",
        "\n",
        "            normal_indices = [i for i in range(len(test_dataset)) if test_dataset.targets[i] == normal_class]\n",
        "            anomal_indices = self.kmeans_sampling(test_dataset, normal_class, num_samples=len(normal_indices))\n",
        "\n",
        "            if self.subsampling == True:\n",
        "                normal_indices = normal_indices[:self.subsamples]\n",
        "                anomal_indices = anomal_indices[:self.subsamples]\n",
        "\n",
        "            normal_labels = torch.ones(len(normal_indices), dtype=torch.float32)\n",
        "            anomal_labels = torch.zeros(len(anomal_indices), dtype=torch.float32)\n",
        "\n",
        "            normal_data.extend([test_dataset[i][0] for i in normal_indices])\n",
        "            anomal_data.extend([test_dataset[i][0] for i in anomal_indices])\n",
        "\n",
        "            all_data.extend(normal_data)\n",
        "            all_data.extend(anomal_data)\n",
        "            all_labels.extend(normal_labels)\n",
        "            all_labels.extend(anomal_labels)\n",
        "\n",
        "            all_data = torch.stack(all_data)\n",
        "            all_labels = torch.tensor(all_labels)\n",
        "\n",
        "            # Build the new dataset\n",
        "            self.test_dataset = torch.utils.data.TensorDataset(all_data, all_labels)\n",
        "\n",
        "    def train_dataloader(self):\n",
        "        return torch.utils.data.DataLoader(self.train_dataset, batch_size=self.batch_size, shuffle=True)\n",
        "\n",
        "    def test_dataloader(self):\n",
        "        return torch.utils.data.DataLoader(self.test_dataset, batch_size=self.batch_size, shuffle=True)\n"
      ]
    },
    {
      "cell_type": "markdown",
      "metadata": {
        "id": "aRHgPja_xBOe"
      },
      "source": [
        "# Models\n",
        "Here follows the 3 models, each  defined as _LightningModule_ and modular with the DataModule previously defined."
      ]
    },
    {
      "cell_type": "markdown",
      "metadata": {
        "id": "UnmatNdWxBOe"
      },
      "source": [
        "## GAN\n",
        "The GAN-based takes place from the state-of-art approach presented in the paper [[1]](#bibliography). It consists of a Generator and two Discriminators (Normal and Anomal):\n",
        "- **Generator** = Takes the symmetrical structure from the U-Net[[4]](#bibliography). It consits of four 4x4 convolutions with stride 2 and four transposed convolutions;\n",
        "- **Discriminator** = Is a general CNN network. It consists of three 4x4 convolutions with stride 2, followed by two 4x4 convolutions with stride 1.\n",
        "\n",
        "The 2 discriminators are used only in the training phase, while the _generator_ is trained to output 1 from normal data and 0 from anomaly data  thanls to the double _discriminator_, where a single one would have leaded to correctly identify only the normal data.\n",
        "\n",
        "For the training where used 8 loss functions, 6 for the _generator_, 1 for _normal_discriminator_ and 1 for _anomal_discriminator_ , resulting in a final weighted sum of the losses to update the weights, separately for normal and anomal in order to solve loss scale imbalance. "
      ]
    },
    {
      "cell_type": "code",
      "execution_count": 4,
      "metadata": {
        "id": "jER6pdMaxBOe"
      },
      "outputs": [],
      "source": [
        "\n",
        "class ENCODER(pl.LightningModule):\n",
        "    def __init__(self):\n",
        "        super().__init__()\n",
        "\n",
        "        self.conv1 = nn.Conv2d(in_channels=1, out_channels=64, kernel_size=4, stride=2, padding=1)  #out 16x16\n",
        "        self.conv2 = nn.Conv2d(in_channels=64, out_channels=128, kernel_size=4, stride=2, padding=1) #out 8x8\n",
        "        self.conv3 = nn.Conv2d(in_channels=128, out_channels=256, kernel_size=4, stride=2, padding=1) #out 4x4\n",
        "        self.conv4 = nn.Conv2d(in_channels=256, out_channels=512, kernel_size=4, stride=2, padding=1) #out 2x2\n",
        "\n",
        "    def forward(self, x):\n",
        "        x = F.relu(self.conv1(x))\n",
        "        x = F.relu(self.conv2(x))\n",
        "        x = F.relu(self.conv3(x))\n",
        "        x = F.relu(self.conv4(x))\n",
        "        return x\n",
        "\n",
        "class DECODER(pl.LightningModule):\n",
        "    def __init__(self):\n",
        "        super().__init__()\n",
        "\n",
        "        self.tr_conv1 = nn.ConvTranspose2d(in_channels=512, out_channels=256, kernel_size=4, stride=2, padding=1) #out 4x4\n",
        "        self.tr_conv2 = nn.ConvTranspose2d(in_channels=256, out_channels=128, kernel_size=4, stride=2, padding=1) #out 8x8\n",
        "        self.tr_conv3 = nn.ConvTranspose2d(in_channels=128, out_channels=64, kernel_size=4, stride=2, padding=1) #out 16x16\n",
        "        self.tr_conv4 = nn.ConvTranspose2d(in_channels=64, out_channels=1, kernel_size=4, stride=2, padding=1) #out 32x32\n",
        "\n",
        "    def forward(self, x):\n",
        "        x = F.relu(self.tr_conv1(x))\n",
        "        x = F.relu(self.tr_conv2(x))\n",
        "        x = F.relu(self.tr_conv3(x))\n",
        "        x = F.tanh(self.tr_conv4(x))\n",
        "        return x\n",
        "\n",
        "\n",
        "class GENERATOR(pl.LightningModule):\n",
        "    def __init__(self):\n",
        "        super().__init__()\n",
        "\n",
        "        self.encoder = ENCODER()\n",
        "        self.decoder = DECODER()\n",
        "\n",
        "    def forward(self, x):\n",
        "        x = self.encoder(x)\n",
        "        x = self.decoder(x)\n",
        "        return x\n",
        "\n",
        "\n",
        "class DISCRIMINATOR(pl.LightningModule):\n",
        "    def __init__(self):\n",
        "        super().__init__()\n",
        "\n",
        "        self.conv1 = nn.Conv2d(in_channels=1, out_channels=64, kernel_size=4, stride=2, padding=1)  #out 32x16x16\n",
        "        self.conv2 = nn.Conv2d(in_channels=64, out_channels=128, kernel_size=4, stride=2, padding=1) #out 64x8x8\n",
        "        self.conv3 = nn.Conv2d(in_channels=128, out_channels=64, kernel_size=4, stride=2, padding=1) #out 128x4x4\n",
        "        self.conv4 = nn.Conv2d(in_channels=64, out_channels=32, kernel_size=4, stride=1, padding=1) #out 32x3x3\n",
        "        self.conv5 = nn.Conv2d(in_channels=32, out_channels=1, kernel_size=4, stride=1, padding=1) #out 1x2x2\n",
        "\n",
        "    def forward(self, x):\n",
        "        x = F.relu(self.conv1(x))\n",
        "        x = F.relu(self.conv2(x))\n",
        "        x = F.relu(self.conv3(x))\n",
        "        x = F.relu(self.conv4(x))\n",
        "        x = F.relu(self.conv5(x))\n",
        "        return x\n",
        "\n",
        "\n",
        "class GAN_SOTA(pl.LightningModule):\n",
        "    def __init__(self, lr=0.0002, display=False, b1=0.5, b2=0.999):\n",
        "        super().__init__()\n",
        "        self.lr = lr\n",
        "        self.display = display\n",
        "\n",
        "        self.save_hyperparameters()\n",
        "        self.G = GENERATOR()\n",
        "        self.Enc = self.G.encoder\n",
        "        self.D_norm = DISCRIMINATOR()\n",
        "        self.D_anom = DISCRIMINATOR()\n",
        "\n",
        "        self.automatic_optimization = False\n",
        "        self.test_step_outputs = [[], []]  # two dataloaders\n",
        "        self.auroc = 0\n",
        "\n",
        "    def forward(self, x):\n",
        "        return self.G(x)\n",
        "\n",
        "    def print_generator_parameters(self):\n",
        "        for name, param in self.G.named_parameters():\n",
        "            print(f\"Generator Parameter Name: {name}\")\n",
        "            print(f\"Parameter Value:\\n{param}\")\n",
        "\n",
        "    def patch_loss(self, X, generated_X, n=3):\n",
        "        # Calculate the L1 loss for each patch\n",
        "        patch_errors = torch.abs(X - generated_X)\n",
        "        patch_errors_reshaped = patch_errors.view(patch_errors.size(0), patch_errors.size(1), -1)\n",
        "        mean_patch_errors = patch_errors_reshaped.mean(dim=-1)\n",
        "\n",
        "        # Select the top n patches\n",
        "        sorted_patch_indices = torch.argsort(mean_patch_errors, dim=-1, descending=True)\n",
        "        top_patch_indices = sorted_patch_indices[:, :n]\n",
        "\n",
        "        # Calculate the average of the top n patch errors\n",
        "        top_patch_errors = torch.gather(mean_patch_errors, dim=-1, index=top_patch_indices)\n",
        "        avg_top_patch_errors = top_patch_errors.mean()\n",
        "        return avg_top_patch_errors\n",
        "\n",
        "    def show_batch_image(self, batch):\n",
        "        X, Y = batch\n",
        "        image = X[0].detach().cpu().numpy()\n",
        "        plt.figure(figsize=(5, 5))\n",
        "        plt.title(\"Label: {}\".format(Y[0]))\n",
        "        plt.imshow(image[0], cmap='gray')  # Assuming the input image is single-channel (gray)\n",
        "        plt.axis('off')\n",
        "        plt.show()\n",
        "\n",
        "\n",
        "    #The generator is trained to output 1 from normal data and 0 from anomaly data\n",
        "    def training_step(self, batch, batch_idx):\n",
        "        g_opt, d_norm_opt, d_anom_opt = self.optimizers()\n",
        "\n",
        "        X, Y = batch\n",
        "        batch_size = X.shape[0]\n",
        "\n",
        "        real_label = torch.ones((batch_size, 1, 2, 2), device=self.device)\n",
        "        fake_label = torch.zeros((batch_size, 1, 2, 2), device=self.device)\n",
        "\n",
        "        errD_anomal = 0\n",
        "        errD_normal = 0\n",
        "\n",
        "        if (Y.squeeze() == 1):  # Normal Case\n",
        "            generated_X = self.G(X)\n",
        "            discriminated_X = self.D_norm(X)\n",
        "            discriminated_G = self.D_norm(generated_X)\n",
        "            encoded_X = self.G.encoder(X)\n",
        "\n",
        "            # Optimize Discriminator #\n",
        "            d_norm_opt.zero_grad()\n",
        "\n",
        "            # NORM ADV LOSS\n",
        "            Norm_adv_loss = (((discriminated_X - real_label)**2) + ((discriminated_G - fake_label)**2))\n",
        "\n",
        "            errD_normal = (Norm_adv_loss.mean())\n",
        "\n",
        "            errD = errD_normal\n",
        "            self.manual_backward(errD_normal.mean())\n",
        "            d_norm_opt.step()\n",
        "\n",
        "            # Optimize Generator #\n",
        "            g_opt.zero_grad()\n",
        "\n",
        "            generated_X = self.G(X)\n",
        "            discriminated_X = self.D_norm(X)\n",
        "            discriminated_G = self.D_norm(generated_X)\n",
        "            encoded_X = self.G.encoder(X)\n",
        "\n",
        "            # L1 RECONSTRUCTION ERROR\n",
        "            l1_loss = F.l1_loss(X, generated_X)\n",
        "\n",
        "            # PATCH L1 LOSS\n",
        "            patch_loss = self.patch_loss(X, generated_X)\n",
        "\n",
        "            # LATENT VECTOR LOSS\n",
        "            latent_loss = F.l1_loss(encoded_X, self.G.encoder(generated_X))\n",
        "\n",
        "            # ADVERSARIAL LOSS\n",
        "            norm_adv_loss = ((discriminated_G - real_label)**2)\n",
        "\n",
        "            errG_normal = patch_loss*(1.5) + (norm_adv_loss)*(0.5) + (latent_loss)*(0.5) + (l1_loss)*(1.5)\n",
        "            errG = errG_normal.mean()\n",
        "            self.manual_backward(errG_normal.mean())\n",
        "            g_opt.step()\n",
        "\n",
        "            self.log_dict({\"g_loss\": torch.tensor(errG).mean(), \"d_normal_loss\": torch.tensor(errD).mean()}, prog_bar=True)\n",
        "\n",
        "        else:  # Anomal Case\n",
        "            generated_X = self.G(X)\n",
        "            discriminated_X = self.D_anom(X)\n",
        "            discriminated_G = self.D_anom(generated_X)\n",
        "\n",
        "            # Optimize Discriminator #\n",
        "            d_anom_opt.zero_grad()\n",
        "\n",
        "            # ANOM ADV LOSS\n",
        "            Anom_adv_loss = ((((discriminated_X - real_label)**2) + ((discriminated_G - fake_label)**2)))\n",
        "\n",
        "            errD_anomal = (Anom_adv_loss.mean())\n",
        "\n",
        "            errD = errD_anomal\n",
        "            self.manual_backward(errD_anomal.mean())\n",
        "            d_anom_opt.step()\n",
        "\n",
        "            # Optimize Generator #\n",
        "            g_opt.zero_grad()\n",
        "            generated_X = self.G(X)\n",
        "            discriminated_X = self.D_anom(X)\n",
        "            discriminated_G = self.D_anom(generated_X)\n",
        "            encoded_X = self.G.encoder(X)\n",
        "\n",
        "            # ANOM ADVERS LOSS\n",
        "            anom_adv_loss = ((discriminated_G - fake_label)**2)\n",
        "\n",
        "            # ABC LOSS\n",
        "            abc_loss = -torch.log(1 - torch.exp(-F.l1_loss(generated_X, X)))\n",
        "\n",
        "            errG_anomal = anom_adv_loss*(1) + (abc_loss)*(0.5)\n",
        "            errG = errG_anomal.mean()\n",
        "            self.manual_backward(errG_anomal.mean())\n",
        "            g_opt.step()\n",
        "\n",
        "            self.log_dict({\"g_loss\": errG, \"d_anomal_loss\": errD}, prog_bar=True)\n",
        "\n",
        "        return {\"g_loss\": errG, \"d_norm_loss\": errD_normal, \"d_anom_loss\": errD_anomal}\n",
        "\n",
        "    def test_step(self, batch, batch_idx):\n",
        "        X, Y = batch\n",
        "\n",
        "        generated_X = self.G(X)\n",
        "\n",
        "        # Calculate L1 reconstruction error instead of MSE\n",
        "        reconstruction_error = F.mse_loss(generated_X, X, reduction='none')\n",
        "        reconstruction_error = reconstruction_error.view(reconstruction_error.size(0), -1).mean(dim=1)  # Calculate mean error over pixels\n",
        "        self.test_step_outputs[0].append(reconstruction_error)\n",
        "        self.test_step_outputs[1].append(Y)\n",
        "\n",
        "        if self.display:\n",
        "            print(\"generated_X:\", generated_X)\n",
        "            print(\"reconstruction_error:\", reconstruction_error)\n",
        "            self.show_batch_image(batch)\n",
        "\n",
        "        return {\"reconstruction_error\": reconstruction_error, \"true_labels\": Y}\n",
        "\n",
        "    def on_test_epoch_end(self):\n",
        "        all_reconstruction_errors = torch.cat(self.test_step_outputs[0])\n",
        "        all_true_labels = torch.cat(self.test_step_outputs[1])\n",
        "\n",
        "        anomaly_threshold = 0.5\n",
        "        predicted_labels = (all_reconstruction_errors < anomaly_threshold).float().cpu().numpy()\n",
        "        true_labels = all_true_labels.squeeze().float().cpu().numpy()\n",
        "\n",
        "        # Calculate AUROC\n",
        "        auroc = roc_auc_score(true_labels, predicted_labels)\n",
        "\n",
        "        self.log(\"auroc\", (auroc), prog_bar=True)\n",
        "        self.auroc = auroc\n",
        "        \n",
        "        self.test_step_outputs = [[], []]\n",
        "\n",
        "    def on_epoch_end(self):\n",
        "        self.log('g_loss_epoch', self.trainer.logged_metrics['g_loss'].mean(), prog_bar=True)\n",
        "        self.log('d_anomal_loss_epoch', self.trainer.logged_metrics['d_anomal_loss'].mean(), prog_bar=True)\n",
        "        self.log('d_normal_loss_epoch', self.trainer.logged_metrics['d_normal_loss'].mean(), prog_bar=True)\n",
        "\n",
        "\n",
        "    def configure_optimizers(self):\n",
        "        lr = self.hparams.lr\n",
        "        b1 = self.hparams.b1\n",
        "        b2 = self.hparams.b2\n",
        "\n",
        "        opt_g = torch.optim.Adam(self.G.parameters(), lr=self.lr, betas=(b1, b2))\n",
        "        opt_d_norm = torch.optim.Adam(self.D_norm.parameters(), lr=self.lr, betas=(b1, b2))\n",
        "        opt_d_anom = torch.optim.Adam(self.D_anom.parameters(), lr=self.lr, betas=(b1, b2))\n",
        "        return opt_g, opt_d_norm, opt_d_anom\n"
      ]
    },
    {
      "cell_type": "markdown",
      "metadata": {
        "id": "RJQbxt3bxBOf"
      },
      "source": [
        "## Random Guessing\n",
        "It is a simple straitghforward approach, where is used _torch.rand()_ to randomly generates numbers in [0,1) interval, and so randomly guess between the _normal_ and _anomal_ cases. \n",
        "\n",
        "Even if not particularly effective, it represent an interesting comparison because the resulting _AUROC_ value should be 0.5 , which represents the midle possible value of the metric [0-1], drawing a straight diagonal line. "
      ]
    },
    {
      "cell_type": "code",
      "execution_count": 5,
      "metadata": {},
      "outputs": [],
      "source": [
        "class RandomGuessing(pl.LightningModule):\n",
        "    def __init__(self):\n",
        "        super().__init__()\n",
        "\n",
        "        self.test_step_outputs = [[], []]\n",
        "\n",
        "    def forward(self, x):\n",
        "        # Randomly guess between anomaly and normal classes [0-1]\n",
        "        return torch.rand(x.size(0))  # Return random scores\n",
        "\n",
        "    def test_step(self, batch, batch_idx):\n",
        "        X, Y = batch\n",
        "\n",
        "        generated_X = self(X)\n",
        "\n",
        "        # Calculate reconstruction error\n",
        "        reconstruction_error = F.mse_loss(generated_X, X, reduction='none')\n",
        "        reconstruction_error = reconstruction_error.view(reconstruction_error.size(0), -1).mean(dim=1)  # Calculate mean error over pixels\n",
        "        self.test_step_outputs[0].append(reconstruction_error)\n",
        "        self.test_step_outputs[1].append(Y)\n",
        "\n",
        "        return {\"reconstruction_error\": reconstruction_error, \"true_labels\": Y}\n",
        "\n",
        "    def on_test_epoch_end(self):\n",
        "        all_reconstruction_errors = torch.cat(self.test_step_outputs[0])\n",
        "        all_true_labels = torch.cat(self.test_step_outputs[1])\n",
        "\n",
        "        anomaly_threshold = 0.5\n",
        "        predicted_labels = (all_reconstruction_errors < anomaly_threshold).float().cpu().numpy()\n",
        "        true_labels = all_true_labels.squeeze().float().cpu().numpy()\n",
        "\n",
        "        # Calculate AUROC\n",
        "        auroc = roc_auc_score(true_labels, predicted_labels)\n",
        "\n",
        "        self.log(\"auroc\", (auroc), prog_bar=True)\n",
        "\n",
        "        # Clear the test step outputs after processing them\n",
        "        self.test_step_outputs = [[], []]\n",
        "\n",
        "    \n"
      ]
    },
    {
      "cell_type": "markdown",
      "metadata": {
        "id": "qOmGK-7rxBOf"
      },
      "source": [
        "## Autoencoder\n",
        "An autoencoder is a popular choice for anomaly detection tasks because it learns to reconstruct normal instances and tends to perform poorly on anomalous instances, showing an higher reconstruciton error. The architectures, consists of 2 main parts:\n",
        "- **encoder** = Takes the input mapping it in a lower-dimensional latent space representation. It consists of 2 convolutional layers with max-pooling;\n",
        "- **decoder** = Takes the lower-dimensional representation from the encoder and reconstructs the original data as possible. It consists of 2 transpose convolutions.\n",
        "\n",
        "For the training was used only the '_normal_class_', trying to reduce the reconstruction error (MSE between input and output). In this way the model is not trained to reproduce correctly, with a low MSE error, an unseen class, providing an higher reconstruction error used, with a thresholding approach, to correctly identify _normal_ and _anomal_ classes. "
      ]
    },
    {
      "cell_type": "code",
      "execution_count": 22,
      "metadata": {
        "id": "vHe_Q0OMxBOf"
      },
      "outputs": [],
      "source": [
        "class Autoencoder(nn.Module):\n",
        "    def __init__(self):\n",
        "        super(Autoencoder, self).__init__()\n",
        "        self.encoder = nn.Sequential(\n",
        "            nn.Conv2d(1, 16, kernel_size=3, padding=1),  \n",
        "            nn.ReLU(),\n",
        "            nn.MaxPool2d(kernel_size=2, stride=2),\n",
        "            nn.Conv2d(16, 32, kernel_size=3, padding=1),\n",
        "            nn.ReLU(),\n",
        "            nn.MaxPool2d(kernel_size=2, stride=2)\n",
        "        )\n",
        "        self.decoder = nn.Sequential(\n",
        "            nn.ConvTranspose2d(32, 16, kernel_size=2, stride=2), \n",
        "            nn.ReLU(),\n",
        "            nn.ConvTranspose2d(16, 1, kernel_size=2, stride=2),\n",
        "            nn.Sigmoid()\n",
        "        )\n",
        "\n",
        "    def forward(self, x):\n",
        "        encode = self.encoder(x)\n",
        "        decode = self.decoder(encode)\n",
        "        return decode\n",
        "\n",
        "\n",
        "class AE_based(pl.LightningModule):\n",
        "    def __init__(self, display=False, lr=0.002, b1=0.5, b2=0.999):\n",
        "        super(AE_based, self).__init__()\n",
        "        self.lr = lr\n",
        "        self.b1 = b1\n",
        "        self.b2 = b2\n",
        "        \n",
        "        self.display = display\n",
        "        self.save_hyperparameters()\n",
        "        self.AE = Autoencoder()\n",
        "        self.enc = self.AE.encoder\n",
        "\n",
        "        self.test_step_outputs = [[], []]\n",
        "\n",
        "    def show_batch_image(self, batch, generated_image):\n",
        "        X, Y = batch\n",
        "        image = X[0].detach().cpu().numpy()\n",
        "        # Display input and generated images\n",
        "        plt.figure(figsize=(9, 4))\n",
        "        string = 'Input vs. Generated Image'\n",
        "        plt.suptitle(string, fontsize=16)\n",
        "        plt.subplot(1, 2, 1)\n",
        "        plt.title('Input Image: {}'.format(Y[0]))\n",
        "        plt.imshow(image[0], cmap='gray')\n",
        "        plt.axis('off')\n",
        "\n",
        "        plt.subplot(1, 2, 2)\n",
        "        plt.title('Generated Image')\n",
        "        plt.imshow(generated_image.detach().squeeze().cpu().numpy(), cmap='gray')\n",
        "        plt.axis('off')\n",
        "\n",
        "        plt.tight_layout()\n",
        "        plt.show()\n",
        "\n",
        "    def forward(self, x):\n",
        "        return self.AE(x)\n",
        "\n",
        "    def training_step(self, batch, batch_idx):\n",
        "        X, Y = batch\n",
        "\n",
        "        generated_X = self.AE(X)\n",
        "\n",
        "        loss = F.mse_loss(X, generated_X)\n",
        "        \n",
        "        self.log('loss', loss, prog_bar=True)\n",
        "        return loss\n",
        "\n",
        "\n",
        "    def test_step(self, batch, batch_idx):\n",
        "        X, Y = batch\n",
        "\n",
        "        generated_X = self.AE(X)\n",
        "\n",
        "        # Calculate L1 reconstruction error instead of MSE\n",
        "        reconstruction_error = F.mse_loss(generated_X, X, reduction='none')\n",
        "        reconstruction_error = reconstruction_error.view(reconstruction_error.size(0), -1).mean(dim=1)  # Calculate mean error over pixels\n",
        "        self.test_step_outputs[0].append(reconstruction_error)\n",
        "        self.test_step_outputs[1].append(Y)\n",
        "\n",
        "        if self.display:\n",
        "            print(\"generated_X:\", generated_X)\n",
        "            print(\"reconstruction_error:\", reconstruction_error)\n",
        "            self.show_batch_image(batch, generated_X)\n",
        "\n",
        "        return {\"reconstruction_error\": reconstruction_error, \"true_labels\": Y}\n",
        "\n",
        "    def on_test_epoch_end(self):\n",
        "        all_reconstruction_errors = torch.cat(self.test_step_outputs[0])\n",
        "        all_true_labels = torch.cat(self.test_step_outputs[1])\n",
        "\n",
        "        anomaly_threshold = 0.5\n",
        "        predicted_labels = (all_reconstruction_errors < anomaly_threshold).float().cpu().numpy()\n",
        "        true_labels = all_true_labels.squeeze().float().cpu().numpy()\n",
        "\n",
        "        # Calculate AUROC\n",
        "        auroc = roc_auc_score(true_labels, predicted_labels)\n",
        "\n",
        "        self.log(\"auroc\", (auroc), prog_bar=True)\n",
        "\n",
        "        # Clear the test step outputs after processing them\n",
        "        self.test_step_outputs = [[], []]\n",
        "\n",
        "    def configure_optimizers(self):\n",
        "        lr = self.lr\n",
        "        b1 = self.b1\n",
        "        b2 = self.b2\n",
        "        opt = torch.optim.Adam(self.parameters(), lr=lr, betas=(b1, b2))\n",
        "        return opt\n"
      ]
    },
    {
      "cell_type": "markdown",
      "metadata": {
        "id": "wGLRBJcxxBOf"
      },
      "source": [
        "# Train\n",
        "Here follow the training sections of the models. In order to properly train a model, execute in the following order the respective cells:\n",
        "1) Imports;\n",
        "2) Dataset with DataModule;\n",
        "3) Model of interest.\n",
        "\n",
        "Each train cell provide some parameters to costumize the training, in particular the variable \"_subsampling_\" allow to deal with the dataset dimension as follows:\n",
        "- _True_ = Use a subsampled dataset of dimension _'subsamples'_ ;\n",
        "- _False_ = Use the full available dataset for the training."
      ]
    },
    {
      "cell_type": "markdown",
      "metadata": {
        "id": "olt3Kom3xBOf"
      },
      "source": [
        "## GAN\n",
        "For the training was used the entire dataset, with 30 epochs, lr=0.0001 and a batch_size=1 as in the paper.\n",
        "\n",
        "The AUROC obtained was of ≈ 0.91 , but further training could have lead to more improvements"
      ]
    },
    {
      "cell_type": "code",
      "execution_count": null,
      "metadata": {
        "id": "TitgSZuSxBOf"
      },
      "outputs": [],
      "source": [
        "# Hyperparameters\n",
        "BATCH_SIZE = 1\n",
        "epochs = 15\n",
        "learning_rate = 0.0001\n",
        "subsampling = True\n",
        "subsamples = 1000\n",
        "accelerator_enabled = True\n",
        "display = False"
      ]
    },
    {
      "cell_type": "code",
      "execution_count": null,
      "metadata": {
        "id": "36CEyUEkxBOf"
      },
      "outputs": [],
      "source": [
        "# Utilities\n",
        "checkpoint_path = './GAN/checkpoints'\n",
        "os.makedirs(checkpoint_path, exist_ok=True)\n",
        "\n",
        "checkpoint_callback = ModelCheckpoint(\n",
        "    dirpath=checkpoint_path,\n",
        "    filename=\"GAN_{epochs}_ckpt\",\n",
        "    monitor='auc',\n",
        "    mode='min',\n",
        "    save_last=True,\n",
        "    save_top_k=-1,\n",
        ")\n"
      ]
    },
    {
      "cell_type": "code",
      "execution_count": null,
      "metadata": {
        "id": "bwwGeJVvxBOf"
      },
      "outputs": [],
      "source": [
        "# Initialize dataset\n",
        "data_module = AnomalyDetectionDataModule(batch_size=BATCH_SIZE,\n",
        "                                         subsampling=subsampling,\n",
        "                                         subsamples=subsamples,\n",
        "                                         model='GAN',\n",
        "                                         normal_class=0)\n"
      ]
    },
    {
      "cell_type": "code",
      "execution_count": null,
      "metadata": {
        "colab": {
          "base_uri": "https://localhost:8080/"
        },
        "id": "97sN3zaXxBOf",
        "outputId": "7d6ddf00-e58f-4bb1-b602-25a4f09f8fa3"
      },
      "outputs": [],
      "source": [
        "# Initialize models and trainers\n",
        "if torch.cuda.is_available() and accelerator_enabled:\n",
        "  print(\"GPU\")\n",
        "  model = GAN_SOTA(BATCH_SIZE, lr=learning_rate, display=display).to(\"cuda\")\n",
        "  trainer = pl.Trainer(accelerator=\"cuda\",\n",
        "                       max_epochs=epochs,\n",
        "                       callbacks=[TQDMProgressBar(),\n",
        "                                  checkpoint_callback]\n",
        "                       )\n",
        "else :\n",
        "  print(\"CPU\")\n",
        "  model = GAN_SOTA(BATCH_SIZE, lr=learning_rate, display=display).to(\"cpu\")\n",
        "  trainer = pl.Trainer(accelerator=\"cpu\",\n",
        "                       max_epochs=epochs,\n",
        "                       callbacks=[TQDMProgressBar(),\n",
        "                                  checkpoint_callback]\n",
        "                       )\n"
      ]
    },
    {
      "cell_type": "code",
      "execution_count": null,
      "metadata": {
        "colab": {
          "base_uri": "https://localhost:8080/",
          "height": 597,
          "referenced_widgets": [
            "48129187aab44cab9a9213f8f91aa3cb",
            "f26e26c303924eadbc244599d0fe6dc7",
            "be09212e106c4870a33a29c21c2693b9",
            "ee145903ab0e4657b426589221bc5c92",
            "cb6e93d421c54f00a0cfd88a73e478a7",
            "ae5198c649c14a41bdbdcb7e884f7638",
            "e1c02b7bee0447ee921f3806de8c952d",
            "f2b6e92988574ff8bb571aff1f959cbc",
            "e124b0dc76884605ae3e78d82ef24469",
            "0024979e0e2c46bc89b4a31ffc452274",
            "fafaa84f89df4a31bf6247575a05b135",
            "78f8fb9e89c842b0a047d7883b25f40c",
            "a78c2351b75b473bb29ece9d00f5a208",
            "4b67e2cc2c9a427ba7d79a2b6c4e0f3a",
            "dc389bc60d1a4d03ba3d767dab9c1197",
            "739a7e2874664a509494d9350e57cc3e",
            "afb2d01c681149329187e6181fe312b6",
            "5262edaa7ae24c2c8616f1b54fbf00d0",
            "eb8f4279c9d245b987284848793f5b5a",
            "6ccd967b5d804b04bf21b64b0bbc5691",
            "c87fa3ddd66b4f82bdd1670397365c56",
            "688a8a853aee46b98ec777418e619707"
          ]
        },
        "id": "Z6IlPXr0xBOg",
        "outputId": "9760e493-7bff-431f-c806-36f47312f28f"
      },
      "outputs": [
        {
          "name": "stderr",
          "output_type": "stream",
          "text": [
            "/usr/local/lib/python3.10/dist-packages/pytorch_lightning/trainer/configuration_validator.py:69: UserWarning: You passed in a `val_dataloader` but have no `validation_step`. Skipping val loop.\n",
            "  rank_zero_warn(\"You passed in a `val_dataloader` but have no `validation_step`. Skipping val loop.\")\n",
            "/usr/local/lib/python3.10/dist-packages/pytorch_lightning/callbacks/model_checkpoint.py:617: UserWarning: Checkpoint directory /content/GAN/checkpoints exists and is not empty.\n",
            "  rank_zero_warn(f\"Checkpoint directory {dirpath} exists and is not empty.\")\n",
            "INFO:pytorch_lightning.accelerators.cuda:LOCAL_RANK: 0 - CUDA_VISIBLE_DEVICES: [0]\n",
            "INFO:pytorch_lightning.callbacks.model_summary:\n",
            "  | Name   | Type          | Params\n",
            "-----------------------------------------\n",
            "0 | G      | GENERATOR     | 5.5 M \n",
            "1 | Enc    | ENCODER       | 2.8 M \n",
            "2 | D_norm | DISCRIMINATOR | 296 K \n",
            "3 | D_anom | DISCRIMINATOR | 296 K \n",
            "-----------------------------------------\n",
            "6.1 M     Trainable params\n",
            "0         Non-trainable params\n",
            "6.1 M     Total params\n",
            "24.408    Total estimated model params size (MB)\n"
          ]
        },
        {
          "data": {
            "application/vnd.jupyter.widget-view+json": {
              "model_id": "48129187aab44cab9a9213f8f91aa3cb",
              "version_major": 2,
              "version_minor": 0
            },
            "text/plain": [
              "Training: 0it [00:00, ?it/s]"
            ]
          },
          "metadata": {},
          "output_type": "display_data"
        },
        {
          "name": "stderr",
          "output_type": "stream",
          "text": [
            "<ipython-input-35-d84b98859320>:171: UserWarning: To copy construct from a tensor, it is recommended to use sourceTensor.clone().detach() or sourceTensor.clone().detach().requires_grad_(True), rather than torch.tensor(sourceTensor).\n",
            "  self.log_dict({\"g_loss\": torch.tensor(errG).mean(), \"d_normal_loss\": torch.tensor(errD).mean()}, prog_bar=True)\n",
            "/usr/local/lib/python3.10/dist-packages/pytorch_lightning/callbacks/model_checkpoint.py:359: UserWarning: `ModelCheckpoint(monitor='auc')` could not find the monitored key in the returned metrics: ['g_loss', 'd_normal_loss', 'd_anomal_loss', 'epoch', 'step']. HINT: Did you call `log('auc', value)` in the `LightningModule`?\n",
            "  warning_cache.warn(m)\n",
            "INFO:pytorch_lightning.utilities.rank_zero:`Trainer.fit` stopped: `max_epochs=15` reached.\n",
            "INFO:pytorch_lightning.accelerators.cuda:LOCAL_RANK: 0 - CUDA_VISIBLE_DEVICES: [0]\n"
          ]
        },
        {
          "data": {
            "application/vnd.jupyter.widget-view+json": {
              "model_id": "78f8fb9e89c842b0a047d7883b25f40c",
              "version_major": 2,
              "version_minor": 0
            },
            "text/plain": [
              "Testing: 0it [00:00, ?it/s]"
            ]
          },
          "metadata": {},
          "output_type": "display_data"
        },
        {
          "data": {
            "text/html": [
              "<pre style=\"white-space:pre;overflow-x:auto;line-height:normal;font-family:Menlo,'DejaVu Sans Mono',consolas,'Courier New',monospace\">┏━━━━━━━━━━━━━━━━━━━━━━━━━━━┳━━━━━━━━━━━━━━━━━━━━━━━━━━━┓\n",
              "┃<span style=\"font-weight: bold\">        Test metric        </span>┃<span style=\"font-weight: bold\">       DataLoader 0        </span>┃\n",
              "┡━━━━━━━━━━━━━━━━━━━━━━━━━━━╇━━━━━━━━━━━━━━━━━━━━━━━━━━━┩\n",
              "│<span style=\"color: #008080; text-decoration-color: #008080\">           auroc           </span>│<span style=\"color: #800080; text-decoration-color: #800080\">           0.887           </span>│\n",
              "└───────────────────────────┴───────────────────────────┘\n",
              "</pre>\n"
            ],
            "text/plain": [
              "┏━━━━━━━━━━━━━━━━━━━━━━━━━━━┳━━━━━━━━━━━━━━━━━━━━━━━━━━━┓\n",
              "┃\u001b[1m \u001b[0m\u001b[1m       Test metric       \u001b[0m\u001b[1m \u001b[0m┃\u001b[1m \u001b[0m\u001b[1m      DataLoader 0       \u001b[0m\u001b[1m \u001b[0m┃\n",
              "┡━━━━━━━━━━━━━━━━━━━━━━━━━━━╇━━━━━━━━━━━━━━━━━━━━━━━━━━━┩\n",
              "│\u001b[36m \u001b[0m\u001b[36m          auroc          \u001b[0m\u001b[36m \u001b[0m│\u001b[35m \u001b[0m\u001b[35m          0.887          \u001b[0m\u001b[35m \u001b[0m│\n",
              "└───────────────────────────┴───────────────────────────┘\n"
            ]
          },
          "metadata": {},
          "output_type": "display_data"
        },
        {
          "name": "stdout",
          "output_type": "stream",
          "text": [
            "[{'auroc': 0.887}]\n"
          ]
        }
      ],
      "source": [
        "# Train and save\n",
        "trainer.fit(model, data_module)\n",
        "trainer.save_checkpoint(\"/GAN/checkpoints/GAN.ckpt\")\n",
        "torch.save(model.state_dict(), \"./GAN/GAN_{samples}samples_{epochs}ep\")\n",
        "\n",
        "# Testing\n",
        "test_results = trainer.test(model, data_module)\n",
        "print(test_results)"
      ]
    },
    {
      "cell_type": "markdown",
      "metadata": {
        "id": "rawH82B0xBOg"
      },
      "source": [
        "## Random guessing\n",
        "Because of it's intrinsic nature, this model didn't need any training. The testing provided, as expected, a value of AUROC ≈ 0.5 ."
      ]
    },
    {
      "cell_type": "code",
      "execution_count": 19,
      "metadata": {},
      "outputs": [],
      "source": [
        "# Utilities\n",
        "checkpoint_path = './RG/checkpoints'\n",
        "os.makedirs(checkpoint_path, exist_ok=True)\n",
        "\n",
        "checkpoint_callback = ModelCheckpoint(\n",
        "    dirpath=checkpoint_path,\n",
        "    filename=\"RG_{epoch}_ckpt\",\n",
        "    monitor='auc',\n",
        "    mode='min',\n",
        "    save_last=True,\n",
        "    save_top_k=-1,\n",
        ")\n"
      ]
    },
    {
      "cell_type": "code",
      "execution_count": 20,
      "metadata": {},
      "outputs": [],
      "source": [
        "# Hyperparameters\n",
        "BATCH_SIZE = 1\n",
        "epochs = 15\n",
        "learning_rate = 0.0001\n",
        "subsampling = False\n",
        "subsamples = 1000\n",
        "accelerator_enabled = False\n",
        "display = False"
      ]
    },
    {
      "cell_type": "code",
      "execution_count": 24,
      "metadata": {
        "colab": {
          "base_uri": "https://localhost:8080/"
        },
        "id": "U_AZvxcpxBOg",
        "outputId": "f3057c5a-080f-42e1-daee-81f945650bc3"
      },
      "outputs": [
        {
          "name": "stderr",
          "output_type": "stream",
          "text": [
            "GPU available: True (cuda), used: False\n",
            "TPU available: False, using: 0 TPU cores\n",
            "IPU available: False, using: 0 IPUs\n",
            "HPU available: False, using: 0 HPUs\n"
          ]
        },
        {
          "name": "stdout",
          "output_type": "stream",
          "text": [
            "CPU\n"
          ]
        },
        {
          "name": "stderr",
          "output_type": "stream",
          "text": [
            "c:\\Users\\espda\\AppData\\Local\\Programs\\Python\\Python310\\lib\\site-packages\\pytorch_lightning\\trainer\\setup.py:176: PossibleUserWarning: GPU available but not used. Set `accelerator` and `devices` using `Trainer(accelerator='gpu', devices=1)`.\n",
            "  rank_zero_warn(\n"
          ]
        }
      ],
      "source": [
        "# Initialize dataset\n",
        "data_module = AnomalyDetectionDataModule(batch_size=BATCH_SIZE,\n",
        "                                         subsampling=subsampling,\n",
        "                                         subsamples=subsamples,\n",
        "                                         model='RG',\n",
        "                                         normal_class=0)\n",
        "\n",
        "print(\"CPU\")\n",
        "model = RandomGuessing().to(\"cpu\")\n",
        "trainer = pl.Trainer(accelerator=\"cpu\",\n",
        "                    max_epochs=epochs,\n",
        "                    callbacks=[TQDMProgressBar(),\n",
        "                              checkpoint_callback]\n",
        "                    )\n",
        "\n"
      ]
    },
    {
      "cell_type": "code",
      "execution_count": 25,
      "metadata": {},
      "outputs": [
        {
          "name": "stderr",
          "output_type": "stream",
          "text": [
            "c:\\Users\\espda\\AppData\\Local\\Programs\\Python\\Python310\\lib\\site-packages\\pytorch_lightning\\trainer\\connectors\\data_connector.py:438: PossibleUserWarning: The dataloader, test_dataloader, does not have many workers which may be a bottleneck. Consider increasing the value of the `num_workers` argument` (try 20 which is the number of cpus on this machine) in the `DataLoader` init to improve performance.\n",
            "  rank_zero_warn(\n"
          ]
        },
        {
          "name": "stdout",
          "output_type": "stream",
          "text": [
            "Testing DataLoader 0:  10%|▉         | 190/1999 [00:00<00:01, 1050.93it/s]"
          ]
        },
        {
          "name": "stderr",
          "output_type": "stream",
          "text": [
            "C:\\Users\\espda\\AppData\\Local\\Temp\\ipykernel_5592\\1539039647.py:17: UserWarning: Using a target size (torch.Size([1, 1, 32, 32])) that is different to the input size (torch.Size([1])). This will likely lead to incorrect results due to broadcasting. Please ensure they have the same size.\n",
            "  reconstruction_error = F.mse_loss(generated_X, X, reduction='none')\n"
          ]
        },
        {
          "name": "stdout",
          "output_type": "stream",
          "text": [
            "Testing DataLoader 0: 100%|██████████| 1999/1999 [00:01<00:00, 1102.78it/s]\n"
          ]
        },
        {
          "data": {
            "text/html": [
              "<pre style=\"white-space:pre;overflow-x:auto;line-height:normal;font-family:Menlo,'DejaVu Sans Mono',consolas,'Courier New',monospace\">┏━━━━━━━━━━━━━━━━━━━━━━━━━━━┳━━━━━━━━━━━━━━━━━━━━━━━━━━━┓\n",
              "┃<span style=\"font-weight: bold\">        Test metric        </span>┃<span style=\"font-weight: bold\">       DataLoader 0        </span>┃\n",
              "┡━━━━━━━━━━━━━━━━━━━━━━━━━━━╇━━━━━━━━━━━━━━━━━━━━━━━━━━━┩\n",
              "│<span style=\"color: #008080; text-decoration-color: #008080\">           auroc           </span>│<span style=\"color: #800080; text-decoration-color: #800080\">    0.5024919919919919     </span>│\n",
              "└───────────────────────────┴───────────────────────────┘\n",
              "</pre>\n"
            ],
            "text/plain": [
              "┏━━━━━━━━━━━━━━━━━━━━━━━━━━━┳━━━━━━━━━━━━━━━━━━━━━━━━━━━┓\n",
              "┃\u001b[1m \u001b[0m\u001b[1m       Test metric       \u001b[0m\u001b[1m \u001b[0m┃\u001b[1m \u001b[0m\u001b[1m      DataLoader 0       \u001b[0m\u001b[1m \u001b[0m┃\n",
              "┡━━━━━━━━━━━━━━━━━━━━━━━━━━━╇━━━━━━━━━━━━━━━━━━━━━━━━━━━┩\n",
              "│\u001b[36m \u001b[0m\u001b[36m          auroc          \u001b[0m\u001b[36m \u001b[0m│\u001b[35m \u001b[0m\u001b[35m   0.5024919919919919    \u001b[0m\u001b[35m \u001b[0m│\n",
              "└───────────────────────────┴───────────────────────────┘\n"
            ]
          },
          "metadata": {},
          "output_type": "display_data"
        },
        {
          "name": "stdout",
          "output_type": "stream",
          "text": [
            "[{'auroc': 0.5024919919919919}]\n"
          ]
        }
      ],
      "source": [
        "# Testing\n",
        "test_results = trainer.test(model, data_module)\n",
        "print(test_results)"
      ]
    },
    {
      "cell_type": "markdown",
      "metadata": {
        "id": "kQhN3L6KxBOg"
      },
      "source": [
        "## Autoencoder\n",
        "The Autoencoder was trained by using the full dataset, with epochs = 15 , lr = 0.0001 and batch_size = 1 to have comparable results with the sota GAN-based architecture.\n",
        "\n",
        "The AUROC score reached was of AUROC ≈ 0.77"
      ]
    },
    {
      "cell_type": "code",
      "execution_count": 100,
      "metadata": {
        "id": "sOnoCbw5xBOg"
      },
      "outputs": [],
      "source": [
        "# Utilities\n",
        "checkpoint_path = './AE/checkpoints'\n",
        "os.makedirs(checkpoint_path, exist_ok=True)\n",
        "\n",
        "checkpoint_callback = ModelCheckpoint(\n",
        "    dirpath=checkpoint_path,\n",
        "    filename=\"AE_{epoch}_ckpt\",\n",
        "    monitor='auc',\n",
        "    mode='min',\n",
        "    save_last=True,\n",
        "    save_top_k=-1,\n",
        ")\n"
      ]
    },
    {
      "cell_type": "code",
      "execution_count": 102,
      "metadata": {
        "id": "AvZXlNQrxBOg"
      },
      "outputs": [],
      "source": [
        "# Hyperparameters\n",
        "'''\n",
        "BATCH_SIZE = 1\n",
        "epochs = 13\n",
        "learning_rate = 0.001\n",
        "subsampling = True\n",
        "subsamples = 3000\n",
        "accelerator_enabled = True\n",
        "display = False\n",
        "'''\n",
        "BATCH_SIZE = 1\n",
        "epochs = 5\n",
        "learning_rate = 0.001\n",
        "subsampling = True\n",
        "subsamples = 200\n",
        "accelerator_enabled = True\n",
        "display = False"
      ]
    },
    {
      "cell_type": "code",
      "execution_count": 103,
      "metadata": {
        "id": "N2L6HiUKxBOg"
      },
      "outputs": [],
      "source": [
        "# Initialize dataset\n",
        "data_module = AnomalyDetectionDataModule(batch_size=BATCH_SIZE,\n",
        "                                         subsampling=subsampling,\n",
        "                                         subsamples=subsamples,\n",
        "                                         model='AE',\n",
        "                                         normal_class=0)"
      ]
    },
    {
      "cell_type": "code",
      "execution_count": 104,
      "metadata": {
        "id": "sL7CGFcSxBOg"
      },
      "outputs": [
        {
          "name": "stderr",
          "output_type": "stream",
          "text": [
            "GPU available: True (cuda), used: True\n",
            "TPU available: False, using: 0 TPU cores\n",
            "IPU available: False, using: 0 IPUs\n",
            "HPU available: False, using: 0 HPUs\n"
          ]
        },
        {
          "name": "stdout",
          "output_type": "stream",
          "text": [
            "GPU\n"
          ]
        }
      ],
      "source": [
        "# Initialize model and trainer\n",
        "\n",
        "if torch.cuda.is_available() and accelerator_enabled:\n",
        "  print(\"GPU\")\n",
        "  model = AE_based(lr=learning_rate, display=display).to(\"cuda\")\n",
        "  trainer = pl.Trainer(accelerator=\"cuda\",\n",
        "                       max_epochs=epochs,\n",
        "                       callbacks=[TQDMProgressBar(),\n",
        "                                  checkpoint_callback]\n",
        "                       )\n",
        "else :\n",
        "  print(\"CPU\")\n",
        "  model = AE_based(lr=learning_rate, display=display).to(\"cpu\")\n",
        "  trainer = pl.Trainer(accelerator=\"cpu\",\n",
        "                       max_epochs=epochs,\n",
        "                       callbacks=[TQDMProgressBar(),\n",
        "                                  checkpoint_callback]\n",
        "                       )\n"
      ]
    },
    {
      "cell_type": "code",
      "execution_count": 105,
      "metadata": {
        "id": "_84IQtM5xBOg"
      },
      "outputs": [
        {
          "name": "stderr",
          "output_type": "stream",
          "text": [
            "c:\\Users\\espda\\AppData\\Local\\Programs\\Python\\Python310\\lib\\site-packages\\pytorch_lightning\\callbacks\\model_checkpoint.py:617: UserWarning: Checkpoint directory C:\\Users\\espda\\OneDrive\\Desktop\\Università\\Magistrale - Artificial Intelligence & Robotics (2022-2023)\\Deep Learning\\Progetto\\AE\\checkpoints exists and is not empty.\n",
            "  rank_zero_warn(f\"Checkpoint directory {dirpath} exists and is not empty.\")\n",
            "LOCAL_RANK: 0 - CUDA_VISIBLE_DEVICES: [0]\n",
            "\n",
            "  | Name | Type        | Params\n",
            "-------------------------------------\n",
            "0 | AE   | Autoencoder | 6.9 K \n",
            "1 | enc  | Sequential  | 4.8 K \n",
            "-------------------------------------\n",
            "6.9 K     Trainable params\n",
            "0         Non-trainable params\n",
            "6.9 K     Total params\n",
            "0.028     Total estimated model params size (MB)\n",
            "c:\\Users\\espda\\AppData\\Local\\Programs\\Python\\Python310\\lib\\site-packages\\pytorch_lightning\\trainer\\connectors\\data_connector.py:438: PossibleUserWarning: The dataloader, train_dataloader, does not have many workers which may be a bottleneck. Consider increasing the value of the `num_workers` argument` (try 20 which is the number of cpus on this machine) in the `DataLoader` init to improve performance.\n",
            "  rank_zero_warn(\n"
          ]
        },
        {
          "name": "stdout",
          "output_type": "stream",
          "text": [
            "Epoch 4: 100%|██████████| 200/200 [00:00<00:00, 217.87it/s, v_num=253, loss=0.517]"
          ]
        },
        {
          "name": "stderr",
          "output_type": "stream",
          "text": [
            "`Trainer.fit` stopped: `max_epochs=5` reached.\n"
          ]
        },
        {
          "name": "stdout",
          "output_type": "stream",
          "text": [
            "Epoch 4: 100%|██████████| 200/200 [00:00<00:00, 216.69it/s, v_num=253, loss=0.517]\n"
          ]
        },
        {
          "name": "stderr",
          "output_type": "stream",
          "text": [
            "LOCAL_RANK: 0 - CUDA_VISIBLE_DEVICES: [0]\n",
            "c:\\Users\\espda\\AppData\\Local\\Programs\\Python\\Python310\\lib\\site-packages\\pytorch_lightning\\trainer\\connectors\\data_connector.py:486: PossibleUserWarning: Your `test_dataloader`'s sampler has shuffling enabled, it is strongly recommended that you turn shuffling off for val/test dataloaders.\n",
            "  rank_zero_warn(\n",
            "c:\\Users\\espda\\AppData\\Local\\Programs\\Python\\Python310\\lib\\site-packages\\pytorch_lightning\\trainer\\connectors\\data_connector.py:438: PossibleUserWarning: The dataloader, test_dataloader, does not have many workers which may be a bottleneck. Consider increasing the value of the `num_workers` argument` (try 20 which is the number of cpus on this machine) in the `DataLoader` init to improve performance.\n",
            "  rank_zero_warn(\n"
          ]
        },
        {
          "name": "stdout",
          "output_type": "stream",
          "text": [
            "Testing DataLoader 0: 100%|██████████| 400/400 [00:00<00:00, 670.83it/s]\n"
          ]
        },
        {
          "data": {
            "text/html": [
              "<pre style=\"white-space:pre;overflow-x:auto;line-height:normal;font-family:Menlo,'DejaVu Sans Mono',consolas,'Courier New',monospace\">┏━━━━━━━━━━━━━━━━━━━━━━━━━━━┳━━━━━━━━━━━━━━━━━━━━━━━━━━━┓\n",
              "┃<span style=\"font-weight: bold\">        Test metric        </span>┃<span style=\"font-weight: bold\">       DataLoader 0        </span>┃\n",
              "┡━━━━━━━━━━━━━━━━━━━━━━━━━━━╇━━━━━━━━━━━━━━━━━━━━━━━━━━━┩\n",
              "│<span style=\"color: #008080; text-decoration-color: #008080\">           auroc           </span>│<span style=\"color: #800080; text-decoration-color: #800080\">          0.7175           </span>│\n",
              "└───────────────────────────┴───────────────────────────┘\n",
              "</pre>\n"
            ],
            "text/plain": [
              "┏━━━━━━━━━━━━━━━━━━━━━━━━━━━┳━━━━━━━━━━━━━━━━━━━━━━━━━━━┓\n",
              "┃\u001b[1m \u001b[0m\u001b[1m       Test metric       \u001b[0m\u001b[1m \u001b[0m┃\u001b[1m \u001b[0m\u001b[1m      DataLoader 0       \u001b[0m\u001b[1m \u001b[0m┃\n",
              "┡━━━━━━━━━━━━━━━━━━━━━━━━━━━╇━━━━━━━━━━━━━━━━━━━━━━━━━━━┩\n",
              "│\u001b[36m \u001b[0m\u001b[36m          auroc          \u001b[0m\u001b[36m \u001b[0m│\u001b[35m \u001b[0m\u001b[35m         0.7175          \u001b[0m\u001b[35m \u001b[0m│\n",
              "└───────────────────────────┴───────────────────────────┘\n"
            ]
          },
          "metadata": {},
          "output_type": "display_data"
        },
        {
          "name": "stdout",
          "output_type": "stream",
          "text": [
            "[{'auroc': 0.7175}]\n"
          ]
        }
      ],
      "source": [
        "# Trainer\n",
        "trainer.fit(model, datamodule=data_module)\n",
        "trainer.save_checkpoint(\"checkpoints/AE.ckpt\")\n",
        "torch.save(model.state_dict(), \"./AE/AE_{samples}samples_{epochs}ep\")\n",
        "\n",
        "# Testing\n",
        "test_results = trainer.test(model, data_module)\n",
        "print(test_results)"
      ]
    },
    {
      "cell_type": "markdown",
      "metadata": {
        "id": "xULiP0dQ3KHt"
      },
      "source": [
        "# Predictions"
      ]
    },
    {
      "cell_type": "markdown",
      "metadata": {},
      "source": [
        "\n",
        "Here follow a function to compare the an input image and the generated one.\n",
        "\n",
        "Is it possible to load the trained models showed above and observe their reconstruction and precition capabilities. In this case the last training of these trained model involved the _0 class: 'T-shirt_ as the _normal_class_ , and the other classes will be considered as _anomal_class_ .\n",
        "\n",
        "The  **_compare_img()_**  function, allow to show both the input and the generated image and display the reconstruction error used to distinguish between the _normal_ and the _anomal_ class."
      ]
    },
    {
      "cell_type": "code",
      "execution_count": 5,
      "metadata": {
        "id": "uzib3lto3LMV"
      },
      "outputs": [],
      "source": [
        "import torch\n",
        "from PIL import Image\n",
        "from torchvision import transforms\n",
        "import torch.nn.functional as F\n",
        "import matplotlib.pyplot as plt\n",
        "\n",
        "# Comparing functions\n",
        "def compare_img(input_image_path, model, sample):\n",
        "    input_image = Image.open(input_image_path).convert('L')  # Convert to grayscale\n",
        "    preprocess = transforms.Compose([\n",
        "        transforms.Resize((32, 32)),\n",
        "        transforms.ToTensor(),\n",
        "    ])\n",
        "    input_tensor = preprocess(input_image).unsqueeze(0)  # Add batch dimension\n",
        "\n",
        "    # Generate output using the trained model\n",
        "    generated_output = model(input_tensor)\n",
        "\n",
        "    # Convert generated output tensor to an image\n",
        "    generated_image = generated_output.squeeze().detach().cpu()\n",
        "\n",
        "    #reconstruction_error = F.l1_loss((model(input_tensor)+1)/2, input_tensor, reduction='none')\n",
        "    reconstruction_error = F.mse_loss(model(input_tensor), input_tensor, reduction='none')\n",
        "    reconstruction_error = reconstruction_error.view(reconstruction_error.size(0), -1).mean(dim=1)\n",
        "\n",
        "    print(\"\\nReconstruction error:\", reconstruction_error)\n",
        "    # Display input and generated images\n",
        "    plt.figure(figsize=(9, 4))\n",
        "    string = sample + ' vs. Generated Image'\n",
        "    plt.suptitle(string, fontsize=16)\n",
        "    plt.subplot(1, 2, 1)\n",
        "    plt.title('Input Image')\n",
        "    plt.imshow(input_image, cmap='gray')\n",
        "    plt.axis('off')\n",
        "\n",
        "    plt.subplot(1, 2, 2)\n",
        "    plt.title('Generated Image')\n",
        "    plt.imshow(generated_image, cmap='gray')\n",
        "    plt.axis('off')\n",
        "\n",
        "    plt.tight_layout()\n",
        "    plt.show()"
      ]
    },
    {
      "cell_type": "code",
      "execution_count": null,
      "metadata": {
        "colab": {
          "base_uri": "https://localhost:8080/"
        },
        "id": "RBKXpi883OSD",
        "outputId": "d3d6f6bd-b5c6-46d9-bd46-334a7e972e77"
      },
      "outputs": [
        {
          "name": "stdout",
          "output_type": "stream",
          "text": [
            "Downloading...\n",
            "From: https://drive.google.com/uc?id=1pxpNhQ0CAc4eQlgmlJnbgN85asTRSxu5\n",
            "To: /content/GAN_pretrained\n",
            "100% 24.4M/24.4M [00:00<00:00, 70.8MB/s]\n",
            "Downloading...\n",
            "From: https://drive.google.com/uc?id=1wbMpsW6YUuQmplW6yDMclMtX1pDXSGv1\n",
            "To: /content/0.png\n",
            "100% 5.70k/5.70k [00:00<00:00, 24.9MB/s]\n",
            "Downloading...\n",
            "From: https://drive.google.com/uc?id=1uAzEfWdiqnu9_e_UEUhG4LGaWvbAGL0o\n",
            "To: /content/7.png\n",
            "100% 4.47k/4.47k [00:00<00:00, 18.0MB/s]\n",
            "Downloading...\n",
            "From: https://drive.google.com/uc?id=19-Nzeb5cv4o3yc0sr_xpRWQjfj7hTgbL\n",
            "To: /content/6.png\n",
            "100% 6.26k/6.26k [00:00<00:00, 18.4MB/s]\n",
            "Downloading...\n",
            "From: https://drive.google.com/uc?id=1rcIfaJry6ckxtIyVVjX-8yrEp9hPK7RN\n",
            "To: /content/1.png\n",
            "100% 4.09k/4.09k [00:00<00:00, 19.3MB/s]\n",
            "Downloading...\n",
            "From: https://drive.google.com/uc?id=1rJ--u2OinG7944UiSmG1Qy5qcBog3EBy\n",
            "To: /content/5.png\n",
            "100% 4.79k/4.79k [00:00<00:00, 22.0MB/s]\n",
            "Downloading...\n",
            "From: https://drive.google.com/uc?id=1JLK68Zbr7mNKlOuAA35qSvhyugxZF183\n",
            "To: /content/4.png\n",
            "100% 5.50k/5.50k [00:00<00:00, 24.6MB/s]\n",
            "Downloading...\n",
            "From: https://drive.google.com/uc?id=1g6MFzkPSMQxqTScptDod6YKxEnmivWQu\n",
            "To: /content/8.png\n",
            "100% 8.55k/8.55k [00:00<00:00, 25.1MB/s]\n"
          ]
        }
      ],
      "source": [
        "# Download pretrained model from github\n",
        "!gdown 1pxpNhQ0CAc4eQlgmlJnbgN85asTRSxu5\n",
        "\n",
        "# Download images from github\n",
        "!gdown 1wbMpsW6YUuQmplW6yDMclMtX1pDXSGv1\n",
        "!gdown 1uAzEfWdiqnu9_e_UEUhG4LGaWvbAGL0o\n",
        "!gdown 19-Nzeb5cv4o3yc0sr_xpRWQjfj7hTgbL # 6\n",
        "!gdown 1rcIfaJry6ckxtIyVVjX-8yrEp9hPK7RN\n",
        "!gdown 1rJ--u2OinG7944UiSmG1Qy5qcBog3EBy\n",
        "!gdown 1JLK68Zbr7mNKlOuAA35qSvhyugxZF183\n",
        "!gdown 1g6MFzkPSMQxqTScptDod6YKxEnmivWQu\n"
      ]
    },
    {
      "cell_type": "markdown",
      "metadata": {},
      "source": [
        "## GAN\n",
        "The GAN will try to generate an image with low reconstruciton error for _normal_class_ and high for the _anomal_class_ , as is it possible to see, due to the training with the double Discriminator, it will also try to extremely bad reconstruct the anomal classes, often generating some black image on white background."
      ]
    },
    {
      "cell_type": "code",
      "execution_count": null,
      "metadata": {
        "colab": {
          "base_uri": "https://localhost:8080/",
          "height": 898
        },
        "id": "831S8ggE8KUw",
        "outputId": "842c1a3d-bb4e-47ac-8392-4c966a3d76f5"
      },
      "outputs": [
        {
          "name": "stdout",
          "output_type": "stream",
          "text": [
            "\n",
            "Reconstruction error: tensor([0.2177], grad_fn=<MeanBackward1>)\n"
          ]
        },
        {
          "data": {
            "image/png": "[encoded data removed]",
            "text/plain": [
              "<Figure size 900x400 with 2 Axes>"
            ]
          },
          "metadata": {},
          "output_type": "display_data"
        },
        {
          "name": "stdout",
          "output_type": "stream",
          "text": [
            "Anomal Class\n",
            "\n",
            "Reconstruction error: tensor([0.6969], grad_fn=<MeanBackward1>)\n"
          ]
        },
        {
          "data": {
            "image/png": "[encoded data removed]",
            "text/plain": [
              "<Figure size 900x400 with 2 Axes>"
            ]
          },
          "metadata": {},
          "output_type": "display_data"
        }
      ],
      "source": [
        "model2 = GAN_SOTA()\n",
        "model2.load_state_dict(torch.load(\"./GAN_pretrained\"))\n",
        "\n",
        "input_image_path = '0.png'     # t-shirt\n",
        "#input_image_path = '1.png'     # trousers\n",
        "#input_image_path = '4.png'     # coat\n",
        "#input_image_path = '5.png'     # sandal\n",
        "#input_image_path = '6.png'     # shirt\n",
        "#input_image_path = '7.png'     # Sneaker\n",
        "#input_image_path = '8.png'     # bag\n",
        "\n",
        "compare_img(input_image_path, model2, \"Normal Sample\")\n",
        "\n",
        "print(\"Anomal Class\")\n",
        "input_image_path = '6.png'\n",
        "compare_img(input_image_path, model2, \"Anomal Sample\")"
      ]
    },
    {
      "cell_type": "markdown",
      "metadata": {},
      "source": [
        "## AE\n",
        "The Autoencoder was trained on the normal class, for this reason it will try to generate an image as good as possible in the normal case, while will show poor results in the anomal case."
      ]
    },
    {
      "cell_type": "code",
      "execution_count": 73,
      "metadata": {},
      "outputs": [
        {
          "name": "stdout",
          "output_type": "stream",
          "text": [
            "\n",
            "Reconstruction error: tensor([0.0197], grad_fn=<MeanBackward1>)\n"
          ]
        },
        {
          "data": {
            "image/png": "[encoded data removed]",
            "text/plain": [
              "<Figure size 900x400 with 2 Axes>"
            ]
          },
          "metadata": {},
          "output_type": "display_data"
        },
        {
          "name": "stdout",
          "output_type": "stream",
          "text": [
            "Anomal Class\n",
            "\n",
            "Reconstruction error: tensor([0.0042], grad_fn=<MeanBackward1>)\n"
          ]
        },
        {
          "data": {
            "image/png": "[encoded data removed]",
            "text/plain": [
              "<Figure size 900x400 with 2 Axes>"
            ]
          },
          "metadata": {},
          "output_type": "display_data"
        }
      ],
      "source": [
        "input_image_path = '0.png'     # t-shirt\n",
        "#input_image_path = '1.png'     # trousers\n",
        "#input_image_path = '4.png'     # coat\n",
        "#input_image_path = '5.png'     # sandal\n",
        "#input_image_path = '6.png'     # shirt\n",
        "#input_image_path = '7.png'     # Sneaker\n",
        "#input_image_path = '8.png'     # bag\n",
        "\n",
        "compare_img(input_image_path, model, \"Normal Sample\")\n",
        "\n",
        "print(\"Anomal Class\")\n",
        "input_image_path = '8.png'\n",
        "compare_img(input_image_path, model, \"Anomal Sample\")"
      ]
    },
    {
      "cell_type": "markdown",
      "metadata": {
        "id": "EJz54FJM3RHh"
      },
      "source": [
        "# Conclusions\n",
        "The RandomGuesser is by far the worst model, representing the minimum baseline performances based on the AUROC metric. On the other hand the Autoencoder resulted in a relatively fast training, with a relatively high AUROC values. But by looking at the experimental results, the GAN-based model, as expected, acquired the highest performances above the three, due to the emphasized error on the anomal class, which results in a more evident difference between the two classes in particular after the introduction of the skip-connections. \n",
        "\n",
        "Except for the RandomGuesser, is reasonably to say that were possible even better results with additional training perfromed."
      ]
    },
    {
      "cell_type": "markdown",
      "metadata": {},
      "source": [
        "# Bibliography\n",
        "[1] GAN-based Anomaly Detection in Imbalance Problems [https://paperswithcode.com/paper/gan-based-anomaly-detection-in-imbalance](https://paperswithcode.com/paper/gan-based-anomaly-detection-in-imbalance)\n",
        "\n",
        "[2] FashionMNIST dataset. [https://github.com/zalandoresearch/fashion-mnist](https://github.com/zalandoresearch/fashion-mnist)\n",
        "\n",
        "[3] Area Under the Receiver-Operating Characteristics (AUROC) metric [https://scikit-learn.org/stable/modules/generated/sklearn.metrics.roc_auc_score.html](https://scikit-learn.org/stable/modules/generated/sklearn.metrics.roc_auc_score.html)\n",
        "\n",
        "[4] Ronneberger, Fischer, Brox. _U-net: Convolutional networks for biomedical image segmentation. In: International Conference on Medical image computing and computer-assisted intervention_. pp. 234–241. Springer (2015) [https://arxiv.org/abs/1505.04597](https://arxiv.org/abs/1505.04597)"
      ]
    },
    {
      "cell_type": "markdown",
      "metadata": {},
      "source": [
        "#########################################\n",
        "# GAN Tests"
      ]
    },
    {
      "cell_type": "code",
      "execution_count": 5,
      "metadata": {},
      "outputs": [],
      "source": [
        "\n",
        "class ENCODER(pl.LightningModule):\n",
        "    def __init__(self):\n",
        "        super().__init__()\n",
        "\n",
        "        self.conv1 = nn.Conv2d(in_channels=1, out_channels=64, kernel_size=4, stride=2, padding=1)  #out 16x16\n",
        "        self.conv2 = nn.Conv2d(in_channels=64, out_channels=128, kernel_size=4, stride=2, padding=1) #out 8x8\n",
        "        self.conv3 = nn.Conv2d(in_channels=128, out_channels=256, kernel_size=4, stride=2, padding=1) #out 4x4\n",
        "        self.conv4 = nn.Conv2d(in_channels=256, out_channels=512, kernel_size=4, stride=2, padding=1) #out 2x2\n",
        "\n",
        "    def forward(self, x):\n",
        "        x = F.relu(self.conv1(x))\n",
        "        x = F.relu(self.conv2(x))\n",
        "        x = F.relu(self.conv3(x))\n",
        "        x = F.relu(self.conv4(x))\n",
        "        return x\n",
        "\n",
        "class DECODER(pl.LightningModule):\n",
        "    def __init__(self):\n",
        "        super().__init__()\n",
        "\n",
        "        self.tr_conv1 = nn.ConvTranspose2d(in_channels=512, out_channels=256, kernel_size=4, stride=2, padding=1) #out 4x4\n",
        "        self.tr_conv2 = nn.ConvTranspose2d(in_channels=256, out_channels=128, kernel_size=4, stride=2, padding=1) #out 8x8\n",
        "        self.tr_conv3 = nn.ConvTranspose2d(in_channels=128, out_channels=64, kernel_size=4, stride=2, padding=1) #out 16x16\n",
        "        self.tr_conv4 = nn.ConvTranspose2d(in_channels=64, out_channels=1, kernel_size=4, stride=2, padding=1) #out 32x32\n",
        "\n",
        "    def forward(self, x):\n",
        "        x = F.relu(self.tr_conv1(x))\n",
        "        x = F.relu(self.tr_conv2(x))\n",
        "        x = F.relu(self.tr_conv3(x))\n",
        "        x = F.tanh(self.tr_conv4(x))\n",
        "        return x\n",
        "\n",
        "\n",
        "class GENERATOR(pl.LightningModule):\n",
        "    def __init__(self):\n",
        "        super().__init__()\n",
        "\n",
        "        self.encoder = ENCODER()\n",
        "        #self.decoder = DECODER()\n",
        "        # Decoder\n",
        "        self.tr_conv1 = nn.ConvTranspose2d(in_channels=512, out_channels=256, kernel_size=4, stride=2, padding=1)\n",
        "        self.tr_conv2 = nn.ConvTranspose2d(in_channels=256, out_channels=128, kernel_size=4, stride=2, padding=1)\n",
        "        self.tr_conv3 = nn.ConvTranspose2d(in_channels=128, out_channels=64, kernel_size=4, stride=2, padding=1)\n",
        "        self.tr_conv4 = nn.ConvTranspose2d(in_channels=64, out_channels=1, kernel_size=4, stride=2, padding=1)\n",
        "\n",
        "\n",
        "\n",
        "    def forward(self, x):\n",
        "        # encoder\n",
        "        enc1 = F.relu(self.encoder.conv1(x))\n",
        "        enc2 = F.relu(self.encoder.conv2(enc1))\n",
        "        enc3 = F.relu(self.encoder.conv3(enc2))\n",
        "        enc4 = F.relu(self.encoder.conv4(enc3))\n",
        "\n",
        "        # decoder with skip connections\n",
        "        dec1 = F.relu(self.tr_conv1(enc4))\n",
        "        dec2 = F.relu(self.tr_conv2(torch.cat([dec1, enc3], dim=1)))\n",
        "        dec3 = F.relu(self.tr_conv3(torch.cat([dec2, enc2], dim=1)))\n",
        "        dec4 = F.tanh(self.tr_conv4(torch.cat([dec3, enc1], dim=1)))\n",
        "\n",
        "\n",
        "        return dec4\n",
        "\n",
        "\n",
        "class DISCRIMINATOR(pl.LightningModule):\n",
        "    def __init__(self):\n",
        "        super().__init__()\n",
        "\n",
        "        self.conv1 = nn.Conv2d(in_channels=1, out_channels=64, kernel_size=4, stride=2, padding=1)  #out 32x16x16\n",
        "        self.conv2 = nn.Conv2d(in_channels=64, out_channels=128, kernel_size=4, stride=2, padding=1) #out 64x8x8\n",
        "        self.conv3 = nn.Conv2d(in_channels=128, out_channels=64, kernel_size=4, stride=2, padding=1) #out 128x4x4\n",
        "        self.conv4 = nn.Conv2d(in_channels=64, out_channels=32, kernel_size=4, stride=1, padding=1) #out 32x3x3\n",
        "        self.conv5 = nn.Conv2d(in_channels=32, out_channels=1, kernel_size=4, stride=1, padding=1) #out 1x2x2\n",
        "\n",
        "    def forward(self, x):\n",
        "        x = F.relu(self.conv1(x))\n",
        "        x = F.relu(self.conv2(x))\n",
        "        x = F.relu(self.conv3(x))\n",
        "        x = F.relu(self.conv4(x))\n",
        "        x = F.relu(self.conv5(x))\n",
        "        return x\n",
        "\n",
        "\n",
        "class GAN_SOTA(pl.LightningModule):\n",
        "    def __init__(self, lr=0.0002, display=False, b1=0.5, b2=0.999):\n",
        "        super().__init__()\n",
        "        self.lr = lr\n",
        "        self.display = display\n",
        "\n",
        "        self.save_hyperparameters()\n",
        "        self.G = GENERATOR()\n",
        "        self.Enc = self.G.encoder\n",
        "        self.D_norm = DISCRIMINATOR()\n",
        "        self.D_anom = DISCRIMINATOR()\n",
        "\n",
        "        self.automatic_optimization = False\n",
        "        self.test_step_outputs = [[], []]  # two dataloaders\n",
        "\n",
        "        self.g_losses = []\n",
        "        self.d_norm_losses = []\n",
        "        self.d_anom_losses = []\n",
        "\n",
        "    def forward(self, x):\n",
        "        return self.G(x)\n",
        "\n",
        "    def print_generator_parameters(self):\n",
        "        for name, param in self.G.named_parameters():\n",
        "            print(f\"Generator Parameter Name: {name}\")\n",
        "            print(f\"Parameter Value:\\n{param}\")\n",
        "\n",
        "    def patch_loss(self, X, generated_X, n=3):\n",
        "        # Calculate the L1 loss for each patch\n",
        "        patch_errors = torch.abs(X - generated_X)\n",
        "        patch_errors_reshaped = patch_errors.view(patch_errors.size(0), patch_errors.size(1), -1)\n",
        "        mean_patch_errors = patch_errors_reshaped.mean(dim=-1)\n",
        "\n",
        "        # Select the top n patches\n",
        "        sorted_patch_indices = torch.argsort(mean_patch_errors, dim=-1, descending=True)\n",
        "        top_patch_indices = sorted_patch_indices[:, :n]\n",
        "        # Calculate the average of the top n patch errors\n",
        "        \n",
        "        top_patch_errors = torch.gather(mean_patch_errors, dim=-1, index=top_patch_indices)\n",
        "        avg_top_patch_errors = top_patch_errors.mean()\n",
        "        return avg_top_patch_errors\n",
        "\n",
        "    def show_batch_image(self, batch):\n",
        "        X, Y = batch\n",
        "        image = X[0].detach().cpu().numpy()\n",
        "        plt.figure(figsize=(5, 5))\n",
        "        plt.title(\"Label: {}\".format(Y[0]))\n",
        "        plt.imshow(image[0], cmap='gray')  # Assuming the input image is single-channel (gray)\n",
        "        plt.axis('off')\n",
        "        plt.show()\n",
        "\n",
        "\n",
        "    #The generator is trained to output 1 from normal data and 0 from anomaly data\n",
        "    def training_step(self, batch, batch_idx):\n",
        "        g_opt, d_norm_opt, d_anom_opt = self.optimizers()\n",
        "\n",
        "        X, Y = batch\n",
        "        batch_size = X.shape[0]\n",
        "\n",
        "        real_label = torch.ones((batch_size, 1, 2, 2), device=self.device)\n",
        "        fake_label = torch.zeros((batch_size, 1, 2, 2), device=self.device)\n",
        "\n",
        "        errD_anomal = 0\n",
        "        errD_normal = 0\n",
        "\n",
        "        if (Y.squeeze() == 1):\n",
        "            generated_X = self.G(X)\n",
        "            discriminated_X = self.D_norm(X)\n",
        "            discriminated_G = self.D_norm(generated_X)\n",
        "            encoded_X = self.G.encoder(X)\n",
        "\n",
        "            #------------------------#\n",
        "            # Optimize Discriminator #\n",
        "            d_norm_opt.zero_grad()\n",
        "\n",
        "            # NORM ADV LOSS\n",
        "            Norm_adv_loss = (((discriminated_X - real_label)**2) + ((discriminated_G - fake_label)**2))\n",
        "\n",
        "            errD_normal = (Norm_adv_loss.mean())\n",
        "\n",
        "            errD = errD_normal\n",
        "            self.manual_backward(errD_normal.mean())\n",
        "            d_norm_opt.step()\n",
        "\n",
        "            #--------------------#\n",
        "            # Optimize Generator #\n",
        "            g_opt.zero_grad()\n",
        "\n",
        "            generated_X = self.G(X)\n",
        "            discriminated_X = self.D_norm(X)\n",
        "            discriminated_G = self.D_norm(generated_X)\n",
        "            encoded_X = self.G.encoder(X)\n",
        "\n",
        "            # L1 RECONSTRUCTION ERROR\n",
        "            l1_loss = F.l1_loss(X, generated_X)\n",
        "\n",
        "            # PATCH L1 LOSS\n",
        "            patch_loss = self.patch_loss(X, generated_X)\n",
        "\n",
        "            # LATENT VECTOR LOSS\n",
        "            latent_loss = F.l1_loss(encoded_X, self.G.encoder(generated_X))\n",
        "\n",
        "            # ADVERSARIAL LOSS\n",
        "            norm_adv_loss = ((discriminated_G - real_label)**2)\n",
        "\n",
        "            errG_normal = patch_loss*(1.5) + (norm_adv_loss)*(0.5) + (latent_loss)*(0.5) + (l1_loss)*(1.5)\n",
        "            errG = errG_normal.mean()\n",
        "            self.manual_backward(errG_normal.mean())\n",
        "            g_opt.step()\n",
        "\n",
        "            self.log_dict({\"g_loss\": torch.tensor(errG).mean(), \"d_normal_loss\": torch.tensor(errD).mean()}, prog_bar=True)\n",
        "\n",
        "        else:\n",
        "            generated_X = self.G(X)\n",
        "            discriminated_X = self.D_anom(X)\n",
        "            discriminated_G = self.D_anom(generated_X)\n",
        "\n",
        "            # Optimize Discriminator #\n",
        "            d_anom_opt.zero_grad()\n",
        "\n",
        "            # ANOM ADV LOSS\n",
        "            Anom_adv_loss = ((((discriminated_X - real_label)**2) + ((discriminated_G - fake_label)**2)))\n",
        "\n",
        "            errD_anomal = (Anom_adv_loss.mean())\n",
        "\n",
        "            errD = errD_anomal\n",
        "            self.manual_backward(errD_anomal.mean())\n",
        "            d_anom_opt.step()\n",
        "\n",
        "            # Optimize Generator #\n",
        "            g_opt.zero_grad()\n",
        "            generated_X = self.G(X)\n",
        "            discriminated_X = self.D_anom(X)\n",
        "            discriminated_G = self.D_anom(generated_X)\n",
        "            encoded_X = self.G.encoder(X)\n",
        "\n",
        "            # ANOM ADVERS LOSS\n",
        "            anom_adv_loss = ((discriminated_G - fake_label)**2)\n",
        "\n",
        "            # ABC LOSS\n",
        "            abc_loss = -torch.log(1 - torch.exp(-F.l1_loss(generated_X, X)))\n",
        "\n",
        "            errG_anomal = anom_adv_loss*(1) + (abc_loss)*(0.5)\n",
        "            errG = errG_anomal.mean()\n",
        "            self.manual_backward(errG_anomal.mean())\n",
        "            g_opt.step()\n",
        "\n",
        "            self.log_dict({\"g_loss\": errG, \"d_anomal_loss\": errD}, prog_bar=True)\n",
        "\n",
        "        self.g_losses.append(errG.item())\n",
        "        self.d_norm_losses.append(errD_normal.item())\n",
        "        self.d_anom_losses.append(errD_anomal.item())\n",
        "\n",
        "        return {\"g_loss\": errG, \"d_norm_loss\": errD_normal, \"d_anom_loss\": errD_anomal}\n",
        "\n",
        "    def test_step(self, batch, batch_idx):\n",
        "        X, Y = batch\n",
        "\n",
        "        generated_X = self.G(X)\n",
        "\n",
        "        # Calculate L1 reconstruction error instead of MSE\n",
        "        reconstruction_error = F.mse_loss(generated_X, X, reduction='none')\n",
        "        reconstruction_error = reconstruction_error.view(reconstruction_error.size(0), -1).mean(dim=1)  # Calculate mean error over pixels\n",
        "        self.test_step_outputs[0].append(reconstruction_error)\n",
        "        self.test_step_outputs[1].append(Y)\n",
        "\n",
        "        if self.display:\n",
        "            print(\"generated_X:\", generated_X)\n",
        "            print(\"reconstruction_error:\", reconstruction_error)\n",
        "            self.show_batch_image(batch)\n",
        "\n",
        "        return {\"reconstruction_error\": reconstruction_error, \"true_labels\": Y}\n",
        "\n",
        "    def on_test_epoch_end(self):\n",
        "        all_reconstruction_errors = torch.cat(self.test_step_outputs[0])\n",
        "        all_true_labels = torch.cat(self.test_step_outputs[1])\n",
        "\n",
        "        anomaly_threshold = 0.5\n",
        "        predicted_labels = (all_reconstruction_errors < anomaly_threshold).float().cpu().numpy()\n",
        "        true_labels = all_true_labels.squeeze().float().cpu().numpy()\n",
        "\n",
        "        # Calculate AUROC\n",
        "        auroc = roc_auc_score(true_labels, predicted_labels)\n",
        "\n",
        "        self.log(\"auroc\", (auroc), prog_bar=True)\n",
        "\n",
        "        # Clear the test step outputs after processing them\n",
        "        self.test_step_outputs = [[], []]\n",
        "\n",
        "    def on_epoch_end(self):\n",
        "        self.log('g_loss_epoch', self.trainer.logged_metrics['g_loss'].mean(), prog_bar=True)\n",
        "        self.log('d_anomal_loss_epoch', self.trainer.logged_metrics['d_anomal_loss'].mean(), prog_bar=True)\n",
        "        self.log('d_normal_loss_epoch', self.trainer.logged_metrics['d_normal_loss'].mean(), prog_bar=True)\n",
        "\n",
        "\n",
        "    def configure_optimizers(self):\n",
        "        lr = self.hparams.lr\n",
        "        b1 = self.hparams.b1\n",
        "        b2 = self.hparams.b2\n",
        "\n",
        "        opt_g = torch.optim.Adam(self.G.parameters(), lr=self.lr, betas=(b1, b2))\n",
        "        opt_d_norm = torch.optim.Adam(self.D_norm.parameters(), lr=self.lr, betas=(b1, b2))\n",
        "        opt_d_anom = torch.optim.Adam(self.D_anom.parameters(), lr=self.lr, betas=(b1, b2))\n",
        "        return opt_g, opt_d_norm, opt_d_anom\n"
      ]
    },
    {
      "cell_type": "code",
      "execution_count": 15,
      "metadata": {},
      "outputs": [
        {
          "name": "stderr",
          "output_type": "stream",
          "text": [
            "GPU available: True (cuda), used: True\n",
            "TPU available: False, using: 0 TPU cores\n",
            "IPU available: False, using: 0 IPUs\n",
            "HPU available: False, using: 0 HPUs\n"
          ]
        },
        {
          "name": "stdout",
          "output_type": "stream",
          "text": [
            "GPU\n"
          ]
        },
        {
          "name": "stderr",
          "output_type": "stream",
          "text": [
            "c:\\Users\\espda\\AppData\\Local\\Programs\\Python\\Python310\\lib\\site-packages\\pytorch_lightning\\callbacks\\model_checkpoint.py:617: UserWarning: Checkpoint directory C:\\Users\\espda\\OneDrive\\Desktop\\Università\\Magistrale - Artificial Intelligence & Robotics (2022-2023)\\Deep Learning\\Progetto\\GAN\\checkpoints exists and is not empty.\n",
            "  rank_zero_warn(f\"Checkpoint directory {dirpath} exists and is not empty.\")\n",
            "LOCAL_RANK: 0 - CUDA_VISIBLE_DEVICES: [0]\n",
            "\n",
            "  | Name   | Type          | Params\n",
            "-----------------------------------------\n",
            "0 | G      | GENERATOR     | 5.5 M \n",
            "1 | Enc    | ENCODER       | 2.8 M \n",
            "2 | D_norm | DISCRIMINATOR | 296 K \n",
            "3 | D_anom | DISCRIMINATOR | 296 K \n",
            "-----------------------------------------\n",
            "6.1 M     Trainable params\n",
            "0         Non-trainable params\n",
            "6.1 M     Total params\n",
            "24.408    Total estimated model params size (MB)\n",
            "c:\\Users\\espda\\AppData\\Local\\Programs\\Python\\Python310\\lib\\site-packages\\pytorch_lightning\\trainer\\connectors\\data_connector.py:438: PossibleUserWarning: The dataloader, train_dataloader, does not have many workers which may be a bottleneck. Consider increasing the value of the `num_workers` argument` (try 20 which is the number of cpus on this machine) in the `DataLoader` init to improve performance.\n",
            "  rank_zero_warn(\n"
          ]
        },
        {
          "name": "stdout",
          "output_type": "stream",
          "text": [
            "Epoch 0:   0%|          | 3/11994 [00:00<10:26, 19.13it/s, v_num=279, g_loss=1.990, d_anomal_loss=0.998, d_normal_loss=1.000]"
          ]
        },
        {
          "name": "stderr",
          "output_type": "stream",
          "text": [
            "C:\\Users\\espda\\AppData\\Local\\Temp\\ipykernel_8980\\4045874823.py:171: UserWarning: To copy construct from a tensor, it is recommended to use sourceTensor.clone().detach() or sourceTensor.clone().detach().requires_grad_(True), rather than torch.tensor(sourceTensor).\n",
            "  self.log_dict({\"g_loss\": torch.tensor(errG).mean(), \"d_normal_loss\": torch.tensor(errD).mean()}, prog_bar=True)\n"
          ]
        },
        {
          "name": "stdout",
          "output_type": "stream",
          "text": [
            "Epoch 36:  26%|██▌       | 3094/11994 [01:42<04:54, 30.27it/s, v_num=279, g_loss=0.724, d_anomal_loss=0.000702, d_normal_loss=0.00232]   "
          ]
        }
      ],
      "source": [
        "# Hyperparameters\n",
        "'''\n",
        "BATCH_SIZE = 1\n",
        "epochs = 15\n",
        "learning_rate = 0.0001\n",
        "subsampling = False\n",
        "subsamples = 2000\n",
        "accelerator_enabled = True\n",
        "display = False\n",
        "'''\n",
        "BATCH_SIZE = 1\n",
        "epochs = 40\n",
        "learning_rate = 0.0001\n",
        "subsampling = False\n",
        "subsamples = 1000\n",
        "accelerator_enabled = True\n",
        "display = False\n",
        "# Utilities\n",
        "checkpoint_path = './GAN/checkpoints'\n",
        "os.makedirs(checkpoint_path, exist_ok=True)\n",
        "\n",
        "checkpoint_callback = ModelCheckpoint(\n",
        "    dirpath=checkpoint_path,\n",
        "    filename=\"GAN_{epochs}_ckpt\",\n",
        "    monitor='auc',\n",
        "    mode='min',\n",
        "    save_last=True,\n",
        "    save_top_k=-1,\n",
        ")\n",
        "\n",
        "\n",
        "# Initialize dataset\n",
        "data_module = AnomalyDetectionDataModule(batch_size=BATCH_SIZE,\n",
        "                                         subsampling=subsampling,\n",
        "                                         subsamples=subsamples,\n",
        "                                         model='GAN',\n",
        "                                         normal_class=0)\n",
        "\n",
        "\n",
        "# Initialize models and trainers\n",
        "if torch.cuda.is_available() and accelerator_enabled:\n",
        "  print(\"GPU\")\n",
        "  model = GAN_SOTA(lr=learning_rate, display=display).to(\"cuda\")\n",
        "  trainer = pl.Trainer(accelerator=\"cuda\",\n",
        "                       max_epochs=epochs,\n",
        "                       callbacks=[TQDMProgressBar(),\n",
        "                                  checkpoint_callback]\n",
        "                       )\n",
        "else :\n",
        "  print(\"CPU\")\n",
        "  model = GAN_SOTA(lr=learning_rate, display=display).to(\"cpu\")\n",
        "  trainer = pl.Trainer(accelerator=\"cpu\",\n",
        "                       max_epochs=epochs,\n",
        "                       callbacks=[TQDMProgressBar(),\n",
        "                                  checkpoint_callback]\n",
        "                       )\n",
        "\n",
        "\n",
        "# Train and save\n",
        "trainer.fit(model, data_module)\n",
        "trainer.save_checkpoint(\"/GAN/checkpoints/GAN.ckpt\")\n",
        "torch.save(model.state_dict(), \"./GAN/GAN_40ep_00001lr\")\n",
        "\n",
        "# Testing\n",
        "test_results = trainer.test(model, data_module)\n",
        "print(test_results)"
      ]
    },
    {
      "cell_type": "code",
      "execution_count": 9,
      "metadata": {},
      "outputs": [
        {
          "name": "stdout",
          "output_type": "stream",
          "text": [
            "GPU\n"
          ]
        },
        {
          "name": "stderr",
          "output_type": "stream",
          "text": [
            "GPU available: True (cuda), used: True\n",
            "TPU available: False, using: 0 TPU cores\n",
            "IPU available: False, using: 0 IPUs\n",
            "HPU available: False, using: 0 HPUs\n",
            "You are using a CUDA device ('NVIDIA GeForce RTX 3060 Laptop GPU') that has Tensor Cores. To properly utilize them, you should set `torch.set_float32_matmul_precision('medium' | 'high')` which will trade-off precision for performance. For more details, read https://pytorch.org/docs/stable/generated/torch.set_float32_matmul_precision.html#torch.set_float32_matmul_precision\n",
            "LOCAL_RANK: 0 - CUDA_VISIBLE_DEVICES: [0]\n",
            "c:\\Users\\espda\\AppData\\Local\\Programs\\Python\\Python310\\lib\\site-packages\\pytorch_lightning\\trainer\\connectors\\data_connector.py:486: PossibleUserWarning: Your `test_dataloader`'s sampler has shuffling enabled, it is strongly recommended that you turn shuffling off for val/test dataloaders.\n",
            "  rank_zero_warn(\n",
            "c:\\Users\\espda\\AppData\\Local\\Programs\\Python\\Python310\\lib\\site-packages\\pytorch_lightning\\trainer\\connectors\\data_connector.py:438: PossibleUserWarning: The dataloader, test_dataloader, does not have many workers which may be a bottleneck. Consider increasing the value of the `num_workers` argument` (try 20 which is the number of cpus on this machine) in the `DataLoader` init to improve performance.\n",
            "  rank_zero_warn(\n"
          ]
        },
        {
          "name": "stdout",
          "output_type": "stream",
          "text": [
            "Testing DataLoader 0: 100%|██████████| 1999/1999 [00:06<00:00, 331.36it/s]\n"
          ]
        },
        {
          "data": {
            "text/html": [
              "<pre style=\"white-space:pre;overflow-x:auto;line-height:normal;font-family:Menlo,'DejaVu Sans Mono',consolas,'Courier New',monospace\">┏━━━━━━━━━━━━━━━━━━━━━━━━━━━┳━━━━━━━━━━━━━━━━━━━━━━━━━━━┓\n",
              "┃<span style=\"font-weight: bold\">        Test metric        </span>┃<span style=\"font-weight: bold\">       DataLoader 0        </span>┃\n",
              "┡━━━━━━━━━━━━━━━━━━━━━━━━━━━╇━━━━━━━━━━━━━━━━━━━━━━━━━━━┩\n",
              "│<span style=\"color: #008080; text-decoration-color: #008080\">           auroc           </span>│<span style=\"color: #800080; text-decoration-color: #800080\">    0.4868663663663663     </span>│\n",
              "└───────────────────────────┴───────────────────────────┘\n",
              "</pre>\n"
            ],
            "text/plain": [
              "┏━━━━━━━━━━━━━━━━━━━━━━━━━━━┳━━━━━━━━━━━━━━━━━━━━━━━━━━━┓\n",
              "┃\u001b[1m \u001b[0m\u001b[1m       Test metric       \u001b[0m\u001b[1m \u001b[0m┃\u001b[1m \u001b[0m\u001b[1m      DataLoader 0       \u001b[0m\u001b[1m \u001b[0m┃\n",
              "┡━━━━━━━━━━━━━━━━━━━━━━━━━━━╇━━━━━━━━━━━━━━━━━━━━━━━━━━━┩\n",
              "│\u001b[36m \u001b[0m\u001b[36m          auroc          \u001b[0m\u001b[36m \u001b[0m│\u001b[35m \u001b[0m\u001b[35m   0.4868663663663663    \u001b[0m\u001b[35m \u001b[0m│\n",
              "└───────────────────────────┴───────────────────────────┘\n"
            ]
          },
          "metadata": {},
          "output_type": "display_data"
        },
        {
          "name": "stdout",
          "output_type": "stream",
          "text": [
            "[{'auroc': 0.4868663663663663}]\n"
          ]
        }
      ],
      "source": [
        "\n"
      ]
    },
    {
      "cell_type": "code",
      "execution_count": 10,
      "metadata": {},
      "outputs": [
        {
          "name": "stdout",
          "output_type": "stream",
          "text": [
            "\n",
            "Reconstruction error: tensor([2.2633], grad_fn=<MeanBackward1>)\n"
          ]
        },
        {
          "data": {
            "image/png": "[encoded data removed]",
            "text/plain": [
              "<Figure size 900x400 with 2 Axes>"
            ]
          },
          "metadata": {},
          "output_type": "display_data"
        },
        {
          "name": "stdout",
          "output_type": "stream",
          "text": [
            "Anomal Class\n",
            "\n",
            "Reconstruction error: tensor([2.6413], grad_fn=<MeanBackward1>)\n"
          ]
        },
        {
          "data": {
            "image/png": "[encoded data removed]",
            "text/plain": [
              "<Figure size 900x400 with 2 Axes>"
            ]
          },
          "metadata": {},
          "output_type": "display_data"
        }
      ],
      "source": [
        "#model = GAN_SOTA()\n",
        "model.load_state_dict(torch.load(\"./GAN/GAN_40ep_00001lr\"))\n",
        "\n",
        "input_image_path = '0.png'     # t-shirt\n",
        "#input_image_path = '1.png'     # trousers\n",
        "#input_image_path = '4.png'     # coat\n",
        "#input_image_path = '5.png'     # sandal\n",
        "#input_image_path = '6.png'     # shirt\n",
        "#input_image_path = '7.png'     # Sneaker\n",
        "#input_image_path = '8.png'     # bag\n",
        "\n",
        "compare_img(input_image_path, model, \"Normal Sample\")\n",
        "\n",
        "print(\"Anomal Class\")\n",
        "input_image_path = '6.png'\n",
        "compare_img(input_image_path, model, \"Anomal Sample\")"
      ]
    },
    {
      "cell_type": "code",
      "execution_count": 6,
      "metadata": {},
      "outputs": [
        {
          "name": "stdout",
          "output_type": "stream",
          "text": [
            "GPU\n"
          ]
        },
        {
          "name": "stderr",
          "output_type": "stream",
          "text": [
            "GPU available: True (cuda), used: True\n",
            "TPU available: False, using: 0 TPU cores\n",
            "IPU available: False, using: 0 IPUs\n",
            "HPU available: False, using: 0 HPUs\n",
            "You are using a CUDA device ('NVIDIA GeForce RTX 3060 Laptop GPU') that has Tensor Cores. To properly utilize them, you should set `torch.set_float32_matmul_precision('medium' | 'high')` which will trade-off precision for performance. For more details, read https://pytorch.org/docs/stable/generated/torch.set_float32_matmul_precision.html#torch.set_float32_matmul_precision\n",
            "c:\\Users\\espda\\AppData\\Local\\Programs\\Python\\Python310\\lib\\site-packages\\pytorch_lightning\\callbacks\\model_checkpoint.py:617: UserWarning: Checkpoint directory C:\\Users\\espda\\OneDrive\\Desktop\\Università\\Magistrale - Artificial Intelligence & Robotics (2022-2023)\\Deep Learning\\Progetto\\GAN\\checkpoints exists and is not empty.\n",
            "  rank_zero_warn(f\"Checkpoint directory {dirpath} exists and is not empty.\")\n",
            "LOCAL_RANK: 0 - CUDA_VISIBLE_DEVICES: [0]\n",
            "\n",
            "  | Name   | Type          | Params\n",
            "-----------------------------------------\n",
            "0 | G      | GENERATOR     | 5.5 M \n",
            "1 | Enc    | ENCODER       | 2.8 M \n",
            "2 | D_norm | DISCRIMINATOR | 296 K \n",
            "3 | D_anom | DISCRIMINATOR | 296 K \n",
            "-----------------------------------------\n",
            "6.1 M     Trainable params\n",
            "0         Non-trainable params\n",
            "6.1 M     Total params\n",
            "24.408    Total estimated model params size (MB)\n",
            "c:\\Users\\espda\\AppData\\Local\\Programs\\Python\\Python310\\lib\\site-packages\\pytorch_lightning\\trainer\\connectors\\data_connector.py:438: PossibleUserWarning: The dataloader, train_dataloader, does not have many workers which may be a bottleneck. Consider increasing the value of the `num_workers` argument` (try 20 which is the number of cpus on this machine) in the `DataLoader` init to improve performance.\n",
            "  rank_zero_warn(\n"
          ]
        },
        {
          "name": "stdout",
          "output_type": "stream",
          "text": [
            "Epoch 0:   0%|          | 20/11994 [00:02<28:11,  7.08it/s, v_num=282, g_loss=1.980, d_anomal_loss=1.000, d_normal_loss=1.000] "
          ]
        },
        {
          "name": "stderr",
          "output_type": "stream",
          "text": [
            "C:\\Users\\espda\\AppData\\Local\\Temp\\ipykernel_13760\\4045874823.py:171: UserWarning: To copy construct from a tensor, it is recommended to use sourceTensor.clone().detach() or sourceTensor.clone().detach().requires_grad_(True), rather than torch.tensor(sourceTensor).\n",
            "  self.log_dict({\"g_loss\": torch.tensor(errG).mean(), \"d_normal_loss\": torch.tensor(errD).mean()}, prog_bar=True)\n"
          ]
        },
        {
          "name": "stdout",
          "output_type": "stream",
          "text": [
            "Epoch 0: 100%|██████████| 11994/11994 [04:31<00:00, 44.25it/s, v_num=282, g_loss=2.980, d_anomal_loss=1.000, d_normal_loss=1.000] "
          ]
        },
        {
          "name": "stderr",
          "output_type": "stream",
          "text": [
            "c:\\Users\\espda\\AppData\\Local\\Programs\\Python\\Python310\\lib\\site-packages\\pytorch_lightning\\callbacks\\model_checkpoint.py:359: UserWarning: `ModelCheckpoint(monitor='auc')` could not find the monitored key in the returned metrics: ['g_loss', 'd_anomal_loss', 'd_normal_loss', 'epoch', 'step']. HINT: Did you call `log('auc', value)` in the `LightningModule`?\n",
            "  warning_cache.warn(m)\n"
          ]
        },
        {
          "name": "stdout",
          "output_type": "stream",
          "text": [
            "Epoch 4: 100%|██████████| 11994/11994 [03:57<00:00, 50.53it/s, v_num=282, g_loss=0.144, d_anomal_loss=1.000, d_normal_loss=1.000] "
          ]
        },
        {
          "name": "stderr",
          "output_type": "stream",
          "text": [
            "`Trainer.fit` stopped: `max_epochs=5` reached.\n"
          ]
        },
        {
          "name": "stdout",
          "output_type": "stream",
          "text": [
            "Epoch 4: 100%|██████████| 11994/11994 [03:57<00:00, 50.49it/s, v_num=282, g_loss=0.144, d_anomal_loss=1.000, d_normal_loss=1.000]\n"
          ]
        },
        {
          "name": "stderr",
          "output_type": "stream",
          "text": [
            "LOCAL_RANK: 0 - CUDA_VISIBLE_DEVICES: [0]\n",
            "c:\\Users\\espda\\AppData\\Local\\Programs\\Python\\Python310\\lib\\site-packages\\pytorch_lightning\\trainer\\connectors\\data_connector.py:486: PossibleUserWarning: Your `test_dataloader`'s sampler has shuffling enabled, it is strongly recommended that you turn shuffling off for val/test dataloaders.\n",
            "  rank_zero_warn(\n",
            "c:\\Users\\espda\\AppData\\Local\\Programs\\Python\\Python310\\lib\\site-packages\\pytorch_lightning\\trainer\\connectors\\data_connector.py:438: PossibleUserWarning: The dataloader, test_dataloader, does not have many workers which may be a bottleneck. Consider increasing the value of the `num_workers` argument` (try 20 which is the number of cpus on this machine) in the `DataLoader` init to improve performance.\n",
            "  rank_zero_warn(\n"
          ]
        },
        {
          "name": "stdout",
          "output_type": "stream",
          "text": [
            "Testing DataLoader 0: 100%|██████████| 1999/1999 [00:03<00:00, 603.99it/s]\n"
          ]
        },
        {
          "data": {
            "text/html": [
              "<pre style=\"white-space:pre;overflow-x:auto;line-height:normal;font-family:Menlo,'DejaVu Sans Mono',consolas,'Courier New',monospace\">┏━━━━━━━━━━━━━━━━━━━━━━━━━━━┳━━━━━━━━━━━━━━━━━━━━━━━━━━━┓\n",
              "┃<span style=\"font-weight: bold\">        Test metric        </span>┃<span style=\"font-weight: bold\">       DataLoader 0        </span>┃\n",
              "┡━━━━━━━━━━━━━━━━━━━━━━━━━━━╇━━━━━━━━━━━━━━━━━━━━━━━━━━━┩\n",
              "│<span style=\"color: #008080; text-decoration-color: #008080\">           auroc           </span>│<span style=\"color: #800080; text-decoration-color: #800080\">    0.9144334334334334     </span>│\n",
              "└───────────────────────────┴───────────────────────────┘\n",
              "</pre>\n"
            ],
            "text/plain": [
              "┏━━━━━━━━━━━━━━━━━━━━━━━━━━━┳━━━━━━━━━━━━━━━━━━━━━━━━━━━┓\n",
              "┃\u001b[1m \u001b[0m\u001b[1m       Test metric       \u001b[0m\u001b[1m \u001b[0m┃\u001b[1m \u001b[0m\u001b[1m      DataLoader 0       \u001b[0m\u001b[1m \u001b[0m┃\n",
              "┡━━━━━━━━━━━━━━━━━━━━━━━━━━━╇━━━━━━━━━━━━━━━━━━━━━━━━━━━┩\n",
              "│\u001b[36m \u001b[0m\u001b[36m          auroc          \u001b[0m\u001b[36m \u001b[0m│\u001b[35m \u001b[0m\u001b[35m   0.9144334334334334    \u001b[0m\u001b[35m \u001b[0m│\n",
              "└───────────────────────────┴───────────────────────────┘\n"
            ]
          },
          "metadata": {},
          "output_type": "display_data"
        },
        {
          "name": "stdout",
          "output_type": "stream",
          "text": [
            "[{'auroc': 0.9144334334334334}]\n"
          ]
        }
      ],
      "source": [
        "# Hyperparameters\n",
        "BATCH_SIZE = 1\n",
        "epochs = 5\n",
        "learning_rate = 0.0001\n",
        "subsampling = False\n",
        "subsamples = 1000\n",
        "accelerator_enabled = True\n",
        "display = False\n",
        "# Utilities\n",
        "checkpoint_path = './GAN/checkpoints'\n",
        "os.makedirs(checkpoint_path, exist_ok=True)\n",
        "\n",
        "checkpoint_callback = ModelCheckpoint(\n",
        "    dirpath=checkpoint_path,\n",
        "    filename=\"GAN_{epochs}_ckpt\",\n",
        "    monitor='auc',\n",
        "    mode='min',\n",
        "    save_last=True,\n",
        "    save_top_k=-1,\n",
        ")\n",
        "\n",
        "\n",
        "# Initialize dataset\n",
        "data_module = AnomalyDetectionDataModule(batch_size=BATCH_SIZE,\n",
        "                                         subsampling=subsampling,\n",
        "                                         subsamples=subsamples,\n",
        "                                         model='GAN',\n",
        "                                         normal_class=0)\n",
        "\n",
        "\n",
        "# Initialize models and trainers\n",
        "if torch.cuda.is_available() and accelerator_enabled:\n",
        "  print(\"GPU\")\n",
        "  model = GAN_SOTA(lr=learning_rate, display=display).to(\"cuda\")\n",
        "  trainer = pl.Trainer(accelerator=\"cuda\",\n",
        "                       max_epochs=epochs,\n",
        "                       callbacks=[TQDMProgressBar(),\n",
        "                                  checkpoint_callback]\n",
        "                       )\n",
        "else :\n",
        "  print(\"CPU\")\n",
        "  model = GAN_SOTA(lr=learning_rate, display=display).to(\"cpu\")\n",
        "  trainer = pl.Trainer(accelerator=\"cpu\",\n",
        "                       max_epochs=epochs,\n",
        "                       callbacks=[TQDMProgressBar(),\n",
        "                                  checkpoint_callback]\n",
        "                       )\n",
        "\n",
        "\n",
        "# Train and save\n",
        "trainer.fit(model, data_module)\n",
        "trainer.save_checkpoint(\"/GAN/checkpoints/GAN.ckpt\")\n",
        "torch.save(model.state_dict(), \"./GAN/GAN_5ep_00001lr\")\n",
        "\n",
        "# Testing\n",
        "test_results = trainer.test(model, data_module)\n",
        "print(test_results)"
      ]
    },
    {
      "cell_type": "code",
      "execution_count": 9,
      "metadata": {},
      "outputs": [
        {
          "name": "stdout",
          "output_type": "stream",
          "text": [
            "\n",
            "Reconstruction error: tensor([0.2768], grad_fn=<MeanBackward1>)\n"
          ]
        },
        {
          "data": {
            "image/png": "[encoded data removed]",
            "text/plain": [
              "<Figure size 900x400 with 2 Axes>"
            ]
          },
          "metadata": {},
          "output_type": "display_data"
        },
        {
          "name": "stdout",
          "output_type": "stream",
          "text": [
            "Anomal Class\n",
            "\n",
            "Reconstruction error: tensor([0.6456], grad_fn=<MeanBackward1>)\n"
          ]
        },
        {
          "data": {
            "image/png": "[encoded data removed]",
            "text/plain": [
              "<Figure size 900x400 with 2 Axes>"
            ]
          },
          "metadata": {},
          "output_type": "display_data"
        }
      ],
      "source": [
        "#model = GAN_SOTA()\n",
        "#model.load_state_dict(torch.load(\"./GAN_pretrained\"))\n",
        "\n",
        "input_image_path = '0.png'     # t-shirt\n",
        "#input_image_path = '1.png'     # trousers\n",
        "#input_image_path = '4.png'     # coat\n",
        "#input_image_path = '5.png'     # sandal\n",
        "#input_image_path = '6.png'     # shirt\n",
        "#input_image_path = '7.png'     # Sneaker\n",
        "#input_image_path = '8.png'     # bag\n",
        "\n",
        "compare_img(input_image_path, model, \"Normal Sample\")\n",
        "\n",
        "print(\"Anomal Class\")\n",
        "input_image_path = '8.png'\n",
        "compare_img(input_image_path, model, \"Anomal Sample\")"
      ]
    },
    {
      "cell_type": "markdown",
      "metadata": {},
      "source": [
        "########################################################\n",
        "# AE test"
      ]
    },
    {
      "cell_type": "code",
      "execution_count": 26,
      "metadata": {},
      "outputs": [
        {
          "name": "stderr",
          "output_type": "stream",
          "text": [
            "GPU available: True (cuda), used: True\n",
            "TPU available: False, using: 0 TPU cores\n",
            "IPU available: False, using: 0 IPUs\n",
            "HPU available: False, using: 0 HPUs\n"
          ]
        },
        {
          "name": "stdout",
          "output_type": "stream",
          "text": [
            "GPU\n"
          ]
        },
        {
          "name": "stderr",
          "output_type": "stream",
          "text": [
            "c:\\Users\\espda\\AppData\\Local\\Programs\\Python\\Python310\\lib\\site-packages\\pytorch_lightning\\callbacks\\model_checkpoint.py:617: UserWarning: Checkpoint directory C:\\Users\\espda\\OneDrive\\Desktop\\Università\\Magistrale - Artificial Intelligence & Robotics (2022-2023)\\Deep Learning\\Progetto\\AE\\checkpoints exists and is not empty.\n",
            "  rank_zero_warn(f\"Checkpoint directory {dirpath} exists and is not empty.\")\n",
            "LOCAL_RANK: 0 - CUDA_VISIBLE_DEVICES: [0]\n",
            "\n",
            "  | Name | Type        | Params\n",
            "-------------------------------------\n",
            "0 | AE   | Autoencoder | 6.9 K \n",
            "1 | enc  | Sequential  | 4.8 K \n",
            "-------------------------------------\n",
            "6.9 K     Trainable params\n",
            "0         Non-trainable params\n",
            "6.9 K     Total params\n",
            "0.028     Total estimated model params size (MB)\n",
            "c:\\Users\\espda\\AppData\\Local\\Programs\\Python\\Python310\\lib\\site-packages\\pytorch_lightning\\trainer\\connectors\\data_connector.py:438: PossibleUserWarning: The dataloader, train_dataloader, does not have many workers which may be a bottleneck. Consider increasing the value of the `num_workers` argument` (try 20 which is the number of cpus on this machine) in the `DataLoader` init to improve performance.\n",
            "  rank_zero_warn(\n"
          ]
        },
        {
          "name": "stdout",
          "output_type": "stream",
          "text": [
            "Epoch 4: 100%|██████████| 6000/6000 [00:25<00:00, 237.98it/s, v_num=289, loss=0.487] "
          ]
        },
        {
          "name": "stderr",
          "output_type": "stream",
          "text": [
            "`Trainer.fit` stopped: `max_epochs=5` reached.\n"
          ]
        },
        {
          "name": "stdout",
          "output_type": "stream",
          "text": [
            "Epoch 4: 100%|██████████| 6000/6000 [00:25<00:00, 237.89it/s, v_num=289, loss=0.487]\n"
          ]
        },
        {
          "name": "stderr",
          "output_type": "stream",
          "text": [
            "LOCAL_RANK: 0 - CUDA_VISIBLE_DEVICES: [0]\n",
            "c:\\Users\\espda\\AppData\\Local\\Programs\\Python\\Python310\\lib\\site-packages\\pytorch_lightning\\trainer\\connectors\\data_connector.py:486: PossibleUserWarning: Your `test_dataloader`'s sampler has shuffling enabled, it is strongly recommended that you turn shuffling off for val/test dataloaders.\n",
            "  rank_zero_warn(\n",
            "c:\\Users\\espda\\AppData\\Local\\Programs\\Python\\Python310\\lib\\site-packages\\pytorch_lightning\\trainer\\connectors\\data_connector.py:438: PossibleUserWarning: The dataloader, test_dataloader, does not have many workers which may be a bottleneck. Consider increasing the value of the `num_workers` argument` (try 20 which is the number of cpus on this machine) in the `DataLoader` init to improve performance.\n",
            "  rank_zero_warn(\n"
          ]
        },
        {
          "name": "stdout",
          "output_type": "stream",
          "text": [
            "Testing DataLoader 0: 100%|██████████| 1999/1999 [00:02<00:00, 666.57it/s]\n"
          ]
        },
        {
          "data": {
            "text/html": [
              "<pre style=\"white-space:pre;overflow-x:auto;line-height:normal;font-family:Menlo,'DejaVu Sans Mono',consolas,'Courier New',monospace\">┏━━━━━━━━━━━━━━━━━━━━━━━━━━━┳━━━━━━━━━━━━━━━━━━━━━━━━━━━┓\n",
              "┃<span style=\"font-weight: bold\">        Test metric        </span>┃<span style=\"font-weight: bold\">       DataLoader 0        </span>┃\n",
              "┡━━━━━━━━━━━━━━━━━━━━━━━━━━━╇━━━━━━━━━━━━━━━━━━━━━━━━━━━┩\n",
              "│<span style=\"color: #008080; text-decoration-color: #008080\">           auroc           </span>│<span style=\"color: #800080; text-decoration-color: #800080\">    0.6197842842842843     </span>│\n",
              "└───────────────────────────┴───────────────────────────┘\n",
              "</pre>\n"
            ],
            "text/plain": [
              "┏━━━━━━━━━━━━━━━━━━━━━━━━━━━┳━━━━━━━━━━━━━━━━━━━━━━━━━━━┓\n",
              "┃\u001b[1m \u001b[0m\u001b[1m       Test metric       \u001b[0m\u001b[1m \u001b[0m┃\u001b[1m \u001b[0m\u001b[1m      DataLoader 0       \u001b[0m\u001b[1m \u001b[0m┃\n",
              "┡━━━━━━━━━━━━━━━━━━━━━━━━━━━╇━━━━━━━━━━━━━━━━━━━━━━━━━━━┩\n",
              "│\u001b[36m \u001b[0m\u001b[36m          auroc          \u001b[0m\u001b[36m \u001b[0m│\u001b[35m \u001b[0m\u001b[35m   0.6197842842842843    \u001b[0m\u001b[35m \u001b[0m│\n",
              "└───────────────────────────┴───────────────────────────┘\n"
            ]
          },
          "metadata": {},
          "output_type": "display_data"
        },
        {
          "name": "stdout",
          "output_type": "stream",
          "text": [
            "[{'auroc': 0.6197842842842843}]\n"
          ]
        }
      ],
      "source": [
        "# Utilities\n",
        "checkpoint_path = './AE/checkpoints'\n",
        "os.makedirs(checkpoint_path, exist_ok=True)\n",
        "\n",
        "checkpoint_callback = ModelCheckpoint(\n",
        "    dirpath=checkpoint_path,\n",
        "    filename=\"AE_{epoch}_ckpt\",\n",
        "    monitor='loss',\n",
        "    mode='min',\n",
        "    save_last=True,\n",
        "    save_top_k=-1,\n",
        ")\n",
        "# Hyperparameters\n",
        "'''\n",
        "BATCH_SIZE = 1\n",
        "epochs = 13\n",
        "learning_rate = 0.001\n",
        "subsampling = True\n",
        "subsamples = 3000\n",
        "accelerator_enabled = True\n",
        "display = False\n",
        "'''\n",
        "BATCH_SIZE = 1\n",
        "epochs = 5\n",
        "learning_rate = 0.01\n",
        "subsampling = False\n",
        "subsamples = 200\n",
        "accelerator_enabled = True\n",
        "display = False\n",
        "\n",
        "# Initialize dataset\n",
        "data_module = AnomalyDetectionDataModule(batch_size=BATCH_SIZE,\n",
        "                                         subsampling=subsampling,\n",
        "                                         subsamples=subsamples,\n",
        "                                         model='AE',\n",
        "                                         normal_class=0)\n",
        "\n",
        "# Initialize model and trainer\n",
        "\n",
        "if torch.cuda.is_available() and accelerator_enabled:\n",
        "  print(\"GPU\")\n",
        "  model = AE_based(lr=learning_rate, display=display).to(\"cuda\")\n",
        "  trainer = pl.Trainer(accelerator=\"cuda\",\n",
        "                       max_epochs=epochs,\n",
        "                       callbacks=[TQDMProgressBar(),\n",
        "                                  checkpoint_callback]\n",
        "                       )\n",
        "else :\n",
        "  print(\"CPU\")\n",
        "  model = AE_based(lr=learning_rate, display=display).to(\"cpu\")\n",
        "  trainer = pl.Trainer(accelerator=\"cpu\",\n",
        "                       max_epochs=epochs,\n",
        "                       callbacks=[TQDMProgressBar(),\n",
        "                                  checkpoint_callback]\n",
        "                       )\n",
        "\n",
        "# Trainer\n",
        "trainer.fit(model, datamodule=data_module)\n",
        "trainer.save_checkpoint(\"checkpoints/AE.ckpt\")\n",
        "torch.save(model.state_dict(), \"./AE/AE_15ep_0001\")\n",
        "\n",
        "# Testing\n",
        "test_results = trainer.test(model, data_module)\n",
        "print(test_results)\n"
      ]
    },
    {
      "cell_type": "code",
      "execution_count": 29,
      "metadata": {},
      "outputs": [
        {
          "name": "stdout",
          "output_type": "stream",
          "text": [
            "\n",
            "Reconstruction error: tensor([0.0178], grad_fn=<MeanBackward1>)\n"
          ]
        },
        {
          "data": {
            "image/png": "[encoded data removed]",
            "text/plain": [
              "<Figure size 900x400 with 2 Axes>"
            ]
          },
          "metadata": {},
          "output_type": "display_data"
        },
        {
          "name": "stdout",
          "output_type": "stream",
          "text": [
            "Anomal Class\n",
            "\n",
            "Reconstruction error: tensor([0.0093], grad_fn=<MeanBackward1>)\n"
          ]
        },
        {
          "data": {
            "image/png": "[encoded data removed]",
            "text/plain": [
              "<Figure size 900x400 with 2 Axes>"
            ]
          },
          "metadata": {},
          "output_type": "display_data"
        }
      ],
      "source": [
        "#model = AE_based()\n",
        "#model.load_state_dict(torch.load(\"./AE/AE_200samples_5ep\"))\n",
        "\n",
        "input_image_path = '0.png'     # t-shirt\n",
        "#input_image_path = '1.png'     # trousers\n",
        "#input_image_path = '4.png'     # coat\n",
        "#input_image_path = '5.png'     # sandal\n",
        "#input_image_path = '6.png'     # shirt\n",
        "#input_image_path = '7.png'     # Sneaker\n",
        "#input_image_path = '8.png'     # bag\n",
        "\n",
        "compare_img(input_image_path, model, \"Normal Sample\")\n",
        "\n",
        "print(\"Anomal Class\")\n",
        "input_image_path = '1.png'\n",
        "compare_img(input_image_path, model, \"Anomal Sample\")"
      ]
    }
  ],
  "metadata": {
    "accelerator": "GPU",
    "colab": {
      "gpuType": "T4",
      "provenance": []
    },
    "kernelspec": {
      "display_name": "Python 3",
      "name": "python3"
    },
    "language_info": {
      "codemirror_mode": {
        "name": "ipython",
        "version": 3
      },
      "file_extension": ".py",
      "mimetype": "text/x-python",
      "name": "python",
      "nbconvert_exporter": "python",
      "pygments_lexer": "ipython3",
      "version": "3.10.8"
    },
    "orig_nbformat": 4,
    "widgets": {
      "application/vnd.jupyter.widget-state+json": {
        "0024979e0e2c46bc89b4a31ffc452274": {
          "model_module": "@jupyter-widgets/base",
          "model_module_version": "1.2.0",
          "model_name": "LayoutModel",
          "state": {
            "_model_module": "@jupyter-widgets/base",
            "_model_module_version": "1.2.0",
            "_model_name": "LayoutModel",
            "_view_count": null,
            "_view_module": "@jupyter-widgets/base",
            "_view_module_version": "1.2.0",
            "_view_name": "LayoutView",
            "align_content": null,
            "align_items": null,
            "align_self": null,
            "border": null,
            "bottom": null,
            "display": null,
            "flex": null,
            "flex_flow": null,
            "grid_area": null,
            "grid_auto_columns": null,
            "grid_auto_flow": null,
            "grid_auto_rows": null,
            "grid_column": null,
            "grid_gap": null,
            "grid_row": null,
            "grid_template_areas": null,
            "grid_template_columns": null,
            "grid_template_rows": null,
            "height": null,
            "justify_content": null,
            "justify_items": null,
            "left": null,
            "margin": null,
            "max_height": null,
            "max_width": null,
            "min_height": null,
            "min_width": null,
            "object_fit": null,
            "object_position": null,
            "order": null,
            "overflow": null,
            "overflow_x": null,
            "overflow_y": null,
            "padding": null,
            "right": null,
            "top": null,
            "visibility": null,
            "width": null
          }
        },
        "48129187aab44cab9a9213f8f91aa3cb": {
          "model_module": "@jupyter-widgets/controls",
          "model_module_version": "1.5.0",
          "model_name": "HBoxModel",
          "state": {
            "_dom_classes": [],
            "_model_module": "@jupyter-widgets/controls",
            "_model_module_version": "1.5.0",
            "_model_name": "HBoxModel",
            "_view_count": null,
            "_view_module": "@jupyter-widgets/controls",
            "_view_module_version": "1.5.0",
            "_view_name": "HBoxView",
            "box_style": "",
            "children": [
              "IPY_MODEL_f26e26c303924eadbc244599d0fe6dc7",
              "IPY_MODEL_be09212e106c4870a33a29c21c2693b9",
              "IPY_MODEL_ee145903ab0e4657b426589221bc5c92"
            ],
            "layout": "IPY_MODEL_cb6e93d421c54f00a0cfd88a73e478a7"
          }
        },
        "4b67e2cc2c9a427ba7d79a2b6c4e0f3a": {
          "model_module": "@jupyter-widgets/controls",
          "model_module_version": "1.5.0",
          "model_name": "FloatProgressModel",
          "state": {
            "_dom_classes": [],
            "_model_module": "@jupyter-widgets/controls",
            "_model_module_version": "1.5.0",
            "_model_name": "FloatProgressModel",
            "_view_count": null,
            "_view_module": "@jupyter-widgets/controls",
            "_view_module_version": "1.5.0",
            "_view_name": "ProgressView",
            "bar_style": "success",
            "description": "",
            "description_tooltip": null,
            "layout": "IPY_MODEL_eb8f4279c9d245b987284848793f5b5a",
            "max": 2000,
            "min": 0,
            "orientation": "horizontal",
            "style": "IPY_MODEL_6ccd967b5d804b04bf21b64b0bbc5691",
            "value": 2000
          }
        },
        "5262edaa7ae24c2c8616f1b54fbf00d0": {
          "model_module": "@jupyter-widgets/controls",
          "model_module_version": "1.5.0",
          "model_name": "DescriptionStyleModel",
          "state": {
            "_model_module": "@jupyter-widgets/controls",
            "_model_module_version": "1.5.0",
            "_model_name": "DescriptionStyleModel",
            "_view_count": null,
            "_view_module": "@jupyter-widgets/base",
            "_view_module_version": "1.2.0",
            "_view_name": "StyleView",
            "description_width": ""
          }
        },
        "688a8a853aee46b98ec777418e619707": {
          "model_module": "@jupyter-widgets/controls",
          "model_module_version": "1.5.0",
          "model_name": "DescriptionStyleModel",
          "state": {
            "_model_module": "@jupyter-widgets/controls",
            "_model_module_version": "1.5.0",
            "_model_name": "DescriptionStyleModel",
            "_view_count": null,
            "_view_module": "@jupyter-widgets/base",
            "_view_module_version": "1.2.0",
            "_view_name": "StyleView",
            "description_width": ""
          }
        },
        "6ccd967b5d804b04bf21b64b0bbc5691": {
          "model_module": "@jupyter-widgets/controls",
          "model_module_version": "1.5.0",
          "model_name": "ProgressStyleModel",
          "state": {
            "_model_module": "@jupyter-widgets/controls",
            "_model_module_version": "1.5.0",
            "_model_name": "ProgressStyleModel",
            "_view_count": null,
            "_view_module": "@jupyter-widgets/base",
            "_view_module_version": "1.2.0",
            "_view_name": "StyleView",
            "bar_color": null,
            "description_width": ""
          }
        },
        "739a7e2874664a509494d9350e57cc3e": {
          "model_module": "@jupyter-widgets/base",
          "model_module_version": "1.2.0",
          "model_name": "LayoutModel",
          "state": {
            "_model_module": "@jupyter-widgets/base",
            "_model_module_version": "1.2.0",
            "_model_name": "LayoutModel",
            "_view_count": null,
            "_view_module": "@jupyter-widgets/base",
            "_view_module_version": "1.2.0",
            "_view_name": "LayoutView",
            "align_content": null,
            "align_items": null,
            "align_self": null,
            "border": null,
            "bottom": null,
            "display": "inline-flex",
            "flex": null,
            "flex_flow": "row wrap",
            "grid_area": null,
            "grid_auto_columns": null,
            "grid_auto_flow": null,
            "grid_auto_rows": null,
            "grid_column": null,
            "grid_gap": null,
            "grid_row": null,
            "grid_template_areas": null,
            "grid_template_columns": null,
            "grid_template_rows": null,
            "height": null,
            "justify_content": null,
            "justify_items": null,
            "left": null,
            "margin": null,
            "max_height": null,
            "max_width": null,
            "min_height": null,
            "min_width": null,
            "object_fit": null,
            "object_position": null,
            "order": null,
            "overflow": null,
            "overflow_x": null,
            "overflow_y": null,
            "padding": null,
            "right": null,
            "top": null,
            "visibility": null,
            "width": "100%"
          }
        },
        "78f8fb9e89c842b0a047d7883b25f40c": {
          "model_module": "@jupyter-widgets/controls",
          "model_module_version": "1.5.0",
          "model_name": "HBoxModel",
          "state": {
            "_dom_classes": [],
            "_model_module": "@jupyter-widgets/controls",
            "_model_module_version": "1.5.0",
            "_model_name": "HBoxModel",
            "_view_count": null,
            "_view_module": "@jupyter-widgets/controls",
            "_view_module_version": "1.5.0",
            "_view_name": "HBoxView",
            "box_style": "",
            "children": [
              "IPY_MODEL_a78c2351b75b473bb29ece9d00f5a208",
              "IPY_MODEL_4b67e2cc2c9a427ba7d79a2b6c4e0f3a",
              "IPY_MODEL_dc389bc60d1a4d03ba3d767dab9c1197"
            ],
            "layout": "IPY_MODEL_739a7e2874664a509494d9350e57cc3e"
          }
        },
        "a78c2351b75b473bb29ece9d00f5a208": {
          "model_module": "@jupyter-widgets/controls",
          "model_module_version": "1.5.0",
          "model_name": "HTMLModel",
          "state": {
            "_dom_classes": [],
            "_model_module": "@jupyter-widgets/controls",
            "_model_module_version": "1.5.0",
            "_model_name": "HTMLModel",
            "_view_count": null,
            "_view_module": "@jupyter-widgets/controls",
            "_view_module_version": "1.5.0",
            "_view_name": "HTMLView",
            "description": "",
            "description_tooltip": null,
            "layout": "IPY_MODEL_afb2d01c681149329187e6181fe312b6",
            "placeholder": "​",
            "style": "IPY_MODEL_5262edaa7ae24c2c8616f1b54fbf00d0",
            "value": "Testing DataLoader 0: 100%"
          }
        },
        "ae5198c649c14a41bdbdcb7e884f7638": {
          "model_module": "@jupyter-widgets/base",
          "model_module_version": "1.2.0",
          "model_name": "LayoutModel",
          "state": {
            "_model_module": "@jupyter-widgets/base",
            "_model_module_version": "1.2.0",
            "_model_name": "LayoutModel",
            "_view_count": null,
            "_view_module": "@jupyter-widgets/base",
            "_view_module_version": "1.2.0",
            "_view_name": "LayoutView",
            "align_content": null,
            "align_items": null,
            "align_self": null,
            "border": null,
            "bottom": null,
            "display": null,
            "flex": null,
            "flex_flow": null,
            "grid_area": null,
            "grid_auto_columns": null,
            "grid_auto_flow": null,
            "grid_auto_rows": null,
            "grid_column": null,
            "grid_gap": null,
            "grid_row": null,
            "grid_template_areas": null,
            "grid_template_columns": null,
            "grid_template_rows": null,
            "height": null,
            "justify_content": null,
            "justify_items": null,
            "left": null,
            "margin": null,
            "max_height": null,
            "max_width": null,
            "min_height": null,
            "min_width": null,
            "object_fit": null,
            "object_position": null,
            "order": null,
            "overflow": null,
            "overflow_x": null,
            "overflow_y": null,
            "padding": null,
            "right": null,
            "top": null,
            "visibility": null,
            "width": null
          }
        },
        "afb2d01c681149329187e6181fe312b6": {
          "model_module": "@jupyter-widgets/base",
          "model_module_version": "1.2.0",
          "model_name": "LayoutModel",
          "state": {
            "_model_module": "@jupyter-widgets/base",
            "_model_module_version": "1.2.0",
            "_model_name": "LayoutModel",
            "_view_count": null,
            "_view_module": "@jupyter-widgets/base",
            "_view_module_version": "1.2.0",
            "_view_name": "LayoutView",
            "align_content": null,
            "align_items": null,
            "align_self": null,
            "border": null,
            "bottom": null,
            "display": null,
            "flex": null,
            "flex_flow": null,
            "grid_area": null,
            "grid_auto_columns": null,
            "grid_auto_flow": null,
            "grid_auto_rows": null,
            "grid_column": null,
            "grid_gap": null,
            "grid_row": null,
            "grid_template_areas": null,
            "grid_template_columns": null,
            "grid_template_rows": null,
            "height": null,
            "justify_content": null,
            "justify_items": null,
            "left": null,
            "margin": null,
            "max_height": null,
            "max_width": null,
            "min_height": null,
            "min_width": null,
            "object_fit": null,
            "object_position": null,
            "order": null,
            "overflow": null,
            "overflow_x": null,
            "overflow_y": null,
            "padding": null,
            "right": null,
            "top": null,
            "visibility": null,
            "width": null
          }
        },
        "be09212e106c4870a33a29c21c2693b9": {
          "model_module": "@jupyter-widgets/controls",
          "model_module_version": "1.5.0",
          "model_name": "FloatProgressModel",
          "state": {
            "_dom_classes": [],
            "_model_module": "@jupyter-widgets/controls",
            "_model_module_version": "1.5.0",
            "_model_name": "FloatProgressModel",
            "_view_count": null,
            "_view_module": "@jupyter-widgets/controls",
            "_view_module_version": "1.5.0",
            "_view_name": "ProgressView",
            "bar_style": "success",
            "description": "",
            "description_tooltip": null,
            "layout": "IPY_MODEL_f2b6e92988574ff8bb571aff1f959cbc",
            "max": 2000,
            "min": 0,
            "orientation": "horizontal",
            "style": "IPY_MODEL_e124b0dc76884605ae3e78d82ef24469",
            "value": 2000
          }
        },
        "c87fa3ddd66b4f82bdd1670397365c56": {
          "model_module": "@jupyter-widgets/base",
          "model_module_version": "1.2.0",
          "model_name": "LayoutModel",
          "state": {
            "_model_module": "@jupyter-widgets/base",
            "_model_module_version": "1.2.0",
            "_model_name": "LayoutModel",
            "_view_count": null,
            "_view_module": "@jupyter-widgets/base",
            "_view_module_version": "1.2.0",
            "_view_name": "LayoutView",
            "align_content": null,
            "align_items": null,
            "align_self": null,
            "border": null,
            "bottom": null,
            "display": null,
            "flex": null,
            "flex_flow": null,
            "grid_area": null,
            "grid_auto_columns": null,
            "grid_auto_flow": null,
            "grid_auto_rows": null,
            "grid_column": null,
            "grid_gap": null,
            "grid_row": null,
            "grid_template_areas": null,
            "grid_template_columns": null,
            "grid_template_rows": null,
            "height": null,
            "justify_content": null,
            "justify_items": null,
            "left": null,
            "margin": null,
            "max_height": null,
            "max_width": null,
            "min_height": null,
            "min_width": null,
            "object_fit": null,
            "object_position": null,
            "order": null,
            "overflow": null,
            "overflow_x": null,
            "overflow_y": null,
            "padding": null,
            "right": null,
            "top": null,
            "visibility": null,
            "width": null
          }
        },
        "cb6e93d421c54f00a0cfd88a73e478a7": {
          "model_module": "@jupyter-widgets/base",
          "model_module_version": "1.2.0",
          "model_name": "LayoutModel",
          "state": {
            "_model_module": "@jupyter-widgets/base",
            "_model_module_version": "1.2.0",
            "_model_name": "LayoutModel",
            "_view_count": null,
            "_view_module": "@jupyter-widgets/base",
            "_view_module_version": "1.2.0",
            "_view_name": "LayoutView",
            "align_content": null,
            "align_items": null,
            "align_self": null,
            "border": null,
            "bottom": null,
            "display": "inline-flex",
            "flex": null,
            "flex_flow": "row wrap",
            "grid_area": null,
            "grid_auto_columns": null,
            "grid_auto_flow": null,
            "grid_auto_rows": null,
            "grid_column": null,
            "grid_gap": null,
            "grid_row": null,
            "grid_template_areas": null,
            "grid_template_columns": null,
            "grid_template_rows": null,
            "height": null,
            "justify_content": null,
            "justify_items": null,
            "left": null,
            "margin": null,
            "max_height": null,
            "max_width": null,
            "min_height": null,
            "min_width": null,
            "object_fit": null,
            "object_position": null,
            "order": null,
            "overflow": null,
            "overflow_x": null,
            "overflow_y": null,
            "padding": null,
            "right": null,
            "top": null,
            "visibility": null,
            "width": "100%"
          }
        },
        "dc389bc60d1a4d03ba3d767dab9c1197": {
          "model_module": "@jupyter-widgets/controls",
          "model_module_version": "1.5.0",
          "model_name": "HTMLModel",
          "state": {
            "_dom_classes": [],
            "_model_module": "@jupyter-widgets/controls",
            "_model_module_version": "1.5.0",
            "_model_name": "HTMLModel",
            "_view_count": null,
            "_view_module": "@jupyter-widgets/controls",
            "_view_module_version": "1.5.0",
            "_view_name": "HTMLView",
            "description": "",
            "description_tooltip": null,
            "layout": "IPY_MODEL_c87fa3ddd66b4f82bdd1670397365c56",
            "placeholder": "​",
            "style": "IPY_MODEL_688a8a853aee46b98ec777418e619707",
            "value": " 2000/2000 [00:03&lt;00:00, 632.68it/s]"
          }
        },
        "e124b0dc76884605ae3e78d82ef24469": {
          "model_module": "@jupyter-widgets/controls",
          "model_module_version": "1.5.0",
          "model_name": "ProgressStyleModel",
          "state": {
            "_model_module": "@jupyter-widgets/controls",
            "_model_module_version": "1.5.0",
            "_model_name": "ProgressStyleModel",
            "_view_count": null,
            "_view_module": "@jupyter-widgets/base",
            "_view_module_version": "1.2.0",
            "_view_name": "StyleView",
            "bar_color": null,
            "description_width": ""
          }
        },
        "e1c02b7bee0447ee921f3806de8c952d": {
          "model_module": "@jupyter-widgets/controls",
          "model_module_version": "1.5.0",
          "model_name": "DescriptionStyleModel",
          "state": {
            "_model_module": "@jupyter-widgets/controls",
            "_model_module_version": "1.5.0",
            "_model_name": "DescriptionStyleModel",
            "_view_count": null,
            "_view_module": "@jupyter-widgets/base",
            "_view_module_version": "1.2.0",
            "_view_name": "StyleView",
            "description_width": ""
          }
        },
        "eb8f4279c9d245b987284848793f5b5a": {
          "model_module": "@jupyter-widgets/base",
          "model_module_version": "1.2.0",
          "model_name": "LayoutModel",
          "state": {
            "_model_module": "@jupyter-widgets/base",
            "_model_module_version": "1.2.0",
            "_model_name": "LayoutModel",
            "_view_count": null,
            "_view_module": "@jupyter-widgets/base",
            "_view_module_version": "1.2.0",
            "_view_name": "LayoutView",
            "align_content": null,
            "align_items": null,
            "align_self": null,
            "border": null,
            "bottom": null,
            "display": null,
            "flex": "2",
            "flex_flow": null,
            "grid_area": null,
            "grid_auto_columns": null,
            "grid_auto_flow": null,
            "grid_auto_rows": null,
            "grid_column": null,
            "grid_gap": null,
            "grid_row": null,
            "grid_template_areas": null,
            "grid_template_columns": null,
            "grid_template_rows": null,
            "height": null,
            "justify_content": null,
            "justify_items": null,
            "left": null,
            "margin": null,
            "max_height": null,
            "max_width": null,
            "min_height": null,
            "min_width": null,
            "object_fit": null,
            "object_position": null,
            "order": null,
            "overflow": null,
            "overflow_x": null,
            "overflow_y": null,
            "padding": null,
            "right": null,
            "top": null,
            "visibility": null,
            "width": null
          }
        },
        "ee145903ab0e4657b426589221bc5c92": {
          "model_module": "@jupyter-widgets/controls",
          "model_module_version": "1.5.0",
          "model_name": "HTMLModel",
          "state": {
            "_dom_classes": [],
            "_model_module": "@jupyter-widgets/controls",
            "_model_module_version": "1.5.0",
            "_model_name": "HTMLModel",
            "_view_count": null,
            "_view_module": "@jupyter-widgets/controls",
            "_view_module_version": "1.5.0",
            "_view_name": "HTMLView",
            "description": "",
            "description_tooltip": null,
            "layout": "IPY_MODEL_0024979e0e2c46bc89b4a31ffc452274",
            "placeholder": "​",
            "style": "IPY_MODEL_fafaa84f89df4a31bf6247575a05b135",
            "value": " 2000/2000 [00:27&lt;00:00, 73.68it/s, v_num=1, g_loss=0.128, d_normal_loss=1.000, d_anomal_loss=1.000]"
          }
        },
        "f26e26c303924eadbc244599d0fe6dc7": {
          "model_module": "@jupyter-widgets/controls",
          "model_module_version": "1.5.0",
          "model_name": "HTMLModel",
          "state": {
            "_dom_classes": [],
            "_model_module": "@jupyter-widgets/controls",
            "_model_module_version": "1.5.0",
            "_model_name": "HTMLModel",
            "_view_count": null,
            "_view_module": "@jupyter-widgets/controls",
            "_view_module_version": "1.5.0",
            "_view_name": "HTMLView",
            "description": "",
            "description_tooltip": null,
            "layout": "IPY_MODEL_ae5198c649c14a41bdbdcb7e884f7638",
            "placeholder": "​",
            "style": "IPY_MODEL_e1c02b7bee0447ee921f3806de8c952d",
            "value": "Epoch 14: 100%"
          }
        },
        "f2b6e92988574ff8bb571aff1f959cbc": {
          "model_module": "@jupyter-widgets/base",
          "model_module_version": "1.2.0",
          "model_name": "LayoutModel",
          "state": {
            "_model_module": "@jupyter-widgets/base",
            "_model_module_version": "1.2.0",
            "_model_name": "LayoutModel",
            "_view_count": null,
            "_view_module": "@jupyter-widgets/base",
            "_view_module_version": "1.2.0",
            "_view_name": "LayoutView",
            "align_content": null,
            "align_items": null,
            "align_self": null,
            "border": null,
            "bottom": null,
            "display": null,
            "flex": "2",
            "flex_flow": null,
            "grid_area": null,
            "grid_auto_columns": null,
            "grid_auto_flow": null,
            "grid_auto_rows": null,
            "grid_column": null,
            "grid_gap": null,
            "grid_row": null,
            "grid_template_areas": null,
            "grid_template_columns": null,
            "grid_template_rows": null,
            "height": null,
            "justify_content": null,
            "justify_items": null,
            "left": null,
            "margin": null,
            "max_height": null,
            "max_width": null,
            "min_height": null,
            "min_width": null,
            "object_fit": null,
            "object_position": null,
            "order": null,
            "overflow": null,
            "overflow_x": null,
            "overflow_y": null,
            "padding": null,
            "right": null,
            "top": null,
            "visibility": null,
            "width": null
          }
        },
        "fafaa84f89df4a31bf6247575a05b135": {
          "model_module": "@jupyter-widgets/controls",
          "model_module_version": "1.5.0",
          "model_name": "DescriptionStyleModel",
          "state": {
            "_model_module": "@jupyter-widgets/controls",
            "_model_module_version": "1.5.0",
            "_model_name": "DescriptionStyleModel",
            "_view_count": null,
            "_view_module": "@jupyter-widgets/base",
            "_view_module_version": "1.2.0",
            "_view_name": "StyleView",
            "description_width": ""
          }
        }
      }
    }
  },
  "nbformat": 4,
  "nbformat_minor": 0
}
