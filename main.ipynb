{
  "cells": [
    {
      "cell_type": "markdown",
      "metadata": {
        "id": "ZsvvtN3k8hpf"
      },
      "source": [
        "### Installation"
      ]
    },
    {
      "cell_type": "code",
      "execution_count": null,
      "metadata": {
        "colab": {
          "base_uri": "https://localhost:8080/"
        },
        "id": "GmtZF2WB8hpl",
        "outputId": "f43d6309-fa98-4672-dacc-3de0e8a2eed9"
      },
      "outputs": [
        {
          "name": "stdout",
          "output_type": "stream",
          "text": [
            "\u001b[2K     \u001b[90m━━━━━━━━━━━━━━━━━━━━━━━━━━━━━━━━━━━━━━━\u001b[0m \u001b[32m725.0/725.0 kB\u001b[0m \u001b[31m5.8 MB/s\u001b[0m eta \u001b[36m0:00:00\u001b[0m\n",
            "\u001b[2K     \u001b[90m━━━━━━━━━━━━━━━━━━━━━━━━━━━━━━━━━━━━━━\u001b[0m \u001b[32m731.6/731.6 kB\u001b[0m \u001b[31m10.7 MB/s\u001b[0m eta \u001b[36m0:00:00\u001b[0m\n",
            "\u001b[?25h"
          ]
        }
      ],
      "source": [
        "! pip install --quiet \"pytorch-lightning\""
      ]
    },
    {
      "cell_type": "markdown",
      "metadata": {
        "id": "ir8IfAjC8hpo"
      },
      "source": [
        "### Import dependencies\n"
      ]
    },
    {
      "cell_type": "code",
      "execution_count": null,
      "metadata": {
        "colab": {
          "base_uri": "https://localhost:8080/"
        },
        "id": "-aHP7e4Y8hpp",
        "outputId": "bd91a22f-0af2-4732-d5a4-7335afc25ad0"
      },
      "outputs": [
        {
          "name": "stdout",
          "output_type": "stream",
          "text": [
            "Lightning version: 2.0.7\n",
            "PyTorch version: 2.0.1+cu118\n",
            "Python version: 3.10.12\n"
          ]
        }
      ],
      "source": [
        "import torch\n",
        "import torch.nn as nn\n",
        "import pytorch_lightning as pl\n",
        "import torchvision.datasets\n",
        "import torchvision.transforms as T\n",
        "from torch.utils.data import DataLoader, random_split\n",
        "from torch.utils.data.sampler import SubsetRandomSampler\n",
        "from torchvision.datasets import FashionMNIST\n",
        "from pytorch_lightning.callbacks.early_stopping import EarlyStopping\n",
        "from pytorch_lightning.callbacks.progress import TQDMProgressBar\n",
        "from pytorch_lightning.loggers.csv_logs import CSVLogger\n",
        "import torch.nn.functional as F\n",
        "from PIL import Image\n",
        "import random\n",
        "from collections import defaultdict\n",
        "import matplotlib.pyplot as plt\n",
        "import numpy as np\n",
        "import platform\n",
        "\n",
        "print(\"Lightning version:\", pl.__version__)\n",
        "print(\"PyTorch version:\", torch.__version__)\n",
        "print(\"Python version:\", platform.python_version())"
      ]
    },
    {
      "cell_type": "markdown",
      "metadata": {
        "id": "tCJaWt2k8hpp"
      },
      "source": [
        "### Reproducibility"
      ]
    },
    {
      "cell_type": "code",
      "execution_count": null,
      "metadata": {
        "colab": {
          "base_uri": "https://localhost:8080/",
          "height": 175
        },
        "id": "HdZ8vgpd8hpq",
        "outputId": "8602d54a-d4d7-4ea8-bfb5-bf6e5d4029b9"
      },
      "outputs": [
        {
          "ename": "NameError",
          "evalue": "ignored",
          "output_type": "error",
          "traceback": [
            "\u001b[0;31m---------------------------------------------------------------------------\u001b[0m",
            "\u001b[0;31mNameError\u001b[0m                                 Traceback (most recent call last)",
            "\u001b[0;32m<ipython-input-2-9322ec2f03ec>\u001b[0m in \u001b[0;36m<cell line: 1>\u001b[0;34m()\u001b[0m\n\u001b[0;32m----> 1\u001b[0;31m \u001b[0mpl\u001b[0m\u001b[0;34m.\u001b[0m\u001b[0mseed_everything\u001b[0m\u001b[0;34m(\u001b[0m\u001b[0;36m42\u001b[0m\u001b[0;34m)\u001b[0m\u001b[0;34m\u001b[0m\u001b[0;34m\u001b[0m\u001b[0m\n\u001b[0m",
            "\u001b[0;31mNameError\u001b[0m: name 'pl' is not defined"
          ]
        }
      ],
      "source": [
        "pl.seed_everything(42)"
      ]
    },
    {
      "cell_type": "markdown",
      "metadata": {
        "id": "fB4i4aWhmrzT"
      },
      "source": [
        "-------------------------------------------\n",
        "### Manual Dataset Loading"
      ]
    },
    {
      "cell_type": "code",
      "execution_count": null,
      "metadata": {
        "colab": {
          "base_uri": "https://localhost:8080/"
        },
        "id": "7gGTpzYpmtdg",
        "outputId": "f2917e6d-35f2-43f7-c7b0-312bbbc9b658"
      },
      "outputs": [
        {
          "name": "stdout",
          "output_type": "stream",
          "text": [
            "Trainset: 60000\n",
            "Testset: 10000\n"
          ]
        }
      ],
      "source": [
        "class Rotation3:\n",
        "    def __call__(self, img):\n",
        "        # Randomly rotate the images by 90, 180, or 270 degrees\n",
        "        angle = random.choice([0, 90, 180, 270])\n",
        "        img = T.functional.rotate(img, angle)\n",
        "        return img\n",
        "\n",
        "samples = 16\n",
        "data_transforms = {\n",
        "    'train': T.Compose([T.Resize((32, 32)),                  # resizing\n",
        "                        T.RandomVerticalFlip(),              # Flip images vertically with a certain probability\n",
        "                        T.RandomHorizontalFlip(),            # Flip images horizontally with a certain probability\n",
        "                        T.RandomCrop(30),                    # Randomly crop the images by 0-2 pixels from their boundary\n",
        "                        T.Grayscale(1),                      # 1 Grayscale -> 3 RGB channel\n",
        "                        T.Resize((32, 32)),                  # resized after crop\n",
        "                        T.RandomApply([Rotation3()], p=1),   #randomly rotate\n",
        "                        T.ToTensor(),\n",
        "                        T.Normalize([0.5, 0.5, 0.5], [0.5, 0.5, 0.5])\n",
        "    ]),\n",
        "    'test': T.Compose([T.Resize(32),\n",
        "                       T.Grayscale(1),\n",
        "                       T.ToTensor(),\n",
        "                       T.Normalize([0.5, 0.5, 0.5], [0.5, 0.5, 0.5])\n",
        "    ]),\n",
        "    'display': T.Compose([T.Resize(32),\n",
        "                          T.Grayscale(1),\n",
        "                          T.ToTensor(),\n",
        "                          T.Normalize([0.5], [0.5])\n",
        "    ])\n",
        "}\n",
        "\n",
        "#Load data train and test\n",
        "trainset = FashionMNIST(root='./data', train=True,\n",
        "                        download=True, transform=data_transforms['train'])\n",
        "print('Trainset:', len(trainset))\n",
        "\n",
        "displayset = FashionMNIST(root='./data', train=True,\n",
        "                        download=True, transform=data_transforms['display'])\n",
        "\n",
        "testset = FashionMNIST(root='./data', train=False,\n",
        "                       download=True,transform=data_transforms['test'])\n",
        "print('Testset:', len(testset))\n",
        "\n",
        "#Prepare validation\n",
        "indices = list(range(len(trainset)))\n",
        "#np.random.shuffle(devices)\n",
        "\n",
        "split = int(np.floor(0.2 * len(trainset)))\n",
        "train_sample = SubsetRandomSampler(indices[:split])\n",
        "valid_sample = SubsetRandomSampler(indices[split:])\n",
        "\n",
        "#Data loader\n",
        "trainloader = DataLoader(trainset, batch_size = samples, shuffle = False, num_workers = 2)\n",
        "testloader = DataLoader(testset, batch_size = samples, shuffle = True, num_workers = 2)\n",
        "valloader = DataLoader(trainset, batch_size = samples, shuffle = False, num_workers = 2)\n",
        "displayloader = DataLoader(displayset, batch_size = samples, shuffle = False, num_workers = 2)\n",
        "\n"
      ]
    },
    {
      "cell_type": "markdown",
      "metadata": {
        "id": "zlHgDM6m3iKx"
      },
      "source": [
        "### Dataset Exploration"
      ]
    },
    {
      "cell_type": "code",
      "execution_count": null,
      "metadata": {
        "id": "Rg0FitTL34K4"
      },
      "outputs": [],
      "source": [
        "# Define a dictionary mapping class indices to class names\n",
        "class_names = {\n",
        "    0: \"T-shirt/top\",\n",
        "    1: \"Trouser\",\n",
        "    2: \"Pullover\",\n",
        "    3: \"Dress\",\n",
        "    4: \"Coat\",\n",
        "    5: \"Sandal\",\n",
        "    6: \"Shirt\",\n",
        "    7: \"Sneaker\",\n",
        "    8: \"Bag\",\n",
        "    9: \"Ankle boot\"\n",
        "}"
      ]
    },
    {
      "cell_type": "code",
      "execution_count": null,
      "metadata": {
        "colab": {
          "base_uri": "https://localhost:8080/",
          "height": 737
        },
        "id": "cLNuXlZjzrVP",
        "outputId": "e7efa615-9bf8-405f-8a83-1572971a265c"
      },
      "outputs": [
        {
          "ename": "RuntimeError",
          "evalue": "ignored",
          "output_type": "error",
          "traceback": [
            "\u001b[0;31m---------------------------------------------------------------------------\u001b[0m",
            "\u001b[0;31mRuntimeError\u001b[0m                              Traceback (most recent call last)",
            "\u001b[0;32m<ipython-input-7-bcb23c40990f>\u001b[0m in \u001b[0;36m<cell line: 5>\u001b[0;34m()\u001b[0m\n\u001b[1;32m      3\u001b[0m \u001b[0;34m\u001b[0m\u001b[0m\n\u001b[1;32m      4\u001b[0m \u001b[0;31m# Iterate through the dataset and count samples for each class\u001b[0m\u001b[0;34m\u001b[0m\u001b[0;34m\u001b[0m\u001b[0m\n\u001b[0;32m----> 5\u001b[0;31m \u001b[0;32mfor\u001b[0m \u001b[0m_\u001b[0m\u001b[0;34m,\u001b[0m \u001b[0mlabels\u001b[0m \u001b[0;32min\u001b[0m \u001b[0mtrainloader\u001b[0m\u001b[0;34m:\u001b[0m\u001b[0;34m\u001b[0m\u001b[0;34m\u001b[0m\u001b[0m\n\u001b[0m\u001b[1;32m      6\u001b[0m     \u001b[0;32mfor\u001b[0m \u001b[0mlabel\u001b[0m \u001b[0;32min\u001b[0m \u001b[0mlabels\u001b[0m\u001b[0;34m:\u001b[0m\u001b[0;34m\u001b[0m\u001b[0;34m\u001b[0m\u001b[0m\n\u001b[1;32m      7\u001b[0m         \u001b[0mclass_counts\u001b[0m\u001b[0;34m[\u001b[0m\u001b[0mlabel\u001b[0m\u001b[0;34m.\u001b[0m\u001b[0mitem\u001b[0m\u001b[0;34m(\u001b[0m\u001b[0;34m)\u001b[0m\u001b[0;34m]\u001b[0m \u001b[0;34m+=\u001b[0m \u001b[0;36m1\u001b[0m\u001b[0;34m\u001b[0m\u001b[0;34m\u001b[0m\u001b[0m\n",
            "\u001b[0;32m/usr/local/lib/python3.10/dist-packages/torch/utils/data/dataloader.py\u001b[0m in \u001b[0;36m__next__\u001b[0;34m(self)\u001b[0m\n\u001b[1;32m    631\u001b[0m                 \u001b[0;31m# TODO(https://github.com/pytorch/pytorch/issues/76750)\u001b[0m\u001b[0;34m\u001b[0m\u001b[0;34m\u001b[0m\u001b[0m\n\u001b[1;32m    632\u001b[0m                 \u001b[0mself\u001b[0m\u001b[0;34m.\u001b[0m\u001b[0m_reset\u001b[0m\u001b[0;34m(\u001b[0m\u001b[0;34m)\u001b[0m  \u001b[0;31m# type: ignore[call-arg]\u001b[0m\u001b[0;34m\u001b[0m\u001b[0;34m\u001b[0m\u001b[0m\n\u001b[0;32m--> 633\u001b[0;31m             \u001b[0mdata\u001b[0m \u001b[0;34m=\u001b[0m \u001b[0mself\u001b[0m\u001b[0;34m.\u001b[0m\u001b[0m_next_data\u001b[0m\u001b[0;34m(\u001b[0m\u001b[0;34m)\u001b[0m\u001b[0;34m\u001b[0m\u001b[0;34m\u001b[0m\u001b[0m\n\u001b[0m\u001b[1;32m    634\u001b[0m             \u001b[0mself\u001b[0m\u001b[0;34m.\u001b[0m\u001b[0m_num_yielded\u001b[0m \u001b[0;34m+=\u001b[0m \u001b[0;36m1\u001b[0m\u001b[0;34m\u001b[0m\u001b[0;34m\u001b[0m\u001b[0m\n\u001b[1;32m    635\u001b[0m             \u001b[0;32mif\u001b[0m \u001b[0mself\u001b[0m\u001b[0;34m.\u001b[0m\u001b[0m_dataset_kind\u001b[0m \u001b[0;34m==\u001b[0m \u001b[0m_DatasetKind\u001b[0m\u001b[0;34m.\u001b[0m\u001b[0mIterable\u001b[0m \u001b[0;32mand\u001b[0m\u001b[0;31m \u001b[0m\u001b[0;31m\\\u001b[0m\u001b[0;34m\u001b[0m\u001b[0;34m\u001b[0m\u001b[0m\n",
            "\u001b[0;32m/usr/local/lib/python3.10/dist-packages/torch/utils/data/dataloader.py\u001b[0m in \u001b[0;36m_next_data\u001b[0;34m(self)\u001b[0m\n\u001b[1;32m   1343\u001b[0m             \u001b[0;32melse\u001b[0m\u001b[0;34m:\u001b[0m\u001b[0;34m\u001b[0m\u001b[0;34m\u001b[0m\u001b[0m\n\u001b[1;32m   1344\u001b[0m                 \u001b[0;32mdel\u001b[0m \u001b[0mself\u001b[0m\u001b[0;34m.\u001b[0m\u001b[0m_task_info\u001b[0m\u001b[0;34m[\u001b[0m\u001b[0midx\u001b[0m\u001b[0;34m]\u001b[0m\u001b[0;34m\u001b[0m\u001b[0;34m\u001b[0m\u001b[0m\n\u001b[0;32m-> 1345\u001b[0;31m                 \u001b[0;32mreturn\u001b[0m \u001b[0mself\u001b[0m\u001b[0;34m.\u001b[0m\u001b[0m_process_data\u001b[0m\u001b[0;34m(\u001b[0m\u001b[0mdata\u001b[0m\u001b[0;34m)\u001b[0m\u001b[0;34m\u001b[0m\u001b[0;34m\u001b[0m\u001b[0m\n\u001b[0m\u001b[1;32m   1346\u001b[0m \u001b[0;34m\u001b[0m\u001b[0m\n\u001b[1;32m   1347\u001b[0m     \u001b[0;32mdef\u001b[0m \u001b[0m_try_put_index\u001b[0m\u001b[0;34m(\u001b[0m\u001b[0mself\u001b[0m\u001b[0;34m)\u001b[0m\u001b[0;34m:\u001b[0m\u001b[0;34m\u001b[0m\u001b[0;34m\u001b[0m\u001b[0m\n",
            "\u001b[0;32m/usr/local/lib/python3.10/dist-packages/torch/utils/data/dataloader.py\u001b[0m in \u001b[0;36m_process_data\u001b[0;34m(self, data)\u001b[0m\n\u001b[1;32m   1369\u001b[0m         \u001b[0mself\u001b[0m\u001b[0;34m.\u001b[0m\u001b[0m_try_put_index\u001b[0m\u001b[0;34m(\u001b[0m\u001b[0;34m)\u001b[0m\u001b[0;34m\u001b[0m\u001b[0;34m\u001b[0m\u001b[0m\n\u001b[1;32m   1370\u001b[0m         \u001b[0;32mif\u001b[0m \u001b[0misinstance\u001b[0m\u001b[0;34m(\u001b[0m\u001b[0mdata\u001b[0m\u001b[0;34m,\u001b[0m \u001b[0mExceptionWrapper\u001b[0m\u001b[0;34m)\u001b[0m\u001b[0;34m:\u001b[0m\u001b[0;34m\u001b[0m\u001b[0;34m\u001b[0m\u001b[0m\n\u001b[0;32m-> 1371\u001b[0;31m             \u001b[0mdata\u001b[0m\u001b[0;34m.\u001b[0m\u001b[0mreraise\u001b[0m\u001b[0;34m(\u001b[0m\u001b[0;34m)\u001b[0m\u001b[0;34m\u001b[0m\u001b[0;34m\u001b[0m\u001b[0m\n\u001b[0m\u001b[1;32m   1372\u001b[0m         \u001b[0;32mreturn\u001b[0m \u001b[0mdata\u001b[0m\u001b[0;34m\u001b[0m\u001b[0;34m\u001b[0m\u001b[0m\n\u001b[1;32m   1373\u001b[0m \u001b[0;34m\u001b[0m\u001b[0m\n",
            "\u001b[0;32m/usr/local/lib/python3.10/dist-packages/torch/_utils.py\u001b[0m in \u001b[0;36mreraise\u001b[0;34m(self)\u001b[0m\n\u001b[1;32m    642\u001b[0m             \u001b[0;31m# instantiate since we don't know how to\u001b[0m\u001b[0;34m\u001b[0m\u001b[0;34m\u001b[0m\u001b[0m\n\u001b[1;32m    643\u001b[0m             \u001b[0;32mraise\u001b[0m \u001b[0mRuntimeError\u001b[0m\u001b[0;34m(\u001b[0m\u001b[0mmsg\u001b[0m\u001b[0;34m)\u001b[0m \u001b[0;32mfrom\u001b[0m \u001b[0;32mNone\u001b[0m\u001b[0;34m\u001b[0m\u001b[0;34m\u001b[0m\u001b[0m\n\u001b[0;32m--> 644\u001b[0;31m         \u001b[0;32mraise\u001b[0m \u001b[0mexception\u001b[0m\u001b[0;34m\u001b[0m\u001b[0;34m\u001b[0m\u001b[0m\n\u001b[0m\u001b[1;32m    645\u001b[0m \u001b[0;34m\u001b[0m\u001b[0m\n\u001b[1;32m    646\u001b[0m \u001b[0;34m\u001b[0m\u001b[0m\n",
            "\u001b[0;31mRuntimeError\u001b[0m: Caught RuntimeError in DataLoader worker process 0.\nOriginal Traceback (most recent call last):\n  File \"/usr/local/lib/python3.10/dist-packages/torch/utils/data/_utils/worker.py\", line 308, in _worker_loop\n    data = fetcher.fetch(index)\n  File \"/usr/local/lib/python3.10/dist-packages/torch/utils/data/_utils/fetch.py\", line 51, in fetch\n    data = [self.dataset[idx] for idx in possibly_batched_index]\n  File \"/usr/local/lib/python3.10/dist-packages/torch/utils/data/_utils/fetch.py\", line 51, in <listcomp>\n    data = [self.dataset[idx] for idx in possibly_batched_index]\n  File \"/usr/local/lib/python3.10/dist-packages/torchvision/datasets/mnist.py\", line 145, in __getitem__\n    img = self.transform(img)\n  File \"/usr/local/lib/python3.10/dist-packages/torchvision/transforms/transforms.py\", line 95, in __call__\n    img = t(img)\n  File \"/usr/local/lib/python3.10/dist-packages/torch/nn/modules/module.py\", line 1501, in _call_impl\n    return forward_call(*args, **kwargs)\n  File \"/usr/local/lib/python3.10/dist-packages/torchvision/transforms/transforms.py\", line 277, in forward\n    return F.normalize(tensor, self.mean, self.std, self.inplace)\n  File \"/usr/local/lib/python3.10/dist-packages/torchvision/transforms/functional.py\", line 363, in normalize\n    return F_t.normalize(tensor, mean=mean, std=std, inplace=inplace)\n  File \"/usr/local/lib/python3.10/dist-packages/torchvision/transforms/_functional_tensor.py\", line 928, in normalize\n    return tensor.sub_(mean).div_(std)\nRuntimeError: output with shape [1, 32, 32] doesn't match the broadcast shape [3, 32, 32]\n"
          ]
        }
      ],
      "source": [
        "# Create a dictionary to store class counts\n",
        "class_counts = defaultdict(int)\n",
        "\n",
        "# Iterate through the dataset and count samples for each class\n",
        "for _, labels in trainloader:\n",
        "    for label in labels:\n",
        "        class_counts[label.item()] += 1\n",
        "\n",
        "# Print the class counts along with class names in an ordered way\n",
        "for class_label, count in sorted(class_counts.items()):\n",
        "    class_name = class_names[class_label]\n",
        "    print(f\"Class {class_label} ({class_name}): {count} samples\")"
      ]
    },
    {
      "cell_type": "code",
      "execution_count": null,
      "metadata": {
        "colab": {
          "base_uri": "https://localhost:8080/",
          "height": 681
        },
        "id": "87hzgSUf2dEb",
        "outputId": "95497c8c-c817-44d9-9a23-c67a9d9256e5"
      },
      "outputs": [
        {
          "name": "stdout",
          "output_type": "stream",
          "text": [
            "Image shape: torch.Size([1, 32, 32])\n",
            "Image shape: torch.Size([1, 32, 32])\n",
            "Image shape: torch.Size([1, 32, 32])\n",
            "Image shape: torch.Size([1, 32, 32])\n",
            "Image shape: torch.Size([1, 32, 32])\n",
            "Image shape: torch.Size([1, 32, 32])\n",
            "Image shape: torch.Size([1, 32, 32])\n",
            "Image shape: torch.Size([1, 32, 32])\n",
            "Image shape: torch.Size([1, 32, 32])\n",
            "Image shape: torch.Size([1, 32, 32])\n"
          ]
        },
        {
          "data": {
            "image/png": "[encoded data removed]",
            "text/plain": [
              "<Figure size 1500x500 with 10 Axes>"
            ]
          },
          "metadata": {},
          "output_type": "display_data"
        }
      ],
      "source": [
        "# Create a dictionary to store class indices and their corresponding images\n",
        "class_images = defaultdict(list)\n",
        "\n",
        "# Iterate through the display loader and collect one image per class\n",
        "display_iter = iter(displayloader)\n",
        "for images, labels in display_iter:\n",
        "    for image, label in zip(images, labels):\n",
        "        class_images[label.item()].append(image)\n",
        "        if len(class_images) == 10:  # Break once we have an image for each class\n",
        "            break\n",
        "\n",
        "# Create a figure to display the sample images\n",
        "fig = plt.figure(figsize=(15, 5))\n",
        "\n",
        "# Iterate through the collected images and display them\n",
        "for class_label, images in class_images.items():\n",
        "    ax = fig.add_subplot(2, 5, class_label + 1, xticks=[], yticks=[])\n",
        "    ax.imshow(np.squeeze(images[0]), cmap='gray')\n",
        "    ax.set_title(class_names[class_label])  # Use class names from the dictionary\n",
        "\n",
        "    print(f\"Image shape: {images[0].shape}\")\n",
        "\n",
        "    fig.tight_layout()\n",
        "\n",
        "plt.show()\n"
      ]
    },
    {
      "cell_type": "markdown",
      "metadata": {
        "id": "M_laAV6P4ayP"
      },
      "source": [
        "### Data Loading\n",
        "\n",
        "FashionMNIST dataset loading and augmentation according to the SOTA implementation requirements"
      ]
    },
    {
      "cell_type": "code",
      "execution_count": 2,
      "metadata": {
        "id": "jcdpNAdt3fk8"
      },
      "outputs": [
        {
          "ename": "NameError",
          "evalue": "name 'pl' is not defined",
          "output_type": "error",
          "traceback": [
            "\u001b[1;31m---------------------------------------------------------------------------\u001b[0m",
            "\u001b[1;31mNameError\u001b[0m                                 Traceback (most recent call last)",
            "\u001b[1;32mc:\\Users\\espda\\OneDrive\\Desktop\\Università\\Magistrale - Artificial Intelligence & Robotics (2022-2023)\\Deep Learning\\Progetto\\main_(5).ipynb Cell 14\u001b[0m in \u001b[0;36m1\n\u001b[1;32m----> <a href='vscode-notebook-cell:/c%3A/Users/espda/OneDrive/Desktop/Universit%C3%A0/Magistrale%20-%20Artificial%20Intelligence%20%26%20Robotics%20%282022-2023%29/Deep%20Learning/Progetto/main_%285%29.ipynb#X56sZmlsZQ%3D%3D?line=0'>1</a>\u001b[0m \u001b[39mclass\u001b[39;00m \u001b[39mDataModule\u001b[39;00m(pl\u001b[39m.\u001b[39mLightningDataModule):\n\u001b[0;32m      <a href='vscode-notebook-cell:/c%3A/Users/espda/OneDrive/Desktop/Universit%C3%A0/Magistrale%20-%20Artificial%20Intelligence%20%26%20Robotics%20%282022-2023%29/Deep%20Learning/Progetto/main_%285%29.ipynb#X56sZmlsZQ%3D%3D?line=2'>3</a>\u001b[0m     \u001b[39mdef\u001b[39;00m \u001b[39m__init__\u001b[39m(\u001b[39mself\u001b[39m, batch_size, data_dir: \u001b[39mstr\u001b[39m \u001b[39m=\u001b[39m \u001b[39m\"\u001b[39m\u001b[39m./\u001b[39m\u001b[39m\"\u001b[39m):\n\u001b[0;32m      <a href='vscode-notebook-cell:/c%3A/Users/espda/OneDrive/Desktop/Universit%C3%A0/Magistrale%20-%20Artificial%20Intelligence%20%26%20Robotics%20%282022-2023%29/Deep%20Learning/Progetto/main_%285%29.ipynb#X56sZmlsZQ%3D%3D?line=3'>4</a>\u001b[0m         \u001b[39msuper\u001b[39m()\u001b[39m.\u001b[39m\u001b[39m__init__\u001b[39m()\n",
            "\u001b[1;31mNameError\u001b[0m: name 'pl' is not defined"
          ]
        }
      ],
      "source": [
        "class DataModule(pl.LightningDataModule):\n",
        "\n",
        "    def __init__(self, batch_size, data_dir: str = \"./\"):\n",
        "        super().__init__()\n",
        "\n",
        "        class Rotation3:\n",
        "            def __call__(self, img):\n",
        "                # Randomly rotate the images by 90, 180, or 270 degrees\n",
        "                angle = random.choice([0, 90, 180, 270])\n",
        "                img = T.functional.rotate(img, angle)\n",
        "                return img\n",
        "\n",
        "        self.data_dir = data_dir\n",
        "        self.transform = {\n",
        "                          'train': T.Compose([\n",
        "                              T.Resize((32)),\n",
        "                              T.RandomVerticalFlip(),\n",
        "                              T.RandomHorizontalFlip(),\n",
        "                              T.RandomCrop(30),\n",
        "                              T.Resize(32),\n",
        "                              T.Grayscale(1),  # Use 1 channel (grayscale)\n",
        "                              T.Resize(32),\n",
        "                              T.RandomApply([Rotation3()], p=1),\n",
        "                              T.Resize(32),\n",
        "                              T.ToTensor(),\n",
        "                              T.Normalize([0.5], [0.5])\n",
        "                          ]),\n",
        "                          'test': T.Compose([\n",
        "                              T.Resize(32),\n",
        "                              T.Grayscale(1),  # Use 1 channel (grayscale)\n",
        "                              T.Resize(32),\n",
        "                              T.ToTensor(),\n",
        "                              T.Normalize([0.5], [0.5])\n",
        "                          ]),\n",
        "                          'display': T.Compose([\n",
        "                              T.Resize(32),\n",
        "                              T.Grayscale(1),\n",
        "                              T.ToTensor(),\n",
        "                              T.Normalize([0.5], [0.5])\n",
        "                          ])\n",
        "                      }\n",
        "\n",
        "        #self.dims = (3, 32, 32)\n",
        "        self.num_classes = 10\n",
        "        self.batch_size = batch_size\n",
        "\n",
        "    def prepare_data(self):\n",
        "        # download\n",
        "        FashionMNIST(root=self.data_dir, train=True, download=True, transform=self.transform['train'])\n",
        "        FashionMNIST(root=self.data_dir, train=False, download=True,transform=self.transform['test'])\n",
        "\n",
        "    def setup(self, stage=None):\n",
        "\n",
        "        # Assign train/val datasets for use in dataloaders\n",
        "        if stage == 'fit' or stage is None:\n",
        "            # Define the transformations, train and validation datasets, and samplers here\n",
        "            full_dataset = FashionMNIST(root='./data', train=True, download=True, transform=self.transforms['train'])\n",
        "\n",
        "            indices = list(range(len(full_dataset)))\n",
        "            split = int(np.floor(0.2 * len(full_dataset)))\n",
        "\n",
        "            self.train_sampler = SubsetRandomSampler(indices[:split])\n",
        "            self.valid_sampler = SubsetRandomSampler(indices[split:])\n",
        "\n",
        "            self.train_dataset = torch.utils.data.Subset(full_dataset, indices[:split])\n",
        "            self.valid_dataset = torch.utils.data.Subset(full_dataset, indices[split:])\n",
        "\n",
        "        # Assign test dataset for use in dataloader(s)\n",
        "        if stage == \"test\" or stage is None:\n",
        "            self.test_dataset = FashionMNIST(self.data_dir, train=False, download=True,transform=self.transform['test'])\n",
        "        if stage == \"predict\" or stage is None:\n",
        "            self.test_dataset = FashionMNIST(self.data_dir, train=False, download=True,transform=self.transform['test'])\n",
        "\n",
        "    def train_dataloader(self):\n",
        "        return torch.utils.data.DataLoader(self.train_dataset, batch_size=self.batch_size)\n",
        "\n",
        "    def val_dataloader(self):\n",
        "        return  torch.utils.data.DataLoader(self.valid_dataset, batch_size=self.batch_size)\n",
        "\n",
        "    def test_dataloader(self):\n",
        "        return  torch.utils.data.DataLoader(self.test_dataset, batch_size=self.batch_size)\n",
        "\n",
        "    def predict_dataloader(self):\n",
        "        return  torch.utils.data.DataLoader(self.test_dataset, batch_size=self.batch_size)\n",
        "\n"
      ]
    },
    {
      "cell_type": "code",
      "execution_count": null,
      "metadata": {
        "id": "jyyQQm_vCuxX"
      },
      "outputs": [],
      "source": [
        "#import sklearn\n",
        "from sklearn.cluster import KMeans\n",
        "from sklearn.utils import shuffle\n",
        "\n",
        "class BalancedDataModule(pl.LightningDataModule):\n",
        "    def __init__(self, batch_size, data_dir=\"./\", num_clusters=10):\n",
        "        super().__init__()\n",
        "\n",
        "        self.num_clusters = num_clusters\n",
        "\n",
        "        class Rotation3:\n",
        "            def __call__(self, img):\n",
        "                # Randomly rotate the images by 90, 180, or 270 degrees\n",
        "                angle = random.choice([0, 90, 180, 270])\n",
        "                img = T.functional.rotate(img, angle)\n",
        "                return img\n",
        "\n",
        "        self.data_dir = data_dir\n",
        "        self.transform = {\n",
        "                          'train': T.Compose([\n",
        "                              T.Resize((32)),\n",
        "                              T.RandomVerticalFlip(),\n",
        "                              T.RandomHorizontalFlip(),\n",
        "                              T.RandomCrop(30),\n",
        "                              T.Resize(32),\n",
        "                              T.Grayscale(1),  # Use 1 channel (grayscale)\n",
        "                              T.Resize(32),\n",
        "                              T.RandomApply([Rotation3()], p=1),\n",
        "                              T.Resize(32),\n",
        "                              T.ToTensor(),\n",
        "                              T.Normalize([0.5], [0.5])\n",
        "                          ]),\n",
        "                          'test': T.Compose([\n",
        "                              T.Resize(32),\n",
        "                              T.Grayscale(1),  # Use 1 channel (grayscale)\n",
        "                              T.Resize(32),\n",
        "                              T.ToTensor(),\n",
        "                              T.Normalize([0.5], [0.5])\n",
        "                          ]),\n",
        "                          'display': T.Compose([\n",
        "                              T.Resize(32),\n",
        "                              T.Grayscale(1),\n",
        "                              T.ToTensor(),\n",
        "                              T.Normalize([0.5], [0.5])\n",
        "                          ])\n",
        "                      }\n",
        "        self.num_classes = 2\n",
        "        self.batch_size = batch_size\n",
        "\n",
        "    def prepare_data(self):\n",
        "        # Download and preprocess the data\n",
        "        full_dataset = FashionMNIST(root=self.data_dir, train=True, download=True, transform=self.transform['train'])\n",
        "        self.full_dataset = full_dataset\n",
        "\n",
        "    def setup(self, stage=None):\n",
        "        if stage == 'fit' or stage is None:\n",
        "            # K-means clustering\n",
        "            all_data = [self.full_dataset[i][0].numpy().flatten() for i in range(len(self.full_dataset))]\n",
        "            kmeans = KMeans(n_clusters=self.num_clusters, random_state=0).fit(all_data)\n",
        "            cluster_indices = defaultdict(list)\n",
        "            for idx, label in enumerate(kmeans.labels_):\n",
        "                cluster_indices[label].append(idx)\n",
        "\n",
        "            normal_class = 0  # Define a class as normal\n",
        "            self.train_dataset = []\n",
        "            self.valid_dataset = []\n",
        "            for cls in range(self.num_classes):\n",
        "                if cls == normal_class:\n",
        "                    # Use all data for the normal class\n",
        "                    indices = cluster_indices[cls]\n",
        "                else:\n",
        "                    # Sample the same number of data from each cluster for anomaly classes\n",
        "                    sampled_indices = shuffle(cluster_indices[cls], random_state=0)[:len(cluster_indices[normal_class])]\n",
        "                    indices = sampled_indices\n",
        "\n",
        "                split = int(np.floor(0.2 * len(indices)))\n",
        "                self.train_sampler = SubsetRandomSampler(indices[:split])\n",
        "                self.valid_sampler = SubsetRandomSampler(indices[split:])\n",
        "\n",
        "                self.train_dataset.extend(torch.utils.data.Subset(self.full_dataset, indices[:split]))\n",
        "                self.valid_dataset.extend(torch.utils.data.Subset(self.full_dataset, indices[split:]))\n",
        "                normal_class += 1\n",
        "\n",
        "        if stage == \"test\" or stage is None:\n",
        "            self.test_dataset = FashionMNIST(self.data_dir, train=False, download=True, transform=self.transform['test'])\n",
        "\n",
        "    def train_dataloader(self):\n",
        "        return torch.utils.data.DataLoader(self.train_dataset, batch_size=self.batch_size)\n",
        "\n",
        "    def val_dataloader(self):\n",
        "        return  torch.utils.data.DataLoader(self.valid_dataset, batch_size=self.batch_size)\n",
        "\n",
        "    def test_dataloader(self):\n",
        "        return  torch.utils.data.DataLoader(self.test_dataset, batch_size=self.batch_size)\n",
        "\n",
        "    def predict_dataloader(self):\n",
        "        return  torch.utils.data.DataLoader(self.test_dataset, batch_size=self.batch_size)\n"
      ]
    },
    {
      "cell_type": "markdown",
      "metadata": {
        "id": "kG1iyc556-nd"
      },
      "source": [
        "### Simple Model FC"
      ]
    },
    {
      "cell_type": "code",
      "execution_count": null,
      "metadata": {
        "id": "465FlfMP63XV"
      },
      "outputs": [],
      "source": [
        "class PrintAccuracyAndLoss(pl.Callback):\n",
        "    def on_epoch_end(self, trainer, pl_module):\n",
        "        train_acc = pl_module.train_acc.compute()\n",
        "        val_acc = pl_module.val_acc.compute()\n",
        "        train_loss = trainer.callback__metrics['train_loss']\n",
        "        val_loss = trainer.callback__metrics['val_loss']\n",
        "\n",
        "        print(f\"Epoch {trainer.current_epoch}: train_loss={train_loss:.4f}, val_loss={val_loss:.4f}\")\n",
        "\n",
        "\n",
        "class SimpleCNNModel(pl.LightningModule):\n",
        "    def __init__(self):\n",
        "        super().__init__()\n",
        "        self.conv1 = nn.Conv2d(in_channels=1, out_channels=32, kernel_size=3, padding=1)\n",
        "        self.l1 = torch.nn.Linear(32 * 16 * 16, 2)\n",
        "\n",
        "    def forward(self, x):\n",
        "        # Convolution\n",
        "        x = self.conv1(x)\n",
        "        x = torch.relu(x)\n",
        "        x = torch.max_pool2d(x, 2)\n",
        "\n",
        "        # FC\n",
        "        x = x.view(x.size(0), -1)\n",
        "        x = self.l1(x)\n",
        "        x = torch.relu(x)\n",
        "        return x\n",
        "\n",
        "    def training_step(self, batch, batch_nb):\n",
        "        x, y = batch\n",
        "        pred = self(x)\n",
        "        #loss = F.cross_entropy(pred, y)\n",
        "        loss = F.mse_loss(pred, y)\n",
        "        acc = (pred.argmax(dim=-1) == y).float().mean()\n",
        "\n",
        "        self.log(\"train_acc\", acc, on_step=True, on_epoch=True)\n",
        "        self.log(\"train Loss:\", loss)\n",
        "\n",
        "        return loss\n",
        "\n",
        "    def validation_step(self, batch, batch_nb):\n",
        "        x, y = batch\n",
        "        pred = self(x)\n",
        "        #loss = F.cross_entropy(pred, y)\n",
        "        loss = F.mse_loss(pred, y)\n",
        "        acc = (pred.argmax(dim=-1) == y).float().mean()\n",
        "\n",
        "        self.log(\"valid_acc\", acc, on_step=True, on_epoch=True)\n",
        "        self.log(\"valid Loss:\", loss)\n",
        "\n",
        "        return loss\n",
        "\n",
        "    def test_step(self, batch, batch_nb):\n",
        "        x, y = batch\n",
        "        pred = self(x)\n",
        "        #loss = F.cross_entropy(pred, y)\n",
        "        loss = F.mse_loss(pred, y)\n",
        "        acc = (pred.argmax(dim=-1) == y).float().mean()\n",
        "\n",
        "        self.log(\"test_acc\", acc, on_step=True, on_epoch=True)\n",
        "        self.log(\"test Loss:\", loss)\n",
        "\n",
        "        return loss\n",
        "\n",
        "    def configure_optimizers(self):\n",
        "        return torch.optim.Adam(self.parameters(), lr=0.02)\n"
      ]
    },
    {
      "cell_type": "markdown",
      "metadata": {
        "id": "l4gcvVPpDEVu"
      },
      "source": [
        "## **Training**"
      ]
    },
    {
      "cell_type": "markdown",
      "metadata": {
        "id": "xOQBdegoDIV4"
      },
      "source": [
        "### Train 10 classes"
      ]
    },
    {
      "cell_type": "code",
      "execution_count": null,
      "metadata": {
        "colab": {
          "base_uri": "https://localhost:8080/",
          "height": 1000,
          "referenced_widgets": [
            "d127d6862c0e4437bbe8e1d1c89c053b",
            "a8f1d7ef74b949fda2016983cb9e0a4a",
            "8ac27229ec2142e2a72ab7a10fc86a65",
            "75b27c66405d4732b5d1f57f4e6051b2",
            "7b4d9902e0524e82b4159e56062a5565",
            "1306bcb68dfe45d6bd899b8473730d8b",
            "f1c98dad392643c8936617d87a75aee9",
            "8b1037bcb95949abb5bc5dfaba96331e",
            "519f2e73d9ab45a882ac871553ebf7fa",
            "a579aa90896140c39a818d7092067bcd",
            "d1e952e3caa44990afbf5580390cc182"
          ]
        },
        "id": "gh34gSqS7Ey2",
        "outputId": "fccabaaa-0b21-4101-ff6b-75f4bbfd55ba"
      },
      "outputs": [
        {
          "name": "stderr",
          "output_type": "stream",
          "text": [
            "INFO:pytorch_lightning.utilities.rank_zero:GPU available: False, used: False\n",
            "INFO:pytorch_lightning.utilities.rank_zero:TPU available: False, using: 0 TPU cores\n",
            "INFO:pytorch_lightning.utilities.rank_zero:IPU available: False, using: 0 IPUs\n",
            "INFO:pytorch_lightning.utilities.rank_zero:HPU available: False, using: 0 HPUs\n"
          ]
        },
        {
          "name": "stdout",
          "output_type": "stream",
          "text": [
            "Downloading http://fashion-mnist.s3-website.eu-central-1.amazonaws.com/train-images-idx3-ubyte.gz\n",
            "Downloading http://fashion-mnist.s3-website.eu-central-1.amazonaws.com/train-images-idx3-ubyte.gz to ./FashionMNIST/raw/train-images-idx3-ubyte.gz\n"
          ]
        },
        {
          "name": "stderr",
          "output_type": "stream",
          "text": [
            "100%|██████████| 26421880/26421880 [00:01<00:00, 17440219.29it/s]\n"
          ]
        },
        {
          "name": "stdout",
          "output_type": "stream",
          "text": [
            "Extracting ./FashionMNIST/raw/train-images-idx3-ubyte.gz to ./FashionMNIST/raw\n",
            "\n",
            "Downloading http://fashion-mnist.s3-website.eu-central-1.amazonaws.com/train-labels-idx1-ubyte.gz\n",
            "Downloading http://fashion-mnist.s3-website.eu-central-1.amazonaws.com/train-labels-idx1-ubyte.gz to ./FashionMNIST/raw/train-labels-idx1-ubyte.gz\n"
          ]
        },
        {
          "name": "stderr",
          "output_type": "stream",
          "text": [
            "100%|██████████| 29515/29515 [00:00<00:00, 300957.32it/s]\n"
          ]
        },
        {
          "name": "stdout",
          "output_type": "stream",
          "text": [
            "Extracting ./FashionMNIST/raw/train-labels-idx1-ubyte.gz to ./FashionMNIST/raw\n",
            "\n",
            "Downloading http://fashion-mnist.s3-website.eu-central-1.amazonaws.com/t10k-images-idx3-ubyte.gz\n",
            "Downloading http://fashion-mnist.s3-website.eu-central-1.amazonaws.com/t10k-images-idx3-ubyte.gz to ./FashionMNIST/raw/t10k-images-idx3-ubyte.gz\n"
          ]
        },
        {
          "name": "stderr",
          "output_type": "stream",
          "text": [
            "100%|██████████| 4422102/4422102 [00:00<00:00, 5598243.14it/s]\n"
          ]
        },
        {
          "name": "stdout",
          "output_type": "stream",
          "text": [
            "Extracting ./FashionMNIST/raw/t10k-images-idx3-ubyte.gz to ./FashionMNIST/raw\n",
            "\n",
            "Downloading http://fashion-mnist.s3-website.eu-central-1.amazonaws.com/t10k-labels-idx1-ubyte.gz\n",
            "Downloading http://fashion-mnist.s3-website.eu-central-1.amazonaws.com/t10k-labels-idx1-ubyte.gz to ./FashionMNIST/raw/t10k-labels-idx1-ubyte.gz\n"
          ]
        },
        {
          "name": "stderr",
          "output_type": "stream",
          "text": [
            "100%|██████████| 5148/5148 [00:00<00:00, 18298539.82it/s]\n",
            "WARNING:pytorch_lightning.loggers.tensorboard:Missing logger folder: /content/lightning_logs\n"
          ]
        },
        {
          "name": "stdout",
          "output_type": "stream",
          "text": [
            "Extracting ./FashionMNIST/raw/t10k-labels-idx1-ubyte.gz to ./FashionMNIST/raw\n",
            "\n",
            "Downloading http://fashion-mnist.s3-website.eu-central-1.amazonaws.com/train-images-idx3-ubyte.gz\n",
            "Downloading http://fashion-mnist.s3-website.eu-central-1.amazonaws.com/train-images-idx3-ubyte.gz to ./data/FashionMNIST/raw/train-images-idx3-ubyte.gz\n"
          ]
        },
        {
          "name": "stderr",
          "output_type": "stream",
          "text": [
            "100%|██████████| 26421880/26421880 [00:01<00:00, 16431275.81it/s]\n"
          ]
        },
        {
          "name": "stdout",
          "output_type": "stream",
          "text": [
            "Extracting ./data/FashionMNIST/raw/train-images-idx3-ubyte.gz to ./data/FashionMNIST/raw\n",
            "\n",
            "Downloading http://fashion-mnist.s3-website.eu-central-1.amazonaws.com/train-labels-idx1-ubyte.gz\n",
            "Downloading http://fashion-mnist.s3-website.eu-central-1.amazonaws.com/train-labels-idx1-ubyte.gz to ./data/FashionMNIST/raw/train-labels-idx1-ubyte.gz\n"
          ]
        },
        {
          "name": "stderr",
          "output_type": "stream",
          "text": [
            "100%|██████████| 29515/29515 [00:00<00:00, 302767.29it/s]\n"
          ]
        },
        {
          "name": "stdout",
          "output_type": "stream",
          "text": [
            "Extracting ./data/FashionMNIST/raw/train-labels-idx1-ubyte.gz to ./data/FashionMNIST/raw\n",
            "\n",
            "Downloading http://fashion-mnist.s3-website.eu-central-1.amazonaws.com/t10k-images-idx3-ubyte.gz\n",
            "Downloading http://fashion-mnist.s3-website.eu-central-1.amazonaws.com/t10k-images-idx3-ubyte.gz to ./data/FashionMNIST/raw/t10k-images-idx3-ubyte.gz\n"
          ]
        },
        {
          "name": "stderr",
          "output_type": "stream",
          "text": [
            "100%|██████████| 4422102/4422102 [00:00<00:00, 5598690.95it/s]\n"
          ]
        },
        {
          "name": "stdout",
          "output_type": "stream",
          "text": [
            "Extracting ./data/FashionMNIST/raw/t10k-images-idx3-ubyte.gz to ./data/FashionMNIST/raw\n",
            "\n",
            "Downloading http://fashion-mnist.s3-website.eu-central-1.amazonaws.com/t10k-labels-idx1-ubyte.gz\n",
            "Downloading http://fashion-mnist.s3-website.eu-central-1.amazonaws.com/t10k-labels-idx1-ubyte.gz to ./data/FashionMNIST/raw/t10k-labels-idx1-ubyte.gz\n"
          ]
        },
        {
          "name": "stderr",
          "output_type": "stream",
          "text": [
            "100%|██████████| 5148/5148 [00:00<00:00, 8138815.30it/s]\n",
            "INFO:pytorch_lightning.callbacks.model_summary:\n",
            "  | Name  | Type   | Params\n",
            "---------------------------------\n",
            "0 | conv1 | Conv2d | 320   \n",
            "1 | l1    | Linear | 16.4 K\n",
            "---------------------------------\n",
            "16.7 K    Trainable params\n",
            "0         Non-trainable params\n",
            "16.7 K    Total params\n",
            "0.067     Total estimated model params size (MB)\n"
          ]
        },
        {
          "name": "stdout",
          "output_type": "stream",
          "text": [
            "Extracting ./data/FashionMNIST/raw/t10k-labels-idx1-ubyte.gz to ./data/FashionMNIST/raw\n",
            "\n"
          ]
        },
        {
          "data": {
            "application/vnd.jupyter.widget-view+json": {
              "model_id": "d127d6862c0e4437bbe8e1d1c89c053b",
              "version_major": 2,
              "version_minor": 0
            },
            "text/plain": [
              "Sanity Checking: 0it [00:00, ?it/s]"
            ]
          },
          "metadata": {},
          "output_type": "display_data"
        },
        {
          "ename": "IndexError",
          "evalue": "ignored",
          "output_type": "error",
          "traceback": [
            "\u001b[0;31m---------------------------------------------------------------------------\u001b[0m",
            "\u001b[0;31mIndexError\u001b[0m                                Traceback (most recent call last)",
            "\u001b[0;32m<ipython-input-6-76c72c48ccbe>\u001b[0m in \u001b[0;36m<cell line: 7>\u001b[0;34m()\u001b[0m\n\u001b[1;32m      5\u001b[0m                      \u001b[0;31m#logger=logger,\u001b[0m\u001b[0;34m\u001b[0m\u001b[0;34m\u001b[0m\u001b[0m\n\u001b[1;32m      6\u001b[0m                      callbacks=[TQDMProgressBar(refresh_rate=20), PrintAccuracyAndLoss(), EarlyStopping(monitor=\"valid_acc\", patience=3)],)  #`train_acc`, `train_acc_step`, `Train Loss:`, `Valid_acc`, `Valid_acc_epoch`, `Valid Loss:`, `train_acc_epoch`\n\u001b[0;32m----> 7\u001b[0;31m \u001b[0mres\u001b[0m \u001b[0;34m=\u001b[0m \u001b[0mtrainer\u001b[0m\u001b[0;34m.\u001b[0m\u001b[0mfit\u001b[0m\u001b[0;34m(\u001b[0m\u001b[0mmodel\u001b[0m\u001b[0;34m,\u001b[0m \u001b[0mdm\u001b[0m\u001b[0;34m)\u001b[0m\u001b[0;34m\u001b[0m\u001b[0;34m\u001b[0m\u001b[0m\n\u001b[0m\u001b[1;32m      8\u001b[0m \u001b[0;31m#trainer.fit(model, trainloader, valloader)\u001b[0m\u001b[0;34m\u001b[0m\u001b[0;34m\u001b[0m\u001b[0m\n\u001b[1;32m      9\u001b[0m \u001b[0;31m#trainer.fit(model, trainloader)\u001b[0m\u001b[0;34m\u001b[0m\u001b[0;34m\u001b[0m\u001b[0m\n",
            "\u001b[0;32m/usr/local/lib/python3.10/dist-packages/pytorch_lightning/trainer/trainer.py\u001b[0m in \u001b[0;36mfit\u001b[0;34m(self, model, train_dataloaders, val_dataloaders, datamodule, ckpt_path)\u001b[0m\n\u001b[1;32m    527\u001b[0m         \u001b[0mmodel\u001b[0m \u001b[0;34m=\u001b[0m \u001b[0m_maybe_unwrap_optimized\u001b[0m\u001b[0;34m(\u001b[0m\u001b[0mmodel\u001b[0m\u001b[0;34m)\u001b[0m\u001b[0;34m\u001b[0m\u001b[0;34m\u001b[0m\u001b[0m\n\u001b[1;32m    528\u001b[0m         \u001b[0mself\u001b[0m\u001b[0;34m.\u001b[0m\u001b[0mstrategy\u001b[0m\u001b[0;34m.\u001b[0m\u001b[0m_lightning_module\u001b[0m \u001b[0;34m=\u001b[0m \u001b[0mmodel\u001b[0m\u001b[0;34m\u001b[0m\u001b[0;34m\u001b[0m\u001b[0m\n\u001b[0;32m--> 529\u001b[0;31m         call._call_and_handle_interrupt(\n\u001b[0m\u001b[1;32m    530\u001b[0m             \u001b[0mself\u001b[0m\u001b[0;34m,\u001b[0m \u001b[0mself\u001b[0m\u001b[0;34m.\u001b[0m\u001b[0m_fit_impl\u001b[0m\u001b[0;34m,\u001b[0m \u001b[0mmodel\u001b[0m\u001b[0;34m,\u001b[0m \u001b[0mtrain_dataloaders\u001b[0m\u001b[0;34m,\u001b[0m \u001b[0mval_dataloaders\u001b[0m\u001b[0;34m,\u001b[0m \u001b[0mdatamodule\u001b[0m\u001b[0;34m,\u001b[0m \u001b[0mckpt_path\u001b[0m\u001b[0;34m\u001b[0m\u001b[0;34m\u001b[0m\u001b[0m\n\u001b[1;32m    531\u001b[0m         )\n",
            "\u001b[0;32m/usr/local/lib/python3.10/dist-packages/pytorch_lightning/trainer/call.py\u001b[0m in \u001b[0;36m_call_and_handle_interrupt\u001b[0;34m(trainer, trainer_fn, *args, **kwargs)\u001b[0m\n\u001b[1;32m     40\u001b[0m         \u001b[0;32mif\u001b[0m \u001b[0mtrainer\u001b[0m\u001b[0;34m.\u001b[0m\u001b[0mstrategy\u001b[0m\u001b[0;34m.\u001b[0m\u001b[0mlauncher\u001b[0m \u001b[0;32mis\u001b[0m \u001b[0;32mnot\u001b[0m \u001b[0;32mNone\u001b[0m\u001b[0;34m:\u001b[0m\u001b[0;34m\u001b[0m\u001b[0;34m\u001b[0m\u001b[0m\n\u001b[1;32m     41\u001b[0m             \u001b[0;32mreturn\u001b[0m \u001b[0mtrainer\u001b[0m\u001b[0;34m.\u001b[0m\u001b[0mstrategy\u001b[0m\u001b[0;34m.\u001b[0m\u001b[0mlauncher\u001b[0m\u001b[0;34m.\u001b[0m\u001b[0mlaunch\u001b[0m\u001b[0;34m(\u001b[0m\u001b[0mtrainer_fn\u001b[0m\u001b[0;34m,\u001b[0m \u001b[0;34m*\u001b[0m\u001b[0margs\u001b[0m\u001b[0;34m,\u001b[0m \u001b[0mtrainer\u001b[0m\u001b[0;34m=\u001b[0m\u001b[0mtrainer\u001b[0m\u001b[0;34m,\u001b[0m \u001b[0;34m**\u001b[0m\u001b[0mkwargs\u001b[0m\u001b[0;34m)\u001b[0m\u001b[0;34m\u001b[0m\u001b[0;34m\u001b[0m\u001b[0m\n\u001b[0;32m---> 42\u001b[0;31m         \u001b[0;32mreturn\u001b[0m \u001b[0mtrainer_fn\u001b[0m\u001b[0;34m(\u001b[0m\u001b[0;34m*\u001b[0m\u001b[0margs\u001b[0m\u001b[0;34m,\u001b[0m \u001b[0;34m**\u001b[0m\u001b[0mkwargs\u001b[0m\u001b[0;34m)\u001b[0m\u001b[0;34m\u001b[0m\u001b[0;34m\u001b[0m\u001b[0m\n\u001b[0m\u001b[1;32m     43\u001b[0m \u001b[0;34m\u001b[0m\u001b[0m\n\u001b[1;32m     44\u001b[0m     \u001b[0;32mexcept\u001b[0m \u001b[0m_TunerExitException\u001b[0m\u001b[0;34m:\u001b[0m\u001b[0;34m\u001b[0m\u001b[0;34m\u001b[0m\u001b[0m\n",
            "\u001b[0;32m/usr/local/lib/python3.10/dist-packages/pytorch_lightning/trainer/trainer.py\u001b[0m in \u001b[0;36m_fit_impl\u001b[0;34m(self, model, train_dataloaders, val_dataloaders, datamodule, ckpt_path)\u001b[0m\n\u001b[1;32m    566\u001b[0m             \u001b[0mmodel_connected\u001b[0m\u001b[0;34m=\u001b[0m\u001b[0mself\u001b[0m\u001b[0;34m.\u001b[0m\u001b[0mlightning_module\u001b[0m \u001b[0;32mis\u001b[0m \u001b[0;32mnot\u001b[0m \u001b[0;32mNone\u001b[0m\u001b[0;34m,\u001b[0m\u001b[0;34m\u001b[0m\u001b[0;34m\u001b[0m\u001b[0m\n\u001b[1;32m    567\u001b[0m         )\n\u001b[0;32m--> 568\u001b[0;31m         \u001b[0mself\u001b[0m\u001b[0;34m.\u001b[0m\u001b[0m_run\u001b[0m\u001b[0;34m(\u001b[0m\u001b[0mmodel\u001b[0m\u001b[0;34m,\u001b[0m \u001b[0mckpt_path\u001b[0m\u001b[0;34m=\u001b[0m\u001b[0mckpt_path\u001b[0m\u001b[0;34m)\u001b[0m\u001b[0;34m\u001b[0m\u001b[0;34m\u001b[0m\u001b[0m\n\u001b[0m\u001b[1;32m    569\u001b[0m \u001b[0;34m\u001b[0m\u001b[0m\n\u001b[1;32m    570\u001b[0m         \u001b[0;32massert\u001b[0m \u001b[0mself\u001b[0m\u001b[0;34m.\u001b[0m\u001b[0mstate\u001b[0m\u001b[0;34m.\u001b[0m\u001b[0mstopped\u001b[0m\u001b[0;34m\u001b[0m\u001b[0;34m\u001b[0m\u001b[0m\n",
            "\u001b[0;32m/usr/local/lib/python3.10/dist-packages/pytorch_lightning/trainer/trainer.py\u001b[0m in \u001b[0;36m_run\u001b[0;34m(self, model, ckpt_path)\u001b[0m\n\u001b[1;32m    971\u001b[0m         \u001b[0;31m# RUN THE TRAINER\u001b[0m\u001b[0;34m\u001b[0m\u001b[0;34m\u001b[0m\u001b[0m\n\u001b[1;32m    972\u001b[0m         \u001b[0;31m# ----------------------------\u001b[0m\u001b[0;34m\u001b[0m\u001b[0;34m\u001b[0m\u001b[0m\n\u001b[0;32m--> 973\u001b[0;31m         \u001b[0mresults\u001b[0m \u001b[0;34m=\u001b[0m \u001b[0mself\u001b[0m\u001b[0;34m.\u001b[0m\u001b[0m_run_stage\u001b[0m\u001b[0;34m(\u001b[0m\u001b[0;34m)\u001b[0m\u001b[0;34m\u001b[0m\u001b[0;34m\u001b[0m\u001b[0m\n\u001b[0m\u001b[1;32m    974\u001b[0m \u001b[0;34m\u001b[0m\u001b[0m\n\u001b[1;32m    975\u001b[0m         \u001b[0;31m# ----------------------------\u001b[0m\u001b[0;34m\u001b[0m\u001b[0;34m\u001b[0m\u001b[0m\n",
            "\u001b[0;32m/usr/local/lib/python3.10/dist-packages/pytorch_lightning/trainer/trainer.py\u001b[0m in \u001b[0;36m_run_stage\u001b[0;34m(self)\u001b[0m\n\u001b[1;32m   1012\u001b[0m         \u001b[0;32mif\u001b[0m \u001b[0mself\u001b[0m\u001b[0;34m.\u001b[0m\u001b[0mtraining\u001b[0m\u001b[0;34m:\u001b[0m\u001b[0;34m\u001b[0m\u001b[0;34m\u001b[0m\u001b[0m\n\u001b[1;32m   1013\u001b[0m             \u001b[0;32mwith\u001b[0m \u001b[0misolate_rng\u001b[0m\u001b[0;34m(\u001b[0m\u001b[0;34m)\u001b[0m\u001b[0;34m:\u001b[0m\u001b[0;34m\u001b[0m\u001b[0;34m\u001b[0m\u001b[0m\n\u001b[0;32m-> 1014\u001b[0;31m                 \u001b[0mself\u001b[0m\u001b[0;34m.\u001b[0m\u001b[0m_run_sanity_check\u001b[0m\u001b[0;34m(\u001b[0m\u001b[0;34m)\u001b[0m\u001b[0;34m\u001b[0m\u001b[0;34m\u001b[0m\u001b[0m\n\u001b[0m\u001b[1;32m   1015\u001b[0m             \u001b[0;32mwith\u001b[0m \u001b[0mtorch\u001b[0m\u001b[0;34m.\u001b[0m\u001b[0mautograd\u001b[0m\u001b[0;34m.\u001b[0m\u001b[0mset_detect_anomaly\u001b[0m\u001b[0;34m(\u001b[0m\u001b[0mself\u001b[0m\u001b[0;34m.\u001b[0m\u001b[0m_detect_anomaly\u001b[0m\u001b[0;34m)\u001b[0m\u001b[0;34m:\u001b[0m\u001b[0;34m\u001b[0m\u001b[0;34m\u001b[0m\u001b[0m\n\u001b[1;32m   1016\u001b[0m                 \u001b[0mself\u001b[0m\u001b[0;34m.\u001b[0m\u001b[0mfit_loop\u001b[0m\u001b[0;34m.\u001b[0m\u001b[0mrun\u001b[0m\u001b[0;34m(\u001b[0m\u001b[0;34m)\u001b[0m\u001b[0;34m\u001b[0m\u001b[0;34m\u001b[0m\u001b[0m\n",
            "\u001b[0;32m/usr/local/lib/python3.10/dist-packages/pytorch_lightning/trainer/trainer.py\u001b[0m in \u001b[0;36m_run_sanity_check\u001b[0;34m(self)\u001b[0m\n\u001b[1;32m   1041\u001b[0m \u001b[0;34m\u001b[0m\u001b[0m\n\u001b[1;32m   1042\u001b[0m             \u001b[0;31m# run eval step\u001b[0m\u001b[0;34m\u001b[0m\u001b[0;34m\u001b[0m\u001b[0m\n\u001b[0;32m-> 1043\u001b[0;31m             \u001b[0mval_loop\u001b[0m\u001b[0;34m.\u001b[0m\u001b[0mrun\u001b[0m\u001b[0;34m(\u001b[0m\u001b[0;34m)\u001b[0m\u001b[0;34m\u001b[0m\u001b[0;34m\u001b[0m\u001b[0m\n\u001b[0m\u001b[1;32m   1044\u001b[0m \u001b[0;34m\u001b[0m\u001b[0m\n\u001b[1;32m   1045\u001b[0m             \u001b[0mcall\u001b[0m\u001b[0;34m.\u001b[0m\u001b[0m_call_callback_hooks\u001b[0m\u001b[0;34m(\u001b[0m\u001b[0mself\u001b[0m\u001b[0;34m,\u001b[0m \u001b[0;34m\"on_sanity_check_end\"\u001b[0m\u001b[0;34m)\u001b[0m\u001b[0;34m\u001b[0m\u001b[0;34m\u001b[0m\u001b[0m\n",
            "\u001b[0;32m/usr/local/lib/python3.10/dist-packages/pytorch_lightning/loops/utilities.py\u001b[0m in \u001b[0;36m_decorator\u001b[0;34m(self, *args, **kwargs)\u001b[0m\n\u001b[1;32m    175\u001b[0m             \u001b[0mcontext_manager\u001b[0m \u001b[0;34m=\u001b[0m \u001b[0mtorch\u001b[0m\u001b[0;34m.\u001b[0m\u001b[0mno_grad\u001b[0m\u001b[0;34m\u001b[0m\u001b[0;34m\u001b[0m\u001b[0m\n\u001b[1;32m    176\u001b[0m         \u001b[0;32mwith\u001b[0m \u001b[0mcontext_manager\u001b[0m\u001b[0;34m(\u001b[0m\u001b[0;34m)\u001b[0m\u001b[0;34m:\u001b[0m\u001b[0;34m\u001b[0m\u001b[0;34m\u001b[0m\u001b[0m\n\u001b[0;32m--> 177\u001b[0;31m             \u001b[0;32mreturn\u001b[0m \u001b[0mloop_run\u001b[0m\u001b[0;34m(\u001b[0m\u001b[0mself\u001b[0m\u001b[0;34m,\u001b[0m \u001b[0;34m*\u001b[0m\u001b[0margs\u001b[0m\u001b[0;34m,\u001b[0m \u001b[0;34m**\u001b[0m\u001b[0mkwargs\u001b[0m\u001b[0;34m)\u001b[0m\u001b[0;34m\u001b[0m\u001b[0;34m\u001b[0m\u001b[0m\n\u001b[0m\u001b[1;32m    178\u001b[0m \u001b[0;34m\u001b[0m\u001b[0m\n\u001b[1;32m    179\u001b[0m     \u001b[0;32mreturn\u001b[0m \u001b[0m_decorator\u001b[0m\u001b[0;34m\u001b[0m\u001b[0;34m\u001b[0m\u001b[0m\n",
            "\u001b[0;32m/usr/local/lib/python3.10/dist-packages/pytorch_lightning/loops/evaluation_loop.py\u001b[0m in \u001b[0;36mrun\u001b[0;34m(self)\u001b[0m\n\u001b[1;32m    113\u001b[0m                 \u001b[0mprevious_dataloader_idx\u001b[0m \u001b[0;34m=\u001b[0m \u001b[0mdataloader_idx\u001b[0m\u001b[0;34m\u001b[0m\u001b[0;34m\u001b[0m\u001b[0m\n\u001b[1;32m    114\u001b[0m                 \u001b[0;31m# run step hooks\u001b[0m\u001b[0;34m\u001b[0m\u001b[0;34m\u001b[0m\u001b[0m\n\u001b[0;32m--> 115\u001b[0;31m                 \u001b[0mself\u001b[0m\u001b[0;34m.\u001b[0m\u001b[0m_evaluation_step\u001b[0m\u001b[0;34m(\u001b[0m\u001b[0mbatch\u001b[0m\u001b[0;34m,\u001b[0m \u001b[0mbatch_idx\u001b[0m\u001b[0;34m,\u001b[0m \u001b[0mdataloader_idx\u001b[0m\u001b[0;34m)\u001b[0m\u001b[0;34m\u001b[0m\u001b[0;34m\u001b[0m\u001b[0m\n\u001b[0m\u001b[1;32m    116\u001b[0m             \u001b[0;32mexcept\u001b[0m \u001b[0mStopIteration\u001b[0m\u001b[0;34m:\u001b[0m\u001b[0;34m\u001b[0m\u001b[0;34m\u001b[0m\u001b[0m\n\u001b[1;32m    117\u001b[0m                 \u001b[0;31m# this needs to wrap the `*_step` call too (not just `next`) for `dataloader_iter` support\u001b[0m\u001b[0;34m\u001b[0m\u001b[0;34m\u001b[0m\u001b[0m\n",
            "\u001b[0;32m/usr/local/lib/python3.10/dist-packages/pytorch_lightning/loops/evaluation_loop.py\u001b[0m in \u001b[0;36m_evaluation_step\u001b[0;34m(self, batch, batch_idx, dataloader_idx)\u001b[0m\n\u001b[1;32m    373\u001b[0m \u001b[0;34m\u001b[0m\u001b[0m\n\u001b[1;32m    374\u001b[0m         \u001b[0mhook_name\u001b[0m \u001b[0;34m=\u001b[0m \u001b[0;34m\"test_step\"\u001b[0m \u001b[0;32mif\u001b[0m \u001b[0mtrainer\u001b[0m\u001b[0;34m.\u001b[0m\u001b[0mtesting\u001b[0m \u001b[0;32melse\u001b[0m \u001b[0;34m\"validation_step\"\u001b[0m\u001b[0;34m\u001b[0m\u001b[0;34m\u001b[0m\u001b[0m\n\u001b[0;32m--> 375\u001b[0;31m         \u001b[0moutput\u001b[0m \u001b[0;34m=\u001b[0m \u001b[0mcall\u001b[0m\u001b[0;34m.\u001b[0m\u001b[0m_call_strategy_hook\u001b[0m\u001b[0;34m(\u001b[0m\u001b[0mtrainer\u001b[0m\u001b[0;34m,\u001b[0m \u001b[0mhook_name\u001b[0m\u001b[0;34m,\u001b[0m \u001b[0;34m*\u001b[0m\u001b[0mstep_kwargs\u001b[0m\u001b[0;34m.\u001b[0m\u001b[0mvalues\u001b[0m\u001b[0;34m(\u001b[0m\u001b[0;34m)\u001b[0m\u001b[0;34m)\u001b[0m\u001b[0;34m\u001b[0m\u001b[0;34m\u001b[0m\u001b[0m\n\u001b[0m\u001b[1;32m    376\u001b[0m \u001b[0;34m\u001b[0m\u001b[0m\n\u001b[1;32m    377\u001b[0m         \u001b[0mself\u001b[0m\u001b[0;34m.\u001b[0m\u001b[0mbatch_progress\u001b[0m\u001b[0;34m.\u001b[0m\u001b[0mincrement_processed\u001b[0m\u001b[0;34m(\u001b[0m\u001b[0;34m)\u001b[0m\u001b[0;34m\u001b[0m\u001b[0;34m\u001b[0m\u001b[0m\n",
            "\u001b[0;32m/usr/local/lib/python3.10/dist-packages/pytorch_lightning/trainer/call.py\u001b[0m in \u001b[0;36m_call_strategy_hook\u001b[0;34m(trainer, hook_name, *args, **kwargs)\u001b[0m\n\u001b[1;32m    289\u001b[0m \u001b[0;34m\u001b[0m\u001b[0m\n\u001b[1;32m    290\u001b[0m     \u001b[0;32mwith\u001b[0m \u001b[0mtrainer\u001b[0m\u001b[0;34m.\u001b[0m\u001b[0mprofiler\u001b[0m\u001b[0;34m.\u001b[0m\u001b[0mprofile\u001b[0m\u001b[0;34m(\u001b[0m\u001b[0;34mf\"[Strategy]{trainer.strategy.__class__.__name__}.{hook_name}\"\u001b[0m\u001b[0;34m)\u001b[0m\u001b[0;34m:\u001b[0m\u001b[0;34m\u001b[0m\u001b[0;34m\u001b[0m\u001b[0m\n\u001b[0;32m--> 291\u001b[0;31m         \u001b[0moutput\u001b[0m \u001b[0;34m=\u001b[0m \u001b[0mfn\u001b[0m\u001b[0;34m(\u001b[0m\u001b[0;34m*\u001b[0m\u001b[0margs\u001b[0m\u001b[0;34m,\u001b[0m \u001b[0;34m**\u001b[0m\u001b[0mkwargs\u001b[0m\u001b[0;34m)\u001b[0m\u001b[0;34m\u001b[0m\u001b[0;34m\u001b[0m\u001b[0m\n\u001b[0m\u001b[1;32m    292\u001b[0m \u001b[0;34m\u001b[0m\u001b[0m\n\u001b[1;32m    293\u001b[0m     \u001b[0;31m# restore current_fx when nested context\u001b[0m\u001b[0;34m\u001b[0m\u001b[0;34m\u001b[0m\u001b[0m\n",
            "\u001b[0;32m/usr/local/lib/python3.10/dist-packages/pytorch_lightning/strategies/strategy.py\u001b[0m in \u001b[0;36mvalidation_step\u001b[0;34m(self, *args, **kwargs)\u001b[0m\n\u001b[1;32m    377\u001b[0m         \u001b[0;32mwith\u001b[0m \u001b[0mself\u001b[0m\u001b[0;34m.\u001b[0m\u001b[0mprecision_plugin\u001b[0m\u001b[0;34m.\u001b[0m\u001b[0mval_step_context\u001b[0m\u001b[0;34m(\u001b[0m\u001b[0;34m)\u001b[0m\u001b[0;34m:\u001b[0m\u001b[0;34m\u001b[0m\u001b[0;34m\u001b[0m\u001b[0m\n\u001b[1;32m    378\u001b[0m             \u001b[0;32massert\u001b[0m \u001b[0misinstance\u001b[0m\u001b[0;34m(\u001b[0m\u001b[0mself\u001b[0m\u001b[0;34m.\u001b[0m\u001b[0mmodel\u001b[0m\u001b[0;34m,\u001b[0m \u001b[0mValidationStep\u001b[0m\u001b[0;34m)\u001b[0m\u001b[0;34m\u001b[0m\u001b[0;34m\u001b[0m\u001b[0m\n\u001b[0;32m--> 379\u001b[0;31m             \u001b[0;32mreturn\u001b[0m \u001b[0mself\u001b[0m\u001b[0;34m.\u001b[0m\u001b[0mmodel\u001b[0m\u001b[0;34m.\u001b[0m\u001b[0mvalidation_step\u001b[0m\u001b[0;34m(\u001b[0m\u001b[0;34m*\u001b[0m\u001b[0margs\u001b[0m\u001b[0;34m,\u001b[0m \u001b[0;34m**\u001b[0m\u001b[0mkwargs\u001b[0m\u001b[0;34m)\u001b[0m\u001b[0;34m\u001b[0m\u001b[0;34m\u001b[0m\u001b[0m\n\u001b[0m\u001b[1;32m    380\u001b[0m \u001b[0;34m\u001b[0m\u001b[0m\n\u001b[1;32m    381\u001b[0m     \u001b[0;32mdef\u001b[0m \u001b[0mtest_step\u001b[0m\u001b[0;34m(\u001b[0m\u001b[0mself\u001b[0m\u001b[0;34m,\u001b[0m \u001b[0;34m*\u001b[0m\u001b[0margs\u001b[0m\u001b[0;34m:\u001b[0m \u001b[0mAny\u001b[0m\u001b[0;34m,\u001b[0m \u001b[0;34m**\u001b[0m\u001b[0mkwargs\u001b[0m\u001b[0;34m:\u001b[0m \u001b[0mAny\u001b[0m\u001b[0;34m)\u001b[0m \u001b[0;34m->\u001b[0m \u001b[0mOptional\u001b[0m\u001b[0;34m[\u001b[0m\u001b[0mSTEP_OUTPUT\u001b[0m\u001b[0;34m]\u001b[0m\u001b[0;34m:\u001b[0m\u001b[0;34m\u001b[0m\u001b[0;34m\u001b[0m\u001b[0m\n",
            "\u001b[0;32m<ipython-input-5-1764643a3c2b>\u001b[0m in \u001b[0;36mvalidation_step\u001b[0;34m(self, batch, batch_nb)\u001b[0m\n\u001b[1;32m     42\u001b[0m         \u001b[0mx\u001b[0m\u001b[0;34m,\u001b[0m \u001b[0my\u001b[0m \u001b[0;34m=\u001b[0m \u001b[0mbatch\u001b[0m\u001b[0;34m\u001b[0m\u001b[0;34m\u001b[0m\u001b[0m\n\u001b[1;32m     43\u001b[0m         \u001b[0mpred\u001b[0m \u001b[0;34m=\u001b[0m \u001b[0mself\u001b[0m\u001b[0;34m(\u001b[0m\u001b[0mx\u001b[0m\u001b[0;34m)\u001b[0m\u001b[0;34m\u001b[0m\u001b[0;34m\u001b[0m\u001b[0m\n\u001b[0;32m---> 44\u001b[0;31m         \u001b[0mloss\u001b[0m \u001b[0;34m=\u001b[0m \u001b[0mF\u001b[0m\u001b[0;34m.\u001b[0m\u001b[0mcross_entropy\u001b[0m\u001b[0;34m(\u001b[0m\u001b[0mpred\u001b[0m\u001b[0;34m,\u001b[0m \u001b[0my\u001b[0m\u001b[0;34m)\u001b[0m\u001b[0;34m\u001b[0m\u001b[0;34m\u001b[0m\u001b[0m\n\u001b[0m\u001b[1;32m     45\u001b[0m         \u001b[0macc\u001b[0m \u001b[0;34m=\u001b[0m \u001b[0;34m(\u001b[0m\u001b[0mpred\u001b[0m\u001b[0;34m.\u001b[0m\u001b[0margmax\u001b[0m\u001b[0;34m(\u001b[0m\u001b[0mdim\u001b[0m\u001b[0;34m=\u001b[0m\u001b[0;34m-\u001b[0m\u001b[0;36m1\u001b[0m\u001b[0;34m)\u001b[0m \u001b[0;34m==\u001b[0m \u001b[0my\u001b[0m\u001b[0;34m)\u001b[0m\u001b[0;34m.\u001b[0m\u001b[0mfloat\u001b[0m\u001b[0;34m(\u001b[0m\u001b[0;34m)\u001b[0m\u001b[0;34m.\u001b[0m\u001b[0mmean\u001b[0m\u001b[0;34m(\u001b[0m\u001b[0;34m)\u001b[0m\u001b[0;34m\u001b[0m\u001b[0;34m\u001b[0m\u001b[0m\n\u001b[1;32m     46\u001b[0m \u001b[0;34m\u001b[0m\u001b[0m\n",
            "\u001b[0;32m/usr/local/lib/python3.10/dist-packages/torch/nn/functional.py\u001b[0m in \u001b[0;36mcross_entropy\u001b[0;34m(input, target, weight, size_average, ignore_index, reduce, reduction, label_smoothing)\u001b[0m\n\u001b[1;32m   3027\u001b[0m     \u001b[0;32mif\u001b[0m \u001b[0msize_average\u001b[0m \u001b[0;32mis\u001b[0m \u001b[0;32mnot\u001b[0m \u001b[0;32mNone\u001b[0m \u001b[0;32mor\u001b[0m \u001b[0mreduce\u001b[0m \u001b[0;32mis\u001b[0m \u001b[0;32mnot\u001b[0m \u001b[0;32mNone\u001b[0m\u001b[0;34m:\u001b[0m\u001b[0;34m\u001b[0m\u001b[0;34m\u001b[0m\u001b[0m\n\u001b[1;32m   3028\u001b[0m         \u001b[0mreduction\u001b[0m \u001b[0;34m=\u001b[0m \u001b[0m_Reduction\u001b[0m\u001b[0;34m.\u001b[0m\u001b[0mlegacy_get_string\u001b[0m\u001b[0;34m(\u001b[0m\u001b[0msize_average\u001b[0m\u001b[0;34m,\u001b[0m \u001b[0mreduce\u001b[0m\u001b[0;34m)\u001b[0m\u001b[0;34m\u001b[0m\u001b[0;34m\u001b[0m\u001b[0m\n\u001b[0;32m-> 3029\u001b[0;31m     \u001b[0;32mreturn\u001b[0m \u001b[0mtorch\u001b[0m\u001b[0;34m.\u001b[0m\u001b[0m_C\u001b[0m\u001b[0;34m.\u001b[0m\u001b[0m_nn\u001b[0m\u001b[0;34m.\u001b[0m\u001b[0mcross_entropy_loss\u001b[0m\u001b[0;34m(\u001b[0m\u001b[0minput\u001b[0m\u001b[0;34m,\u001b[0m \u001b[0mtarget\u001b[0m\u001b[0;34m,\u001b[0m \u001b[0mweight\u001b[0m\u001b[0;34m,\u001b[0m \u001b[0m_Reduction\u001b[0m\u001b[0;34m.\u001b[0m\u001b[0mget_enum\u001b[0m\u001b[0;34m(\u001b[0m\u001b[0mreduction\u001b[0m\u001b[0;34m)\u001b[0m\u001b[0;34m,\u001b[0m \u001b[0mignore_index\u001b[0m\u001b[0;34m,\u001b[0m \u001b[0mlabel_smoothing\u001b[0m\u001b[0;34m)\u001b[0m\u001b[0;34m\u001b[0m\u001b[0;34m\u001b[0m\u001b[0m\n\u001b[0m\u001b[1;32m   3030\u001b[0m \u001b[0;34m\u001b[0m\u001b[0m\n\u001b[1;32m   3031\u001b[0m \u001b[0;34m\u001b[0m\u001b[0m\n",
            "\u001b[0;31mIndexError\u001b[0m: Target 6 is out of bounds."
          ]
        }
      ],
      "source": [
        "dm = DataModule(128)\n",
        "\n",
        "model = SimpleCNNModel()\n",
        "trainer = pl.Trainer(max_epochs=2,\n",
        "                     #logger=logger,\n",
        "                     callbacks=[TQDMProgressBar(refresh_rate=20),\n",
        "                                PrintAccuracyAndLoss(),\n",
        "                                EarlyStopping(monitor=\"valid_acc\", patience=3)],)  #`train_acc`, `train_acc_step`, `Train Loss:`, `Valid_acc`, `Valid_acc_epoch`, `Valid Loss:`, `train_acc_epoch`\n",
        "res = trainer.fit(model, dm)\n",
        "#trainer.fit(model, trainloader, valloader)\n",
        "#trainer.fit(model, trainloader)\n"
      ]
    },
    {
      "cell_type": "code",
      "execution_count": null,
      "metadata": {
        "id": "ub0iwRDYa7k3"
      },
      "outputs": [],
      "source": [
        "res = trainer.validate(model, datamodule=dm)\n",
        "#print(res)\n",
        "\n",
        "#model = MNISTModel()\n",
        "res = trainer.test(model, datamodule=dm)\n",
        "#print(res)"
      ]
    },
    {
      "cell_type": "markdown",
      "metadata": {
        "id": "MDmufRmODLhw"
      },
      "source": [
        "### Train 2 classes"
      ]
    },
    {
      "cell_type": "code",
      "execution_count": null,
      "metadata": {
        "colab": {
          "base_uri": "https://localhost:8080/",
          "height": 1000,
          "referenced_widgets": [
            "c5a7ff9ae2db49b681a8c4a8e89a2fc0",
            "529290062b26453eb72028d3cef9af95",
            "c8c85607e00d463ebf8f3bcb66443dfb",
            "fa12ff57f0724c9eb451b8075811be2c",
            "2b84db9a5d6c4031bc16deb65b357a95",
            "cf8a684590324c75b9903c312c87f2c9",
            "28bf6b7fca784dc19e69c1c93d82fa8f",
            "6dbde2d93c4e4c599ef3f5a91fe762b6",
            "014f81a6caac4aac970ba5315c042d3a",
            "4c370e5a291f46f290a04fb1b899dfba",
            "47d3a3c58f474cb6bdc3f1a47cf383bd"
          ]
        },
        "id": "YcYNMTblDNUo",
        "outputId": "c9cdb2d5-16f2-48eb-f80f-3c3d728b74ca"
      },
      "outputs": [
        {
          "name": "stderr",
          "output_type": "stream",
          "text": [
            "GPU available: False, used: False\n",
            "TPU available: False, using: 0 TPU cores\n",
            "IPU available: False, using: 0 IPUs\n",
            "HPU available: False, using: 0 HPUs\n",
            "c:\\Users\\espda\\AppData\\Local\\Programs\\Python\\Python37\\lib\\site-packages\\pytorch_lightning\\trainer\\connectors\\logger_connector\\logger_connector.py:68: UserWarning: Starting from v1.9.0, `tensorboardX` has been removed as a dependency of the `pytorch_lightning` package, due to potential conflicts with other packages in the ML ecosystem. For this reason, `logger=True` will use `CSVLogger` as the default logger, unless the `tensorboard` or `tensorboardX` packages are found. Please `pip install lightning[extra]` or one of them to enable TensorBoard support by default\n",
            "  \"Starting from v1.9.0, `tensorboardX` has been removed as a dependency of the `pytorch_lightning`\"\n"
          ]
        },
        {
          "ename": "RuntimeError",
          "evalue": "The `Callback.on_epoch_end` hook was removed in v1.8. Please use `Callback.on_<train/validation/test>_epoch_end` instead.",
          "output_type": "error",
          "traceback": [
            "\u001b[1;31m---------------------------------------------------------------------------\u001b[0m",
            "\u001b[1;31mRuntimeError\u001b[0m                              Traceback (most recent call last)",
            "\u001b[1;32m~\\AppData\\Local\\Temp\\ipykernel_21120\\57670159.py\u001b[0m in \u001b[0;36m<module>\u001b[1;34m\u001b[0m\n\u001b[0;32m     10\u001b[0m                                 EarlyStopping(monitor=\"valid_acc\", patience=3)],)  #`train_acc`, `train_acc_step`, `Train Loss:`, `Valid_acc`, `Valid_acc_epoch`, `Valid Loss:`, `train_acc_epoch`\n\u001b[0;32m     11\u001b[0m \u001b[1;33m\u001b[0m\u001b[0m\n\u001b[1;32m---> 12\u001b[1;33m \u001b[0mres\u001b[0m \u001b[1;33m=\u001b[0m \u001b[0mtrainer\u001b[0m\u001b[1;33m.\u001b[0m\u001b[0mfit\u001b[0m\u001b[1;33m(\u001b[0m\u001b[0mmodel\u001b[0m\u001b[1;33m,\u001b[0m \u001b[0mbalanced_dm\u001b[0m\u001b[1;33m)\u001b[0m\u001b[1;33m\u001b[0m\u001b[1;33m\u001b[0m\u001b[0m\n\u001b[0m\u001b[0;32m     13\u001b[0m \u001b[0mres\u001b[0m \u001b[1;33m=\u001b[0m \u001b[0mtrainer\u001b[0m\u001b[1;33m.\u001b[0m\u001b[0mtest\u001b[0m\u001b[1;33m(\u001b[0m\u001b[0mmodel\u001b[0m\u001b[1;33m,\u001b[0m \u001b[0mdatamodule\u001b[0m\u001b[1;33m=\u001b[0m\u001b[0mbalanced_dm\u001b[0m\u001b[1;33m)\u001b[0m\u001b[1;33m\u001b[0m\u001b[1;33m\u001b[0m\u001b[0m\n",
            "\u001b[1;32mc:\\Users\\espda\\AppData\\Local\\Programs\\Python\\Python37\\lib\\site-packages\\pytorch_lightning\\trainer\\trainer.py\u001b[0m in \u001b[0;36mfit\u001b[1;34m(self, model, train_dataloaders, val_dataloaders, datamodule, ckpt_path)\u001b[0m\n\u001b[0;32m    607\u001b[0m         \u001b[0mself\u001b[0m\u001b[1;33m.\u001b[0m\u001b[0mstrategy\u001b[0m\u001b[1;33m.\u001b[0m\u001b[0m_lightning_module\u001b[0m \u001b[1;33m=\u001b[0m \u001b[0mmodel\u001b[0m\u001b[1;33m\u001b[0m\u001b[1;33m\u001b[0m\u001b[0m\n\u001b[0;32m    608\u001b[0m         call._call_and_handle_interrupt(\n\u001b[1;32m--> 609\u001b[1;33m             \u001b[0mself\u001b[0m\u001b[1;33m,\u001b[0m \u001b[0mself\u001b[0m\u001b[1;33m.\u001b[0m\u001b[0m_fit_impl\u001b[0m\u001b[1;33m,\u001b[0m \u001b[0mmodel\u001b[0m\u001b[1;33m,\u001b[0m \u001b[0mtrain_dataloaders\u001b[0m\u001b[1;33m,\u001b[0m \u001b[0mval_dataloaders\u001b[0m\u001b[1;33m,\u001b[0m \u001b[0mdatamodule\u001b[0m\u001b[1;33m,\u001b[0m \u001b[0mckpt_path\u001b[0m\u001b[1;33m\u001b[0m\u001b[1;33m\u001b[0m\u001b[0m\n\u001b[0m\u001b[0;32m    610\u001b[0m         )\n\u001b[0;32m    611\u001b[0m \u001b[1;33m\u001b[0m\u001b[0m\n",
            "\u001b[1;32mc:\\Users\\espda\\AppData\\Local\\Programs\\Python\\Python37\\lib\\site-packages\\pytorch_lightning\\trainer\\call.py\u001b[0m in \u001b[0;36m_call_and_handle_interrupt\u001b[1;34m(trainer, trainer_fn, *args, **kwargs)\u001b[0m\n\u001b[0;32m     36\u001b[0m             \u001b[1;32mreturn\u001b[0m \u001b[0mtrainer\u001b[0m\u001b[1;33m.\u001b[0m\u001b[0mstrategy\u001b[0m\u001b[1;33m.\u001b[0m\u001b[0mlauncher\u001b[0m\u001b[1;33m.\u001b[0m\u001b[0mlaunch\u001b[0m\u001b[1;33m(\u001b[0m\u001b[0mtrainer_fn\u001b[0m\u001b[1;33m,\u001b[0m \u001b[1;33m*\u001b[0m\u001b[0margs\u001b[0m\u001b[1;33m,\u001b[0m \u001b[0mtrainer\u001b[0m\u001b[1;33m=\u001b[0m\u001b[0mtrainer\u001b[0m\u001b[1;33m,\u001b[0m \u001b[1;33m**\u001b[0m\u001b[0mkwargs\u001b[0m\u001b[1;33m)\u001b[0m\u001b[1;33m\u001b[0m\u001b[1;33m\u001b[0m\u001b[0m\n\u001b[0;32m     37\u001b[0m         \u001b[1;32melse\u001b[0m\u001b[1;33m:\u001b[0m\u001b[1;33m\u001b[0m\u001b[1;33m\u001b[0m\u001b[0m\n\u001b[1;32m---> 38\u001b[1;33m             \u001b[1;32mreturn\u001b[0m \u001b[0mtrainer_fn\u001b[0m\u001b[1;33m(\u001b[0m\u001b[1;33m*\u001b[0m\u001b[0margs\u001b[0m\u001b[1;33m,\u001b[0m \u001b[1;33m**\u001b[0m\u001b[0mkwargs\u001b[0m\u001b[1;33m)\u001b[0m\u001b[1;33m\u001b[0m\u001b[1;33m\u001b[0m\u001b[0m\n\u001b[0m\u001b[0;32m     39\u001b[0m \u001b[1;33m\u001b[0m\u001b[0m\n\u001b[0;32m     40\u001b[0m     \u001b[1;32mexcept\u001b[0m \u001b[0m_TunerExitException\u001b[0m\u001b[1;33m:\u001b[0m\u001b[1;33m\u001b[0m\u001b[1;33m\u001b[0m\u001b[0m\n",
            "\u001b[1;32mc:\\Users\\espda\\AppData\\Local\\Programs\\Python\\Python37\\lib\\site-packages\\pytorch_lightning\\trainer\\trainer.py\u001b[0m in \u001b[0;36m_fit_impl\u001b[1;34m(self, model, train_dataloaders, val_dataloaders, datamodule, ckpt_path)\u001b[0m\n\u001b[0;32m    648\u001b[0m             \u001b[0mmodel_connected\u001b[0m\u001b[1;33m=\u001b[0m\u001b[0mself\u001b[0m\u001b[1;33m.\u001b[0m\u001b[0mlightning_module\u001b[0m \u001b[1;32mis\u001b[0m \u001b[1;32mnot\u001b[0m \u001b[1;32mNone\u001b[0m\u001b[1;33m,\u001b[0m\u001b[1;33m\u001b[0m\u001b[1;33m\u001b[0m\u001b[0m\n\u001b[0;32m    649\u001b[0m         )\n\u001b[1;32m--> 650\u001b[1;33m         \u001b[0mself\u001b[0m\u001b[1;33m.\u001b[0m\u001b[0m_run\u001b[0m\u001b[1;33m(\u001b[0m\u001b[0mmodel\u001b[0m\u001b[1;33m,\u001b[0m \u001b[0mckpt_path\u001b[0m\u001b[1;33m=\u001b[0m\u001b[0mself\u001b[0m\u001b[1;33m.\u001b[0m\u001b[0mckpt_path\u001b[0m\u001b[1;33m)\u001b[0m\u001b[1;33m\u001b[0m\u001b[1;33m\u001b[0m\u001b[0m\n\u001b[0m\u001b[0;32m    651\u001b[0m \u001b[1;33m\u001b[0m\u001b[0m\n\u001b[0;32m    652\u001b[0m         \u001b[1;32massert\u001b[0m \u001b[0mself\u001b[0m\u001b[1;33m.\u001b[0m\u001b[0mstate\u001b[0m\u001b[1;33m.\u001b[0m\u001b[0mstopped\u001b[0m\u001b[1;33m\u001b[0m\u001b[1;33m\u001b[0m\u001b[0m\n",
            "\u001b[1;32mc:\\Users\\espda\\AppData\\Local\\Programs\\Python\\Python37\\lib\\site-packages\\pytorch_lightning\\trainer\\trainer.py\u001b[0m in \u001b[0;36m_run\u001b[1;34m(self, model, ckpt_path)\u001b[0m\n\u001b[0;32m   1036\u001b[0m         \u001b[0mself\u001b[0m\u001b[1;33m.\u001b[0m\u001b[0m_callback_connector\u001b[0m\u001b[1;33m.\u001b[0m\u001b[0m_attach_model_logging_functions\u001b[0m\u001b[1;33m(\u001b[0m\u001b[1;33m)\u001b[0m\u001b[1;33m\u001b[0m\u001b[1;33m\u001b[0m\u001b[0m\n\u001b[0;32m   1037\u001b[0m \u001b[1;33m\u001b[0m\u001b[0m\n\u001b[1;32m-> 1038\u001b[1;33m         \u001b[0mverify_loop_configurations\u001b[0m\u001b[1;33m(\u001b[0m\u001b[0mself\u001b[0m\u001b[1;33m)\u001b[0m\u001b[1;33m\u001b[0m\u001b[1;33m\u001b[0m\u001b[0m\n\u001b[0m\u001b[0;32m   1039\u001b[0m \u001b[1;33m\u001b[0m\u001b[0m\n\u001b[0;32m   1040\u001b[0m         \u001b[1;31m# hook\u001b[0m\u001b[1;33m\u001b[0m\u001b[1;33m\u001b[0m\u001b[1;33m\u001b[0m\u001b[0m\n",
            "\u001b[1;32mc:\\Users\\espda\\AppData\\Local\\Programs\\Python\\Python37\\lib\\site-packages\\pytorch_lightning\\trainer\\configuration_validator.py\u001b[0m in \u001b[0;36mverify_loop_configurations\u001b[1;34m(trainer)\u001b[0m\n\u001b[0;32m     51\u001b[0m     \u001b[0m__verify_batch_transfer_support\u001b[0m\u001b[1;33m(\u001b[0m\u001b[0mtrainer\u001b[0m\u001b[1;33m)\u001b[0m\u001b[1;33m\u001b[0m\u001b[1;33m\u001b[0m\u001b[0m\n\u001b[0;32m     52\u001b[0m     \u001b[1;31m# TODO: Delete this check in v2.0\u001b[0m\u001b[1;33m\u001b[0m\u001b[1;33m\u001b[0m\u001b[1;33m\u001b[0m\u001b[0m\n\u001b[1;32m---> 53\u001b[1;33m     \u001b[0m_check_deprecated_callback_hooks\u001b[0m\u001b[1;33m(\u001b[0m\u001b[0mtrainer\u001b[0m\u001b[1;33m)\u001b[0m\u001b[1;33m\u001b[0m\u001b[1;33m\u001b[0m\u001b[0m\n\u001b[0m\u001b[0;32m     54\u001b[0m     \u001b[1;31m# TODO: Delete this check in v2.0\u001b[0m\u001b[1;33m\u001b[0m\u001b[1;33m\u001b[0m\u001b[1;33m\u001b[0m\u001b[0m\n\u001b[0;32m     55\u001b[0m     \u001b[0m_check_on_epoch_start_end\u001b[0m\u001b[1;33m(\u001b[0m\u001b[0mmodel\u001b[0m\u001b[1;33m)\u001b[0m\u001b[1;33m\u001b[0m\u001b[1;33m\u001b[0m\u001b[0m\n",
            "\u001b[1;32mc:\\Users\\espda\\AppData\\Local\\Programs\\Python\\Python37\\lib\\site-packages\\pytorch_lightning\\trainer\\configuration_validator.py\u001b[0m in \u001b[0;36m_check_deprecated_callback_hooks\u001b[1;34m(trainer)\u001b[0m\n\u001b[0;32m    254\u001b[0m             \u001b[1;32mif\u001b[0m \u001b[0mcallable\u001b[0m\u001b[1;33m(\u001b[0m\u001b[0mgetattr\u001b[0m\u001b[1;33m(\u001b[0m\u001b[0mcallback\u001b[0m\u001b[1;33m,\u001b[0m \u001b[0mhook\u001b[0m\u001b[1;33m,\u001b[0m \u001b[1;32mNone\u001b[0m\u001b[1;33m)\u001b[0m\u001b[1;33m)\u001b[0m\u001b[1;33m:\u001b[0m\u001b[1;33m\u001b[0m\u001b[1;33m\u001b[0m\u001b[0m\n\u001b[0;32m    255\u001b[0m                 raise RuntimeError(\n\u001b[1;32m--> 256\u001b[1;33m                     \u001b[1;34mf\"The `Callback.{hook}` hook was removed in v1.8. Please use `Callback.{alternative_hook}` instead.\"\u001b[0m\u001b[1;33m\u001b[0m\u001b[1;33m\u001b[0m\u001b[0m\n\u001b[0m\u001b[0;32m    257\u001b[0m                 )\n\u001b[0;32m    258\u001b[0m         \u001b[1;32mfor\u001b[0m \u001b[0mhook\u001b[0m \u001b[1;32min\u001b[0m \u001b[1;33m(\u001b[0m\u001b[1;34m\"on_pretrain_routine_start\"\u001b[0m\u001b[1;33m,\u001b[0m \u001b[1;34m\"on_pretrain_routine_end\"\u001b[0m\u001b[1;33m)\u001b[0m\u001b[1;33m:\u001b[0m\u001b[1;33m\u001b[0m\u001b[1;33m\u001b[0m\u001b[0m\n",
            "\u001b[1;31mRuntimeError\u001b[0m: The `Callback.on_epoch_end` hook was removed in v1.8. Please use `Callback.on_<train/validation/test>_epoch_end` instead."
          ]
        }
      ],
      "source": [
        "balanced_dm = BalancedDataModule(batch_size=128)\n",
        "#balanced_dm.prepare_data()\n",
        "#balanced_dm.setup()\n",
        "\n",
        "model = SimpleCNNModel()\n",
        "trainer = pl.Trainer(max_epochs=2,\n",
        "                     #logger=logger,\n",
        "                     callbacks=[TQDMProgressBar(refresh_rate=20),\n",
        "                                PrintAccuracyAndLoss(),\n",
        "                                EarlyStopping(monitor=\"valid_acc\", patience=3)],)  #`train_acc`, `train_acc_step`, `Train Loss:`, `Valid_acc`, `Valid_acc_epoch`, `Valid Loss:`, `train_acc_epoch`\n",
        "\n",
        "res = trainer.fit(model, balanced_dm)\n",
        "res = trainer.test(model, datamodule=balanced_dm)"
      ]
    },
    {
      "cell_type": "markdown",
      "metadata": {
        "id": "crjpDsR-lLAk"
      },
      "source": [
        "## DataModule"
      ]
    },
    {
      "cell_type": "code",
      "execution_count": 1,
      "metadata": {
        "colab": {
          "base_uri": "https://localhost:8080/"
        },
        "id": "YBOKPgXLI8yh",
        "outputId": "3e0b6136-429f-4874-8d79-8bd7681ad549"
      },
      "outputs": [],
      "source": [
        "#!pip install --quiet \"pytorch-lightning\"\n",
        "\n",
        "import torch\n",
        "import torch.nn as nn\n",
        "import pytorch_lightning as pl\n",
        "import torchvision.datasets\n",
        "import torchvision.transforms as T\n",
        "from torchvision.datasets import FashionMNIST\n",
        "from pytorch_lightning.callbacks.early_stopping import EarlyStopping\n",
        "from pytorch_lightning.callbacks.progress import TQDMProgressBar\n",
        "from pytorch_lightning.loggers import TensorBoardLogger\n",
        "import torch.nn.functional as F\n",
        "from sklearn.metrics import roc_auc_score\n",
        "import numpy as np\n",
        "from sklearn.cluster import KMeans\n",
        "\n",
        "# Set float32 matrix multiplication precision for better performance\n",
        "#torch.set_float32_matmul_precision('medium')  # or 'high' if desired\n",
        "\n",
        "\n",
        "class Rotation3:\n",
        "    def __call__(self, img):\n",
        "        # Randomly rotate the images by 90, 180, or 270 degrees\n",
        "        angle = random.choice([0, 90, 180, 270])\n",
        "        img = T.functional.rotate(img, angle)\n",
        "        return img\n",
        "\n",
        "class AnomalyDetectionDataModule(pl.LightningDataModule):\n",
        "    def __init__(self, batch_size, subsampling, subsamples, data_dir=\"./\"):\n",
        "        super().__init__()\n",
        "\n",
        "\n",
        "        self.transform = T.Compose([\n",
        "            T.Resize((32, 32)),\n",
        "            T.Grayscale(1),\n",
        "            T.ToTensor(),\n",
        "            T.Normalize([0.5], [0.5])\n",
        "        ])\n",
        "        self.train_transform = T.Compose([\n",
        "                                          T.Resize(32),\n",
        "                                          T.RandomVerticalFlip(),\n",
        "                                          T.RandomHorizontalFlip(),\n",
        "                                          T.RandomCrop(30),\n",
        "                                          T.Resize(32),\n",
        "                                          T.Grayscale(1),  # Use 1 channel (grayscale)\n",
        "                                          T.RandomApply([Rotation3()], p=1),\n",
        "                                          T.ToTensor(),\n",
        "                                          T.Normalize([0.5], [0.5])\n",
        "                                         ]),\n",
        "        self.test_transform = T.Compose([\n",
        "                                          T.Resize(32),\n",
        "                                          T.Grayscale(1),  # Use 1 channel (grayscale)\n",
        "                                          T.ToTensor(),\n",
        "                                          T.Normalize([0.5], [0.5])\n",
        "                                        ])\n",
        "\n",
        "        self.data_dir = data_dir\n",
        "        self.dataset_classes = 10\n",
        "        self.num_classes = 2  # Normal and Anomaly\n",
        "        self.batch_size = batch_size\n",
        "        self.num_clusters = self.dataset_classes - 1\n",
        "        self.subsamples = subsamples\n",
        "        self.subsampling = subsampling\n",
        "\n",
        "\n",
        "    def kmeans_sampling(self, dataset, class_idx, num_samples):\n",
        "        indices = [i for i in range(len(dataset)) if dataset.targets[i] != class_idx]\n",
        "        class_data = torch.stack([dataset[i][0] for i in indices])\n",
        "        kmeans = KMeans(n_clusters=self.num_clusters, random_state=0, n_init=1) #n_init = 9\n",
        "        kmeans.fit(class_data.view(class_data.size(0), -1).numpy())\n",
        "        cluster_assignments = kmeans.predict(class_data.view(class_data.size(0), -1).numpy())\n",
        "        sampled_indices = []\n",
        "        for cluster_idx in range(self.num_clusters):\n",
        "            cluster_indices = np.where(cluster_assignments == cluster_idx)[0]\n",
        "            num_samples_from_cluster = min(num_samples, len(cluster_indices))\n",
        "            sampled_indices.extend(np.random.choice(cluster_indices, num_samples_from_cluster, replace=False))\n",
        "        return [indices[idx] for idx in sampled_indices]\n",
        "\n",
        "    def setup(self, stage=None):\n",
        "        if stage == 'fit' or stage is None:\n",
        "            all_data = []\n",
        "            all_labels = []\n",
        "\n",
        "            for normal_class in range(self.dataset_classes):\n",
        "                dataset = FashionMNIST(root=self.data_dir, train=True, download=True, transform=self.test_transform)\n",
        "\n",
        "                normal_indices = [i for i in range(len(dataset)) if dataset.targets[i] == normal_class]\n",
        "                if self.subsampling == True:\n",
        "                    normal_indices = normal_indices[:self.subsamples]\n",
        "                #anomaly_indices = [i for i in range(len(dataset)) if dataset.targets[i] != normal_class]\n",
        "                anomaly_indices = self.kmeans_sampling(dataset, normal_class, num_samples=len(normal_indices))\n",
        "\n",
        "                normal_labels = torch.zeros(len(normal_indices), dtype=torch.float32)\n",
        "                anomaly_labels = torch.ones(len(anomaly_indices), dtype=torch.float32)\n",
        "\n",
        "                all_data.extend([dataset[i][0] for i in normal_indices])\n",
        "                all_data.extend([dataset[i][0] for i in anomaly_indices])\n",
        "                all_labels.extend(normal_labels)\n",
        "                all_labels.extend(anomaly_labels)\n",
        "\n",
        "            all_data = torch.stack(all_data)\n",
        "            all_labels = torch.tensor(all_labels)\n",
        "\n",
        "            self.train_dataset = torch.utils.data.TensorDataset(all_data, all_labels)\n",
        "\n",
        "\n",
        "\n",
        "        if stage == 'test' or stage is None:\n",
        "            all_data = []\n",
        "            all_labels = []\n",
        "\n",
        "            for class_idx in range(self.dataset_classes):\n",
        "                dataset = FashionMNIST(root=self.data_dir, train=False, download=True, transform=self.transform)\n",
        "                normal_indices = [i for i in range(len(dataset)) if dataset.targets[i] == class_idx]\n",
        "                anomaly_indices = [i for i in range(len(dataset)) if dataset.targets[i] != class_idx]\n",
        "\n",
        "                normal_indices = normal_indices[:100]\n",
        "                anomaly_indices = anomaly_indices[:100]\n",
        "\n",
        "                normal_labels = torch.zeros(len(normal_indices), dtype=torch.float32)  # Set labels to Float data type\n",
        "                anomaly_labels = torch.ones(len(anomaly_indices), dtype=torch.float32)  # Set labels to Float data type\n",
        "\n",
        "                all_data.extend([dataset[i][0] for i in normal_indices])\n",
        "                all_data.extend([dataset[i][0] for i in anomaly_indices])\n",
        "                all_labels.extend(normal_labels)\n",
        "                all_labels.extend(anomaly_labels)\n",
        "\n",
        "            all_data = torch.stack(all_data)\n",
        "            all_labels = torch.tensor(all_labels)\n",
        "\n",
        "            self.test_dataset = torch.utils.data.TensorDataset(all_data, all_labels)\n",
        "\n",
        "    def train_dataloader(self):\n",
        "        return torch.utils.data.DataLoader(self.train_dataset, batch_size=self.batch_size)\n",
        "\n",
        "    def test_dataloader(self):\n",
        "        return torch.utils.data.DataLoader(self.test_dataset, batch_size=self.batch_size)\n",
        "\n",
        "\n",
        "\n"
      ]
    },
    {
      "cell_type": "markdown",
      "metadata": {
        "id": "I3c-AIe7kn20"
      },
      "source": [
        "## Simple CNN"
      ]
    },
    {
      "cell_type": "code",
      "execution_count": 2,
      "metadata": {
        "id": "q8PKu1VjkmtR"
      },
      "outputs": [],
      "source": [
        "class SimpleCNNModel(pl.LightningModule):\n",
        "    def __init__(self):\n",
        "        super().__init__()\n",
        "        self.conv1 = nn.Conv2d(in_channels=1, out_channels=32, kernel_size=3, padding=1)\n",
        "        self.fc = nn.Linear(32 * 16 * 16, 1)  # Output a single value\n",
        "\n",
        "    def forward(self, x):\n",
        "        x = self.conv1(x)\n",
        "        x = torch.relu(x)\n",
        "        x = torch.max_pool2d(x, 2)\n",
        "\n",
        "        x = x.view(x.size(0), -1)\n",
        "        x = self.fc(x)\n",
        "        return x\n",
        "\n",
        "    def training_step(self, batch, batch_idx):\n",
        "        x, y = batch\n",
        "        pred = self(x)\n",
        "\n",
        "        #print(\"pred\", pred.squeeze(), \"shape:\",pred.squeeze().shape, \"|||    y\", y.squeeze(), \"shape:\", y.shape)\n",
        "        loss = F.mse_loss(pred.squeeze(), y.squeeze())  # Calculate mean squared error loss\n",
        "        acc = (pred.round() == y).float().mean()\n",
        "\n",
        "        self.log(\"train_loss\", loss)\n",
        "        self.log(\"train_acc\", acc)\n",
        "        return loss\n",
        "\n",
        "    def test_step(self, batch, batch_idx):\n",
        "        x, y = batch\n",
        "        pred = self(x)\n",
        "\n",
        "        loss = F.mse_loss(pred.squeeze(), y.squeeze())\n",
        "        acc = (pred.round() == y).float().mean()\n",
        "\n",
        "        self.log(\"test_loss\", loss)\n",
        "        self.log(\"test_acc\", acc)\n",
        "\n",
        "        # Calculate ROC-AUC\n",
        "        y_prob = torch.sigmoid(pred.squeeze())  # Apply sigmoid to get probability scores\n",
        "        roc_auc = roc_auc_score(y.cpu().numpy(), y_prob.cpu().numpy())\n",
        "\n",
        "        self.log(\"roc_auc\", roc_auc)\n",
        "\n",
        "        return {\"test_loss\": loss, \"test_acc\": acc, \"test_roc_auc\": roc_auc}\n",
        "\n",
        "    def configure_optimizers(self):\n",
        "        return torch.optim.Adam(self.parameters(), lr=0.002)\n",
        "\n",
        "\n",
        "class SOTA(pl.LightningModule):\n",
        "    def __init__(self):\n",
        "        super().__init__()\n",
        "        self.conv1 = nn.Conv2d(in_channels=1, out_channels=32, kernel_size=3, padding=1)\n",
        "        self.fc = nn.Linear(32 * 16 * 16, 1)  # Output a single value\n",
        "\n",
        "    def forward(self, x):\n",
        "        x = self.conv1(x)\n",
        "        x = torch.relu(x)\n",
        "        x = torch.max_pool2d(x, 2)\n",
        "\n",
        "        x = x.view(x.size(0), -1)\n",
        "        x = self.fc(x)\n",
        "        return x\n",
        "\n"
      ]
    },
    {
      "cell_type": "markdown",
      "metadata": {
        "id": "3mZHVln5hak-"
      },
      "source": [
        "### Train and Test CNN"
      ]
    },
    {
      "cell_type": "code",
      "execution_count": 3,
      "metadata": {
        "colab": {
          "base_uri": "https://localhost:8080/"
        },
        "id": "YsEygthjhc0v",
        "outputId": "878f357d-bf31-4f72-b2d9-42696351fbd1"
      },
      "outputs": [
        {
          "name": "stderr",
          "output_type": "stream",
          "text": [
            "GPU available: True (cuda), used: True\n",
            "TPU available: False, using: 0 TPU cores\n",
            "IPU available: False, using: 0 IPUs\n",
            "HPU available: False, using: 0 HPUs\n",
            "You are using a CUDA device ('NVIDIA GeForce RTX 3060 Laptop GPU') that has Tensor Cores. To properly utilize them, you should set `torch.set_float32_matmul_precision('medium' | 'high')` which will trade-off precision for performance. For more details, read https://pytorch.org/docs/stable/generated/torch.set_float32_matmul_precision.html#torch.set_float32_matmul_precision\n"
          ]
        },
        {
          "name": "stdout",
          "output_type": "stream",
          "text": [
            "GPU\n"
          ]
        },
        {
          "name": "stderr",
          "output_type": "stream",
          "text": [
            "LOCAL_RANK: 0 - CUDA_VISIBLE_DEVICES: [0]\n",
            "\n",
            "  | Name  | Type   | Params\n",
            "---------------------------------\n",
            "0 | conv1 | Conv2d | 320   \n",
            "1 | fc    | Linear | 8.2 K \n",
            "---------------------------------\n",
            "8.5 K     Trainable params\n",
            "0         Non-trainable params\n",
            "8.5 K     Total params\n",
            "0.034     Total estimated model params size (MB)\n",
            "c:\\Users\\espda\\AppData\\Local\\Programs\\Python\\Python310\\lib\\site-packages\\pytorch_lightning\\trainer\\connectors\\data_connector.py:438: PossibleUserWarning: The dataloader, train_dataloader, does not have many workers which may be a bottleneck. Consider increasing the value of the `num_workers` argument` (try 20 which is the number of cpus on this machine) in the `DataLoader` init to improve performance.\n",
            "  rank_zero_warn(\n",
            "c:\\Users\\espda\\AppData\\Local\\Programs\\Python\\Python310\\lib\\site-packages\\pytorch_lightning\\loops\\fit_loop.py:281: PossibleUserWarning: The number of training batches (40) is smaller than the logging interval Trainer(log_every_n_steps=50). Set a lower value for log_every_n_steps if you want to see logs for the training epoch.\n",
            "  rank_zero_warn(\n"
          ]
        },
        {
          "name": "stdout",
          "output_type": "stream",
          "text": [
            "Epoch 0: 100%|██████████| 40/40 [00:01<00:00, 22.99it/s, v_num=19]"
          ]
        },
        {
          "name": "stderr",
          "output_type": "stream",
          "text": [
            "`Trainer.fit` stopped: `max_epochs=1` reached.\n"
          ]
        },
        {
          "name": "stdout",
          "output_type": "stream",
          "text": [
            "Epoch 0: 100%|██████████| 40/40 [00:01<00:00, 22.91it/s, v_num=19]\n"
          ]
        },
        {
          "name": "stderr",
          "output_type": "stream",
          "text": [
            "LOCAL_RANK: 0 - CUDA_VISIBLE_DEVICES: [0]\n",
            "c:\\Users\\espda\\AppData\\Local\\Programs\\Python\\Python310\\lib\\site-packages\\pytorch_lightning\\trainer\\connectors\\data_connector.py:438: PossibleUserWarning: The dataloader, test_dataloader, does not have many workers which may be a bottleneck. Consider increasing the value of the `num_workers` argument` (try 20 which is the number of cpus on this machine) in the `DataLoader` init to improve performance.\n",
            "  rank_zero_warn(\n"
          ]
        },
        {
          "name": "stdout",
          "output_type": "stream",
          "text": [
            "Testing DataLoader 0: 100%|██████████| 8/8 [00:00<00:00, 153.72it/s]\n"
          ]
        },
        {
          "data": {
            "text/html": [
              "<pre style=\"white-space:pre;overflow-x:auto;line-height:normal;font-family:Menlo,'DejaVu Sans Mono',consolas,'Courier New',monospace\">┏━━━━━━━━━━━━━━━━━━━━━━━━━━━┳━━━━━━━━━━━━━━━━━━━━━━━━━━━┓\n",
              "┃<span style=\"font-weight: bold\">        Test metric        </span>┃<span style=\"font-weight: bold\">       DataLoader 0        </span>┃\n",
              "┡━━━━━━━━━━━━━━━━━━━━━━━━━━━╇━━━━━━━━━━━━━━━━━━━━━━━━━━━┩\n",
              "│<span style=\"color: #008080; text-decoration-color: #008080\">          roc_auc          </span>│<span style=\"color: #800080; text-decoration-color: #800080\">    0.4822308863039413     </span>│\n",
              "│<span style=\"color: #008080; text-decoration-color: #008080\">         test_acc          </span>│<span style=\"color: #800080; text-decoration-color: #800080\">            0.5            </span>│\n",
              "│<span style=\"color: #008080; text-decoration-color: #008080\">         test_loss         </span>│<span style=\"color: #800080; text-decoration-color: #800080\">    0.43182921409606934    </span>│\n",
              "└───────────────────────────┴───────────────────────────┘\n",
              "</pre>\n"
            ],
            "text/plain": [
              "┏━━━━━━━━━━━━━━━━━━━━━━━━━━━┳━━━━━━━━━━━━━━━━━━━━━━━━━━━┓\n",
              "┃\u001b[1m \u001b[0m\u001b[1m       Test metric       \u001b[0m\u001b[1m \u001b[0m┃\u001b[1m \u001b[0m\u001b[1m      DataLoader 0       \u001b[0m\u001b[1m \u001b[0m┃\n",
              "┡━━━━━━━━━━━━━━━━━━━━━━━━━━━╇━━━━━━━━━━━━━━━━━━━━━━━━━━━┩\n",
              "│\u001b[36m \u001b[0m\u001b[36m         roc_auc         \u001b[0m\u001b[36m \u001b[0m│\u001b[35m \u001b[0m\u001b[35m   0.4822308863039413    \u001b[0m\u001b[35m \u001b[0m│\n",
              "│\u001b[36m \u001b[0m\u001b[36m        test_acc         \u001b[0m\u001b[36m \u001b[0m│\u001b[35m \u001b[0m\u001b[35m           0.5           \u001b[0m\u001b[35m \u001b[0m│\n",
              "│\u001b[36m \u001b[0m\u001b[36m        test_loss        \u001b[0m\u001b[36m \u001b[0m│\u001b[35m \u001b[0m\u001b[35m   0.43182921409606934   \u001b[0m\u001b[35m \u001b[0m│\n",
              "└───────────────────────────┴───────────────────────────┘\n"
            ]
          },
          "metadata": {},
          "output_type": "display_data"
        },
        {
          "name": "stdout",
          "output_type": "stream",
          "text": [
            "[{'test_loss': 0.43182921409606934, 'test_acc': 0.5, 'roc_auc': 0.4822308863039413}]\n"
          ]
        }
      ],
      "source": [
        "#Hyperparameters\n",
        "BATCH_SIZE = 256\n",
        "epochs = 1\n",
        "subsamples = 100\n",
        "accelerator_enabled = True\n",
        "\n",
        "data_module = AnomalyDetectionDataModule(batch_size=256, subsamples=subsamples)\n",
        "model = SimpleCNNModel()\n",
        "#logger = TensorBoardLogger(\"tb_logs\", name=\"net\",log_graph=True )\n",
        "\n",
        "\n",
        "if torch.cuda.is_available() and accelerator_enabled: \n",
        "  print(\"GPU\")\n",
        "  trainer = pl.Trainer(accelerator=\"cuda\", max_epochs=epochs, callbacks=[TQDMProgressBar(), EarlyStopping(monitor=\"train_loss\", patience=3)])\n",
        "else : \n",
        "  print(\"CPU\")\n",
        "  trainer = pl.Trainer(accelerator=\"cpu\", max_epochs=epochs, callbacks=[TQDMProgressBar(), EarlyStopping(monitor=\"train_loss\", patience=3)])\n",
        "\n",
        "\n",
        "trainer.fit(model, data_module)\n",
        "\n",
        "# Testing\n",
        "test_results = trainer.test(model, data_module)\n",
        "print(test_results)"
      ]
    },
    {
      "cell_type": "code",
      "execution_count": 4,
      "metadata": {
        "id": "rDsWkAg62GjT"
      },
      "outputs": [
        {
          "data": {
            "text/plain": [
              "Reusing TensorBoard on port 6006 (pid 17928), started 0:23:00 ago. (Use '!kill 17928' to kill it.)"
            ]
          },
          "metadata": {},
          "output_type": "display_data"
        },
        {
          "data": {
            "text/html": [
              "\n",
              "      <iframe id=\"tensorboard-frame-144ffc5dd0ab3f0c\" width=\"100%\" height=\"800\" frameborder=\"0\">\n",
              "      </iframe>\n",
              "      <script>\n",
              "        (function() {\n",
              "          const frame = document.getElementById(\"tensorboard-frame-144ffc5dd0ab3f0c\");\n",
              "          const url = new URL(\"http://localhost\");\n",
              "          const port = 6006;\n",
              "          if (port) {\n",
              "            url.port = port;\n",
              "          }\n",
              "          frame.src = url;\n",
              "        })();\n",
              "      </script>\n",
              "    "
            ],
            "text/plain": [
              "<IPython.core.display.HTML object>"
            ]
          },
          "metadata": {},
          "output_type": "display_data"
        }
      ],
      "source": [
        "%load_ext tensorboard\n",
        "%tensorboard --logdir ./lightning_logs"
      ]
    },
    {
      "cell_type": "markdown",
      "metadata": {
        "id": "HOJ3z_FPkqye"
      },
      "source": [
        "## SOTA GAN-based\n",
        "\n",
        "- **U-NET Structure**: Ronneberger, O., Fischer, P., Brox, T.: U-net: Convolutional networks for biomedical image segmentation. In: International Conference on Medical image computing\n",
        "and computer-assisted intervention. pp. 234–241. Springer (2015)\n"
      ]
    },
    {
      "cell_type": "code",
      "execution_count": 2,
      "metadata": {
        "colab": {
          "base_uri": "https://localhost:8080/"
        },
        "id": "gWqfyQWmZKwe",
        "outputId": "c3edf80e-51e8-4be0-9386-36bd7eddf19d"
      },
      "outputs": [],
      "source": [
        "# Generator\n",
        "class Generator(nn.Module):\n",
        "    def __init__(self, in_channels, out_channels):\n",
        "        super(Generator, self).__init__()\n",
        "        '''\n",
        "        # Encoder\n",
        "        self.enc_conv1 = self.conv_block(in_channels, 22)\n",
        "        self.enc_conv2 = self.conv_block(22, 32)\n",
        "        self.enc_conv3 = self.conv_block(32, 42)\n",
        "        \n",
        "        # Bottleneck\n",
        "        self.bottleneck = self.conv_block(42, 50)\n",
        "        \n",
        "        # Decoder\n",
        "        self.dec_conv1 = self.conv_block(50, 42, transpose=True)\n",
        "        self.dec_conv2 = self.conv_block(42, 32, transpose=True)\n",
        "        self.dec_conv3 = self.conv_block(32, 22, transpose=True)\n",
        "        \n",
        "        self.final_conv = self.conv_block(22, 1, transpose=True)\n",
        "'''\n",
        "        # Encoder\n",
        "        self.enc_conv1 = self.conv_block(in_channels, 64)\n",
        "        #self.enc_conv2 = self.conv_block(64, 128)\n",
        "        #self.enc_conv3 = self.conv_block(128, 256)\n",
        "        \n",
        "        # Bottleneck\n",
        "        #self.bottleneck = self.conv_block(256, 512)\n",
        "        \n",
        "        # Decoder\n",
        "        #self.dec_conv1 = self.conv_block(512, 256, transpose=True)\n",
        "        #self.dec_conv2 = self.conv_block(256, 128, transpose=True)\n",
        "        #self.dec_conv3 = self.conv_block(128, 64, transpose=True)\n",
        "        \n",
        "        self.final_conv = self.conv_block(64, 1, transpose=True)\n",
        "\n",
        "\n",
        "        print(\"GENERATOR:\")\n",
        "        self.print_parameter_count(\"Encoder Conv1\", self.enc_conv1)\n",
        "        #self.print_parameter_count(\"Encoder Conv2\", self.enc_conv2)\n",
        "        #self.print_parameter_count(\"Encoder Conv3\", self.enc_conv3)\n",
        "        #self.print_parameter_count(\"Bottleneck\", self.bottleneck)\n",
        "        #self.print_parameter_count(\"Decoder Conv1\", self.dec_conv1)\n",
        "        #self.print_parameter_count(\"Decoder Conv2\", self.dec_conv2)\n",
        "        #self.print_parameter_count(\"Decoder Conv3\", self.dec_conv3)\n",
        "        self.print_parameter_count(\"Final Conv\", self.final_conv)\n",
        "\n",
        "        \n",
        "    def conv_block(self, in_channels, out_channels, transpose=False):\n",
        "        if transpose:\n",
        "            return nn.Sequential(\n",
        "                nn.ConvTranspose2d(in_channels, out_channels, kernel_size=4, stride=2, padding=1),\n",
        "                nn.ReLU(inplace=True),\n",
        "            )\n",
        "        else:\n",
        "            return nn.Sequential(\n",
        "                nn.Conv2d(in_channels, out_channels, kernel_size=4, stride=2, padding=1),\n",
        "                nn.ReLU(inplace=True),\n",
        "                #nn.MaxPool2d(2, stride=2)\n",
        "                #nn.Conv2d(out_channels, out_channels, kernel_size=4, stride=2),\n",
        "                #nn.ReLU(inplace=True)\n",
        "            )\n",
        "        \n",
        "    def forward(self, x):\n",
        "        # Encoder\n",
        "        enc1 = self.enc_conv1(x)\n",
        "        #enc2 = self.enc_conv2(F.max_pool2d(enc1, kernel_size=2, stride=2))\n",
        "        #enc3 = self.enc_conv3(F.max_pool2d(enc2, kernel_size=2, stride=2))\n",
        "        \n",
        "        # Bottleneck\n",
        "        #bottleneck = self.bottleneck(F.max_pool2d(enc3,  kernel_size=2, stride=2))\n",
        "        \n",
        "        # Decoder\n",
        "        #dec1 = F.interpolate(self.dec_conv1(bottleneck), scale_factor=2, mode='bilinear', align_corners=False)\n",
        "        #dec2 = F.interpolate(self.dec_conv2(torch.cat([dec1, enc1], dim=1)), scale_factor=2, mode='bilinear', align_corners=False)\n",
        "        \n",
        "        #output = self.final_conv(dec2)\n",
        "        output = self.final_conv(enc1)\n",
        "        return output\n",
        "    \n",
        "    \n",
        "    def print_parameter_count(self, name, module):\n",
        "        num_params = sum(p.numel() for p in module.parameters())\n",
        "        formatted_params = self.format_parameter_count(num_params)\n",
        "        #print(f\"{name} - Number of Parameters: {num_params}\")\n",
        "        print(f\"{name} - Number of Parameters: {formatted_params}\")\n",
        "        \n",
        "    def format_parameter_count(self, num_params):\n",
        "        if num_params < 1e3:\n",
        "            return f\"{num_params:.2f}\"\n",
        "        elif num_params < 1e6:\n",
        "            return f\"{num_params / 1e3:.2f}K\"\n",
        "        elif num_params < 1e9:\n",
        "            return f\"{num_params / 1e6:.2f}M\"\n",
        "        else:\n",
        "            return f\"{num_params / 1e9:.2f}G\"\n",
        "        \n",
        "\n",
        "# Discriminator\n",
        "class Discriminator(nn.Module):\n",
        "    def __init__(self):\n",
        "        super(Discriminator, self).__init__()\n",
        "\n",
        "        self.conv1_s2 = self.conv_block(1, 64, kernel_size=3, stride=2)\n",
        "        #self.conv2_s2 = self.conv_block(22, 128, kernel_size=3, stride=2)\n",
        "        #self.conv3_s2 = self.conv_block(128, 64, kernel_size=3, stride=2)\n",
        "        #self.conv1_s1 = self.conv_block(64, 32, kernel_size=3, stride=1)\n",
        "        self.conv2_s1 = self.conv_block(64, 1, kernel_size=3, stride=1)\n",
        "\n",
        "        print(\"DISCRIMINATOR:\")\n",
        "        self.print_parameter_count(\"Conv1_s2\", self.conv1_s2)\n",
        "        #self.print_parameter_count(\"Conv2_s2\", self.conv2_s2)\n",
        "        #self.print_parameter_count(\"Conv3_s2\", self.conv3_s2)\n",
        "        #self.print_parameter_count(\"Conv1_s1\", self.conv1_s1)\n",
        "        self.print_parameter_count(\"Conv2_s1\", self.conv2_s1)\n",
        "\n",
        "    def forward(self, x):\n",
        "        x = self.conv1_s2(x)\n",
        "        #x = self.conv2_s2(x)\n",
        "        #x = self.conv1_s1(x)\n",
        "        x = self.conv2_s2(x)\n",
        "        x = x.view(x.size(0), -1)\n",
        "        x = self.fc(x)\n",
        "        return x\n",
        "\n",
        "    def conv_block(self, in_channels, out_channels, kernel_size, stride):\n",
        "        return nn.Sequential(\n",
        "            nn.Conv2d(in_channels, out_channels, kernel_size=kernel_size, stride=stride),\n",
        "            nn.ReLU(inplace=True),\n",
        "        )\n",
        "\n",
        "    def print_parameter_count(self, name, module):\n",
        "        num_params = sum(p.numel() for p in module.parameters())\n",
        "        formatted_params = self.format_parameter_count(num_params)\n",
        "        print(f\"{name} - Number of Parameters: {num_params}\")\n",
        "        #print(f\"{name} - Number of Parameters: {formatted_params}\")\n",
        "        \n",
        "    def format_parameter_count(self, num_params):\n",
        "        if num_params < 1e3:\n",
        "            return f\"{num_params:.2f}\"\n",
        "        elif num_params < 1e6:\n",
        "            return f\"{num_params / 1e3:.2f}K\"\n",
        "        elif num_params < 1e9:\n",
        "            return f\"{num_params / 1e6:.2f}M\"\n",
        "        else:\n",
        "            return f\"{num_params / 1e9:.2f}G\"\n",
        "\n",
        "\n",
        "# GAN Model\n",
        "class GAN(pl.LightningModule):\n",
        "    def __init__(self):\n",
        "        super(GAN, self).__init__()\n",
        "        self.generator = Generator(1, 1)\n",
        "        self.discriminator_normal = Discriminator()\n",
        "        self.discriminator_anomaly = Discriminator()\n",
        "\n",
        "        self.automatic_optimization = False\n",
        "\n",
        "    def forward(self, x):\n",
        "        return self.generator(x)\n",
        "\n",
        "\n",
        "    def training_step(self, batch, batch_idx):\n",
        "        real_images, _ = batch\n",
        "        valid = torch.ones(real_images.size(0), 1)\n",
        "        fake = torch.zeros(real_images.size(0), 1)\n",
        "\n",
        "        z = torch.randn(real_images.size(0), 1, 1, 1)\n",
        "        gen_images = self.generator(z)\n",
        "\n",
        "        # Manually access optimizers\n",
        "        opt_gen, opt_disc_normal, opt_disc_anomaly = self.optimizers()\n",
        "\n",
        "        # Train Generator\n",
        "        gen_loss = F.binary_cross_entropy(self.discriminator_normal(gen_images), valid)\n",
        "        self.log(\"gen_loss\", gen_loss, on_step=True, on_epoch=True)\n",
        "        opt_gen.zero_grad()\n",
        "        gen_loss.backward()\n",
        "        opt_gen.step()\n",
        "\n",
        "        # Train Discriminator (Normal)\n",
        "        real_loss = F.binary_cross_entropy(self.discriminator_normal(real_images), valid)\n",
        "        fake_loss = F.binary_cross_entropy(self.discriminator_normal(gen_images.detach()), fake)\n",
        "        \n",
        "        #LSGAN Discriminator Loss\n",
        "        disc_loss_normal = (real_loss + fake_loss) / 2\n",
        "        self.log(\"disc_loss_normal\", disc_loss_normal, on_step=True, on_epoch=True)\n",
        "        opt_disc_normal.zero_grad()\n",
        "        disc_loss_normal.backward()\n",
        "        opt_disc_normal.step()\n",
        "\n",
        "        # Train Discriminator (Anomaly)\n",
        "        real_loss = F.binary_cross_entropy(self.discriminator_anomaly(real_images), valid)\n",
        "        fake_loss = F.binary_cross_entropy(self.discriminator_anomaly(gen_images.detach()), fake)\n",
        "        disc_loss_anomaly = (real_loss + fake_loss) / 2\n",
        "        self.log(\"disc_loss_anomaly\", disc_loss_anomaly, on_step=True, on_epoch=True)\n",
        "        opt_disc_anomaly.zero_grad()\n",
        "        disc_loss_anomaly.backward()\n",
        "        opt_disc_anomaly.step()\n",
        "\n",
        "        return {\"gen_loss\": gen_loss, \"disc_loss_normal\": disc_loss_normal, \"disc_loss_anomaly\": disc_loss_anomaly}\n",
        "\n",
        "    def test_step(self, batch, batch_idx):\n",
        "        real_images, _ = batch\n",
        "        z = torch.randn(real_images.size(0), 1, 1, 1)\n",
        "        gen_images = self.generator(z)\n",
        "\n",
        "        # Calculate any metrics you need for testing\n",
        "        # For example, you can use FID or any other appropriate metrics\n",
        "\n",
        "        return {\"gen_images\": gen_images}\n",
        "\n",
        "    def test_epoch_end(self, outputs):\n",
        "        # Calculate aggregate metrics from test_step results\n",
        "        # For example, calculate the average FID over the test dataset\n",
        "\n",
        "        #avg_fid = calculate_average_fid(outputs)  # Replace with your actual metric calculation\n",
        "\n",
        "        #self.log(\"avg_fid\", avg_fid, on_epoch=True)\n",
        "        self.log(\"avg_fid\")\n",
        "\n",
        "    def configure_optimizers(self):\n",
        "        opt_gen = torch.optim.Adam(self.generator.parameters(), lr=0.0002, betas=(0.5, 0.999))\n",
        "        opt_disc_normal = torch.optim.Adam(self.discriminator_normal.parameters(), lr=0.0002, betas=(0.5, 0.999))\n",
        "        opt_disc_anomaly = torch.optim.Adam(self.discriminator_anomaly.parameters(), lr=0.0002, betas=(0.5, 0.999))\n",
        "        return [opt_gen, opt_disc_normal, opt_disc_anomaly]"
      ]
    },
    {
      "cell_type": "markdown",
      "metadata": {
        "id": "_mP1zaIFhhoS"
      },
      "source": [
        "### Train and Test SOTA"
      ]
    },
    {
      "cell_type": "code",
      "execution_count": 3,
      "metadata": {},
      "outputs": [
        {
          "name": "stderr",
          "output_type": "stream",
          "text": [
            "GPU available: True (cuda), used: True\n",
            "TPU available: False, using: 0 TPU cores\n",
            "IPU available: False, using: 0 IPUs\n",
            "HPU available: False, using: 0 HPUs\n"
          ]
        },
        {
          "name": "stdout",
          "output_type": "stream",
          "text": [
            "GENERATOR:\n",
            "Encoder Conv1 - Number of Parameters: 1.09K\n",
            "Final Conv - Number of Parameters: 1.02K\n",
            "DISCRIMINATOR:\n",
            "Conv1_s2 - Number of Parameters: 640\n",
            "Conv2_s1 - Number of Parameters: 577\n",
            "DISCRIMINATOR:\n",
            "Conv1_s2 - Number of Parameters: 640\n",
            "Conv2_s1 - Number of Parameters: 577\n",
            "GPU\n"
          ]
        },
        {
          "name": "stderr",
          "output_type": "stream",
          "text": [
            "You are using a CUDA device ('NVIDIA GeForce RTX 3060 Laptop GPU') that has Tensor Cores. To properly utilize them, you should set `torch.set_float32_matmul_precision('medium' | 'high')` which will trade-off precision for performance. For more details, read https://pytorch.org/docs/stable/generated/torch.set_float32_matmul_precision.html#torch.set_float32_matmul_precision\n",
            "LOCAL_RANK: 0 - CUDA_VISIBLE_DEVICES: [0]\n",
            "\n",
            "  | Name                  | Type          | Params\n",
            "--------------------------------------------------------\n",
            "0 | generator             | Generator     | 2.1 K \n",
            "1 | discriminator_normal  | Discriminator | 1.2 K \n",
            "2 | discriminator_anomaly | Discriminator | 1.2 K \n",
            "--------------------------------------------------------\n",
            "4.5 K     Trainable params\n",
            "0         Non-trainable params\n",
            "4.5 K     Total params\n",
            "0.018     Total estimated model params size (MB)\n",
            "c:\\Users\\espda\\AppData\\Local\\Programs\\Python\\Python310\\lib\\site-packages\\pytorch_lightning\\trainer\\connectors\\data_connector.py:438: PossibleUserWarning: The dataloader, train_dataloader, does not have many workers which may be a bottleneck. Consider increasing the value of the `num_workers` argument` (try 20 which is the number of cpus on this machine) in the `DataLoader` init to improve performance.\n",
            "  rank_zero_warn(\n"
          ]
        },
        {
          "name": "stdout",
          "output_type": "stream",
          "text": [
            "Epoch 0:   0%|          | 0/100 [00:00<?, ?it/s] "
          ]
        },
        {
          "ename": "RuntimeError",
          "evalue": "Calculated padded input size per channel: (3 x 3). Kernel size: (4 x 4). Kernel size can't be greater than actual input size",
          "output_type": "error",
          "traceback": [
            "\u001b[1;31m---------------------------------------------------------------------------\u001b[0m",
            "\u001b[1;31mRuntimeError\u001b[0m                              Traceback (most recent call last)",
            "\u001b[1;32mc:\\Users\\espda\\OneDrive\\Desktop\\Università\\Magistrale - Artificial Intelligence & Robotics (2022-2023)\\Deep Learning\\Progetto\\main_(5).ipynb Cell 34\u001b[0m in \u001b[0;36m2\n\u001b[0;32m     <a href='vscode-notebook-cell:/c%3A/Users/espda/OneDrive/Desktop/Universit%C3%A0/Magistrale%20-%20Artificial%20Intelligence%20%26%20Robotics%20%282022-2023%29/Deep%20Learning/Progetto/main_%285%29.ipynb#X45sZmlsZQ%3D%3D?line=21'>22</a>\u001b[0m   \u001b[39mprint\u001b[39m(\u001b[39m\"\u001b[39m\u001b[39mCPU\u001b[39m\u001b[39m\"\u001b[39m)\n\u001b[0;32m     <a href='vscode-notebook-cell:/c%3A/Users/espda/OneDrive/Desktop/Universit%C3%A0/Magistrale%20-%20Artificial%20Intelligence%20%26%20Robotics%20%282022-2023%29/Deep%20Learning/Progetto/main_%285%29.ipynb#X45sZmlsZQ%3D%3D?line=22'>23</a>\u001b[0m   trainer \u001b[39m=\u001b[39m pl\u001b[39m.\u001b[39mTrainer(accelerator\u001b[39m=\u001b[39m\u001b[39m\"\u001b[39m\u001b[39mcpu\u001b[39m\u001b[39m\"\u001b[39m,\n\u001b[0;32m     <a href='vscode-notebook-cell:/c%3A/Users/espda/OneDrive/Desktop/Universit%C3%A0/Magistrale%20-%20Artificial%20Intelligence%20%26%20Robotics%20%282022-2023%29/Deep%20Learning/Progetto/main_%285%29.ipynb#X45sZmlsZQ%3D%3D?line=23'>24</a>\u001b[0m                        max_epochs\u001b[39m=\u001b[39mepochs, \n\u001b[0;32m     <a href='vscode-notebook-cell:/c%3A/Users/espda/OneDrive/Desktop/Universit%C3%A0/Magistrale%20-%20Artificial%20Intelligence%20%26%20Robotics%20%282022-2023%29/Deep%20Learning/Progetto/main_%285%29.ipynb#X45sZmlsZQ%3D%3D?line=24'>25</a>\u001b[0m                        callbacks\u001b[39m=\u001b[39m[TQDMProgressBar(), EarlyStopping(monitor\u001b[39m=\u001b[39m\u001b[39m\"\u001b[39m\u001b[39mtrain_loss\u001b[39m\u001b[39m\"\u001b[39m, patience\u001b[39m=\u001b[39m\u001b[39m3\u001b[39m)]\n\u001b[0;32m     <a href='vscode-notebook-cell:/c%3A/Users/espda/OneDrive/Desktop/Universit%C3%A0/Magistrale%20-%20Artificial%20Intelligence%20%26%20Robotics%20%282022-2023%29/Deep%20Learning/Progetto/main_%285%29.ipynb#X45sZmlsZQ%3D%3D?line=25'>26</a>\u001b[0m                        )\n\u001b[1;32m---> <a href='vscode-notebook-cell:/c%3A/Users/espda/OneDrive/Desktop/Universit%C3%A0/Magistrale%20-%20Artificial%20Intelligence%20%26%20Robotics%20%282022-2023%29/Deep%20Learning/Progetto/main_%285%29.ipynb#X45sZmlsZQ%3D%3D?line=28'>29</a>\u001b[0m trainer\u001b[39m.\u001b[39;49mfit(model, data_module)\n\u001b[0;32m     <a href='vscode-notebook-cell:/c%3A/Users/espda/OneDrive/Desktop/Universit%C3%A0/Magistrale%20-%20Artificial%20Intelligence%20%26%20Robotics%20%282022-2023%29/Deep%20Learning/Progetto/main_%285%29.ipynb#X45sZmlsZQ%3D%3D?line=30'>31</a>\u001b[0m \u001b[39m# Testing\u001b[39;00m\n\u001b[0;32m     <a href='vscode-notebook-cell:/c%3A/Users/espda/OneDrive/Desktop/Universit%C3%A0/Magistrale%20-%20Artificial%20Intelligence%20%26%20Robotics%20%282022-2023%29/Deep%20Learning/Progetto/main_%285%29.ipynb#X45sZmlsZQ%3D%3D?line=31'>32</a>\u001b[0m test_results \u001b[39m=\u001b[39m trainer\u001b[39m.\u001b[39mtest(model, data_module)\n",
            "File \u001b[1;32mc:\\Users\\espda\\AppData\\Local\\Programs\\Python\\Python310\\lib\\site-packages\\pytorch_lightning\\trainer\\trainer.py:532\u001b[0m, in \u001b[0;36mTrainer.fit\u001b[1;34m(self, model, train_dataloaders, val_dataloaders, datamodule, ckpt_path)\u001b[0m\n\u001b[0;32m    530\u001b[0m \u001b[39mself\u001b[39m\u001b[39m.\u001b[39mstrategy\u001b[39m.\u001b[39m_lightning_module \u001b[39m=\u001b[39m model\n\u001b[0;32m    531\u001b[0m _verify_strategy_supports_compile(model, \u001b[39mself\u001b[39m\u001b[39m.\u001b[39mstrategy)\n\u001b[1;32m--> 532\u001b[0m call\u001b[39m.\u001b[39;49m_call_and_handle_interrupt(\n\u001b[0;32m    533\u001b[0m     \u001b[39mself\u001b[39;49m, \u001b[39mself\u001b[39;49m\u001b[39m.\u001b[39;49m_fit_impl, model, train_dataloaders, val_dataloaders, datamodule, ckpt_path\n\u001b[0;32m    534\u001b[0m )\n",
            "File \u001b[1;32mc:\\Users\\espda\\AppData\\Local\\Programs\\Python\\Python310\\lib\\site-packages\\pytorch_lightning\\trainer\\call.py:43\u001b[0m, in \u001b[0;36m_call_and_handle_interrupt\u001b[1;34m(trainer, trainer_fn, *args, **kwargs)\u001b[0m\n\u001b[0;32m     41\u001b[0m     \u001b[39mif\u001b[39;00m trainer\u001b[39m.\u001b[39mstrategy\u001b[39m.\u001b[39mlauncher \u001b[39mis\u001b[39;00m \u001b[39mnot\u001b[39;00m \u001b[39mNone\u001b[39;00m:\n\u001b[0;32m     42\u001b[0m         \u001b[39mreturn\u001b[39;00m trainer\u001b[39m.\u001b[39mstrategy\u001b[39m.\u001b[39mlauncher\u001b[39m.\u001b[39mlaunch(trainer_fn, \u001b[39m*\u001b[39margs, trainer\u001b[39m=\u001b[39mtrainer, \u001b[39m*\u001b[39m\u001b[39m*\u001b[39mkwargs)\n\u001b[1;32m---> 43\u001b[0m     \u001b[39mreturn\u001b[39;00m trainer_fn(\u001b[39m*\u001b[39margs, \u001b[39m*\u001b[39m\u001b[39m*\u001b[39mkwargs)\n\u001b[0;32m     45\u001b[0m \u001b[39mexcept\u001b[39;00m _TunerExitException:\n\u001b[0;32m     46\u001b[0m     _call_teardown_hook(trainer)\n",
            "File \u001b[1;32mc:\\Users\\espda\\AppData\\Local\\Programs\\Python\\Python310\\lib\\site-packages\\pytorch_lightning\\trainer\\trainer.py:571\u001b[0m, in \u001b[0;36mTrainer._fit_impl\u001b[1;34m(self, model, train_dataloaders, val_dataloaders, datamodule, ckpt_path)\u001b[0m\n\u001b[0;32m    561\u001b[0m \u001b[39mself\u001b[39m\u001b[39m.\u001b[39m_data_connector\u001b[39m.\u001b[39mattach_data(\n\u001b[0;32m    562\u001b[0m     model, train_dataloaders\u001b[39m=\u001b[39mtrain_dataloaders, val_dataloaders\u001b[39m=\u001b[39mval_dataloaders, datamodule\u001b[39m=\u001b[39mdatamodule\n\u001b[0;32m    563\u001b[0m )\n\u001b[0;32m    565\u001b[0m ckpt_path \u001b[39m=\u001b[39m \u001b[39mself\u001b[39m\u001b[39m.\u001b[39m_checkpoint_connector\u001b[39m.\u001b[39m_select_ckpt_path(\n\u001b[0;32m    566\u001b[0m     \u001b[39mself\u001b[39m\u001b[39m.\u001b[39mstate\u001b[39m.\u001b[39mfn,\n\u001b[0;32m    567\u001b[0m     ckpt_path,\n\u001b[0;32m    568\u001b[0m     model_provided\u001b[39m=\u001b[39m\u001b[39mTrue\u001b[39;00m,\n\u001b[0;32m    569\u001b[0m     model_connected\u001b[39m=\u001b[39m\u001b[39mself\u001b[39m\u001b[39m.\u001b[39mlightning_module \u001b[39mis\u001b[39;00m \u001b[39mnot\u001b[39;00m \u001b[39mNone\u001b[39;00m,\n\u001b[0;32m    570\u001b[0m )\n\u001b[1;32m--> 571\u001b[0m \u001b[39mself\u001b[39;49m\u001b[39m.\u001b[39;49m_run(model, ckpt_path\u001b[39m=\u001b[39;49mckpt_path)\n\u001b[0;32m    573\u001b[0m \u001b[39massert\u001b[39;00m \u001b[39mself\u001b[39m\u001b[39m.\u001b[39mstate\u001b[39m.\u001b[39mstopped\n\u001b[0;32m    574\u001b[0m \u001b[39mself\u001b[39m\u001b[39m.\u001b[39mtraining \u001b[39m=\u001b[39m \u001b[39mFalse\u001b[39;00m\n",
            "File \u001b[1;32mc:\\Users\\espda\\AppData\\Local\\Programs\\Python\\Python310\\lib\\site-packages\\pytorch_lightning\\trainer\\trainer.py:980\u001b[0m, in \u001b[0;36mTrainer._run\u001b[1;34m(self, model, ckpt_path)\u001b[0m\n\u001b[0;32m    975\u001b[0m \u001b[39mself\u001b[39m\u001b[39m.\u001b[39m_signal_connector\u001b[39m.\u001b[39mregister_signal_handlers()\n\u001b[0;32m    977\u001b[0m \u001b[39m# ----------------------------\u001b[39;00m\n\u001b[0;32m    978\u001b[0m \u001b[39m# RUN THE TRAINER\u001b[39;00m\n\u001b[0;32m    979\u001b[0m \u001b[39m# ----------------------------\u001b[39;00m\n\u001b[1;32m--> 980\u001b[0m results \u001b[39m=\u001b[39m \u001b[39mself\u001b[39;49m\u001b[39m.\u001b[39;49m_run_stage()\n\u001b[0;32m    982\u001b[0m \u001b[39m# ----------------------------\u001b[39;00m\n\u001b[0;32m    983\u001b[0m \u001b[39m# POST-Training CLEAN UP\u001b[39;00m\n\u001b[0;32m    984\u001b[0m \u001b[39m# ----------------------------\u001b[39;00m\n\u001b[0;32m    985\u001b[0m log\u001b[39m.\u001b[39mdebug(\u001b[39mf\u001b[39m\u001b[39m\"\u001b[39m\u001b[39m{\u001b[39;00m\u001b[39mself\u001b[39m\u001b[39m.\u001b[39m\u001b[39m__class__\u001b[39m\u001b[39m.\u001b[39m\u001b[39m__name__\u001b[39m\u001b[39m}\u001b[39;00m\u001b[39m: trainer tearing down\u001b[39m\u001b[39m\"\u001b[39m)\n",
            "File \u001b[1;32mc:\\Users\\espda\\AppData\\Local\\Programs\\Python\\Python310\\lib\\site-packages\\pytorch_lightning\\trainer\\trainer.py:1023\u001b[0m, in \u001b[0;36mTrainer._run_stage\u001b[1;34m(self)\u001b[0m\n\u001b[0;32m   1021\u001b[0m         \u001b[39mself\u001b[39m\u001b[39m.\u001b[39m_run_sanity_check()\n\u001b[0;32m   1022\u001b[0m     \u001b[39mwith\u001b[39;00m torch\u001b[39m.\u001b[39mautograd\u001b[39m.\u001b[39mset_detect_anomaly(\u001b[39mself\u001b[39m\u001b[39m.\u001b[39m_detect_anomaly):\n\u001b[1;32m-> 1023\u001b[0m         \u001b[39mself\u001b[39;49m\u001b[39m.\u001b[39;49mfit_loop\u001b[39m.\u001b[39;49mrun()\n\u001b[0;32m   1024\u001b[0m     \u001b[39mreturn\u001b[39;00m \u001b[39mNone\u001b[39;00m\n\u001b[0;32m   1025\u001b[0m \u001b[39mraise\u001b[39;00m \u001b[39mRuntimeError\u001b[39;00m(\u001b[39mf\u001b[39m\u001b[39m\"\u001b[39m\u001b[39mUnexpected state \u001b[39m\u001b[39m{\u001b[39;00m\u001b[39mself\u001b[39m\u001b[39m.\u001b[39mstate\u001b[39m}\u001b[39;00m\u001b[39m\"\u001b[39m)\n",
            "File \u001b[1;32mc:\\Users\\espda\\AppData\\Local\\Programs\\Python\\Python310\\lib\\site-packages\\pytorch_lightning\\loops\\fit_loop.py:202\u001b[0m, in \u001b[0;36m_FitLoop.run\u001b[1;34m(self)\u001b[0m\n\u001b[0;32m    200\u001b[0m \u001b[39mtry\u001b[39;00m:\n\u001b[0;32m    201\u001b[0m     \u001b[39mself\u001b[39m\u001b[39m.\u001b[39mon_advance_start()\n\u001b[1;32m--> 202\u001b[0m     \u001b[39mself\u001b[39;49m\u001b[39m.\u001b[39;49madvance()\n\u001b[0;32m    203\u001b[0m     \u001b[39mself\u001b[39m\u001b[39m.\u001b[39mon_advance_end()\n\u001b[0;32m    204\u001b[0m     \u001b[39mself\u001b[39m\u001b[39m.\u001b[39m_restarting \u001b[39m=\u001b[39m \u001b[39mFalse\u001b[39;00m\n",
            "File \u001b[1;32mc:\\Users\\espda\\AppData\\Local\\Programs\\Python\\Python310\\lib\\site-packages\\pytorch_lightning\\loops\\fit_loop.py:355\u001b[0m, in \u001b[0;36m_FitLoop.advance\u001b[1;34m(self)\u001b[0m\n\u001b[0;32m    353\u001b[0m \u001b[39mself\u001b[39m\u001b[39m.\u001b[39m_data_fetcher\u001b[39m.\u001b[39msetup(combined_loader)\n\u001b[0;32m    354\u001b[0m \u001b[39mwith\u001b[39;00m \u001b[39mself\u001b[39m\u001b[39m.\u001b[39mtrainer\u001b[39m.\u001b[39mprofiler\u001b[39m.\u001b[39mprofile(\u001b[39m\"\u001b[39m\u001b[39mrun_training_epoch\u001b[39m\u001b[39m\"\u001b[39m):\n\u001b[1;32m--> 355\u001b[0m     \u001b[39mself\u001b[39;49m\u001b[39m.\u001b[39;49mepoch_loop\u001b[39m.\u001b[39;49mrun(\u001b[39mself\u001b[39;49m\u001b[39m.\u001b[39;49m_data_fetcher)\n",
            "File \u001b[1;32mc:\\Users\\espda\\AppData\\Local\\Programs\\Python\\Python310\\lib\\site-packages\\pytorch_lightning\\loops\\training_epoch_loop.py:133\u001b[0m, in \u001b[0;36m_TrainingEpochLoop.run\u001b[1;34m(self, data_fetcher)\u001b[0m\n\u001b[0;32m    131\u001b[0m \u001b[39mwhile\u001b[39;00m \u001b[39mnot\u001b[39;00m \u001b[39mself\u001b[39m\u001b[39m.\u001b[39mdone:\n\u001b[0;32m    132\u001b[0m     \u001b[39mtry\u001b[39;00m:\n\u001b[1;32m--> 133\u001b[0m         \u001b[39mself\u001b[39;49m\u001b[39m.\u001b[39;49madvance(data_fetcher)\n\u001b[0;32m    134\u001b[0m         \u001b[39mself\u001b[39m\u001b[39m.\u001b[39mon_advance_end()\n\u001b[0;32m    135\u001b[0m         \u001b[39mself\u001b[39m\u001b[39m.\u001b[39m_restarting \u001b[39m=\u001b[39m \u001b[39mFalse\u001b[39;00m\n",
            "File \u001b[1;32mc:\\Users\\espda\\AppData\\Local\\Programs\\Python\\Python310\\lib\\site-packages\\pytorch_lightning\\loops\\training_epoch_loop.py:221\u001b[0m, in \u001b[0;36m_TrainingEpochLoop.advance\u001b[1;34m(self, data_fetcher)\u001b[0m\n\u001b[0;32m    219\u001b[0m             batch_output \u001b[39m=\u001b[39m \u001b[39mself\u001b[39m\u001b[39m.\u001b[39mautomatic_optimization\u001b[39m.\u001b[39mrun(trainer\u001b[39m.\u001b[39moptimizers[\u001b[39m0\u001b[39m], kwargs)\n\u001b[0;32m    220\u001b[0m         \u001b[39melse\u001b[39;00m:\n\u001b[1;32m--> 221\u001b[0m             batch_output \u001b[39m=\u001b[39m \u001b[39mself\u001b[39;49m\u001b[39m.\u001b[39;49mmanual_optimization\u001b[39m.\u001b[39;49mrun(kwargs)\n\u001b[0;32m    223\u001b[0m \u001b[39mself\u001b[39m\u001b[39m.\u001b[39mbatch_progress\u001b[39m.\u001b[39mincrement_processed()\n\u001b[0;32m    225\u001b[0m \u001b[39m# update non-plateau LR schedulers\u001b[39;00m\n\u001b[0;32m    226\u001b[0m \u001b[39m# update epoch-interval ones only when we are at the end of training epoch\u001b[39;00m\n",
            "File \u001b[1;32mc:\\Users\\espda\\AppData\\Local\\Programs\\Python\\Python310\\lib\\site-packages\\pytorch_lightning\\loops\\optimization\\manual.py:91\u001b[0m, in \u001b[0;36m_ManualOptimization.run\u001b[1;34m(self, kwargs)\u001b[0m\n\u001b[0;32m     89\u001b[0m \u001b[39mself\u001b[39m\u001b[39m.\u001b[39mon_run_start()\n\u001b[0;32m     90\u001b[0m \u001b[39mwith\u001b[39;00m suppress(\u001b[39mStopIteration\u001b[39;00m):  \u001b[39m# no loop to break at this level\u001b[39;00m\n\u001b[1;32m---> 91\u001b[0m     \u001b[39mself\u001b[39;49m\u001b[39m.\u001b[39;49madvance(kwargs)\n\u001b[0;32m     92\u001b[0m \u001b[39mself\u001b[39m\u001b[39m.\u001b[39m_restarting \u001b[39m=\u001b[39m \u001b[39mFalse\u001b[39;00m\n\u001b[0;32m     93\u001b[0m \u001b[39mreturn\u001b[39;00m \u001b[39mself\u001b[39m\u001b[39m.\u001b[39mon_run_end()\n",
            "File \u001b[1;32mc:\\Users\\espda\\AppData\\Local\\Programs\\Python\\Python310\\lib\\site-packages\\pytorch_lightning\\loops\\optimization\\manual.py:111\u001b[0m, in \u001b[0;36m_ManualOptimization.advance\u001b[1;34m(self, kwargs)\u001b[0m\n\u001b[0;32m    108\u001b[0m trainer \u001b[39m=\u001b[39m \u001b[39mself\u001b[39m\u001b[39m.\u001b[39mtrainer\n\u001b[0;32m    110\u001b[0m \u001b[39m# manually capture logged metrics\u001b[39;00m\n\u001b[1;32m--> 111\u001b[0m training_step_output \u001b[39m=\u001b[39m call\u001b[39m.\u001b[39;49m_call_strategy_hook(trainer, \u001b[39m\"\u001b[39;49m\u001b[39mtraining_step\u001b[39;49m\u001b[39m\"\u001b[39;49m, \u001b[39m*\u001b[39;49mkwargs\u001b[39m.\u001b[39;49mvalues())\n\u001b[0;32m    112\u001b[0m \u001b[39mdel\u001b[39;00m kwargs  \u001b[39m# release the batch from memory\u001b[39;00m\n\u001b[0;32m    113\u001b[0m \u001b[39mself\u001b[39m\u001b[39m.\u001b[39mtrainer\u001b[39m.\u001b[39mstrategy\u001b[39m.\u001b[39mpost_training_step()\n",
            "File \u001b[1;32mc:\\Users\\espda\\AppData\\Local\\Programs\\Python\\Python310\\lib\\site-packages\\pytorch_lightning\\trainer\\call.py:293\u001b[0m, in \u001b[0;36m_call_strategy_hook\u001b[1;34m(trainer, hook_name, *args, **kwargs)\u001b[0m\n\u001b[0;32m    290\u001b[0m     \u001b[39mreturn\u001b[39;00m \u001b[39mNone\u001b[39;00m\n\u001b[0;32m    292\u001b[0m \u001b[39mwith\u001b[39;00m trainer\u001b[39m.\u001b[39mprofiler\u001b[39m.\u001b[39mprofile(\u001b[39mf\u001b[39m\u001b[39m\"\u001b[39m\u001b[39m[Strategy]\u001b[39m\u001b[39m{\u001b[39;00mtrainer\u001b[39m.\u001b[39mstrategy\u001b[39m.\u001b[39m\u001b[39m__class__\u001b[39m\u001b[39m.\u001b[39m\u001b[39m__name__\u001b[39m\u001b[39m}\u001b[39;00m\u001b[39m.\u001b[39m\u001b[39m{\u001b[39;00mhook_name\u001b[39m}\u001b[39;00m\u001b[39m\"\u001b[39m):\n\u001b[1;32m--> 293\u001b[0m     output \u001b[39m=\u001b[39m fn(\u001b[39m*\u001b[39margs, \u001b[39m*\u001b[39m\u001b[39m*\u001b[39mkwargs)\n\u001b[0;32m    295\u001b[0m \u001b[39m# restore current_fx when nested context\u001b[39;00m\n\u001b[0;32m    296\u001b[0m pl_module\u001b[39m.\u001b[39m_current_fx_name \u001b[39m=\u001b[39m prev_fx_name\n",
            "File \u001b[1;32mc:\\Users\\espda\\AppData\\Local\\Programs\\Python\\Python310\\lib\\site-packages\\pytorch_lightning\\strategies\\strategy.py:380\u001b[0m, in \u001b[0;36mStrategy.training_step\u001b[1;34m(self, *args, **kwargs)\u001b[0m\n\u001b[0;32m    378\u001b[0m \u001b[39mwith\u001b[39;00m \u001b[39mself\u001b[39m\u001b[39m.\u001b[39mprecision_plugin\u001b[39m.\u001b[39mtrain_step_context():\n\u001b[0;32m    379\u001b[0m     \u001b[39massert\u001b[39;00m \u001b[39misinstance\u001b[39m(\u001b[39mself\u001b[39m\u001b[39m.\u001b[39mmodel, TrainingStep)\n\u001b[1;32m--> 380\u001b[0m     \u001b[39mreturn\u001b[39;00m \u001b[39mself\u001b[39m\u001b[39m.\u001b[39mmodel\u001b[39m.\u001b[39mtraining_step(\u001b[39m*\u001b[39margs, \u001b[39m*\u001b[39m\u001b[39m*\u001b[39mkwargs)\n",
            "\u001b[1;32mc:\\Users\\espda\\OneDrive\\Desktop\\Università\\Magistrale - Artificial Intelligence & Robotics (2022-2023)\\Deep Learning\\Progetto\\main_(5).ipynb Cell 34\u001b[0m in \u001b[0;36m1\n\u001b[0;32m    <a href='vscode-notebook-cell:/c%3A/Users/espda/OneDrive/Desktop/Universit%C3%A0/Magistrale%20-%20Artificial%20Intelligence%20%26%20Robotics%20%282022-2023%29/Deep%20Learning/Progetto/main_%285%29.ipynb#X45sZmlsZQ%3D%3D?line=164'>165</a>\u001b[0m fake \u001b[39m=\u001b[39m torch\u001b[39m.\u001b[39mzeros(real_images\u001b[39m.\u001b[39msize(\u001b[39m0\u001b[39m), \u001b[39m1\u001b[39m)\n\u001b[0;32m    <a href='vscode-notebook-cell:/c%3A/Users/espda/OneDrive/Desktop/Universit%C3%A0/Magistrale%20-%20Artificial%20Intelligence%20%26%20Robotics%20%282022-2023%29/Deep%20Learning/Progetto/main_%285%29.ipynb#X45sZmlsZQ%3D%3D?line=166'>167</a>\u001b[0m z \u001b[39m=\u001b[39m torch\u001b[39m.\u001b[39mrandn(real_images\u001b[39m.\u001b[39msize(\u001b[39m0\u001b[39m), \u001b[39m1\u001b[39m, \u001b[39m1\u001b[39m, \u001b[39m1\u001b[39m)\n\u001b[1;32m--> <a href='vscode-notebook-cell:/c%3A/Users/espda/OneDrive/Desktop/Universit%C3%A0/Magistrale%20-%20Artificial%20Intelligence%20%26%20Robotics%20%282022-2023%29/Deep%20Learning/Progetto/main_%285%29.ipynb#X45sZmlsZQ%3D%3D?line=167'>168</a>\u001b[0m gen_images \u001b[39m=\u001b[39m \u001b[39mself\u001b[39;49m\u001b[39m.\u001b[39;49mgenerator(z)\n\u001b[0;32m    <a href='vscode-notebook-cell:/c%3A/Users/espda/OneDrive/Desktop/Universit%C3%A0/Magistrale%20-%20Artificial%20Intelligence%20%26%20Robotics%20%282022-2023%29/Deep%20Learning/Progetto/main_%285%29.ipynb#X45sZmlsZQ%3D%3D?line=169'>170</a>\u001b[0m \u001b[39m# Manually access optimizers\u001b[39;00m\n\u001b[0;32m    <a href='vscode-notebook-cell:/c%3A/Users/espda/OneDrive/Desktop/Universit%C3%A0/Magistrale%20-%20Artificial%20Intelligence%20%26%20Robotics%20%282022-2023%29/Deep%20Learning/Progetto/main_%285%29.ipynb#X45sZmlsZQ%3D%3D?line=170'>171</a>\u001b[0m opt_gen, opt_disc_normal, opt_disc_anomaly \u001b[39m=\u001b[39m \u001b[39mself\u001b[39m\u001b[39m.\u001b[39moptimizers()\n",
            "File \u001b[1;32mc:\\Users\\espda\\AppData\\Local\\Programs\\Python\\Python310\\lib\\site-packages\\torch\\nn\\modules\\module.py:1501\u001b[0m, in \u001b[0;36mModule._call_impl\u001b[1;34m(self, *args, **kwargs)\u001b[0m\n\u001b[0;32m   1496\u001b[0m \u001b[39m# If we don't have any hooks, we want to skip the rest of the logic in\u001b[39;00m\n\u001b[0;32m   1497\u001b[0m \u001b[39m# this function, and just call forward.\u001b[39;00m\n\u001b[0;32m   1498\u001b[0m \u001b[39mif\u001b[39;00m \u001b[39mnot\u001b[39;00m (\u001b[39mself\u001b[39m\u001b[39m.\u001b[39m_backward_hooks \u001b[39mor\u001b[39;00m \u001b[39mself\u001b[39m\u001b[39m.\u001b[39m_backward_pre_hooks \u001b[39mor\u001b[39;00m \u001b[39mself\u001b[39m\u001b[39m.\u001b[39m_forward_hooks \u001b[39mor\u001b[39;00m \u001b[39mself\u001b[39m\u001b[39m.\u001b[39m_forward_pre_hooks\n\u001b[0;32m   1499\u001b[0m         \u001b[39mor\u001b[39;00m _global_backward_pre_hooks \u001b[39mor\u001b[39;00m _global_backward_hooks\n\u001b[0;32m   1500\u001b[0m         \u001b[39mor\u001b[39;00m _global_forward_hooks \u001b[39mor\u001b[39;00m _global_forward_pre_hooks):\n\u001b[1;32m-> 1501\u001b[0m     \u001b[39mreturn\u001b[39;00m forward_call(\u001b[39m*\u001b[39margs, \u001b[39m*\u001b[39m\u001b[39m*\u001b[39mkwargs)\n\u001b[0;32m   1502\u001b[0m \u001b[39m# Do not call functions when jit is used\u001b[39;00m\n\u001b[0;32m   1503\u001b[0m full_backward_hooks, non_full_backward_hooks \u001b[39m=\u001b[39m [], []\n",
            "\u001b[1;32mc:\\Users\\espda\\OneDrive\\Desktop\\Università\\Magistrale - Artificial Intelligence & Robotics (2022-2023)\\Deep Learning\\Progetto\\main_(5).ipynb Cell 34\u001b[0m in \u001b[0;36m6\n\u001b[0;32m     <a href='vscode-notebook-cell:/c%3A/Users/espda/OneDrive/Desktop/Universit%C3%A0/Magistrale%20-%20Artificial%20Intelligence%20%26%20Robotics%20%282022-2023%29/Deep%20Learning/Progetto/main_%285%29.ipynb#X45sZmlsZQ%3D%3D?line=62'>63</a>\u001b[0m \u001b[39mdef\u001b[39;00m \u001b[39mforward\u001b[39m(\u001b[39mself\u001b[39m, x):\n\u001b[0;32m     <a href='vscode-notebook-cell:/c%3A/Users/espda/OneDrive/Desktop/Universit%C3%A0/Magistrale%20-%20Artificial%20Intelligence%20%26%20Robotics%20%282022-2023%29/Deep%20Learning/Progetto/main_%285%29.ipynb#X45sZmlsZQ%3D%3D?line=63'>64</a>\u001b[0m     \u001b[39m# Encoder\u001b[39;00m\n\u001b[1;32m---> <a href='vscode-notebook-cell:/c%3A/Users/espda/OneDrive/Desktop/Universit%C3%A0/Magistrale%20-%20Artificial%20Intelligence%20%26%20Robotics%20%282022-2023%29/Deep%20Learning/Progetto/main_%285%29.ipynb#X45sZmlsZQ%3D%3D?line=64'>65</a>\u001b[0m     enc1 \u001b[39m=\u001b[39m \u001b[39mself\u001b[39;49m\u001b[39m.\u001b[39;49menc_conv1(x)\n\u001b[0;32m     <a href='vscode-notebook-cell:/c%3A/Users/espda/OneDrive/Desktop/Universit%C3%A0/Magistrale%20-%20Artificial%20Intelligence%20%26%20Robotics%20%282022-2023%29/Deep%20Learning/Progetto/main_%285%29.ipynb#X45sZmlsZQ%3D%3D?line=65'>66</a>\u001b[0m     \u001b[39m#enc2 = self.enc_conv2(F.max_pool2d(enc1, kernel_size=2, stride=2))\u001b[39;00m\n\u001b[0;32m     <a href='vscode-notebook-cell:/c%3A/Users/espda/OneDrive/Desktop/Universit%C3%A0/Magistrale%20-%20Artificial%20Intelligence%20%26%20Robotics%20%282022-2023%29/Deep%20Learning/Progetto/main_%285%29.ipynb#X45sZmlsZQ%3D%3D?line=66'>67</a>\u001b[0m     \u001b[39m#enc3 = self.enc_conv3(F.max_pool2d(enc2, kernel_size=2, stride=2))\u001b[39;00m\n\u001b[0;32m     <a href='vscode-notebook-cell:/c%3A/Users/espda/OneDrive/Desktop/Universit%C3%A0/Magistrale%20-%20Artificial%20Intelligence%20%26%20Robotics%20%282022-2023%29/Deep%20Learning/Progetto/main_%285%29.ipynb#X45sZmlsZQ%3D%3D?line=67'>68</a>\u001b[0m     \n\u001b[1;32m   (...)\u001b[0m\n\u001b[0;32m     <a href='vscode-notebook-cell:/c%3A/Users/espda/OneDrive/Desktop/Universit%C3%A0/Magistrale%20-%20Artificial%20Intelligence%20%26%20Robotics%20%282022-2023%29/Deep%20Learning/Progetto/main_%285%29.ipynb#X45sZmlsZQ%3D%3D?line=74'>75</a>\u001b[0m     \n\u001b[0;32m     <a href='vscode-notebook-cell:/c%3A/Users/espda/OneDrive/Desktop/Universit%C3%A0/Magistrale%20-%20Artificial%20Intelligence%20%26%20Robotics%20%282022-2023%29/Deep%20Learning/Progetto/main_%285%29.ipynb#X45sZmlsZQ%3D%3D?line=75'>76</a>\u001b[0m     \u001b[39m#output = self.final_conv(dec2)\u001b[39;00m\n\u001b[0;32m     <a href='vscode-notebook-cell:/c%3A/Users/espda/OneDrive/Desktop/Universit%C3%A0/Magistrale%20-%20Artificial%20Intelligence%20%26%20Robotics%20%282022-2023%29/Deep%20Learning/Progetto/main_%285%29.ipynb#X45sZmlsZQ%3D%3D?line=76'>77</a>\u001b[0m     output \u001b[39m=\u001b[39m \u001b[39mself\u001b[39m\u001b[39m.\u001b[39mfinal_conv(enc1)\n",
            "File \u001b[1;32mc:\\Users\\espda\\AppData\\Local\\Programs\\Python\\Python310\\lib\\site-packages\\torch\\nn\\modules\\module.py:1501\u001b[0m, in \u001b[0;36mModule._call_impl\u001b[1;34m(self, *args, **kwargs)\u001b[0m\n\u001b[0;32m   1496\u001b[0m \u001b[39m# If we don't have any hooks, we want to skip the rest of the logic in\u001b[39;00m\n\u001b[0;32m   1497\u001b[0m \u001b[39m# this function, and just call forward.\u001b[39;00m\n\u001b[0;32m   1498\u001b[0m \u001b[39mif\u001b[39;00m \u001b[39mnot\u001b[39;00m (\u001b[39mself\u001b[39m\u001b[39m.\u001b[39m_backward_hooks \u001b[39mor\u001b[39;00m \u001b[39mself\u001b[39m\u001b[39m.\u001b[39m_backward_pre_hooks \u001b[39mor\u001b[39;00m \u001b[39mself\u001b[39m\u001b[39m.\u001b[39m_forward_hooks \u001b[39mor\u001b[39;00m \u001b[39mself\u001b[39m\u001b[39m.\u001b[39m_forward_pre_hooks\n\u001b[0;32m   1499\u001b[0m         \u001b[39mor\u001b[39;00m _global_backward_pre_hooks \u001b[39mor\u001b[39;00m _global_backward_hooks\n\u001b[0;32m   1500\u001b[0m         \u001b[39mor\u001b[39;00m _global_forward_hooks \u001b[39mor\u001b[39;00m _global_forward_pre_hooks):\n\u001b[1;32m-> 1501\u001b[0m     \u001b[39mreturn\u001b[39;00m forward_call(\u001b[39m*\u001b[39margs, \u001b[39m*\u001b[39m\u001b[39m*\u001b[39mkwargs)\n\u001b[0;32m   1502\u001b[0m \u001b[39m# Do not call functions when jit is used\u001b[39;00m\n\u001b[0;32m   1503\u001b[0m full_backward_hooks, non_full_backward_hooks \u001b[39m=\u001b[39m [], []\n",
            "File \u001b[1;32mc:\\Users\\espda\\AppData\\Local\\Programs\\Python\\Python310\\lib\\site-packages\\torch\\nn\\modules\\container.py:217\u001b[0m, in \u001b[0;36mSequential.forward\u001b[1;34m(self, input)\u001b[0m\n\u001b[0;32m    215\u001b[0m \u001b[39mdef\u001b[39;00m \u001b[39mforward\u001b[39m(\u001b[39mself\u001b[39m, \u001b[39minput\u001b[39m):\n\u001b[0;32m    216\u001b[0m     \u001b[39mfor\u001b[39;00m module \u001b[39min\u001b[39;00m \u001b[39mself\u001b[39m:\n\u001b[1;32m--> 217\u001b[0m         \u001b[39minput\u001b[39m \u001b[39m=\u001b[39m module(\u001b[39minput\u001b[39;49m)\n\u001b[0;32m    218\u001b[0m     \u001b[39mreturn\u001b[39;00m \u001b[39minput\u001b[39m\n",
            "File \u001b[1;32mc:\\Users\\espda\\AppData\\Local\\Programs\\Python\\Python310\\lib\\site-packages\\torch\\nn\\modules\\module.py:1501\u001b[0m, in \u001b[0;36mModule._call_impl\u001b[1;34m(self, *args, **kwargs)\u001b[0m\n\u001b[0;32m   1496\u001b[0m \u001b[39m# If we don't have any hooks, we want to skip the rest of the logic in\u001b[39;00m\n\u001b[0;32m   1497\u001b[0m \u001b[39m# this function, and just call forward.\u001b[39;00m\n\u001b[0;32m   1498\u001b[0m \u001b[39mif\u001b[39;00m \u001b[39mnot\u001b[39;00m (\u001b[39mself\u001b[39m\u001b[39m.\u001b[39m_backward_hooks \u001b[39mor\u001b[39;00m \u001b[39mself\u001b[39m\u001b[39m.\u001b[39m_backward_pre_hooks \u001b[39mor\u001b[39;00m \u001b[39mself\u001b[39m\u001b[39m.\u001b[39m_forward_hooks \u001b[39mor\u001b[39;00m \u001b[39mself\u001b[39m\u001b[39m.\u001b[39m_forward_pre_hooks\n\u001b[0;32m   1499\u001b[0m         \u001b[39mor\u001b[39;00m _global_backward_pre_hooks \u001b[39mor\u001b[39;00m _global_backward_hooks\n\u001b[0;32m   1500\u001b[0m         \u001b[39mor\u001b[39;00m _global_forward_hooks \u001b[39mor\u001b[39;00m _global_forward_pre_hooks):\n\u001b[1;32m-> 1501\u001b[0m     \u001b[39mreturn\u001b[39;00m forward_call(\u001b[39m*\u001b[39margs, \u001b[39m*\u001b[39m\u001b[39m*\u001b[39mkwargs)\n\u001b[0;32m   1502\u001b[0m \u001b[39m# Do not call functions when jit is used\u001b[39;00m\n\u001b[0;32m   1503\u001b[0m full_backward_hooks, non_full_backward_hooks \u001b[39m=\u001b[39m [], []\n",
            "File \u001b[1;32mc:\\Users\\espda\\AppData\\Local\\Programs\\Python\\Python310\\lib\\site-packages\\torch\\nn\\modules\\conv.py:463\u001b[0m, in \u001b[0;36mConv2d.forward\u001b[1;34m(self, input)\u001b[0m\n\u001b[0;32m    462\u001b[0m \u001b[39mdef\u001b[39;00m \u001b[39mforward\u001b[39m(\u001b[39mself\u001b[39m, \u001b[39minput\u001b[39m: Tensor) \u001b[39m-\u001b[39m\u001b[39m>\u001b[39m Tensor:\n\u001b[1;32m--> 463\u001b[0m     \u001b[39mreturn\u001b[39;00m \u001b[39mself\u001b[39;49m\u001b[39m.\u001b[39;49m_conv_forward(\u001b[39minput\u001b[39;49m, \u001b[39mself\u001b[39;49m\u001b[39m.\u001b[39;49mweight, \u001b[39mself\u001b[39;49m\u001b[39m.\u001b[39;49mbias)\n",
            "File \u001b[1;32mc:\\Users\\espda\\AppData\\Local\\Programs\\Python\\Python310\\lib\\site-packages\\torch\\nn\\modules\\conv.py:459\u001b[0m, in \u001b[0;36mConv2d._conv_forward\u001b[1;34m(self, input, weight, bias)\u001b[0m\n\u001b[0;32m    455\u001b[0m \u001b[39mif\u001b[39;00m \u001b[39mself\u001b[39m\u001b[39m.\u001b[39mpadding_mode \u001b[39m!=\u001b[39m \u001b[39m'\u001b[39m\u001b[39mzeros\u001b[39m\u001b[39m'\u001b[39m:\n\u001b[0;32m    456\u001b[0m     \u001b[39mreturn\u001b[39;00m F\u001b[39m.\u001b[39mconv2d(F\u001b[39m.\u001b[39mpad(\u001b[39minput\u001b[39m, \u001b[39mself\u001b[39m\u001b[39m.\u001b[39m_reversed_padding_repeated_twice, mode\u001b[39m=\u001b[39m\u001b[39mself\u001b[39m\u001b[39m.\u001b[39mpadding_mode),\n\u001b[0;32m    457\u001b[0m                     weight, bias, \u001b[39mself\u001b[39m\u001b[39m.\u001b[39mstride,\n\u001b[0;32m    458\u001b[0m                     _pair(\u001b[39m0\u001b[39m), \u001b[39mself\u001b[39m\u001b[39m.\u001b[39mdilation, \u001b[39mself\u001b[39m\u001b[39m.\u001b[39mgroups)\n\u001b[1;32m--> 459\u001b[0m \u001b[39mreturn\u001b[39;00m F\u001b[39m.\u001b[39;49mconv2d(\u001b[39minput\u001b[39;49m, weight, bias, \u001b[39mself\u001b[39;49m\u001b[39m.\u001b[39;49mstride,\n\u001b[0;32m    460\u001b[0m                 \u001b[39mself\u001b[39;49m\u001b[39m.\u001b[39;49mpadding, \u001b[39mself\u001b[39;49m\u001b[39m.\u001b[39;49mdilation, \u001b[39mself\u001b[39;49m\u001b[39m.\u001b[39;49mgroups)\n",
            "\u001b[1;31mRuntimeError\u001b[0m: Calculated padded input size per channel: (3 x 3). Kernel size: (4 x 4). Kernel size can't be greater than actual input size"
          ]
        }
      ],
      "source": [
        "#Hyperparameters\n",
        "BATCH_SIZE = 10\n",
        "epochs = 1\n",
        "subsampling = True\n",
        "subsamples = 10\n",
        "accelerator_enabled = True\n",
        "\n",
        "data_module = AnomalyDetectionDataModule(batch_size=BATCH_SIZE, \n",
        "                                         subsampling=subsampling, \n",
        "                                         subsamples=subsamples)\n",
        "model = GAN()\n",
        "#logger = TensorBoardLogger(\"tb_logs\", name=\"net\",log_graph=True )\n",
        "\n",
        "\n",
        "if torch.cuda.is_available() and accelerator_enabled: \n",
        "  print(\"GPU\")\n",
        "  trainer = pl.Trainer(accelerator=\"cuda\",\n",
        "                       max_epochs=epochs,\n",
        "                       callbacks=[TQDMProgressBar(), EarlyStopping(monitor=\"train_loss\", patience=3)]\n",
        "                       )\n",
        "else : \n",
        "  print(\"CPU\")\n",
        "  trainer = pl.Trainer(accelerator=\"cpu\",\n",
        "                       max_epochs=epochs, \n",
        "                       callbacks=[TQDMProgressBar(), EarlyStopping(monitor=\"train_loss\", patience=3)]\n",
        "                       )\n",
        "\n",
        "\n",
        "trainer.fit(model, data_module)\n",
        "\n",
        "# Testing\n",
        "test_results = trainer.test(model, data_module)\n",
        "print(test_results)"
      ]
    },
    {
      "cell_type": "code",
      "execution_count": null,
      "metadata": {
        "id": "wnVw4nWYhjPK"
      },
      "outputs": [],
      "source": [
        "import torch\n",
        "def assign_device(gpu):\n",
        "    if (torch.cuda.is_available() and gpu==True):\n",
        "        device = \"cuda\"\n",
        "        print(\"Cuda enabled: using GPU\")\n",
        "    else:\n",
        "        device = \"cpu\"\n",
        "        print(\"Cuda not available: using CPU\")\n",
        "    return device"
      ]
    },
    {
      "cell_type": "code",
      "execution_count": null,
      "metadata": {},
      "outputs": [
        {
          "name": "stdout",
          "output_type": "stream",
          "text": [
            "Cuda enabled: using GPU\n",
            "PyTorch version: 2.0.1+cu118\n",
            "Python version: 3.10.8\n"
          ]
        }
      ],
      "source": [
        "import platform\n",
        "device = assign_device(True)\n",
        "#print(\"Lightning version:\", pl.__version__)\n",
        "print(\"PyTorch version:\", torch.__version__)\n",
        "print(\"Python version:\", platform.python_version())"
      ]
    }
  ],
  "metadata": {
    "colab": {
      "collapsed_sections": [
        "M_laAV6P4ayP",
        "kG1iyc556-nd",
        "xOQBdegoDIV4"
      ],
      "provenance": []
    },
    "kernelspec": {
      "display_name": "Python 3",
      "name": "python3"
    },
    "language_info": {
      "codemirror_mode": {
        "name": "ipython",
        "version": 3
      },
      "file_extension": ".py",
      "mimetype": "text/x-python",
      "name": "python",
      "nbconvert_exporter": "python",
      "pygments_lexer": "ipython3",
      "version": "3.10.8"
    },
    "orig_nbformat": 4,
    "widgets": {
      "application/vnd.jupyter.widget-state+json": {
        "014f81a6caac4aac970ba5315c042d3a": {
          "model_module": "@jupyter-widgets/controls",
          "model_module_version": "1.5.0",
          "model_name": "ProgressStyleModel",
          "state": {
            "_model_module": "@jupyter-widgets/controls",
            "_model_module_version": "1.5.0",
            "_model_name": "ProgressStyleModel",
            "_view_count": null,
            "_view_module": "@jupyter-widgets/base",
            "_view_module_version": "1.2.0",
            "_view_name": "StyleView",
            "bar_color": null,
            "description_width": ""
          }
        },
        "1306bcb68dfe45d6bd899b8473730d8b": {
          "model_module": "@jupyter-widgets/base",
          "model_module_version": "1.2.0",
          "model_name": "LayoutModel",
          "state": {
            "_model_module": "@jupyter-widgets/base",
            "_model_module_version": "1.2.0",
            "_model_name": "LayoutModel",
            "_view_count": null,
            "_view_module": "@jupyter-widgets/base",
            "_view_module_version": "1.2.0",
            "_view_name": "LayoutView",
            "align_content": null,
            "align_items": null,
            "align_self": null,
            "border": null,
            "bottom": null,
            "display": null,
            "flex": null,
            "flex_flow": null,
            "grid_area": null,
            "grid_auto_columns": null,
            "grid_auto_flow": null,
            "grid_auto_rows": null,
            "grid_column": null,
            "grid_gap": null,
            "grid_row": null,
            "grid_template_areas": null,
            "grid_template_columns": null,
            "grid_template_rows": null,
            "height": null,
            "justify_content": null,
            "justify_items": null,
            "left": null,
            "margin": null,
            "max_height": null,
            "max_width": null,
            "min_height": null,
            "min_width": null,
            "object_fit": null,
            "object_position": null,
            "order": null,
            "overflow": null,
            "overflow_x": null,
            "overflow_y": null,
            "padding": null,
            "right": null,
            "top": null,
            "visibility": null,
            "width": null
          }
        },
        "28bf6b7fca784dc19e69c1c93d82fa8f": {
          "model_module": "@jupyter-widgets/controls",
          "model_module_version": "1.5.0",
          "model_name": "DescriptionStyleModel",
          "state": {
            "_model_module": "@jupyter-widgets/controls",
            "_model_module_version": "1.5.0",
            "_model_name": "DescriptionStyleModel",
            "_view_count": null,
            "_view_module": "@jupyter-widgets/base",
            "_view_module_version": "1.2.0",
            "_view_name": "StyleView",
            "description_width": ""
          }
        },
        "2b84db9a5d6c4031bc16deb65b357a95": {
          "model_module": "@jupyter-widgets/base",
          "model_module_version": "1.2.0",
          "model_name": "LayoutModel",
          "state": {
            "_model_module": "@jupyter-widgets/base",
            "_model_module_version": "1.2.0",
            "_model_name": "LayoutModel",
            "_view_count": null,
            "_view_module": "@jupyter-widgets/base",
            "_view_module_version": "1.2.0",
            "_view_name": "LayoutView",
            "align_content": null,
            "align_items": null,
            "align_self": null,
            "border": null,
            "bottom": null,
            "display": "inline-flex",
            "flex": null,
            "flex_flow": "row wrap",
            "grid_area": null,
            "grid_auto_columns": null,
            "grid_auto_flow": null,
            "grid_auto_rows": null,
            "grid_column": null,
            "grid_gap": null,
            "grid_row": null,
            "grid_template_areas": null,
            "grid_template_columns": null,
            "grid_template_rows": null,
            "height": null,
            "justify_content": null,
            "justify_items": null,
            "left": null,
            "margin": null,
            "max_height": null,
            "max_width": null,
            "min_height": null,
            "min_width": null,
            "object_fit": null,
            "object_position": null,
            "order": null,
            "overflow": null,
            "overflow_x": null,
            "overflow_y": null,
            "padding": null,
            "right": null,
            "top": null,
            "visibility": null,
            "width": "100%"
          }
        },
        "47d3a3c58f474cb6bdc3f1a47cf383bd": {
          "model_module": "@jupyter-widgets/controls",
          "model_module_version": "1.5.0",
          "model_name": "DescriptionStyleModel",
          "state": {
            "_model_module": "@jupyter-widgets/controls",
            "_model_module_version": "1.5.0",
            "_model_name": "DescriptionStyleModel",
            "_view_count": null,
            "_view_module": "@jupyter-widgets/base",
            "_view_module_version": "1.2.0",
            "_view_name": "StyleView",
            "description_width": ""
          }
        },
        "4c370e5a291f46f290a04fb1b899dfba": {
          "model_module": "@jupyter-widgets/base",
          "model_module_version": "1.2.0",
          "model_name": "LayoutModel",
          "state": {
            "_model_module": "@jupyter-widgets/base",
            "_model_module_version": "1.2.0",
            "_model_name": "LayoutModel",
            "_view_count": null,
            "_view_module": "@jupyter-widgets/base",
            "_view_module_version": "1.2.0",
            "_view_name": "LayoutView",
            "align_content": null,
            "align_items": null,
            "align_self": null,
            "border": null,
            "bottom": null,
            "display": null,
            "flex": null,
            "flex_flow": null,
            "grid_area": null,
            "grid_auto_columns": null,
            "grid_auto_flow": null,
            "grid_auto_rows": null,
            "grid_column": null,
            "grid_gap": null,
            "grid_row": null,
            "grid_template_areas": null,
            "grid_template_columns": null,
            "grid_template_rows": null,
            "height": null,
            "justify_content": null,
            "justify_items": null,
            "left": null,
            "margin": null,
            "max_height": null,
            "max_width": null,
            "min_height": null,
            "min_width": null,
            "object_fit": null,
            "object_position": null,
            "order": null,
            "overflow": null,
            "overflow_x": null,
            "overflow_y": null,
            "padding": null,
            "right": null,
            "top": null,
            "visibility": null,
            "width": null
          }
        },
        "519f2e73d9ab45a882ac871553ebf7fa": {
          "model_module": "@jupyter-widgets/controls",
          "model_module_version": "1.5.0",
          "model_name": "ProgressStyleModel",
          "state": {
            "_model_module": "@jupyter-widgets/controls",
            "_model_module_version": "1.5.0",
            "_model_name": "ProgressStyleModel",
            "_view_count": null,
            "_view_module": "@jupyter-widgets/base",
            "_view_module_version": "1.2.0",
            "_view_name": "StyleView",
            "bar_color": null,
            "description_width": ""
          }
        },
        "529290062b26453eb72028d3cef9af95": {
          "model_module": "@jupyter-widgets/controls",
          "model_module_version": "1.5.0",
          "model_name": "HTMLModel",
          "state": {
            "_dom_classes": [],
            "_model_module": "@jupyter-widgets/controls",
            "_model_module_version": "1.5.0",
            "_model_name": "HTMLModel",
            "_view_count": null,
            "_view_module": "@jupyter-widgets/controls",
            "_view_module_version": "1.5.0",
            "_view_name": "HTMLView",
            "description": "",
            "description_tooltip": null,
            "layout": "IPY_MODEL_cf8a684590324c75b9903c312c87f2c9",
            "placeholder": "​",
            "style": "IPY_MODEL_28bf6b7fca784dc19e69c1c93d82fa8f",
            "value": "Sanity Checking DataLoader 0:   0%"
          }
        },
        "6dbde2d93c4e4c599ef3f5a91fe762b6": {
          "model_module": "@jupyter-widgets/base",
          "model_module_version": "1.2.0",
          "model_name": "LayoutModel",
          "state": {
            "_model_module": "@jupyter-widgets/base",
            "_model_module_version": "1.2.0",
            "_model_name": "LayoutModel",
            "_view_count": null,
            "_view_module": "@jupyter-widgets/base",
            "_view_module_version": "1.2.0",
            "_view_name": "LayoutView",
            "align_content": null,
            "align_items": null,
            "align_self": null,
            "border": null,
            "bottom": null,
            "display": null,
            "flex": "2",
            "flex_flow": null,
            "grid_area": null,
            "grid_auto_columns": null,
            "grid_auto_flow": null,
            "grid_auto_rows": null,
            "grid_column": null,
            "grid_gap": null,
            "grid_row": null,
            "grid_template_areas": null,
            "grid_template_columns": null,
            "grid_template_rows": null,
            "height": null,
            "justify_content": null,
            "justify_items": null,
            "left": null,
            "margin": null,
            "max_height": null,
            "max_width": null,
            "min_height": null,
            "min_width": null,
            "object_fit": null,
            "object_position": null,
            "order": null,
            "overflow": null,
            "overflow_x": null,
            "overflow_y": null,
            "padding": null,
            "right": null,
            "top": null,
            "visibility": null,
            "width": null
          }
        },
        "75b27c66405d4732b5d1f57f4e6051b2": {
          "model_module": "@jupyter-widgets/controls",
          "model_module_version": "1.5.0",
          "model_name": "HTMLModel",
          "state": {
            "_dom_classes": [],
            "_model_module": "@jupyter-widgets/controls",
            "_model_module_version": "1.5.0",
            "_model_name": "HTMLModel",
            "_view_count": null,
            "_view_module": "@jupyter-widgets/controls",
            "_view_module_version": "1.5.0",
            "_view_name": "HTMLView",
            "description": "",
            "description_tooltip": null,
            "layout": "IPY_MODEL_a579aa90896140c39a818d7092067bcd",
            "placeholder": "​",
            "style": "IPY_MODEL_d1e952e3caa44990afbf5580390cc182",
            "value": " 0/2 [00:00&lt;?, ?it/s]"
          }
        },
        "7b4d9902e0524e82b4159e56062a5565": {
          "model_module": "@jupyter-widgets/base",
          "model_module_version": "1.2.0",
          "model_name": "LayoutModel",
          "state": {
            "_model_module": "@jupyter-widgets/base",
            "_model_module_version": "1.2.0",
            "_model_name": "LayoutModel",
            "_view_count": null,
            "_view_module": "@jupyter-widgets/base",
            "_view_module_version": "1.2.0",
            "_view_name": "LayoutView",
            "align_content": null,
            "align_items": null,
            "align_self": null,
            "border": null,
            "bottom": null,
            "display": "inline-flex",
            "flex": null,
            "flex_flow": "row wrap",
            "grid_area": null,
            "grid_auto_columns": null,
            "grid_auto_flow": null,
            "grid_auto_rows": null,
            "grid_column": null,
            "grid_gap": null,
            "grid_row": null,
            "grid_template_areas": null,
            "grid_template_columns": null,
            "grid_template_rows": null,
            "height": null,
            "justify_content": null,
            "justify_items": null,
            "left": null,
            "margin": null,
            "max_height": null,
            "max_width": null,
            "min_height": null,
            "min_width": null,
            "object_fit": null,
            "object_position": null,
            "order": null,
            "overflow": null,
            "overflow_x": null,
            "overflow_y": null,
            "padding": null,
            "right": null,
            "top": null,
            "visibility": null,
            "width": "100%"
          }
        },
        "8ac27229ec2142e2a72ab7a10fc86a65": {
          "model_module": "@jupyter-widgets/controls",
          "model_module_version": "1.5.0",
          "model_name": "FloatProgressModel",
          "state": {
            "_dom_classes": [],
            "_model_module": "@jupyter-widgets/controls",
            "_model_module_version": "1.5.0",
            "_model_name": "FloatProgressModel",
            "_view_count": null,
            "_view_module": "@jupyter-widgets/controls",
            "_view_module_version": "1.5.0",
            "_view_name": "ProgressView",
            "bar_style": "",
            "description": "",
            "description_tooltip": null,
            "layout": "IPY_MODEL_8b1037bcb95949abb5bc5dfaba96331e",
            "max": 2,
            "min": 0,
            "orientation": "horizontal",
            "style": "IPY_MODEL_519f2e73d9ab45a882ac871553ebf7fa",
            "value": 0
          }
        },
        "8b1037bcb95949abb5bc5dfaba96331e": {
          "model_module": "@jupyter-widgets/base",
          "model_module_version": "1.2.0",
          "model_name": "LayoutModel",
          "state": {
            "_model_module": "@jupyter-widgets/base",
            "_model_module_version": "1.2.0",
            "_model_name": "LayoutModel",
            "_view_count": null,
            "_view_module": "@jupyter-widgets/base",
            "_view_module_version": "1.2.0",
            "_view_name": "LayoutView",
            "align_content": null,
            "align_items": null,
            "align_self": null,
            "border": null,
            "bottom": null,
            "display": null,
            "flex": "2",
            "flex_flow": null,
            "grid_area": null,
            "grid_auto_columns": null,
            "grid_auto_flow": null,
            "grid_auto_rows": null,
            "grid_column": null,
            "grid_gap": null,
            "grid_row": null,
            "grid_template_areas": null,
            "grid_template_columns": null,
            "grid_template_rows": null,
            "height": null,
            "justify_content": null,
            "justify_items": null,
            "left": null,
            "margin": null,
            "max_height": null,
            "max_width": null,
            "min_height": null,
            "min_width": null,
            "object_fit": null,
            "object_position": null,
            "order": null,
            "overflow": null,
            "overflow_x": null,
            "overflow_y": null,
            "padding": null,
            "right": null,
            "top": null,
            "visibility": null,
            "width": null
          }
        },
        "a579aa90896140c39a818d7092067bcd": {
          "model_module": "@jupyter-widgets/base",
          "model_module_version": "1.2.0",
          "model_name": "LayoutModel",
          "state": {
            "_model_module": "@jupyter-widgets/base",
            "_model_module_version": "1.2.0",
            "_model_name": "LayoutModel",
            "_view_count": null,
            "_view_module": "@jupyter-widgets/base",
            "_view_module_version": "1.2.0",
            "_view_name": "LayoutView",
            "align_content": null,
            "align_items": null,
            "align_self": null,
            "border": null,
            "bottom": null,
            "display": null,
            "flex": null,
            "flex_flow": null,
            "grid_area": null,
            "grid_auto_columns": null,
            "grid_auto_flow": null,
            "grid_auto_rows": null,
            "grid_column": null,
            "grid_gap": null,
            "grid_row": null,
            "grid_template_areas": null,
            "grid_template_columns": null,
            "grid_template_rows": null,
            "height": null,
            "justify_content": null,
            "justify_items": null,
            "left": null,
            "margin": null,
            "max_height": null,
            "max_width": null,
            "min_height": null,
            "min_width": null,
            "object_fit": null,
            "object_position": null,
            "order": null,
            "overflow": null,
            "overflow_x": null,
            "overflow_y": null,
            "padding": null,
            "right": null,
            "top": null,
            "visibility": null,
            "width": null
          }
        },
        "a8f1d7ef74b949fda2016983cb9e0a4a": {
          "model_module": "@jupyter-widgets/controls",
          "model_module_version": "1.5.0",
          "model_name": "HTMLModel",
          "state": {
            "_dom_classes": [],
            "_model_module": "@jupyter-widgets/controls",
            "_model_module_version": "1.5.0",
            "_model_name": "HTMLModel",
            "_view_count": null,
            "_view_module": "@jupyter-widgets/controls",
            "_view_module_version": "1.5.0",
            "_view_name": "HTMLView",
            "description": "",
            "description_tooltip": null,
            "layout": "IPY_MODEL_1306bcb68dfe45d6bd899b8473730d8b",
            "placeholder": "​",
            "style": "IPY_MODEL_f1c98dad392643c8936617d87a75aee9",
            "value": "Sanity Checking DataLoader 0:   0%"
          }
        },
        "c5a7ff9ae2db49b681a8c4a8e89a2fc0": {
          "model_module": "@jupyter-widgets/controls",
          "model_module_version": "1.5.0",
          "model_name": "HBoxModel",
          "state": {
            "_dom_classes": [],
            "_model_module": "@jupyter-widgets/controls",
            "_model_module_version": "1.5.0",
            "_model_name": "HBoxModel",
            "_view_count": null,
            "_view_module": "@jupyter-widgets/controls",
            "_view_module_version": "1.5.0",
            "_view_name": "HBoxView",
            "box_style": "",
            "children": [
              "IPY_MODEL_529290062b26453eb72028d3cef9af95",
              "IPY_MODEL_c8c85607e00d463ebf8f3bcb66443dfb",
              "IPY_MODEL_fa12ff57f0724c9eb451b8075811be2c"
            ],
            "layout": "IPY_MODEL_2b84db9a5d6c4031bc16deb65b357a95"
          }
        },
        "c8c85607e00d463ebf8f3bcb66443dfb": {
          "model_module": "@jupyter-widgets/controls",
          "model_module_version": "1.5.0",
          "model_name": "FloatProgressModel",
          "state": {
            "_dom_classes": [],
            "_model_module": "@jupyter-widgets/controls",
            "_model_module_version": "1.5.0",
            "_model_name": "FloatProgressModel",
            "_view_count": null,
            "_view_module": "@jupyter-widgets/controls",
            "_view_module_version": "1.5.0",
            "_view_name": "ProgressView",
            "bar_style": "",
            "description": "",
            "description_tooltip": null,
            "layout": "IPY_MODEL_6dbde2d93c4e4c599ef3f5a91fe762b6",
            "max": 2,
            "min": 0,
            "orientation": "horizontal",
            "style": "IPY_MODEL_014f81a6caac4aac970ba5315c042d3a",
            "value": 0
          }
        },
        "cf8a684590324c75b9903c312c87f2c9": {
          "model_module": "@jupyter-widgets/base",
          "model_module_version": "1.2.0",
          "model_name": "LayoutModel",
          "state": {
            "_model_module": "@jupyter-widgets/base",
            "_model_module_version": "1.2.0",
            "_model_name": "LayoutModel",
            "_view_count": null,
            "_view_module": "@jupyter-widgets/base",
            "_view_module_version": "1.2.0",
            "_view_name": "LayoutView",
            "align_content": null,
            "align_items": null,
            "align_self": null,
            "border": null,
            "bottom": null,
            "display": null,
            "flex": null,
            "flex_flow": null,
            "grid_area": null,
            "grid_auto_columns": null,
            "grid_auto_flow": null,
            "grid_auto_rows": null,
            "grid_column": null,
            "grid_gap": null,
            "grid_row": null,
            "grid_template_areas": null,
            "grid_template_columns": null,
            "grid_template_rows": null,
            "height": null,
            "justify_content": null,
            "justify_items": null,
            "left": null,
            "margin": null,
            "max_height": null,
            "max_width": null,
            "min_height": null,
            "min_width": null,
            "object_fit": null,
            "object_position": null,
            "order": null,
            "overflow": null,
            "overflow_x": null,
            "overflow_y": null,
            "padding": null,
            "right": null,
            "top": null,
            "visibility": null,
            "width": null
          }
        },
        "d127d6862c0e4437bbe8e1d1c89c053b": {
          "model_module": "@jupyter-widgets/controls",
          "model_module_version": "1.5.0",
          "model_name": "HBoxModel",
          "state": {
            "_dom_classes": [],
            "_model_module": "@jupyter-widgets/controls",
            "_model_module_version": "1.5.0",
            "_model_name": "HBoxModel",
            "_view_count": null,
            "_view_module": "@jupyter-widgets/controls",
            "_view_module_version": "1.5.0",
            "_view_name": "HBoxView",
            "box_style": "",
            "children": [
              "IPY_MODEL_a8f1d7ef74b949fda2016983cb9e0a4a",
              "IPY_MODEL_8ac27229ec2142e2a72ab7a10fc86a65",
              "IPY_MODEL_75b27c66405d4732b5d1f57f4e6051b2"
            ],
            "layout": "IPY_MODEL_7b4d9902e0524e82b4159e56062a5565"
          }
        },
        "d1e952e3caa44990afbf5580390cc182": {
          "model_module": "@jupyter-widgets/controls",
          "model_module_version": "1.5.0",
          "model_name": "DescriptionStyleModel",
          "state": {
            "_model_module": "@jupyter-widgets/controls",
            "_model_module_version": "1.5.0",
            "_model_name": "DescriptionStyleModel",
            "_view_count": null,
            "_view_module": "@jupyter-widgets/base",
            "_view_module_version": "1.2.0",
            "_view_name": "StyleView",
            "description_width": ""
          }
        },
        "f1c98dad392643c8936617d87a75aee9": {
          "model_module": "@jupyter-widgets/controls",
          "model_module_version": "1.5.0",
          "model_name": "DescriptionStyleModel",
          "state": {
            "_model_module": "@jupyter-widgets/controls",
            "_model_module_version": "1.5.0",
            "_model_name": "DescriptionStyleModel",
            "_view_count": null,
            "_view_module": "@jupyter-widgets/base",
            "_view_module_version": "1.2.0",
            "_view_name": "StyleView",
            "description_width": ""
          }
        },
        "fa12ff57f0724c9eb451b8075811be2c": {
          "model_module": "@jupyter-widgets/controls",
          "model_module_version": "1.5.0",
          "model_name": "HTMLModel",
          "state": {
            "_dom_classes": [],
            "_model_module": "@jupyter-widgets/controls",
            "_model_module_version": "1.5.0",
            "_model_name": "HTMLModel",
            "_view_count": null,
            "_view_module": "@jupyter-widgets/controls",
            "_view_module_version": "1.5.0",
            "_view_name": "HTMLView",
            "description": "",
            "description_tooltip": null,
            "layout": "IPY_MODEL_4c370e5a291f46f290a04fb1b899dfba",
            "placeholder": "​",
            "style": "IPY_MODEL_47d3a3c58f474cb6bdc3f1a47cf383bd",
            "value": " 0/2 [00:00&lt;?, ?it/s]"
          }
        }
      }
    }
  },
  "nbformat": 4,
  "nbformat_minor": 0
}
